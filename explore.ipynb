{
 "cells": [
  {
   "cell_type": "code",
   "execution_count": 1,
   "id": "2dd889b8",
   "metadata": {},
   "outputs": [],
   "source": [
    "# download APPL data from yfinance\n",
    "import yfinance as yf\n",
    "import pandas as pd\n",
    "def download_data(ticker: str, start_date: str, end_date: str) -> pd.DataFrame:\n",
    "    \"\"\"\n",
    "    Download stock data from Yahoo Finance for a given ticker and date range.\n",
    "\n",
    "    Args:\n",
    "        ticker (str): The ticker symbol of the stock to download data for.\n",
    "        start_date (str): The start date of the date range to download data for.\n",
    "        end_date (str): The end date of the date range to download data for.\n",
    "\n",
    "    Returns:\n",
    "        pd.DataFrame: A pandas DataFrame containing the stock data.\n",
    "    \"\"\"\n",
    "    try:\n",
    "        df = yf.download(ticker, start=start_date, end=end_date)\n",
    "        df.reset_index(inplace=True)\n",
    "        return df\n",
    "    except Exception as e:\n",
    "        print(f\"Error downloading data for {ticker}: {e}\")\n",
    "        return pd.DataFrame()"
   ]
  },
  {
   "cell_type": "code",
   "execution_count": 2,
   "id": "1b11e82e",
   "metadata": {},
   "outputs": [
    {
     "name": "stderr",
     "output_type": "stream",
     "text": [
      "/tmp/ipykernel_117496/2701487849.py:17: FutureWarning: YF.download() has changed argument auto_adjust default to True\n",
      "  df = yf.download(ticker, start=start_date, end=end_date)\n",
      "[*********************100%***********************]  1 of 1 completed\n"
     ]
    },
    {
     "data": {
      "text/html": [
       "<div>\n",
       "<style scoped>\n",
       "    .dataframe tbody tr th:only-of-type {\n",
       "        vertical-align: middle;\n",
       "    }\n",
       "\n",
       "    .dataframe tbody tr th {\n",
       "        vertical-align: top;\n",
       "    }\n",
       "\n",
       "    .dataframe thead tr th {\n",
       "        text-align: left;\n",
       "    }\n",
       "</style>\n",
       "<table border=\"1\" class=\"dataframe\">\n",
       "  <thead>\n",
       "    <tr>\n",
       "      <th>Price</th>\n",
       "      <th>Date</th>\n",
       "      <th>Close</th>\n",
       "      <th>High</th>\n",
       "      <th>Low</th>\n",
       "      <th>Open</th>\n",
       "      <th>Volume</th>\n",
       "    </tr>\n",
       "    <tr>\n",
       "      <th>Ticker</th>\n",
       "      <th></th>\n",
       "      <th>AAPL</th>\n",
       "      <th>AAPL</th>\n",
       "      <th>AAPL</th>\n",
       "      <th>AAPL</th>\n",
       "      <th>AAPL</th>\n",
       "    </tr>\n",
       "  </thead>\n",
       "  <tbody>\n",
       "    <tr>\n",
       "      <th>0</th>\n",
       "      <td>2020-01-02</td>\n",
       "      <td>72.538506</td>\n",
       "      <td>72.598884</td>\n",
       "      <td>71.292296</td>\n",
       "      <td>71.545882</td>\n",
       "      <td>135480400</td>\n",
       "    </tr>\n",
       "    <tr>\n",
       "      <th>1</th>\n",
       "      <td>2020-01-03</td>\n",
       "      <td>71.833290</td>\n",
       "      <td>72.594055</td>\n",
       "      <td>71.608685</td>\n",
       "      <td>71.765667</td>\n",
       "      <td>146322800</td>\n",
       "    </tr>\n",
       "    <tr>\n",
       "      <th>2</th>\n",
       "      <td>2020-01-06</td>\n",
       "      <td>72.405693</td>\n",
       "      <td>72.444336</td>\n",
       "      <td>70.703027</td>\n",
       "      <td>70.954203</td>\n",
       "      <td>118387200</td>\n",
       "    </tr>\n",
       "    <tr>\n",
       "      <th>3</th>\n",
       "      <td>2020-01-07</td>\n",
       "      <td>72.065155</td>\n",
       "      <td>72.671348</td>\n",
       "      <td>71.845377</td>\n",
       "      <td>72.415345</td>\n",
       "      <td>108872000</td>\n",
       "    </tr>\n",
       "    <tr>\n",
       "      <th>4</th>\n",
       "      <td>2020-01-08</td>\n",
       "      <td>73.224411</td>\n",
       "      <td>73.526303</td>\n",
       "      <td>71.768086</td>\n",
       "      <td>71.768086</td>\n",
       "      <td>132079200</td>\n",
       "    </tr>\n",
       "    <tr>\n",
       "      <th>5</th>\n",
       "      <td>2020-01-09</td>\n",
       "      <td>74.779770</td>\n",
       "      <td>74.972978</td>\n",
       "      <td>73.951381</td>\n",
       "      <td>74.202550</td>\n",
       "      <td>170108400</td>\n",
       "    </tr>\n",
       "    <tr>\n",
       "      <th>6</th>\n",
       "      <td>2020-01-10</td>\n",
       "      <td>74.948822</td>\n",
       "      <td>75.513970</td>\n",
       "      <td>74.446478</td>\n",
       "      <td>75.014035</td>\n",
       "      <td>140644800</td>\n",
       "    </tr>\n",
       "    <tr>\n",
       "      <th>7</th>\n",
       "      <td>2020-01-13</td>\n",
       "      <td>76.550034</td>\n",
       "      <td>76.576604</td>\n",
       "      <td>75.146842</td>\n",
       "      <td>75.265189</td>\n",
       "      <td>121532000</td>\n",
       "    </tr>\n",
       "    <tr>\n",
       "      <th>8</th>\n",
       "      <td>2020-01-14</td>\n",
       "      <td>75.516380</td>\n",
       "      <td>76.697384</td>\n",
       "      <td>75.393214</td>\n",
       "      <td>76.487269</td>\n",
       "      <td>161954400</td>\n",
       "    </tr>\n",
       "    <tr>\n",
       "      <th>9</th>\n",
       "      <td>2020-01-15</td>\n",
       "      <td>75.192726</td>\n",
       "      <td>76.197422</td>\n",
       "      <td>74.760415</td>\n",
       "      <td>75.315900</td>\n",
       "      <td>121923600</td>\n",
       "    </tr>\n",
       "    <tr>\n",
       "      <th>10</th>\n",
       "      <td>2020-01-16</td>\n",
       "      <td>76.134659</td>\n",
       "      <td>76.245760</td>\n",
       "      <td>75.373893</td>\n",
       "      <td>75.736163</td>\n",
       "      <td>108829200</td>\n",
       "    </tr>\n",
       "    <tr>\n",
       "      <th>11</th>\n",
       "      <td>2020-01-17</td>\n",
       "      <td>76.977524</td>\n",
       "      <td>76.979934</td>\n",
       "      <td>76.076677</td>\n",
       "      <td>76.383396</td>\n",
       "      <td>137816400</td>\n",
       "    </tr>\n",
       "    <tr>\n",
       "      <th>12</th>\n",
       "      <td>2020-01-21</td>\n",
       "      <td>76.455841</td>\n",
       "      <td>77.047544</td>\n",
       "      <td>76.318177</td>\n",
       "      <td>76.605578</td>\n",
       "      <td>110843200</td>\n",
       "    </tr>\n",
       "    <tr>\n",
       "      <th>13</th>\n",
       "      <td>2020-01-22</td>\n",
       "      <td>76.728775</td>\n",
       "      <td>77.281835</td>\n",
       "      <td>76.634581</td>\n",
       "      <td>76.941301</td>\n",
       "      <td>101832400</td>\n",
       "    </tr>\n",
       "    <tr>\n",
       "      <th>14</th>\n",
       "      <td>2020-01-23</td>\n",
       "      <td>77.098282</td>\n",
       "      <td>77.177978</td>\n",
       "      <td>76.233660</td>\n",
       "      <td>76.781900</td>\n",
       "      <td>104472000</td>\n",
       "    </tr>\n",
       "    <tr>\n",
       "      <th>15</th>\n",
       "      <td>2020-01-24</td>\n",
       "      <td>76.876091</td>\n",
       "      <td>78.088485</td>\n",
       "      <td>76.685293</td>\n",
       "      <td>77.344627</td>\n",
       "      <td>146537600</td>\n",
       "    </tr>\n",
       "    <tr>\n",
       "      <th>16</th>\n",
       "      <td>2020-01-27</td>\n",
       "      <td>74.615547</td>\n",
       "      <td>75.296609</td>\n",
       "      <td>73.632586</td>\n",
       "      <td>74.883623</td>\n",
       "      <td>161940000</td>\n",
       "    </tr>\n",
       "    <tr>\n",
       "      <th>17</th>\n",
       "      <td>2020-01-28</td>\n",
       "      <td>76.726349</td>\n",
       "      <td>76.897821</td>\n",
       "      <td>75.398026</td>\n",
       "      <td>75.497047</td>\n",
       "      <td>162234000</td>\n",
       "    </tr>\n",
       "    <tr>\n",
       "      <th>18</th>\n",
       "      <td>2020-01-29</td>\n",
       "      <td>78.332405</td>\n",
       "      <td>79.180119</td>\n",
       "      <td>77.617528</td>\n",
       "      <td>78.358975</td>\n",
       "      <td>216229200</td>\n",
       "    </tr>\n",
       "    <tr>\n",
       "      <th>19</th>\n",
       "      <td>2020-01-30</td>\n",
       "      <td>78.218895</td>\n",
       "      <td>78.272028</td>\n",
       "      <td>76.982348</td>\n",
       "      <td>77.414659</td>\n",
       "      <td>126743200</td>\n",
       "    </tr>\n",
       "  </tbody>\n",
       "</table>\n",
       "</div>"
      ],
      "text/plain": [
       "Price        Date      Close       High        Low       Open     Volume\n",
       "Ticker                  AAPL       AAPL       AAPL       AAPL       AAPL\n",
       "0      2020-01-02  72.538506  72.598884  71.292296  71.545882  135480400\n",
       "1      2020-01-03  71.833290  72.594055  71.608685  71.765667  146322800\n",
       "2      2020-01-06  72.405693  72.444336  70.703027  70.954203  118387200\n",
       "3      2020-01-07  72.065155  72.671348  71.845377  72.415345  108872000\n",
       "4      2020-01-08  73.224411  73.526303  71.768086  71.768086  132079200\n",
       "5      2020-01-09  74.779770  74.972978  73.951381  74.202550  170108400\n",
       "6      2020-01-10  74.948822  75.513970  74.446478  75.014035  140644800\n",
       "7      2020-01-13  76.550034  76.576604  75.146842  75.265189  121532000\n",
       "8      2020-01-14  75.516380  76.697384  75.393214  76.487269  161954400\n",
       "9      2020-01-15  75.192726  76.197422  74.760415  75.315900  121923600\n",
       "10     2020-01-16  76.134659  76.245760  75.373893  75.736163  108829200\n",
       "11     2020-01-17  76.977524  76.979934  76.076677  76.383396  137816400\n",
       "12     2020-01-21  76.455841  77.047544  76.318177  76.605578  110843200\n",
       "13     2020-01-22  76.728775  77.281835  76.634581  76.941301  101832400\n",
       "14     2020-01-23  77.098282  77.177978  76.233660  76.781900  104472000\n",
       "15     2020-01-24  76.876091  78.088485  76.685293  77.344627  146537600\n",
       "16     2020-01-27  74.615547  75.296609  73.632586  74.883623  161940000\n",
       "17     2020-01-28  76.726349  76.897821  75.398026  75.497047  162234000\n",
       "18     2020-01-29  78.332405  79.180119  77.617528  78.358975  216229200\n",
       "19     2020-01-30  78.218895  78.272028  76.982348  77.414659  126743200"
      ]
     },
     "execution_count": 2,
     "metadata": {},
     "output_type": "execute_result"
    }
   ],
   "source": [
    "download_data(\"AAPL\", \"2020-01-01\", \"2020-01-31\")"
   ]
  },
  {
   "cell_type": "code",
   "execution_count": 10,
   "id": "19fd7e41",
   "metadata": {},
   "outputs": [],
   "source": [
    "def get_sp500_tickers():\n",
    "    url = \"https://datahub.io/core/s-and-p-500-companies/r/constituents.csv\"\n",
    "    try:\n",
    "        df = pd.read_csv(url)\n",
    "        return df['Symbol'].str.replace('.', '-', regex=False).tolist()\n",
    "    except Exception as e:\n",
    "        print(f\"Failed to load tickers: {e}\")\n",
    "        return []"
   ]
  },
  {
   "cell_type": "code",
   "execution_count": 11,
   "id": "be8dd20c",
   "metadata": {},
   "outputs": [
    {
     "data": {
      "text/plain": [
       "['MMM',\n",
       " 'AOS',\n",
       " 'ABT',\n",
       " 'ABBV',\n",
       " 'ACN',\n",
       " 'ADBE',\n",
       " 'AMD',\n",
       " 'AES',\n",
       " 'AFL',\n",
       " 'A',\n",
       " 'APD',\n",
       " 'ABNB',\n",
       " 'AKAM',\n",
       " 'ALB',\n",
       " 'ARE',\n",
       " 'ALGN',\n",
       " 'ALLE',\n",
       " 'LNT',\n",
       " 'ALL',\n",
       " 'GOOGL',\n",
       " 'GOOG',\n",
       " 'MO',\n",
       " 'AMZN',\n",
       " 'AMCR',\n",
       " 'AEE',\n",
       " 'AEP',\n",
       " 'AXP',\n",
       " 'AIG',\n",
       " 'AMT',\n",
       " 'AWK',\n",
       " 'AMP',\n",
       " 'AME',\n",
       " 'AMGN',\n",
       " 'APH',\n",
       " 'ADI',\n",
       " 'AON',\n",
       " 'APA',\n",
       " 'APO',\n",
       " 'AAPL',\n",
       " 'AMAT',\n",
       " 'APTV',\n",
       " 'ACGL',\n",
       " 'ADM',\n",
       " 'ANET',\n",
       " 'AJG',\n",
       " 'AIZ',\n",
       " 'T',\n",
       " 'ATO',\n",
       " 'ADSK',\n",
       " 'ADP',\n",
       " 'AZO',\n",
       " 'AVB',\n",
       " 'AVY',\n",
       " 'AXON',\n",
       " 'BKR',\n",
       " 'BALL',\n",
       " 'BAC',\n",
       " 'BAX',\n",
       " 'BDX',\n",
       " 'BRK-B',\n",
       " 'BBY',\n",
       " 'TECH',\n",
       " 'BIIB',\n",
       " 'BLK',\n",
       " 'BX',\n",
       " 'XYZ',\n",
       " 'BK',\n",
       " 'BA',\n",
       " 'BKNG',\n",
       " 'BSX',\n",
       " 'BMY',\n",
       " 'AVGO',\n",
       " 'BR',\n",
       " 'BRO',\n",
       " 'BF-B',\n",
       " 'BLDR',\n",
       " 'BG',\n",
       " 'BXP',\n",
       " 'CHRW',\n",
       " 'CDNS',\n",
       " 'CZR',\n",
       " 'CPT',\n",
       " 'CPB',\n",
       " 'COF',\n",
       " 'CAH',\n",
       " 'KMX',\n",
       " 'CCL',\n",
       " 'CARR',\n",
       " 'CAT',\n",
       " 'CBOE',\n",
       " 'CBRE',\n",
       " 'CDW',\n",
       " 'COR',\n",
       " 'CNC',\n",
       " 'CNP',\n",
       " 'CF',\n",
       " 'CRL',\n",
       " 'SCHW',\n",
       " 'CHTR',\n",
       " 'CVX',\n",
       " 'CMG',\n",
       " 'CB',\n",
       " 'CHD',\n",
       " 'CI',\n",
       " 'CINF',\n",
       " 'CTAS',\n",
       " 'CSCO',\n",
       " 'C',\n",
       " 'CFG',\n",
       " 'CLX',\n",
       " 'CME',\n",
       " 'CMS',\n",
       " 'KO',\n",
       " 'CTSH',\n",
       " 'COIN',\n",
       " 'CL',\n",
       " 'CMCSA',\n",
       " 'CAG',\n",
       " 'COP',\n",
       " 'ED',\n",
       " 'STZ',\n",
       " 'CEG',\n",
       " 'COO',\n",
       " 'CPRT',\n",
       " 'GLW',\n",
       " 'CPAY',\n",
       " 'CTVA',\n",
       " 'CSGP',\n",
       " 'COST',\n",
       " 'CTRA',\n",
       " 'CRWD',\n",
       " 'CCI',\n",
       " 'CSX',\n",
       " 'CMI',\n",
       " 'CVS',\n",
       " 'DHR',\n",
       " 'DRI',\n",
       " 'DDOG',\n",
       " 'DVA',\n",
       " 'DAY',\n",
       " 'DECK',\n",
       " 'DE',\n",
       " 'DELL',\n",
       " 'DAL',\n",
       " 'DVN',\n",
       " 'DXCM',\n",
       " 'FANG',\n",
       " 'DLR',\n",
       " 'DG',\n",
       " 'DLTR',\n",
       " 'D',\n",
       " 'DPZ',\n",
       " 'DASH',\n",
       " 'DOV',\n",
       " 'DOW',\n",
       " 'DHI',\n",
       " 'DTE',\n",
       " 'DUK',\n",
       " 'DD',\n",
       " 'EMN',\n",
       " 'ETN',\n",
       " 'EBAY',\n",
       " 'ECL',\n",
       " 'EIX',\n",
       " 'EW',\n",
       " 'EA',\n",
       " 'ELV',\n",
       " 'EMR',\n",
       " 'ENPH',\n",
       " 'ETR',\n",
       " 'EOG',\n",
       " 'EPAM',\n",
       " 'EQT',\n",
       " 'EFX',\n",
       " 'EQIX',\n",
       " 'EQR',\n",
       " 'ERIE',\n",
       " 'ESS',\n",
       " 'EL',\n",
       " 'EG',\n",
       " 'EVRG',\n",
       " 'ES',\n",
       " 'EXC',\n",
       " 'EXE',\n",
       " 'EXPE',\n",
       " 'EXPD',\n",
       " 'EXR',\n",
       " 'XOM',\n",
       " 'FFIV',\n",
       " 'FDS',\n",
       " 'FICO',\n",
       " 'FAST',\n",
       " 'FRT',\n",
       " 'FDX',\n",
       " 'FIS',\n",
       " 'FITB',\n",
       " 'FSLR',\n",
       " 'FE',\n",
       " 'FI',\n",
       " 'F',\n",
       " 'FTNT',\n",
       " 'FTV',\n",
       " 'FOXA',\n",
       " 'FOX',\n",
       " 'BEN',\n",
       " 'FCX',\n",
       " 'GRMN',\n",
       " 'IT',\n",
       " 'GE',\n",
       " 'GEHC',\n",
       " 'GEV',\n",
       " 'GEN',\n",
       " 'GNRC',\n",
       " 'GD',\n",
       " 'GIS',\n",
       " 'GM',\n",
       " 'GPC',\n",
       " 'GILD',\n",
       " 'GPN',\n",
       " 'GL',\n",
       " 'GDDY',\n",
       " 'GS',\n",
       " 'HAL',\n",
       " 'HIG',\n",
       " 'HAS',\n",
       " 'HCA',\n",
       " 'DOC',\n",
       " 'HSIC',\n",
       " 'HSY',\n",
       " 'HPE',\n",
       " 'HLT',\n",
       " 'HOLX',\n",
       " 'HD',\n",
       " 'HON',\n",
       " 'HRL',\n",
       " 'HST',\n",
       " 'HWM',\n",
       " 'HPQ',\n",
       " 'HUBB',\n",
       " 'HUM',\n",
       " 'HBAN',\n",
       " 'HII',\n",
       " 'IBM',\n",
       " 'IEX',\n",
       " 'IDXX',\n",
       " 'ITW',\n",
       " 'INCY',\n",
       " 'IR',\n",
       " 'PODD',\n",
       " 'INTC',\n",
       " 'ICE',\n",
       " 'IFF',\n",
       " 'IP',\n",
       " 'IPG',\n",
       " 'INTU',\n",
       " 'ISRG',\n",
       " 'IVZ',\n",
       " 'INVH',\n",
       " 'IQV',\n",
       " 'IRM',\n",
       " 'JBHT',\n",
       " 'JBL',\n",
       " 'JKHY',\n",
       " 'J',\n",
       " 'JNJ',\n",
       " 'JCI',\n",
       " 'JPM',\n",
       " 'K',\n",
       " 'KVUE',\n",
       " 'KDP',\n",
       " 'KEY',\n",
       " 'KEYS',\n",
       " 'KMB',\n",
       " 'KIM',\n",
       " 'KMI',\n",
       " 'KKR',\n",
       " 'KLAC',\n",
       " 'KHC',\n",
       " 'KR',\n",
       " 'LHX',\n",
       " 'LH',\n",
       " 'LRCX',\n",
       " 'LW',\n",
       " 'LVS',\n",
       " 'LDOS',\n",
       " 'LEN',\n",
       " 'LII',\n",
       " 'LLY',\n",
       " 'LIN',\n",
       " 'LYV',\n",
       " 'LKQ',\n",
       " 'LMT',\n",
       " 'L',\n",
       " 'LOW',\n",
       " 'LULU',\n",
       " 'LYB',\n",
       " 'MTB',\n",
       " 'MPC',\n",
       " 'MKTX',\n",
       " 'MAR',\n",
       " 'MMC',\n",
       " 'MLM',\n",
       " 'MAS',\n",
       " 'MA',\n",
       " 'MTCH',\n",
       " 'MKC',\n",
       " 'MCD',\n",
       " 'MCK',\n",
       " 'MDT',\n",
       " 'MRK',\n",
       " 'META',\n",
       " 'MET',\n",
       " 'MTD',\n",
       " 'MGM',\n",
       " 'MCHP',\n",
       " 'MU',\n",
       " 'MSFT',\n",
       " 'MAA',\n",
       " 'MRNA',\n",
       " 'MHK',\n",
       " 'MOH',\n",
       " 'TAP',\n",
       " 'MDLZ',\n",
       " 'MPWR',\n",
       " 'MNST',\n",
       " 'MCO',\n",
       " 'MS',\n",
       " 'MOS',\n",
       " 'MSI',\n",
       " 'MSCI',\n",
       " 'NDAQ',\n",
       " 'NTAP',\n",
       " 'NFLX',\n",
       " 'NEM',\n",
       " 'NWSA',\n",
       " 'NWS',\n",
       " 'NEE',\n",
       " 'NKE',\n",
       " 'NI',\n",
       " 'NDSN',\n",
       " 'NSC',\n",
       " 'NTRS',\n",
       " 'NOC',\n",
       " 'NCLH',\n",
       " 'NRG',\n",
       " 'NUE',\n",
       " 'NVDA',\n",
       " 'NVR',\n",
       " 'NXPI',\n",
       " 'ORLY',\n",
       " 'OXY',\n",
       " 'ODFL',\n",
       " 'OMC',\n",
       " 'ON',\n",
       " 'OKE',\n",
       " 'ORCL',\n",
       " 'OTIS',\n",
       " 'PCAR',\n",
       " 'PKG',\n",
       " 'PLTR',\n",
       " 'PANW',\n",
       " 'PSKY',\n",
       " 'PH',\n",
       " 'PAYX',\n",
       " 'PAYC',\n",
       " 'PYPL',\n",
       " 'PNR',\n",
       " 'PEP',\n",
       " 'PFE',\n",
       " 'PCG',\n",
       " 'PM',\n",
       " 'PSX',\n",
       " 'PNW',\n",
       " 'PNC',\n",
       " 'POOL',\n",
       " 'PPG',\n",
       " 'PPL',\n",
       " 'PFG',\n",
       " 'PG',\n",
       " 'PGR',\n",
       " 'PLD',\n",
       " 'PRU',\n",
       " 'PEG',\n",
       " 'PTC',\n",
       " 'PSA',\n",
       " 'PHM',\n",
       " 'PWR',\n",
       " 'QCOM',\n",
       " 'DGX',\n",
       " 'RL',\n",
       " 'RJF',\n",
       " 'RTX',\n",
       " 'O',\n",
       " 'REG',\n",
       " 'REGN',\n",
       " 'RF',\n",
       " 'RSG',\n",
       " 'RMD',\n",
       " 'RVTY',\n",
       " 'ROK',\n",
       " 'ROL',\n",
       " 'ROP',\n",
       " 'ROST',\n",
       " 'RCL',\n",
       " 'SPGI',\n",
       " 'CRM',\n",
       " 'SBAC',\n",
       " 'SLB',\n",
       " 'STX',\n",
       " 'SRE',\n",
       " 'NOW',\n",
       " 'SHW',\n",
       " 'SPG',\n",
       " 'SWKS',\n",
       " 'SJM',\n",
       " 'SW',\n",
       " 'SNA',\n",
       " 'SOLV',\n",
       " 'SO',\n",
       " 'LUV',\n",
       " 'SWK',\n",
       " 'SBUX',\n",
       " 'STT',\n",
       " 'STLD',\n",
       " 'STE',\n",
       " 'SYK',\n",
       " 'SMCI',\n",
       " 'SYF',\n",
       " 'SNPS',\n",
       " 'SYY',\n",
       " 'TMUS',\n",
       " 'TROW',\n",
       " 'TTWO',\n",
       " 'TPR',\n",
       " 'TRGP',\n",
       " 'TGT',\n",
       " 'TEL',\n",
       " 'TDY',\n",
       " 'TER',\n",
       " 'TSLA',\n",
       " 'TXN',\n",
       " 'TPL',\n",
       " 'TXT',\n",
       " 'TMO',\n",
       " 'TJX',\n",
       " 'TKO',\n",
       " 'TTD',\n",
       " 'TSCO',\n",
       " 'TT',\n",
       " 'TDG',\n",
       " 'TRV',\n",
       " 'TRMB',\n",
       " 'TFC',\n",
       " 'TYL',\n",
       " 'TSN',\n",
       " 'USB',\n",
       " 'UBER',\n",
       " 'UDR',\n",
       " 'ULTA',\n",
       " 'UNP',\n",
       " 'UAL',\n",
       " 'UPS',\n",
       " 'URI',\n",
       " 'UNH',\n",
       " 'UHS',\n",
       " 'VLO',\n",
       " 'VTR',\n",
       " 'VLTO',\n",
       " 'VRSN',\n",
       " 'VRSK',\n",
       " 'VZ',\n",
       " 'VRTX',\n",
       " 'VTRS',\n",
       " 'VICI',\n",
       " 'V',\n",
       " 'VST',\n",
       " 'VMC',\n",
       " 'WRB',\n",
       " 'GWW',\n",
       " 'WAB',\n",
       " 'WBA',\n",
       " 'WMT',\n",
       " 'DIS',\n",
       " 'WBD',\n",
       " 'WM',\n",
       " 'WAT',\n",
       " 'WEC',\n",
       " 'WFC',\n",
       " 'WELL',\n",
       " 'WST',\n",
       " 'WDC',\n",
       " 'WY',\n",
       " 'WSM',\n",
       " 'WMB',\n",
       " 'WTW',\n",
       " 'WDAY',\n",
       " 'WYNN',\n",
       " 'XEL',\n",
       " 'XYL',\n",
       " 'YUM',\n",
       " 'ZBRA',\n",
       " 'ZBH',\n",
       " 'ZTS']"
      ]
     },
     "execution_count": 11,
     "metadata": {},
     "output_type": "execute_result"
    }
   ],
   "source": [
    "get_sp500_tickers()"
   ]
  },
  {
   "cell_type": "code",
   "execution_count": 12,
   "id": "a5d12404",
   "metadata": {},
   "outputs": [],
   "source": [
    "import os\n",
    "import time\n",
    "\n",
    "def download_sp500_batch(start_date: str, end_date: str, save_dir=\"data/sp500\"):\n",
    "    tickers = get_sp500_tickers()\n",
    "    os.makedirs(save_dir, exist_ok=True)\n",
    "\n",
    "    for i, ticker in enumerate(tickers):\n",
    "        filepath = os.path.join(save_dir, f\"{ticker}.csv\")\n",
    "\n",
    "        if os.path.exists(filepath):\n",
    "            print(f\"[{i+1}/{len(tickers)}] ✅ {ticker} already exists, skipping.\")\n",
    "            continue\n",
    "\n",
    "        print(f\"[{i+1}/{len(tickers)}] ⬇️ Downloading {ticker}...\")\n",
    "        df = download_data(ticker, start_date, end_date)\n",
    "\n",
    "        if not df.empty:\n",
    "            df.to_csv(filepath, index=False)\n",
    "            print(f\"   ✅ Saved to {filepath}\")\n",
    "        else:\n",
    "            print(f\"   ⚠️ Skipped {ticker} due to empty or failed download\")\n",
    "\n",
    "        time.sleep(1.5)  # polite pause to avoid rate limit"
   ]
  },
  {
   "cell_type": "code",
   "execution_count": 13,
   "id": "084df523",
   "metadata": {},
   "outputs": [
    {
     "name": "stdout",
     "output_type": "stream",
     "text": [
      "[1/503] ⬇️ Downloading MMM...\n"
     ]
    },
    {
     "name": "stderr",
     "output_type": "stream",
     "text": [
      "/tmp/ipykernel_117496/2701487849.py:17: FutureWarning: YF.download() has changed argument auto_adjust default to True\n",
      "  df = yf.download(ticker, start=start_date, end=end_date)\n",
      "[*********************100%***********************]  1 of 1 completed\n"
     ]
    },
    {
     "name": "stdout",
     "output_type": "stream",
     "text": [
      "   ✅ Saved to data/sp500/MMM.csv\n",
      "[2/503] ⬇️ Downloading AOS...\n"
     ]
    },
    {
     "name": "stderr",
     "output_type": "stream",
     "text": [
      "/tmp/ipykernel_117496/2701487849.py:17: FutureWarning: YF.download() has changed argument auto_adjust default to True\n",
      "  df = yf.download(ticker, start=start_date, end=end_date)\n",
      "[*********************100%***********************]  1 of 1 completed\n"
     ]
    },
    {
     "name": "stdout",
     "output_type": "stream",
     "text": [
      "   ✅ Saved to data/sp500/AOS.csv\n",
      "[3/503] ⬇️ Downloading ABT...\n"
     ]
    },
    {
     "name": "stderr",
     "output_type": "stream",
     "text": [
      "/tmp/ipykernel_117496/2701487849.py:17: FutureWarning: YF.download() has changed argument auto_adjust default to True\n",
      "  df = yf.download(ticker, start=start_date, end=end_date)\n",
      "[*********************100%***********************]  1 of 1 completed\n"
     ]
    },
    {
     "name": "stdout",
     "output_type": "stream",
     "text": [
      "   ✅ Saved to data/sp500/ABT.csv\n",
      "[4/503] ⬇️ Downloading ABBV...\n"
     ]
    },
    {
     "name": "stderr",
     "output_type": "stream",
     "text": [
      "/tmp/ipykernel_117496/2701487849.py:17: FutureWarning: YF.download() has changed argument auto_adjust default to True\n",
      "  df = yf.download(ticker, start=start_date, end=end_date)\n",
      "[*********************100%***********************]  1 of 1 completed\n"
     ]
    },
    {
     "name": "stdout",
     "output_type": "stream",
     "text": [
      "   ✅ Saved to data/sp500/ABBV.csv\n",
      "[5/503] ⬇️ Downloading ACN...\n"
     ]
    },
    {
     "name": "stderr",
     "output_type": "stream",
     "text": [
      "/tmp/ipykernel_117496/2701487849.py:17: FutureWarning: YF.download() has changed argument auto_adjust default to True\n",
      "  df = yf.download(ticker, start=start_date, end=end_date)\n",
      "[*********************100%***********************]  1 of 1 completed\n"
     ]
    },
    {
     "name": "stdout",
     "output_type": "stream",
     "text": [
      "   ✅ Saved to data/sp500/ACN.csv\n",
      "[6/503] ⬇️ Downloading ADBE...\n"
     ]
    },
    {
     "name": "stderr",
     "output_type": "stream",
     "text": [
      "/tmp/ipykernel_117496/2701487849.py:17: FutureWarning: YF.download() has changed argument auto_adjust default to True\n",
      "  df = yf.download(ticker, start=start_date, end=end_date)\n",
      "[*********************100%***********************]  1 of 1 completed\n"
     ]
    },
    {
     "name": "stdout",
     "output_type": "stream",
     "text": [
      "   ✅ Saved to data/sp500/ADBE.csv\n",
      "[7/503] ⬇️ Downloading AMD...\n"
     ]
    },
    {
     "name": "stderr",
     "output_type": "stream",
     "text": [
      "/tmp/ipykernel_117496/2701487849.py:17: FutureWarning: YF.download() has changed argument auto_adjust default to True\n",
      "  df = yf.download(ticker, start=start_date, end=end_date)\n",
      "[*********************100%***********************]  1 of 1 completed\n"
     ]
    },
    {
     "name": "stdout",
     "output_type": "stream",
     "text": [
      "   ✅ Saved to data/sp500/AMD.csv\n",
      "[8/503] ⬇️ Downloading AES...\n"
     ]
    },
    {
     "name": "stderr",
     "output_type": "stream",
     "text": [
      "/tmp/ipykernel_117496/2701487849.py:17: FutureWarning: YF.download() has changed argument auto_adjust default to True\n",
      "  df = yf.download(ticker, start=start_date, end=end_date)\n",
      "[*********************100%***********************]  1 of 1 completed\n"
     ]
    },
    {
     "name": "stdout",
     "output_type": "stream",
     "text": [
      "   ✅ Saved to data/sp500/AES.csv\n",
      "[9/503] ⬇️ Downloading AFL...\n"
     ]
    },
    {
     "name": "stderr",
     "output_type": "stream",
     "text": [
      "/tmp/ipykernel_117496/2701487849.py:17: FutureWarning: YF.download() has changed argument auto_adjust default to True\n",
      "  df = yf.download(ticker, start=start_date, end=end_date)\n",
      "[*********************100%***********************]  1 of 1 completed\n"
     ]
    },
    {
     "name": "stdout",
     "output_type": "stream",
     "text": [
      "   ✅ Saved to data/sp500/AFL.csv\n",
      "[10/503] ⬇️ Downloading A...\n"
     ]
    },
    {
     "name": "stderr",
     "output_type": "stream",
     "text": [
      "/tmp/ipykernel_117496/2701487849.py:17: FutureWarning: YF.download() has changed argument auto_adjust default to True\n",
      "  df = yf.download(ticker, start=start_date, end=end_date)\n",
      "[*********************100%***********************]  1 of 1 completed\n"
     ]
    },
    {
     "name": "stdout",
     "output_type": "stream",
     "text": [
      "   ✅ Saved to data/sp500/A.csv\n",
      "[11/503] ⬇️ Downloading APD...\n"
     ]
    },
    {
     "name": "stderr",
     "output_type": "stream",
     "text": [
      "/tmp/ipykernel_117496/2701487849.py:17: FutureWarning: YF.download() has changed argument auto_adjust default to True\n",
      "  df = yf.download(ticker, start=start_date, end=end_date)\n",
      "[*********************100%***********************]  1 of 1 completed\n"
     ]
    },
    {
     "name": "stdout",
     "output_type": "stream",
     "text": [
      "   ✅ Saved to data/sp500/APD.csv\n",
      "[12/503] ⬇️ Downloading ABNB...\n"
     ]
    },
    {
     "name": "stderr",
     "output_type": "stream",
     "text": [
      "/tmp/ipykernel_117496/2701487849.py:17: FutureWarning: YF.download() has changed argument auto_adjust default to True\n",
      "  df = yf.download(ticker, start=start_date, end=end_date)\n",
      "[*********************100%***********************]  1 of 1 completed\n"
     ]
    },
    {
     "name": "stdout",
     "output_type": "stream",
     "text": [
      "   ✅ Saved to data/sp500/ABNB.csv\n",
      "[13/503] ⬇️ Downloading AKAM...\n"
     ]
    },
    {
     "name": "stderr",
     "output_type": "stream",
     "text": [
      "/tmp/ipykernel_117496/2701487849.py:17: FutureWarning: YF.download() has changed argument auto_adjust default to True\n",
      "  df = yf.download(ticker, start=start_date, end=end_date)\n",
      "[*********************100%***********************]  1 of 1 completed\n"
     ]
    },
    {
     "name": "stdout",
     "output_type": "stream",
     "text": [
      "   ✅ Saved to data/sp500/AKAM.csv\n",
      "[14/503] ⬇️ Downloading ALB...\n"
     ]
    },
    {
     "name": "stderr",
     "output_type": "stream",
     "text": [
      "/tmp/ipykernel_117496/2701487849.py:17: FutureWarning: YF.download() has changed argument auto_adjust default to True\n",
      "  df = yf.download(ticker, start=start_date, end=end_date)\n",
      "[*********************100%***********************]  1 of 1 completed\n"
     ]
    },
    {
     "name": "stdout",
     "output_type": "stream",
     "text": [
      "   ✅ Saved to data/sp500/ALB.csv\n",
      "[15/503] ⬇️ Downloading ARE...\n"
     ]
    },
    {
     "name": "stderr",
     "output_type": "stream",
     "text": [
      "/tmp/ipykernel_117496/2701487849.py:17: FutureWarning: YF.download() has changed argument auto_adjust default to True\n",
      "  df = yf.download(ticker, start=start_date, end=end_date)\n",
      "[*********************100%***********************]  1 of 1 completed\n"
     ]
    },
    {
     "name": "stdout",
     "output_type": "stream",
     "text": [
      "   ✅ Saved to data/sp500/ARE.csv\n",
      "[16/503] ⬇️ Downloading ALGN...\n"
     ]
    },
    {
     "name": "stderr",
     "output_type": "stream",
     "text": [
      "/tmp/ipykernel_117496/2701487849.py:17: FutureWarning: YF.download() has changed argument auto_adjust default to True\n",
      "  df = yf.download(ticker, start=start_date, end=end_date)\n",
      "[*********************100%***********************]  1 of 1 completed\n"
     ]
    },
    {
     "name": "stdout",
     "output_type": "stream",
     "text": [
      "   ✅ Saved to data/sp500/ALGN.csv\n",
      "[17/503] ⬇️ Downloading ALLE...\n"
     ]
    },
    {
     "name": "stderr",
     "output_type": "stream",
     "text": [
      "/tmp/ipykernel_117496/2701487849.py:17: FutureWarning: YF.download() has changed argument auto_adjust default to True\n",
      "  df = yf.download(ticker, start=start_date, end=end_date)\n",
      "[*********************100%***********************]  1 of 1 completed\n"
     ]
    },
    {
     "name": "stdout",
     "output_type": "stream",
     "text": [
      "   ✅ Saved to data/sp500/ALLE.csv\n",
      "[18/503] ⬇️ Downloading LNT...\n"
     ]
    },
    {
     "name": "stderr",
     "output_type": "stream",
     "text": [
      "/tmp/ipykernel_117496/2701487849.py:17: FutureWarning: YF.download() has changed argument auto_adjust default to True\n",
      "  df = yf.download(ticker, start=start_date, end=end_date)\n",
      "[*********************100%***********************]  1 of 1 completed\n"
     ]
    },
    {
     "name": "stdout",
     "output_type": "stream",
     "text": [
      "   ✅ Saved to data/sp500/LNT.csv\n",
      "[19/503] ⬇️ Downloading ALL...\n"
     ]
    },
    {
     "name": "stderr",
     "output_type": "stream",
     "text": [
      "/tmp/ipykernel_117496/2701487849.py:17: FutureWarning: YF.download() has changed argument auto_adjust default to True\n",
      "  df = yf.download(ticker, start=start_date, end=end_date)\n",
      "[*********************100%***********************]  1 of 1 completed\n"
     ]
    },
    {
     "name": "stdout",
     "output_type": "stream",
     "text": [
      "   ✅ Saved to data/sp500/ALL.csv\n",
      "[20/503] ⬇️ Downloading GOOGL...\n"
     ]
    },
    {
     "name": "stderr",
     "output_type": "stream",
     "text": [
      "/tmp/ipykernel_117496/2701487849.py:17: FutureWarning: YF.download() has changed argument auto_adjust default to True\n",
      "  df = yf.download(ticker, start=start_date, end=end_date)\n",
      "[*********************100%***********************]  1 of 1 completed\n"
     ]
    },
    {
     "name": "stdout",
     "output_type": "stream",
     "text": [
      "   ✅ Saved to data/sp500/GOOGL.csv\n",
      "[21/503] ⬇️ Downloading GOOG...\n"
     ]
    },
    {
     "name": "stderr",
     "output_type": "stream",
     "text": [
      "/tmp/ipykernel_117496/2701487849.py:17: FutureWarning: YF.download() has changed argument auto_adjust default to True\n",
      "  df = yf.download(ticker, start=start_date, end=end_date)\n",
      "[*********************100%***********************]  1 of 1 completed\n"
     ]
    },
    {
     "name": "stdout",
     "output_type": "stream",
     "text": [
      "   ✅ Saved to data/sp500/GOOG.csv\n",
      "[22/503] ⬇️ Downloading MO...\n"
     ]
    },
    {
     "name": "stderr",
     "output_type": "stream",
     "text": [
      "/tmp/ipykernel_117496/2701487849.py:17: FutureWarning: YF.download() has changed argument auto_adjust default to True\n",
      "  df = yf.download(ticker, start=start_date, end=end_date)\n",
      "[*********************100%***********************]  1 of 1 completed\n"
     ]
    },
    {
     "name": "stdout",
     "output_type": "stream",
     "text": [
      "   ✅ Saved to data/sp500/MO.csv\n",
      "[23/503] ⬇️ Downloading AMZN...\n"
     ]
    },
    {
     "name": "stderr",
     "output_type": "stream",
     "text": [
      "/tmp/ipykernel_117496/2701487849.py:17: FutureWarning: YF.download() has changed argument auto_adjust default to True\n",
      "  df = yf.download(ticker, start=start_date, end=end_date)\n",
      "[*********************100%***********************]  1 of 1 completed\n"
     ]
    },
    {
     "name": "stdout",
     "output_type": "stream",
     "text": [
      "   ✅ Saved to data/sp500/AMZN.csv\n",
      "[24/503] ⬇️ Downloading AMCR...\n"
     ]
    },
    {
     "name": "stderr",
     "output_type": "stream",
     "text": [
      "/tmp/ipykernel_117496/2701487849.py:17: FutureWarning: YF.download() has changed argument auto_adjust default to True\n",
      "  df = yf.download(ticker, start=start_date, end=end_date)\n",
      "[*********************100%***********************]  1 of 1 completed\n"
     ]
    },
    {
     "name": "stdout",
     "output_type": "stream",
     "text": [
      "   ✅ Saved to data/sp500/AMCR.csv\n",
      "[25/503] ⬇️ Downloading AEE...\n"
     ]
    },
    {
     "name": "stderr",
     "output_type": "stream",
     "text": [
      "/tmp/ipykernel_117496/2701487849.py:17: FutureWarning: YF.download() has changed argument auto_adjust default to True\n",
      "  df = yf.download(ticker, start=start_date, end=end_date)\n",
      "[*********************100%***********************]  1 of 1 completed\n"
     ]
    },
    {
     "name": "stdout",
     "output_type": "stream",
     "text": [
      "   ✅ Saved to data/sp500/AEE.csv\n",
      "[26/503] ⬇️ Downloading AEP...\n"
     ]
    },
    {
     "name": "stderr",
     "output_type": "stream",
     "text": [
      "/tmp/ipykernel_117496/2701487849.py:17: FutureWarning: YF.download() has changed argument auto_adjust default to True\n",
      "  df = yf.download(ticker, start=start_date, end=end_date)\n",
      "[*********************100%***********************]  1 of 1 completed\n"
     ]
    },
    {
     "name": "stdout",
     "output_type": "stream",
     "text": [
      "   ✅ Saved to data/sp500/AEP.csv\n",
      "[27/503] ⬇️ Downloading AXP...\n"
     ]
    },
    {
     "name": "stderr",
     "output_type": "stream",
     "text": [
      "/tmp/ipykernel_117496/2701487849.py:17: FutureWarning: YF.download() has changed argument auto_adjust default to True\n",
      "  df = yf.download(ticker, start=start_date, end=end_date)\n",
      "[*********************100%***********************]  1 of 1 completed\n"
     ]
    },
    {
     "name": "stdout",
     "output_type": "stream",
     "text": [
      "   ✅ Saved to data/sp500/AXP.csv\n",
      "[28/503] ⬇️ Downloading AIG...\n"
     ]
    },
    {
     "name": "stderr",
     "output_type": "stream",
     "text": [
      "/tmp/ipykernel_117496/2701487849.py:17: FutureWarning: YF.download() has changed argument auto_adjust default to True\n",
      "  df = yf.download(ticker, start=start_date, end=end_date)\n",
      "[*********************100%***********************]  1 of 1 completed\n"
     ]
    },
    {
     "name": "stdout",
     "output_type": "stream",
     "text": [
      "   ✅ Saved to data/sp500/AIG.csv\n",
      "[29/503] ⬇️ Downloading AMT...\n"
     ]
    },
    {
     "name": "stderr",
     "output_type": "stream",
     "text": [
      "/tmp/ipykernel_117496/2701487849.py:17: FutureWarning: YF.download() has changed argument auto_adjust default to True\n",
      "  df = yf.download(ticker, start=start_date, end=end_date)\n",
      "[*********************100%***********************]  1 of 1 completed\n"
     ]
    },
    {
     "name": "stdout",
     "output_type": "stream",
     "text": [
      "   ✅ Saved to data/sp500/AMT.csv\n",
      "[30/503] ⬇️ Downloading AWK...\n"
     ]
    },
    {
     "name": "stderr",
     "output_type": "stream",
     "text": [
      "/tmp/ipykernel_117496/2701487849.py:17: FutureWarning: YF.download() has changed argument auto_adjust default to True\n",
      "  df = yf.download(ticker, start=start_date, end=end_date)\n",
      "[*********************100%***********************]  1 of 1 completed\n"
     ]
    },
    {
     "name": "stdout",
     "output_type": "stream",
     "text": [
      "   ✅ Saved to data/sp500/AWK.csv\n",
      "[31/503] ⬇️ Downloading AMP...\n"
     ]
    },
    {
     "name": "stderr",
     "output_type": "stream",
     "text": [
      "/tmp/ipykernel_117496/2701487849.py:17: FutureWarning: YF.download() has changed argument auto_adjust default to True\n",
      "  df = yf.download(ticker, start=start_date, end=end_date)\n",
      "[*********************100%***********************]  1 of 1 completed\n"
     ]
    },
    {
     "name": "stdout",
     "output_type": "stream",
     "text": [
      "   ✅ Saved to data/sp500/AMP.csv\n",
      "[32/503] ⬇️ Downloading AME...\n"
     ]
    },
    {
     "name": "stderr",
     "output_type": "stream",
     "text": [
      "/tmp/ipykernel_117496/2701487849.py:17: FutureWarning: YF.download() has changed argument auto_adjust default to True\n",
      "  df = yf.download(ticker, start=start_date, end=end_date)\n",
      "[*********************100%***********************]  1 of 1 completed\n"
     ]
    },
    {
     "name": "stdout",
     "output_type": "stream",
     "text": [
      "   ✅ Saved to data/sp500/AME.csv\n",
      "[33/503] ⬇️ Downloading AMGN...\n"
     ]
    },
    {
     "name": "stderr",
     "output_type": "stream",
     "text": [
      "/tmp/ipykernel_117496/2701487849.py:17: FutureWarning: YF.download() has changed argument auto_adjust default to True\n",
      "  df = yf.download(ticker, start=start_date, end=end_date)\n",
      "[*********************100%***********************]  1 of 1 completed\n"
     ]
    },
    {
     "name": "stdout",
     "output_type": "stream",
     "text": [
      "   ✅ Saved to data/sp500/AMGN.csv\n",
      "[34/503] ⬇️ Downloading APH...\n"
     ]
    },
    {
     "name": "stderr",
     "output_type": "stream",
     "text": [
      "/tmp/ipykernel_117496/2701487849.py:17: FutureWarning: YF.download() has changed argument auto_adjust default to True\n",
      "  df = yf.download(ticker, start=start_date, end=end_date)\n",
      "[*********************100%***********************]  1 of 1 completed\n"
     ]
    },
    {
     "name": "stdout",
     "output_type": "stream",
     "text": [
      "   ✅ Saved to data/sp500/APH.csv\n",
      "[35/503] ⬇️ Downloading ADI...\n"
     ]
    },
    {
     "name": "stderr",
     "output_type": "stream",
     "text": [
      "/tmp/ipykernel_117496/2701487849.py:17: FutureWarning: YF.download() has changed argument auto_adjust default to True\n",
      "  df = yf.download(ticker, start=start_date, end=end_date)\n",
      "[*********************100%***********************]  1 of 1 completed\n"
     ]
    },
    {
     "name": "stdout",
     "output_type": "stream",
     "text": [
      "   ✅ Saved to data/sp500/ADI.csv\n",
      "[36/503] ⬇️ Downloading AON...\n"
     ]
    },
    {
     "name": "stderr",
     "output_type": "stream",
     "text": [
      "/tmp/ipykernel_117496/2701487849.py:17: FutureWarning: YF.download() has changed argument auto_adjust default to True\n",
      "  df = yf.download(ticker, start=start_date, end=end_date)\n",
      "[*********************100%***********************]  1 of 1 completed\n"
     ]
    },
    {
     "name": "stdout",
     "output_type": "stream",
     "text": [
      "   ✅ Saved to data/sp500/AON.csv\n",
      "[37/503] ⬇️ Downloading APA...\n"
     ]
    },
    {
     "name": "stderr",
     "output_type": "stream",
     "text": [
      "/tmp/ipykernel_117496/2701487849.py:17: FutureWarning: YF.download() has changed argument auto_adjust default to True\n",
      "  df = yf.download(ticker, start=start_date, end=end_date)\n",
      "[*********************100%***********************]  1 of 1 completed\n"
     ]
    },
    {
     "name": "stdout",
     "output_type": "stream",
     "text": [
      "   ✅ Saved to data/sp500/APA.csv\n",
      "[38/503] ⬇️ Downloading APO...\n"
     ]
    },
    {
     "name": "stderr",
     "output_type": "stream",
     "text": [
      "/tmp/ipykernel_117496/2701487849.py:17: FutureWarning: YF.download() has changed argument auto_adjust default to True\n",
      "  df = yf.download(ticker, start=start_date, end=end_date)\n",
      "[*********************100%***********************]  1 of 1 completed\n"
     ]
    },
    {
     "name": "stdout",
     "output_type": "stream",
     "text": [
      "   ✅ Saved to data/sp500/APO.csv\n",
      "[39/503] ⬇️ Downloading AAPL...\n"
     ]
    },
    {
     "name": "stderr",
     "output_type": "stream",
     "text": [
      "/tmp/ipykernel_117496/2701487849.py:17: FutureWarning: YF.download() has changed argument auto_adjust default to True\n",
      "  df = yf.download(ticker, start=start_date, end=end_date)\n",
      "[*********************100%***********************]  1 of 1 completed\n"
     ]
    },
    {
     "name": "stdout",
     "output_type": "stream",
     "text": [
      "   ✅ Saved to data/sp500/AAPL.csv\n",
      "[40/503] ⬇️ Downloading AMAT...\n"
     ]
    },
    {
     "name": "stderr",
     "output_type": "stream",
     "text": [
      "/tmp/ipykernel_117496/2701487849.py:17: FutureWarning: YF.download() has changed argument auto_adjust default to True\n",
      "  df = yf.download(ticker, start=start_date, end=end_date)\n",
      "[*********************100%***********************]  1 of 1 completed\n"
     ]
    },
    {
     "name": "stdout",
     "output_type": "stream",
     "text": [
      "   ✅ Saved to data/sp500/AMAT.csv\n",
      "[41/503] ⬇️ Downloading APTV...\n"
     ]
    },
    {
     "name": "stderr",
     "output_type": "stream",
     "text": [
      "/tmp/ipykernel_117496/2701487849.py:17: FutureWarning: YF.download() has changed argument auto_adjust default to True\n",
      "  df = yf.download(ticker, start=start_date, end=end_date)\n",
      "[*********************100%***********************]  1 of 1 completed\n"
     ]
    },
    {
     "name": "stdout",
     "output_type": "stream",
     "text": [
      "   ✅ Saved to data/sp500/APTV.csv\n",
      "[42/503] ⬇️ Downloading ACGL...\n"
     ]
    },
    {
     "name": "stderr",
     "output_type": "stream",
     "text": [
      "/tmp/ipykernel_117496/2701487849.py:17: FutureWarning: YF.download() has changed argument auto_adjust default to True\n",
      "  df = yf.download(ticker, start=start_date, end=end_date)\n",
      "[*********************100%***********************]  1 of 1 completed\n"
     ]
    },
    {
     "name": "stdout",
     "output_type": "stream",
     "text": [
      "   ✅ Saved to data/sp500/ACGL.csv\n",
      "[43/503] ⬇️ Downloading ADM...\n"
     ]
    },
    {
     "name": "stderr",
     "output_type": "stream",
     "text": [
      "/tmp/ipykernel_117496/2701487849.py:17: FutureWarning: YF.download() has changed argument auto_adjust default to True\n",
      "  df = yf.download(ticker, start=start_date, end=end_date)\n",
      "[*********************100%***********************]  1 of 1 completed\n"
     ]
    },
    {
     "name": "stdout",
     "output_type": "stream",
     "text": [
      "   ✅ Saved to data/sp500/ADM.csv\n",
      "[44/503] ⬇️ Downloading ANET...\n"
     ]
    },
    {
     "name": "stderr",
     "output_type": "stream",
     "text": [
      "/tmp/ipykernel_117496/2701487849.py:17: FutureWarning: YF.download() has changed argument auto_adjust default to True\n",
      "  df = yf.download(ticker, start=start_date, end=end_date)\n",
      "[*********************100%***********************]  1 of 1 completed\n"
     ]
    },
    {
     "name": "stdout",
     "output_type": "stream",
     "text": [
      "   ✅ Saved to data/sp500/ANET.csv\n",
      "[45/503] ⬇️ Downloading AJG...\n"
     ]
    },
    {
     "name": "stderr",
     "output_type": "stream",
     "text": [
      "/tmp/ipykernel_117496/2701487849.py:17: FutureWarning: YF.download() has changed argument auto_adjust default to True\n",
      "  df = yf.download(ticker, start=start_date, end=end_date)\n",
      "[*********************100%***********************]  1 of 1 completed\n"
     ]
    },
    {
     "name": "stdout",
     "output_type": "stream",
     "text": [
      "   ✅ Saved to data/sp500/AJG.csv\n",
      "[46/503] ⬇️ Downloading AIZ...\n"
     ]
    },
    {
     "name": "stderr",
     "output_type": "stream",
     "text": [
      "/tmp/ipykernel_117496/2701487849.py:17: FutureWarning: YF.download() has changed argument auto_adjust default to True\n",
      "  df = yf.download(ticker, start=start_date, end=end_date)\n",
      "[*********************100%***********************]  1 of 1 completed\n"
     ]
    },
    {
     "name": "stdout",
     "output_type": "stream",
     "text": [
      "   ✅ Saved to data/sp500/AIZ.csv\n",
      "[47/503] ⬇️ Downloading T...\n"
     ]
    },
    {
     "name": "stderr",
     "output_type": "stream",
     "text": [
      "/tmp/ipykernel_117496/2701487849.py:17: FutureWarning: YF.download() has changed argument auto_adjust default to True\n",
      "  df = yf.download(ticker, start=start_date, end=end_date)\n",
      "[*********************100%***********************]  1 of 1 completed\n"
     ]
    },
    {
     "name": "stdout",
     "output_type": "stream",
     "text": [
      "   ✅ Saved to data/sp500/T.csv\n",
      "[48/503] ⬇️ Downloading ATO...\n"
     ]
    },
    {
     "name": "stderr",
     "output_type": "stream",
     "text": [
      "/tmp/ipykernel_117496/2701487849.py:17: FutureWarning: YF.download() has changed argument auto_adjust default to True\n",
      "  df = yf.download(ticker, start=start_date, end=end_date)\n",
      "[*********************100%***********************]  1 of 1 completed\n"
     ]
    },
    {
     "name": "stdout",
     "output_type": "stream",
     "text": [
      "   ✅ Saved to data/sp500/ATO.csv\n",
      "[49/503] ⬇️ Downloading ADSK...\n"
     ]
    },
    {
     "name": "stderr",
     "output_type": "stream",
     "text": [
      "/tmp/ipykernel_117496/2701487849.py:17: FutureWarning: YF.download() has changed argument auto_adjust default to True\n",
      "  df = yf.download(ticker, start=start_date, end=end_date)\n",
      "[*********************100%***********************]  1 of 1 completed\n"
     ]
    },
    {
     "name": "stdout",
     "output_type": "stream",
     "text": [
      "   ✅ Saved to data/sp500/ADSK.csv\n",
      "[50/503] ⬇️ Downloading ADP...\n"
     ]
    },
    {
     "name": "stderr",
     "output_type": "stream",
     "text": [
      "/tmp/ipykernel_117496/2701487849.py:17: FutureWarning: YF.download() has changed argument auto_adjust default to True\n",
      "  df = yf.download(ticker, start=start_date, end=end_date)\n",
      "[*********************100%***********************]  1 of 1 completed\n"
     ]
    },
    {
     "name": "stdout",
     "output_type": "stream",
     "text": [
      "   ✅ Saved to data/sp500/ADP.csv\n",
      "[51/503] ⬇️ Downloading AZO...\n"
     ]
    },
    {
     "name": "stderr",
     "output_type": "stream",
     "text": [
      "/tmp/ipykernel_117496/2701487849.py:17: FutureWarning: YF.download() has changed argument auto_adjust default to True\n",
      "  df = yf.download(ticker, start=start_date, end=end_date)\n",
      "[*********************100%***********************]  1 of 1 completed\n"
     ]
    },
    {
     "name": "stdout",
     "output_type": "stream",
     "text": [
      "   ✅ Saved to data/sp500/AZO.csv\n",
      "[52/503] ⬇️ Downloading AVB...\n"
     ]
    },
    {
     "name": "stderr",
     "output_type": "stream",
     "text": [
      "/tmp/ipykernel_117496/2701487849.py:17: FutureWarning: YF.download() has changed argument auto_adjust default to True\n",
      "  df = yf.download(ticker, start=start_date, end=end_date)\n",
      "[*********************100%***********************]  1 of 1 completed\n"
     ]
    },
    {
     "name": "stdout",
     "output_type": "stream",
     "text": [
      "   ✅ Saved to data/sp500/AVB.csv\n",
      "[53/503] ⬇️ Downloading AVY...\n"
     ]
    },
    {
     "name": "stderr",
     "output_type": "stream",
     "text": [
      "/tmp/ipykernel_117496/2701487849.py:17: FutureWarning: YF.download() has changed argument auto_adjust default to True\n",
      "  df = yf.download(ticker, start=start_date, end=end_date)\n",
      "[*********************100%***********************]  1 of 1 completed\n"
     ]
    },
    {
     "name": "stdout",
     "output_type": "stream",
     "text": [
      "   ✅ Saved to data/sp500/AVY.csv\n",
      "[54/503] ⬇️ Downloading AXON...\n"
     ]
    },
    {
     "name": "stderr",
     "output_type": "stream",
     "text": [
      "/tmp/ipykernel_117496/2701487849.py:17: FutureWarning: YF.download() has changed argument auto_adjust default to True\n",
      "  df = yf.download(ticker, start=start_date, end=end_date)\n",
      "[*********************100%***********************]  1 of 1 completed\n"
     ]
    },
    {
     "name": "stdout",
     "output_type": "stream",
     "text": [
      "   ✅ Saved to data/sp500/AXON.csv\n",
      "[55/503] ⬇️ Downloading BKR...\n"
     ]
    },
    {
     "name": "stderr",
     "output_type": "stream",
     "text": [
      "/tmp/ipykernel_117496/2701487849.py:17: FutureWarning: YF.download() has changed argument auto_adjust default to True\n",
      "  df = yf.download(ticker, start=start_date, end=end_date)\n",
      "[*********************100%***********************]  1 of 1 completed\n"
     ]
    },
    {
     "name": "stdout",
     "output_type": "stream",
     "text": [
      "   ✅ Saved to data/sp500/BKR.csv\n",
      "[56/503] ⬇️ Downloading BALL...\n"
     ]
    },
    {
     "name": "stderr",
     "output_type": "stream",
     "text": [
      "/tmp/ipykernel_117496/2701487849.py:17: FutureWarning: YF.download() has changed argument auto_adjust default to True\n",
      "  df = yf.download(ticker, start=start_date, end=end_date)\n",
      "[*********************100%***********************]  1 of 1 completed\n"
     ]
    },
    {
     "name": "stdout",
     "output_type": "stream",
     "text": [
      "   ✅ Saved to data/sp500/BALL.csv\n",
      "[57/503] ⬇️ Downloading BAC...\n"
     ]
    },
    {
     "name": "stderr",
     "output_type": "stream",
     "text": [
      "/tmp/ipykernel_117496/2701487849.py:17: FutureWarning: YF.download() has changed argument auto_adjust default to True\n",
      "  df = yf.download(ticker, start=start_date, end=end_date)\n",
      "[*********************100%***********************]  1 of 1 completed\n"
     ]
    },
    {
     "name": "stdout",
     "output_type": "stream",
     "text": [
      "   ✅ Saved to data/sp500/BAC.csv\n",
      "[58/503] ⬇️ Downloading BAX...\n"
     ]
    },
    {
     "name": "stderr",
     "output_type": "stream",
     "text": [
      "/tmp/ipykernel_117496/2701487849.py:17: FutureWarning: YF.download() has changed argument auto_adjust default to True\n",
      "  df = yf.download(ticker, start=start_date, end=end_date)\n",
      "[*********************100%***********************]  1 of 1 completed\n"
     ]
    },
    {
     "name": "stdout",
     "output_type": "stream",
     "text": [
      "   ✅ Saved to data/sp500/BAX.csv\n",
      "[59/503] ⬇️ Downloading BDX...\n"
     ]
    },
    {
     "name": "stderr",
     "output_type": "stream",
     "text": [
      "/tmp/ipykernel_117496/2701487849.py:17: FutureWarning: YF.download() has changed argument auto_adjust default to True\n",
      "  df = yf.download(ticker, start=start_date, end=end_date)\n",
      "[*********************100%***********************]  1 of 1 completed\n"
     ]
    },
    {
     "name": "stdout",
     "output_type": "stream",
     "text": [
      "   ✅ Saved to data/sp500/BDX.csv\n",
      "[60/503] ⬇️ Downloading BRK-B...\n"
     ]
    },
    {
     "name": "stderr",
     "output_type": "stream",
     "text": [
      "/tmp/ipykernel_117496/2701487849.py:17: FutureWarning: YF.download() has changed argument auto_adjust default to True\n",
      "  df = yf.download(ticker, start=start_date, end=end_date)\n",
      "[*********************100%***********************]  1 of 1 completed\n"
     ]
    },
    {
     "name": "stdout",
     "output_type": "stream",
     "text": [
      "   ✅ Saved to data/sp500/BRK-B.csv\n",
      "[61/503] ⬇️ Downloading BBY...\n"
     ]
    },
    {
     "name": "stderr",
     "output_type": "stream",
     "text": [
      "/tmp/ipykernel_117496/2701487849.py:17: FutureWarning: YF.download() has changed argument auto_adjust default to True\n",
      "  df = yf.download(ticker, start=start_date, end=end_date)\n",
      "[*********************100%***********************]  1 of 1 completed\n"
     ]
    },
    {
     "name": "stdout",
     "output_type": "stream",
     "text": [
      "   ✅ Saved to data/sp500/BBY.csv\n",
      "[62/503] ⬇️ Downloading TECH...\n"
     ]
    },
    {
     "name": "stderr",
     "output_type": "stream",
     "text": [
      "/tmp/ipykernel_117496/2701487849.py:17: FutureWarning: YF.download() has changed argument auto_adjust default to True\n",
      "  df = yf.download(ticker, start=start_date, end=end_date)\n",
      "[*********************100%***********************]  1 of 1 completed\n"
     ]
    },
    {
     "name": "stdout",
     "output_type": "stream",
     "text": [
      "   ✅ Saved to data/sp500/TECH.csv\n",
      "[63/503] ⬇️ Downloading BIIB...\n"
     ]
    },
    {
     "name": "stderr",
     "output_type": "stream",
     "text": [
      "/tmp/ipykernel_117496/2701487849.py:17: FutureWarning: YF.download() has changed argument auto_adjust default to True\n",
      "  df = yf.download(ticker, start=start_date, end=end_date)\n",
      "[*********************100%***********************]  1 of 1 completed\n"
     ]
    },
    {
     "name": "stdout",
     "output_type": "stream",
     "text": [
      "   ✅ Saved to data/sp500/BIIB.csv\n",
      "[64/503] ⬇️ Downloading BLK...\n"
     ]
    },
    {
     "name": "stderr",
     "output_type": "stream",
     "text": [
      "/tmp/ipykernel_117496/2701487849.py:17: FutureWarning: YF.download() has changed argument auto_adjust default to True\n",
      "  df = yf.download(ticker, start=start_date, end=end_date)\n",
      "[*********************100%***********************]  1 of 1 completed\n"
     ]
    },
    {
     "name": "stdout",
     "output_type": "stream",
     "text": [
      "   ✅ Saved to data/sp500/BLK.csv\n",
      "[65/503] ⬇️ Downloading BX...\n"
     ]
    },
    {
     "name": "stderr",
     "output_type": "stream",
     "text": [
      "/tmp/ipykernel_117496/2701487849.py:17: FutureWarning: YF.download() has changed argument auto_adjust default to True\n",
      "  df = yf.download(ticker, start=start_date, end=end_date)\n",
      "[*********************100%***********************]  1 of 1 completed\n"
     ]
    },
    {
     "name": "stdout",
     "output_type": "stream",
     "text": [
      "   ✅ Saved to data/sp500/BX.csv\n",
      "[66/503] ⬇️ Downloading XYZ...\n"
     ]
    },
    {
     "name": "stderr",
     "output_type": "stream",
     "text": [
      "/tmp/ipykernel_117496/2701487849.py:17: FutureWarning: YF.download() has changed argument auto_adjust default to True\n",
      "  df = yf.download(ticker, start=start_date, end=end_date)\n",
      "[*********************100%***********************]  1 of 1 completed\n"
     ]
    },
    {
     "name": "stdout",
     "output_type": "stream",
     "text": [
      "   ✅ Saved to data/sp500/XYZ.csv\n",
      "[67/503] ⬇️ Downloading BK...\n"
     ]
    },
    {
     "name": "stderr",
     "output_type": "stream",
     "text": [
      "/tmp/ipykernel_117496/2701487849.py:17: FutureWarning: YF.download() has changed argument auto_adjust default to True\n",
      "  df = yf.download(ticker, start=start_date, end=end_date)\n",
      "[*********************100%***********************]  1 of 1 completed\n"
     ]
    },
    {
     "name": "stdout",
     "output_type": "stream",
     "text": [
      "   ✅ Saved to data/sp500/BK.csv\n",
      "[68/503] ⬇️ Downloading BA...\n"
     ]
    },
    {
     "name": "stderr",
     "output_type": "stream",
     "text": [
      "/tmp/ipykernel_117496/2701487849.py:17: FutureWarning: YF.download() has changed argument auto_adjust default to True\n",
      "  df = yf.download(ticker, start=start_date, end=end_date)\n",
      "[*********************100%***********************]  1 of 1 completed\n"
     ]
    },
    {
     "name": "stdout",
     "output_type": "stream",
     "text": [
      "   ✅ Saved to data/sp500/BA.csv\n",
      "[69/503] ⬇️ Downloading BKNG...\n"
     ]
    },
    {
     "name": "stderr",
     "output_type": "stream",
     "text": [
      "/tmp/ipykernel_117496/2701487849.py:17: FutureWarning: YF.download() has changed argument auto_adjust default to True\n",
      "  df = yf.download(ticker, start=start_date, end=end_date)\n",
      "[*********************100%***********************]  1 of 1 completed\n"
     ]
    },
    {
     "name": "stdout",
     "output_type": "stream",
     "text": [
      "   ✅ Saved to data/sp500/BKNG.csv\n",
      "[70/503] ⬇️ Downloading BSX...\n"
     ]
    },
    {
     "name": "stderr",
     "output_type": "stream",
     "text": [
      "/tmp/ipykernel_117496/2701487849.py:17: FutureWarning: YF.download() has changed argument auto_adjust default to True\n",
      "  df = yf.download(ticker, start=start_date, end=end_date)\n",
      "[*********************100%***********************]  1 of 1 completed\n"
     ]
    },
    {
     "name": "stdout",
     "output_type": "stream",
     "text": [
      "   ✅ Saved to data/sp500/BSX.csv\n",
      "[71/503] ⬇️ Downloading BMY...\n"
     ]
    },
    {
     "name": "stderr",
     "output_type": "stream",
     "text": [
      "/tmp/ipykernel_117496/2701487849.py:17: FutureWarning: YF.download() has changed argument auto_adjust default to True\n",
      "  df = yf.download(ticker, start=start_date, end=end_date)\n",
      "[*********************100%***********************]  1 of 1 completed\n"
     ]
    },
    {
     "name": "stdout",
     "output_type": "stream",
     "text": [
      "   ✅ Saved to data/sp500/BMY.csv\n",
      "[72/503] ⬇️ Downloading AVGO...\n"
     ]
    },
    {
     "name": "stderr",
     "output_type": "stream",
     "text": [
      "/tmp/ipykernel_117496/2701487849.py:17: FutureWarning: YF.download() has changed argument auto_adjust default to True\n",
      "  df = yf.download(ticker, start=start_date, end=end_date)\n",
      "[*********************100%***********************]  1 of 1 completed\n"
     ]
    },
    {
     "name": "stdout",
     "output_type": "stream",
     "text": [
      "   ✅ Saved to data/sp500/AVGO.csv\n",
      "[73/503] ⬇️ Downloading BR...\n"
     ]
    },
    {
     "name": "stderr",
     "output_type": "stream",
     "text": [
      "/tmp/ipykernel_117496/2701487849.py:17: FutureWarning: YF.download() has changed argument auto_adjust default to True\n",
      "  df = yf.download(ticker, start=start_date, end=end_date)\n",
      "[*********************100%***********************]  1 of 1 completed\n"
     ]
    },
    {
     "name": "stdout",
     "output_type": "stream",
     "text": [
      "   ✅ Saved to data/sp500/BR.csv\n",
      "[74/503] ⬇️ Downloading BRO...\n"
     ]
    },
    {
     "name": "stderr",
     "output_type": "stream",
     "text": [
      "/tmp/ipykernel_117496/2701487849.py:17: FutureWarning: YF.download() has changed argument auto_adjust default to True\n",
      "  df = yf.download(ticker, start=start_date, end=end_date)\n",
      "[*********************100%***********************]  1 of 1 completed\n"
     ]
    },
    {
     "name": "stdout",
     "output_type": "stream",
     "text": [
      "   ✅ Saved to data/sp500/BRO.csv\n",
      "[75/503] ⬇️ Downloading BF-B...\n"
     ]
    },
    {
     "name": "stderr",
     "output_type": "stream",
     "text": [
      "/tmp/ipykernel_117496/2701487849.py:17: FutureWarning: YF.download() has changed argument auto_adjust default to True\n",
      "  df = yf.download(ticker, start=start_date, end=end_date)\n",
      "[*********************100%***********************]  1 of 1 completed\n"
     ]
    },
    {
     "name": "stdout",
     "output_type": "stream",
     "text": [
      "   ✅ Saved to data/sp500/BF-B.csv\n",
      "[76/503] ⬇️ Downloading BLDR...\n"
     ]
    },
    {
     "name": "stderr",
     "output_type": "stream",
     "text": [
      "/tmp/ipykernel_117496/2701487849.py:17: FutureWarning: YF.download() has changed argument auto_adjust default to True\n",
      "  df = yf.download(ticker, start=start_date, end=end_date)\n",
      "[*********************100%***********************]  1 of 1 completed\n"
     ]
    },
    {
     "name": "stdout",
     "output_type": "stream",
     "text": [
      "   ✅ Saved to data/sp500/BLDR.csv\n",
      "[77/503] ⬇️ Downloading BG...\n"
     ]
    },
    {
     "name": "stderr",
     "output_type": "stream",
     "text": [
      "/tmp/ipykernel_117496/2701487849.py:17: FutureWarning: YF.download() has changed argument auto_adjust default to True\n",
      "  df = yf.download(ticker, start=start_date, end=end_date)\n",
      "[*********************100%***********************]  1 of 1 completed\n"
     ]
    },
    {
     "name": "stdout",
     "output_type": "stream",
     "text": [
      "   ✅ Saved to data/sp500/BG.csv\n",
      "[78/503] ⬇️ Downloading BXP...\n"
     ]
    },
    {
     "name": "stderr",
     "output_type": "stream",
     "text": [
      "/tmp/ipykernel_117496/2701487849.py:17: FutureWarning: YF.download() has changed argument auto_adjust default to True\n",
      "  df = yf.download(ticker, start=start_date, end=end_date)\n",
      "[*********************100%***********************]  1 of 1 completed\n"
     ]
    },
    {
     "name": "stdout",
     "output_type": "stream",
     "text": [
      "   ✅ Saved to data/sp500/BXP.csv\n",
      "[79/503] ⬇️ Downloading CHRW...\n"
     ]
    },
    {
     "name": "stderr",
     "output_type": "stream",
     "text": [
      "/tmp/ipykernel_117496/2701487849.py:17: FutureWarning: YF.download() has changed argument auto_adjust default to True\n",
      "  df = yf.download(ticker, start=start_date, end=end_date)\n",
      "[*********************100%***********************]  1 of 1 completed\n"
     ]
    },
    {
     "name": "stdout",
     "output_type": "stream",
     "text": [
      "   ✅ Saved to data/sp500/CHRW.csv\n",
      "[80/503] ⬇️ Downloading CDNS...\n"
     ]
    },
    {
     "name": "stderr",
     "output_type": "stream",
     "text": [
      "/tmp/ipykernel_117496/2701487849.py:17: FutureWarning: YF.download() has changed argument auto_adjust default to True\n",
      "  df = yf.download(ticker, start=start_date, end=end_date)\n",
      "[*********************100%***********************]  1 of 1 completed\n"
     ]
    },
    {
     "name": "stdout",
     "output_type": "stream",
     "text": [
      "   ✅ Saved to data/sp500/CDNS.csv\n",
      "[81/503] ⬇️ Downloading CZR...\n"
     ]
    },
    {
     "name": "stderr",
     "output_type": "stream",
     "text": [
      "/tmp/ipykernel_117496/2701487849.py:17: FutureWarning: YF.download() has changed argument auto_adjust default to True\n",
      "  df = yf.download(ticker, start=start_date, end=end_date)\n",
      "[*********************100%***********************]  1 of 1 completed\n"
     ]
    },
    {
     "name": "stdout",
     "output_type": "stream",
     "text": [
      "   ✅ Saved to data/sp500/CZR.csv\n",
      "[82/503] ⬇️ Downloading CPT...\n"
     ]
    },
    {
     "name": "stderr",
     "output_type": "stream",
     "text": [
      "/tmp/ipykernel_117496/2701487849.py:17: FutureWarning: YF.download() has changed argument auto_adjust default to True\n",
      "  df = yf.download(ticker, start=start_date, end=end_date)\n",
      "[*********************100%***********************]  1 of 1 completed\n"
     ]
    },
    {
     "name": "stdout",
     "output_type": "stream",
     "text": [
      "   ✅ Saved to data/sp500/CPT.csv\n",
      "[83/503] ⬇️ Downloading CPB...\n"
     ]
    },
    {
     "name": "stderr",
     "output_type": "stream",
     "text": [
      "/tmp/ipykernel_117496/2701487849.py:17: FutureWarning: YF.download() has changed argument auto_adjust default to True\n",
      "  df = yf.download(ticker, start=start_date, end=end_date)\n",
      "[*********************100%***********************]  1 of 1 completed\n"
     ]
    },
    {
     "name": "stdout",
     "output_type": "stream",
     "text": [
      "   ✅ Saved to data/sp500/CPB.csv\n",
      "[84/503] ⬇️ Downloading COF...\n"
     ]
    },
    {
     "name": "stderr",
     "output_type": "stream",
     "text": [
      "/tmp/ipykernel_117496/2701487849.py:17: FutureWarning: YF.download() has changed argument auto_adjust default to True\n",
      "  df = yf.download(ticker, start=start_date, end=end_date)\n",
      "[*********************100%***********************]  1 of 1 completed\n"
     ]
    },
    {
     "name": "stdout",
     "output_type": "stream",
     "text": [
      "   ✅ Saved to data/sp500/COF.csv\n",
      "[85/503] ⬇️ Downloading CAH...\n"
     ]
    },
    {
     "name": "stderr",
     "output_type": "stream",
     "text": [
      "/tmp/ipykernel_117496/2701487849.py:17: FutureWarning: YF.download() has changed argument auto_adjust default to True\n",
      "  df = yf.download(ticker, start=start_date, end=end_date)\n",
      "[*********************100%***********************]  1 of 1 completed\n"
     ]
    },
    {
     "name": "stdout",
     "output_type": "stream",
     "text": [
      "   ✅ Saved to data/sp500/CAH.csv\n",
      "[86/503] ⬇️ Downloading KMX...\n"
     ]
    },
    {
     "name": "stderr",
     "output_type": "stream",
     "text": [
      "/tmp/ipykernel_117496/2701487849.py:17: FutureWarning: YF.download() has changed argument auto_adjust default to True\n",
      "  df = yf.download(ticker, start=start_date, end=end_date)\n",
      "[*********************100%***********************]  1 of 1 completed\n"
     ]
    },
    {
     "name": "stdout",
     "output_type": "stream",
     "text": [
      "   ✅ Saved to data/sp500/KMX.csv\n",
      "[87/503] ⬇️ Downloading CCL...\n"
     ]
    },
    {
     "name": "stderr",
     "output_type": "stream",
     "text": [
      "/tmp/ipykernel_117496/2701487849.py:17: FutureWarning: YF.download() has changed argument auto_adjust default to True\n",
      "  df = yf.download(ticker, start=start_date, end=end_date)\n",
      "[*********************100%***********************]  1 of 1 completed\n"
     ]
    },
    {
     "name": "stdout",
     "output_type": "stream",
     "text": [
      "   ✅ Saved to data/sp500/CCL.csv\n",
      "[88/503] ⬇️ Downloading CARR...\n"
     ]
    },
    {
     "name": "stderr",
     "output_type": "stream",
     "text": [
      "/tmp/ipykernel_117496/2701487849.py:17: FutureWarning: YF.download() has changed argument auto_adjust default to True\n",
      "  df = yf.download(ticker, start=start_date, end=end_date)\n",
      "[*********************100%***********************]  1 of 1 completed\n"
     ]
    },
    {
     "name": "stdout",
     "output_type": "stream",
     "text": [
      "   ✅ Saved to data/sp500/CARR.csv\n",
      "[89/503] ⬇️ Downloading CAT...\n"
     ]
    },
    {
     "name": "stderr",
     "output_type": "stream",
     "text": [
      "/tmp/ipykernel_117496/2701487849.py:17: FutureWarning: YF.download() has changed argument auto_adjust default to True\n",
      "  df = yf.download(ticker, start=start_date, end=end_date)\n",
      "[*********************100%***********************]  1 of 1 completed\n"
     ]
    },
    {
     "name": "stdout",
     "output_type": "stream",
     "text": [
      "   ✅ Saved to data/sp500/CAT.csv\n",
      "[90/503] ⬇️ Downloading CBOE...\n"
     ]
    },
    {
     "name": "stderr",
     "output_type": "stream",
     "text": [
      "/tmp/ipykernel_117496/2701487849.py:17: FutureWarning: YF.download() has changed argument auto_adjust default to True\n",
      "  df = yf.download(ticker, start=start_date, end=end_date)\n",
      "[*********************100%***********************]  1 of 1 completed\n"
     ]
    },
    {
     "name": "stdout",
     "output_type": "stream",
     "text": [
      "   ✅ Saved to data/sp500/CBOE.csv\n",
      "[91/503] ⬇️ Downloading CBRE...\n"
     ]
    },
    {
     "name": "stderr",
     "output_type": "stream",
     "text": [
      "/tmp/ipykernel_117496/2701487849.py:17: FutureWarning: YF.download() has changed argument auto_adjust default to True\n",
      "  df = yf.download(ticker, start=start_date, end=end_date)\n",
      "[*********************100%***********************]  1 of 1 completed\n"
     ]
    },
    {
     "name": "stdout",
     "output_type": "stream",
     "text": [
      "   ✅ Saved to data/sp500/CBRE.csv\n",
      "[92/503] ⬇️ Downloading CDW...\n"
     ]
    },
    {
     "name": "stderr",
     "output_type": "stream",
     "text": [
      "/tmp/ipykernel_117496/2701487849.py:17: FutureWarning: YF.download() has changed argument auto_adjust default to True\n",
      "  df = yf.download(ticker, start=start_date, end=end_date)\n",
      "[*********************100%***********************]  1 of 1 completed\n"
     ]
    },
    {
     "name": "stdout",
     "output_type": "stream",
     "text": [
      "   ✅ Saved to data/sp500/CDW.csv\n",
      "[93/503] ⬇️ Downloading COR...\n"
     ]
    },
    {
     "name": "stderr",
     "output_type": "stream",
     "text": [
      "/tmp/ipykernel_117496/2701487849.py:17: FutureWarning: YF.download() has changed argument auto_adjust default to True\n",
      "  df = yf.download(ticker, start=start_date, end=end_date)\n",
      "[*********************100%***********************]  1 of 1 completed\n"
     ]
    },
    {
     "name": "stdout",
     "output_type": "stream",
     "text": [
      "   ✅ Saved to data/sp500/COR.csv\n",
      "[94/503] ⬇️ Downloading CNC...\n"
     ]
    },
    {
     "name": "stderr",
     "output_type": "stream",
     "text": [
      "/tmp/ipykernel_117496/2701487849.py:17: FutureWarning: YF.download() has changed argument auto_adjust default to True\n",
      "  df = yf.download(ticker, start=start_date, end=end_date)\n",
      "[*********************100%***********************]  1 of 1 completed\n"
     ]
    },
    {
     "name": "stdout",
     "output_type": "stream",
     "text": [
      "   ✅ Saved to data/sp500/CNC.csv\n",
      "[95/503] ⬇️ Downloading CNP...\n"
     ]
    },
    {
     "name": "stderr",
     "output_type": "stream",
     "text": [
      "/tmp/ipykernel_117496/2701487849.py:17: FutureWarning: YF.download() has changed argument auto_adjust default to True\n",
      "  df = yf.download(ticker, start=start_date, end=end_date)\n",
      "[*********************100%***********************]  1 of 1 completed\n"
     ]
    },
    {
     "name": "stdout",
     "output_type": "stream",
     "text": [
      "   ✅ Saved to data/sp500/CNP.csv\n",
      "[96/503] ⬇️ Downloading CF...\n"
     ]
    },
    {
     "name": "stderr",
     "output_type": "stream",
     "text": [
      "/tmp/ipykernel_117496/2701487849.py:17: FutureWarning: YF.download() has changed argument auto_adjust default to True\n",
      "  df = yf.download(ticker, start=start_date, end=end_date)\n",
      "[*********************100%***********************]  1 of 1 completed\n"
     ]
    },
    {
     "name": "stdout",
     "output_type": "stream",
     "text": [
      "   ✅ Saved to data/sp500/CF.csv\n",
      "[97/503] ⬇️ Downloading CRL...\n"
     ]
    },
    {
     "name": "stderr",
     "output_type": "stream",
     "text": [
      "/tmp/ipykernel_117496/2701487849.py:17: FutureWarning: YF.download() has changed argument auto_adjust default to True\n",
      "  df = yf.download(ticker, start=start_date, end=end_date)\n",
      "[*********************100%***********************]  1 of 1 completed\n"
     ]
    },
    {
     "name": "stdout",
     "output_type": "stream",
     "text": [
      "   ✅ Saved to data/sp500/CRL.csv\n",
      "[98/503] ⬇️ Downloading SCHW...\n"
     ]
    },
    {
     "name": "stderr",
     "output_type": "stream",
     "text": [
      "/tmp/ipykernel_117496/2701487849.py:17: FutureWarning: YF.download() has changed argument auto_adjust default to True\n",
      "  df = yf.download(ticker, start=start_date, end=end_date)\n",
      "[*********************100%***********************]  1 of 1 completed\n"
     ]
    },
    {
     "name": "stdout",
     "output_type": "stream",
     "text": [
      "   ✅ Saved to data/sp500/SCHW.csv\n",
      "[99/503] ⬇️ Downloading CHTR...\n"
     ]
    },
    {
     "name": "stderr",
     "output_type": "stream",
     "text": [
      "/tmp/ipykernel_117496/2701487849.py:17: FutureWarning: YF.download() has changed argument auto_adjust default to True\n",
      "  df = yf.download(ticker, start=start_date, end=end_date)\n",
      "[*********************100%***********************]  1 of 1 completed\n"
     ]
    },
    {
     "name": "stdout",
     "output_type": "stream",
     "text": [
      "   ✅ Saved to data/sp500/CHTR.csv\n",
      "[100/503] ⬇️ Downloading CVX...\n"
     ]
    },
    {
     "name": "stderr",
     "output_type": "stream",
     "text": [
      "/tmp/ipykernel_117496/2701487849.py:17: FutureWarning: YF.download() has changed argument auto_adjust default to True\n",
      "  df = yf.download(ticker, start=start_date, end=end_date)\n",
      "[*********************100%***********************]  1 of 1 completed\n"
     ]
    },
    {
     "name": "stdout",
     "output_type": "stream",
     "text": [
      "   ✅ Saved to data/sp500/CVX.csv\n",
      "[101/503] ⬇️ Downloading CMG...\n"
     ]
    },
    {
     "name": "stderr",
     "output_type": "stream",
     "text": [
      "/tmp/ipykernel_117496/2701487849.py:17: FutureWarning: YF.download() has changed argument auto_adjust default to True\n",
      "  df = yf.download(ticker, start=start_date, end=end_date)\n",
      "[*********************100%***********************]  1 of 1 completed\n"
     ]
    },
    {
     "name": "stdout",
     "output_type": "stream",
     "text": [
      "   ✅ Saved to data/sp500/CMG.csv\n",
      "[102/503] ⬇️ Downloading CB...\n"
     ]
    },
    {
     "name": "stderr",
     "output_type": "stream",
     "text": [
      "/tmp/ipykernel_117496/2701487849.py:17: FutureWarning: YF.download() has changed argument auto_adjust default to True\n",
      "  df = yf.download(ticker, start=start_date, end=end_date)\n",
      "[*********************100%***********************]  1 of 1 completed\n"
     ]
    },
    {
     "name": "stdout",
     "output_type": "stream",
     "text": [
      "   ✅ Saved to data/sp500/CB.csv\n",
      "[103/503] ⬇️ Downloading CHD...\n"
     ]
    },
    {
     "name": "stderr",
     "output_type": "stream",
     "text": [
      "/tmp/ipykernel_117496/2701487849.py:17: FutureWarning: YF.download() has changed argument auto_adjust default to True\n",
      "  df = yf.download(ticker, start=start_date, end=end_date)\n",
      "[*********************100%***********************]  1 of 1 completed\n"
     ]
    },
    {
     "name": "stdout",
     "output_type": "stream",
     "text": [
      "   ✅ Saved to data/sp500/CHD.csv\n",
      "[104/503] ⬇️ Downloading CI...\n"
     ]
    },
    {
     "name": "stderr",
     "output_type": "stream",
     "text": [
      "/tmp/ipykernel_117496/2701487849.py:17: FutureWarning: YF.download() has changed argument auto_adjust default to True\n",
      "  df = yf.download(ticker, start=start_date, end=end_date)\n",
      "[*********************100%***********************]  1 of 1 completed\n"
     ]
    },
    {
     "name": "stdout",
     "output_type": "stream",
     "text": [
      "   ✅ Saved to data/sp500/CI.csv\n",
      "[105/503] ⬇️ Downloading CINF...\n"
     ]
    },
    {
     "name": "stderr",
     "output_type": "stream",
     "text": [
      "/tmp/ipykernel_117496/2701487849.py:17: FutureWarning: YF.download() has changed argument auto_adjust default to True\n",
      "  df = yf.download(ticker, start=start_date, end=end_date)\n",
      "[*********************100%***********************]  1 of 1 completed\n"
     ]
    },
    {
     "name": "stdout",
     "output_type": "stream",
     "text": [
      "   ✅ Saved to data/sp500/CINF.csv\n",
      "[106/503] ⬇️ Downloading CTAS...\n"
     ]
    },
    {
     "name": "stderr",
     "output_type": "stream",
     "text": [
      "/tmp/ipykernel_117496/2701487849.py:17: FutureWarning: YF.download() has changed argument auto_adjust default to True\n",
      "  df = yf.download(ticker, start=start_date, end=end_date)\n",
      "[*********************100%***********************]  1 of 1 completed\n"
     ]
    },
    {
     "name": "stdout",
     "output_type": "stream",
     "text": [
      "   ✅ Saved to data/sp500/CTAS.csv\n",
      "[107/503] ⬇️ Downloading CSCO...\n"
     ]
    },
    {
     "name": "stderr",
     "output_type": "stream",
     "text": [
      "/tmp/ipykernel_117496/2701487849.py:17: FutureWarning: YF.download() has changed argument auto_adjust default to True\n",
      "  df = yf.download(ticker, start=start_date, end=end_date)\n",
      "[*********************100%***********************]  1 of 1 completed\n"
     ]
    },
    {
     "name": "stdout",
     "output_type": "stream",
     "text": [
      "   ✅ Saved to data/sp500/CSCO.csv\n",
      "[108/503] ⬇️ Downloading C...\n"
     ]
    },
    {
     "name": "stderr",
     "output_type": "stream",
     "text": [
      "/tmp/ipykernel_117496/2701487849.py:17: FutureWarning: YF.download() has changed argument auto_adjust default to True\n",
      "  df = yf.download(ticker, start=start_date, end=end_date)\n",
      "[*********************100%***********************]  1 of 1 completed\n"
     ]
    },
    {
     "name": "stdout",
     "output_type": "stream",
     "text": [
      "   ✅ Saved to data/sp500/C.csv\n",
      "[109/503] ⬇️ Downloading CFG...\n"
     ]
    },
    {
     "name": "stderr",
     "output_type": "stream",
     "text": [
      "/tmp/ipykernel_117496/2701487849.py:17: FutureWarning: YF.download() has changed argument auto_adjust default to True\n",
      "  df = yf.download(ticker, start=start_date, end=end_date)\n",
      "[*********************100%***********************]  1 of 1 completed\n"
     ]
    },
    {
     "name": "stdout",
     "output_type": "stream",
     "text": [
      "   ✅ Saved to data/sp500/CFG.csv\n",
      "[110/503] ⬇️ Downloading CLX...\n"
     ]
    },
    {
     "name": "stderr",
     "output_type": "stream",
     "text": [
      "/tmp/ipykernel_117496/2701487849.py:17: FutureWarning: YF.download() has changed argument auto_adjust default to True\n",
      "  df = yf.download(ticker, start=start_date, end=end_date)\n",
      "[*********************100%***********************]  1 of 1 completed\n"
     ]
    },
    {
     "name": "stdout",
     "output_type": "stream",
     "text": [
      "   ✅ Saved to data/sp500/CLX.csv\n",
      "[111/503] ⬇️ Downloading CME...\n"
     ]
    },
    {
     "name": "stderr",
     "output_type": "stream",
     "text": [
      "/tmp/ipykernel_117496/2701487849.py:17: FutureWarning: YF.download() has changed argument auto_adjust default to True\n",
      "  df = yf.download(ticker, start=start_date, end=end_date)\n",
      "[*********************100%***********************]  1 of 1 completed\n"
     ]
    },
    {
     "name": "stdout",
     "output_type": "stream",
     "text": [
      "   ✅ Saved to data/sp500/CME.csv\n",
      "[112/503] ⬇️ Downloading CMS...\n"
     ]
    },
    {
     "name": "stderr",
     "output_type": "stream",
     "text": [
      "/tmp/ipykernel_117496/2701487849.py:17: FutureWarning: YF.download() has changed argument auto_adjust default to True\n",
      "  df = yf.download(ticker, start=start_date, end=end_date)\n",
      "[*********************100%***********************]  1 of 1 completed\n"
     ]
    },
    {
     "name": "stdout",
     "output_type": "stream",
     "text": [
      "   ✅ Saved to data/sp500/CMS.csv\n",
      "[113/503] ⬇️ Downloading KO...\n"
     ]
    },
    {
     "name": "stderr",
     "output_type": "stream",
     "text": [
      "/tmp/ipykernel_117496/2701487849.py:17: FutureWarning: YF.download() has changed argument auto_adjust default to True\n",
      "  df = yf.download(ticker, start=start_date, end=end_date)\n",
      "[*********************100%***********************]  1 of 1 completed\n"
     ]
    },
    {
     "name": "stdout",
     "output_type": "stream",
     "text": [
      "   ✅ Saved to data/sp500/KO.csv\n",
      "[114/503] ⬇️ Downloading CTSH...\n"
     ]
    },
    {
     "name": "stderr",
     "output_type": "stream",
     "text": [
      "/tmp/ipykernel_117496/2701487849.py:17: FutureWarning: YF.download() has changed argument auto_adjust default to True\n",
      "  df = yf.download(ticker, start=start_date, end=end_date)\n",
      "[*********************100%***********************]  1 of 1 completed\n"
     ]
    },
    {
     "name": "stdout",
     "output_type": "stream",
     "text": [
      "   ✅ Saved to data/sp500/CTSH.csv\n",
      "[115/503] ⬇️ Downloading COIN...\n"
     ]
    },
    {
     "name": "stderr",
     "output_type": "stream",
     "text": [
      "/tmp/ipykernel_117496/2701487849.py:17: FutureWarning: YF.download() has changed argument auto_adjust default to True\n",
      "  df = yf.download(ticker, start=start_date, end=end_date)\n",
      "[*********************100%***********************]  1 of 1 completed\n"
     ]
    },
    {
     "name": "stdout",
     "output_type": "stream",
     "text": [
      "   ✅ Saved to data/sp500/COIN.csv\n",
      "[116/503] ⬇️ Downloading CL...\n"
     ]
    },
    {
     "name": "stderr",
     "output_type": "stream",
     "text": [
      "/tmp/ipykernel_117496/2701487849.py:17: FutureWarning: YF.download() has changed argument auto_adjust default to True\n",
      "  df = yf.download(ticker, start=start_date, end=end_date)\n",
      "[*********************100%***********************]  1 of 1 completed\n"
     ]
    },
    {
     "name": "stdout",
     "output_type": "stream",
     "text": [
      "   ✅ Saved to data/sp500/CL.csv\n",
      "[117/503] ⬇️ Downloading CMCSA...\n"
     ]
    },
    {
     "name": "stderr",
     "output_type": "stream",
     "text": [
      "/tmp/ipykernel_117496/2701487849.py:17: FutureWarning: YF.download() has changed argument auto_adjust default to True\n",
      "  df = yf.download(ticker, start=start_date, end=end_date)\n",
      "[*********************100%***********************]  1 of 1 completed\n"
     ]
    },
    {
     "name": "stdout",
     "output_type": "stream",
     "text": [
      "   ✅ Saved to data/sp500/CMCSA.csv\n",
      "[118/503] ⬇️ Downloading CAG...\n"
     ]
    },
    {
     "name": "stderr",
     "output_type": "stream",
     "text": [
      "/tmp/ipykernel_117496/2701487849.py:17: FutureWarning: YF.download() has changed argument auto_adjust default to True\n",
      "  df = yf.download(ticker, start=start_date, end=end_date)\n",
      "[*********************100%***********************]  1 of 1 completed\n"
     ]
    },
    {
     "name": "stdout",
     "output_type": "stream",
     "text": [
      "   ✅ Saved to data/sp500/CAG.csv\n",
      "[119/503] ⬇️ Downloading COP...\n"
     ]
    },
    {
     "name": "stderr",
     "output_type": "stream",
     "text": [
      "/tmp/ipykernel_117496/2701487849.py:17: FutureWarning: YF.download() has changed argument auto_adjust default to True\n",
      "  df = yf.download(ticker, start=start_date, end=end_date)\n",
      "[*********************100%***********************]  1 of 1 completed\n"
     ]
    },
    {
     "name": "stdout",
     "output_type": "stream",
     "text": [
      "   ✅ Saved to data/sp500/COP.csv\n",
      "[120/503] ⬇️ Downloading ED...\n"
     ]
    },
    {
     "name": "stderr",
     "output_type": "stream",
     "text": [
      "/tmp/ipykernel_117496/2701487849.py:17: FutureWarning: YF.download() has changed argument auto_adjust default to True\n",
      "  df = yf.download(ticker, start=start_date, end=end_date)\n",
      "[*********************100%***********************]  1 of 1 completed\n"
     ]
    },
    {
     "name": "stdout",
     "output_type": "stream",
     "text": [
      "   ✅ Saved to data/sp500/ED.csv\n",
      "[121/503] ⬇️ Downloading STZ...\n"
     ]
    },
    {
     "name": "stderr",
     "output_type": "stream",
     "text": [
      "/tmp/ipykernel_117496/2701487849.py:17: FutureWarning: YF.download() has changed argument auto_adjust default to True\n",
      "  df = yf.download(ticker, start=start_date, end=end_date)\n",
      "[*********************100%***********************]  1 of 1 completed\n"
     ]
    },
    {
     "name": "stdout",
     "output_type": "stream",
     "text": [
      "   ✅ Saved to data/sp500/STZ.csv\n",
      "[122/503] ⬇️ Downloading CEG...\n"
     ]
    },
    {
     "name": "stderr",
     "output_type": "stream",
     "text": [
      "/tmp/ipykernel_117496/2701487849.py:17: FutureWarning: YF.download() has changed argument auto_adjust default to True\n",
      "  df = yf.download(ticker, start=start_date, end=end_date)\n",
      "[*********************100%***********************]  1 of 1 completed\n"
     ]
    },
    {
     "name": "stdout",
     "output_type": "stream",
     "text": [
      "   ✅ Saved to data/sp500/CEG.csv\n",
      "[123/503] ⬇️ Downloading COO...\n"
     ]
    },
    {
     "name": "stderr",
     "output_type": "stream",
     "text": [
      "/tmp/ipykernel_117496/2701487849.py:17: FutureWarning: YF.download() has changed argument auto_adjust default to True\n",
      "  df = yf.download(ticker, start=start_date, end=end_date)\n",
      "[*********************100%***********************]  1 of 1 completed\n"
     ]
    },
    {
     "name": "stdout",
     "output_type": "stream",
     "text": [
      "   ✅ Saved to data/sp500/COO.csv\n",
      "[124/503] ⬇️ Downloading CPRT...\n"
     ]
    },
    {
     "name": "stderr",
     "output_type": "stream",
     "text": [
      "/tmp/ipykernel_117496/2701487849.py:17: FutureWarning: YF.download() has changed argument auto_adjust default to True\n",
      "  df = yf.download(ticker, start=start_date, end=end_date)\n",
      "[*********************100%***********************]  1 of 1 completed\n"
     ]
    },
    {
     "name": "stdout",
     "output_type": "stream",
     "text": [
      "   ✅ Saved to data/sp500/CPRT.csv\n",
      "[125/503] ⬇️ Downloading GLW...\n"
     ]
    },
    {
     "name": "stderr",
     "output_type": "stream",
     "text": [
      "/tmp/ipykernel_117496/2701487849.py:17: FutureWarning: YF.download() has changed argument auto_adjust default to True\n",
      "  df = yf.download(ticker, start=start_date, end=end_date)\n",
      "[*********************100%***********************]  1 of 1 completed\n"
     ]
    },
    {
     "name": "stdout",
     "output_type": "stream",
     "text": [
      "   ✅ Saved to data/sp500/GLW.csv\n",
      "[126/503] ⬇️ Downloading CPAY...\n"
     ]
    },
    {
     "name": "stderr",
     "output_type": "stream",
     "text": [
      "/tmp/ipykernel_117496/2701487849.py:17: FutureWarning: YF.download() has changed argument auto_adjust default to True\n",
      "  df = yf.download(ticker, start=start_date, end=end_date)\n",
      "[*********************100%***********************]  1 of 1 completed\n"
     ]
    },
    {
     "name": "stdout",
     "output_type": "stream",
     "text": [
      "   ✅ Saved to data/sp500/CPAY.csv\n",
      "[127/503] ⬇️ Downloading CTVA...\n"
     ]
    },
    {
     "name": "stderr",
     "output_type": "stream",
     "text": [
      "/tmp/ipykernel_117496/2701487849.py:17: FutureWarning: YF.download() has changed argument auto_adjust default to True\n",
      "  df = yf.download(ticker, start=start_date, end=end_date)\n",
      "[*********************100%***********************]  1 of 1 completed\n"
     ]
    },
    {
     "name": "stdout",
     "output_type": "stream",
     "text": [
      "   ✅ Saved to data/sp500/CTVA.csv\n",
      "[128/503] ⬇️ Downloading CSGP...\n"
     ]
    },
    {
     "name": "stderr",
     "output_type": "stream",
     "text": [
      "/tmp/ipykernel_117496/2701487849.py:17: FutureWarning: YF.download() has changed argument auto_adjust default to True\n",
      "  df = yf.download(ticker, start=start_date, end=end_date)\n",
      "[*********************100%***********************]  1 of 1 completed\n"
     ]
    },
    {
     "name": "stdout",
     "output_type": "stream",
     "text": [
      "   ✅ Saved to data/sp500/CSGP.csv\n",
      "[129/503] ⬇️ Downloading COST...\n"
     ]
    },
    {
     "name": "stderr",
     "output_type": "stream",
     "text": [
      "/tmp/ipykernel_117496/2701487849.py:17: FutureWarning: YF.download() has changed argument auto_adjust default to True\n",
      "  df = yf.download(ticker, start=start_date, end=end_date)\n",
      "[*********************100%***********************]  1 of 1 completed\n"
     ]
    },
    {
     "name": "stdout",
     "output_type": "stream",
     "text": [
      "   ✅ Saved to data/sp500/COST.csv\n",
      "[130/503] ⬇️ Downloading CTRA...\n"
     ]
    },
    {
     "name": "stderr",
     "output_type": "stream",
     "text": [
      "/tmp/ipykernel_117496/2701487849.py:17: FutureWarning: YF.download() has changed argument auto_adjust default to True\n",
      "  df = yf.download(ticker, start=start_date, end=end_date)\n",
      "[*********************100%***********************]  1 of 1 completed\n"
     ]
    },
    {
     "name": "stdout",
     "output_type": "stream",
     "text": [
      "   ✅ Saved to data/sp500/CTRA.csv\n",
      "[131/503] ⬇️ Downloading CRWD...\n"
     ]
    },
    {
     "name": "stderr",
     "output_type": "stream",
     "text": [
      "/tmp/ipykernel_117496/2701487849.py:17: FutureWarning: YF.download() has changed argument auto_adjust default to True\n",
      "  df = yf.download(ticker, start=start_date, end=end_date)\n",
      "[*********************100%***********************]  1 of 1 completed\n"
     ]
    },
    {
     "name": "stdout",
     "output_type": "stream",
     "text": [
      "   ✅ Saved to data/sp500/CRWD.csv\n",
      "[132/503] ⬇️ Downloading CCI...\n"
     ]
    },
    {
     "name": "stderr",
     "output_type": "stream",
     "text": [
      "/tmp/ipykernel_117496/2701487849.py:17: FutureWarning: YF.download() has changed argument auto_adjust default to True\n",
      "  df = yf.download(ticker, start=start_date, end=end_date)\n",
      "[*********************100%***********************]  1 of 1 completed\n"
     ]
    },
    {
     "name": "stdout",
     "output_type": "stream",
     "text": [
      "   ✅ Saved to data/sp500/CCI.csv\n",
      "[133/503] ⬇️ Downloading CSX...\n"
     ]
    },
    {
     "name": "stderr",
     "output_type": "stream",
     "text": [
      "/tmp/ipykernel_117496/2701487849.py:17: FutureWarning: YF.download() has changed argument auto_adjust default to True\n",
      "  df = yf.download(ticker, start=start_date, end=end_date)\n",
      "[*********************100%***********************]  1 of 1 completed\n"
     ]
    },
    {
     "name": "stdout",
     "output_type": "stream",
     "text": [
      "   ✅ Saved to data/sp500/CSX.csv\n",
      "[134/503] ⬇️ Downloading CMI...\n"
     ]
    },
    {
     "name": "stderr",
     "output_type": "stream",
     "text": [
      "/tmp/ipykernel_117496/2701487849.py:17: FutureWarning: YF.download() has changed argument auto_adjust default to True\n",
      "  df = yf.download(ticker, start=start_date, end=end_date)\n",
      "[*********************100%***********************]  1 of 1 completed\n"
     ]
    },
    {
     "name": "stdout",
     "output_type": "stream",
     "text": [
      "   ✅ Saved to data/sp500/CMI.csv\n",
      "[135/503] ⬇️ Downloading CVS...\n"
     ]
    },
    {
     "name": "stderr",
     "output_type": "stream",
     "text": [
      "/tmp/ipykernel_117496/2701487849.py:17: FutureWarning: YF.download() has changed argument auto_adjust default to True\n",
      "  df = yf.download(ticker, start=start_date, end=end_date)\n",
      "[*********************100%***********************]  1 of 1 completed\n"
     ]
    },
    {
     "name": "stdout",
     "output_type": "stream",
     "text": [
      "   ✅ Saved to data/sp500/CVS.csv\n",
      "[136/503] ⬇️ Downloading DHR...\n"
     ]
    },
    {
     "name": "stderr",
     "output_type": "stream",
     "text": [
      "/tmp/ipykernel_117496/2701487849.py:17: FutureWarning: YF.download() has changed argument auto_adjust default to True\n",
      "  df = yf.download(ticker, start=start_date, end=end_date)\n",
      "[*********************100%***********************]  1 of 1 completed\n"
     ]
    },
    {
     "name": "stdout",
     "output_type": "stream",
     "text": [
      "   ✅ Saved to data/sp500/DHR.csv\n",
      "[137/503] ⬇️ Downloading DRI...\n"
     ]
    },
    {
     "name": "stderr",
     "output_type": "stream",
     "text": [
      "/tmp/ipykernel_117496/2701487849.py:17: FutureWarning: YF.download() has changed argument auto_adjust default to True\n",
      "  df = yf.download(ticker, start=start_date, end=end_date)\n",
      "[*********************100%***********************]  1 of 1 completed\n"
     ]
    },
    {
     "name": "stdout",
     "output_type": "stream",
     "text": [
      "   ✅ Saved to data/sp500/DRI.csv\n",
      "[138/503] ⬇️ Downloading DDOG...\n"
     ]
    },
    {
     "name": "stderr",
     "output_type": "stream",
     "text": [
      "/tmp/ipykernel_117496/2701487849.py:17: FutureWarning: YF.download() has changed argument auto_adjust default to True\n",
      "  df = yf.download(ticker, start=start_date, end=end_date)\n",
      "[*********************100%***********************]  1 of 1 completed\n"
     ]
    },
    {
     "name": "stdout",
     "output_type": "stream",
     "text": [
      "   ✅ Saved to data/sp500/DDOG.csv\n",
      "[139/503] ⬇️ Downloading DVA...\n"
     ]
    },
    {
     "name": "stderr",
     "output_type": "stream",
     "text": [
      "/tmp/ipykernel_117496/2701487849.py:17: FutureWarning: YF.download() has changed argument auto_adjust default to True\n",
      "  df = yf.download(ticker, start=start_date, end=end_date)\n",
      "[*********************100%***********************]  1 of 1 completed\n"
     ]
    },
    {
     "name": "stdout",
     "output_type": "stream",
     "text": [
      "   ✅ Saved to data/sp500/DVA.csv\n",
      "[140/503] ⬇️ Downloading DAY...\n"
     ]
    },
    {
     "name": "stderr",
     "output_type": "stream",
     "text": [
      "/tmp/ipykernel_117496/2701487849.py:17: FutureWarning: YF.download() has changed argument auto_adjust default to True\n",
      "  df = yf.download(ticker, start=start_date, end=end_date)\n",
      "[*********************100%***********************]  1 of 1 completed\n"
     ]
    },
    {
     "name": "stdout",
     "output_type": "stream",
     "text": [
      "   ✅ Saved to data/sp500/DAY.csv\n",
      "[141/503] ⬇️ Downloading DECK...\n"
     ]
    },
    {
     "name": "stderr",
     "output_type": "stream",
     "text": [
      "/tmp/ipykernel_117496/2701487849.py:17: FutureWarning: YF.download() has changed argument auto_adjust default to True\n",
      "  df = yf.download(ticker, start=start_date, end=end_date)\n",
      "[*********************100%***********************]  1 of 1 completed\n"
     ]
    },
    {
     "name": "stdout",
     "output_type": "stream",
     "text": [
      "   ✅ Saved to data/sp500/DECK.csv\n",
      "[142/503] ⬇️ Downloading DE...\n"
     ]
    },
    {
     "name": "stderr",
     "output_type": "stream",
     "text": [
      "/tmp/ipykernel_117496/2701487849.py:17: FutureWarning: YF.download() has changed argument auto_adjust default to True\n",
      "  df = yf.download(ticker, start=start_date, end=end_date)\n",
      "[*********************100%***********************]  1 of 1 completed\n"
     ]
    },
    {
     "name": "stdout",
     "output_type": "stream",
     "text": [
      "   ✅ Saved to data/sp500/DE.csv\n",
      "[143/503] ⬇️ Downloading DELL...\n"
     ]
    },
    {
     "name": "stderr",
     "output_type": "stream",
     "text": [
      "/tmp/ipykernel_117496/2701487849.py:17: FutureWarning: YF.download() has changed argument auto_adjust default to True\n",
      "  df = yf.download(ticker, start=start_date, end=end_date)\n",
      "[*********************100%***********************]  1 of 1 completed\n"
     ]
    },
    {
     "name": "stdout",
     "output_type": "stream",
     "text": [
      "   ✅ Saved to data/sp500/DELL.csv\n",
      "[144/503] ⬇️ Downloading DAL...\n"
     ]
    },
    {
     "name": "stderr",
     "output_type": "stream",
     "text": [
      "/tmp/ipykernel_117496/2701487849.py:17: FutureWarning: YF.download() has changed argument auto_adjust default to True\n",
      "  df = yf.download(ticker, start=start_date, end=end_date)\n",
      "[*********************100%***********************]  1 of 1 completed\n"
     ]
    },
    {
     "name": "stdout",
     "output_type": "stream",
     "text": [
      "   ✅ Saved to data/sp500/DAL.csv\n",
      "[145/503] ⬇️ Downloading DVN...\n"
     ]
    },
    {
     "name": "stderr",
     "output_type": "stream",
     "text": [
      "/tmp/ipykernel_117496/2701487849.py:17: FutureWarning: YF.download() has changed argument auto_adjust default to True\n",
      "  df = yf.download(ticker, start=start_date, end=end_date)\n",
      "[*********************100%***********************]  1 of 1 completed\n"
     ]
    },
    {
     "name": "stdout",
     "output_type": "stream",
     "text": [
      "   ✅ Saved to data/sp500/DVN.csv\n",
      "[146/503] ⬇️ Downloading DXCM...\n"
     ]
    },
    {
     "name": "stderr",
     "output_type": "stream",
     "text": [
      "/tmp/ipykernel_117496/2701487849.py:17: FutureWarning: YF.download() has changed argument auto_adjust default to True\n",
      "  df = yf.download(ticker, start=start_date, end=end_date)\n",
      "[*********************100%***********************]  1 of 1 completed\n"
     ]
    },
    {
     "name": "stdout",
     "output_type": "stream",
     "text": [
      "   ✅ Saved to data/sp500/DXCM.csv\n",
      "[147/503] ⬇️ Downloading FANG...\n"
     ]
    },
    {
     "name": "stderr",
     "output_type": "stream",
     "text": [
      "/tmp/ipykernel_117496/2701487849.py:17: FutureWarning: YF.download() has changed argument auto_adjust default to True\n",
      "  df = yf.download(ticker, start=start_date, end=end_date)\n",
      "[*********************100%***********************]  1 of 1 completed\n"
     ]
    },
    {
     "name": "stdout",
     "output_type": "stream",
     "text": [
      "   ✅ Saved to data/sp500/FANG.csv\n",
      "[148/503] ⬇️ Downloading DLR...\n"
     ]
    },
    {
     "name": "stderr",
     "output_type": "stream",
     "text": [
      "/tmp/ipykernel_117496/2701487849.py:17: FutureWarning: YF.download() has changed argument auto_adjust default to True\n",
      "  df = yf.download(ticker, start=start_date, end=end_date)\n",
      "[*********************100%***********************]  1 of 1 completed\n"
     ]
    },
    {
     "name": "stdout",
     "output_type": "stream",
     "text": [
      "   ✅ Saved to data/sp500/DLR.csv\n",
      "[149/503] ⬇️ Downloading DG...\n"
     ]
    },
    {
     "name": "stderr",
     "output_type": "stream",
     "text": [
      "/tmp/ipykernel_117496/2701487849.py:17: FutureWarning: YF.download() has changed argument auto_adjust default to True\n",
      "  df = yf.download(ticker, start=start_date, end=end_date)\n",
      "[*********************100%***********************]  1 of 1 completed\n"
     ]
    },
    {
     "name": "stdout",
     "output_type": "stream",
     "text": [
      "   ✅ Saved to data/sp500/DG.csv\n",
      "[150/503] ⬇️ Downloading DLTR...\n"
     ]
    },
    {
     "name": "stderr",
     "output_type": "stream",
     "text": [
      "/tmp/ipykernel_117496/2701487849.py:17: FutureWarning: YF.download() has changed argument auto_adjust default to True\n",
      "  df = yf.download(ticker, start=start_date, end=end_date)\n",
      "[*********************100%***********************]  1 of 1 completed\n"
     ]
    },
    {
     "name": "stdout",
     "output_type": "stream",
     "text": [
      "   ✅ Saved to data/sp500/DLTR.csv\n",
      "[151/503] ⬇️ Downloading D...\n"
     ]
    },
    {
     "name": "stderr",
     "output_type": "stream",
     "text": [
      "/tmp/ipykernel_117496/2701487849.py:17: FutureWarning: YF.download() has changed argument auto_adjust default to True\n",
      "  df = yf.download(ticker, start=start_date, end=end_date)\n",
      "[*********************100%***********************]  1 of 1 completed\n"
     ]
    },
    {
     "name": "stdout",
     "output_type": "stream",
     "text": [
      "   ✅ Saved to data/sp500/D.csv\n",
      "[152/503] ⬇️ Downloading DPZ...\n"
     ]
    },
    {
     "name": "stderr",
     "output_type": "stream",
     "text": [
      "/tmp/ipykernel_117496/2701487849.py:17: FutureWarning: YF.download() has changed argument auto_adjust default to True\n",
      "  df = yf.download(ticker, start=start_date, end=end_date)\n",
      "[*********************100%***********************]  1 of 1 completed\n"
     ]
    },
    {
     "name": "stdout",
     "output_type": "stream",
     "text": [
      "   ✅ Saved to data/sp500/DPZ.csv\n",
      "[153/503] ⬇️ Downloading DASH...\n"
     ]
    },
    {
     "name": "stderr",
     "output_type": "stream",
     "text": [
      "/tmp/ipykernel_117496/2701487849.py:17: FutureWarning: YF.download() has changed argument auto_adjust default to True\n",
      "  df = yf.download(ticker, start=start_date, end=end_date)\n",
      "[*********************100%***********************]  1 of 1 completed\n"
     ]
    },
    {
     "name": "stdout",
     "output_type": "stream",
     "text": [
      "   ✅ Saved to data/sp500/DASH.csv\n",
      "[154/503] ⬇️ Downloading DOV...\n"
     ]
    },
    {
     "name": "stderr",
     "output_type": "stream",
     "text": [
      "/tmp/ipykernel_117496/2701487849.py:17: FutureWarning: YF.download() has changed argument auto_adjust default to True\n",
      "  df = yf.download(ticker, start=start_date, end=end_date)\n",
      "[*********************100%***********************]  1 of 1 completed\n"
     ]
    },
    {
     "name": "stdout",
     "output_type": "stream",
     "text": [
      "   ✅ Saved to data/sp500/DOV.csv\n",
      "[155/503] ⬇️ Downloading DOW...\n"
     ]
    },
    {
     "name": "stderr",
     "output_type": "stream",
     "text": [
      "/tmp/ipykernel_117496/2701487849.py:17: FutureWarning: YF.download() has changed argument auto_adjust default to True\n",
      "  df = yf.download(ticker, start=start_date, end=end_date)\n",
      "[*********************100%***********************]  1 of 1 completed\n"
     ]
    },
    {
     "name": "stdout",
     "output_type": "stream",
     "text": [
      "   ✅ Saved to data/sp500/DOW.csv\n",
      "[156/503] ⬇️ Downloading DHI...\n"
     ]
    },
    {
     "name": "stderr",
     "output_type": "stream",
     "text": [
      "/tmp/ipykernel_117496/2701487849.py:17: FutureWarning: YF.download() has changed argument auto_adjust default to True\n",
      "  df = yf.download(ticker, start=start_date, end=end_date)\n",
      "[*********************100%***********************]  1 of 1 completed\n"
     ]
    },
    {
     "name": "stdout",
     "output_type": "stream",
     "text": [
      "   ✅ Saved to data/sp500/DHI.csv\n",
      "[157/503] ⬇️ Downloading DTE...\n"
     ]
    },
    {
     "name": "stderr",
     "output_type": "stream",
     "text": [
      "/tmp/ipykernel_117496/2701487849.py:17: FutureWarning: YF.download() has changed argument auto_adjust default to True\n",
      "  df = yf.download(ticker, start=start_date, end=end_date)\n",
      "[*********************100%***********************]  1 of 1 completed\n"
     ]
    },
    {
     "name": "stdout",
     "output_type": "stream",
     "text": [
      "   ✅ Saved to data/sp500/DTE.csv\n",
      "[158/503] ⬇️ Downloading DUK...\n"
     ]
    },
    {
     "name": "stderr",
     "output_type": "stream",
     "text": [
      "/tmp/ipykernel_117496/2701487849.py:17: FutureWarning: YF.download() has changed argument auto_adjust default to True\n",
      "  df = yf.download(ticker, start=start_date, end=end_date)\n",
      "[*********************100%***********************]  1 of 1 completed\n"
     ]
    },
    {
     "name": "stdout",
     "output_type": "stream",
     "text": [
      "   ✅ Saved to data/sp500/DUK.csv\n",
      "[159/503] ⬇️ Downloading DD...\n"
     ]
    },
    {
     "name": "stderr",
     "output_type": "stream",
     "text": [
      "/tmp/ipykernel_117496/2701487849.py:17: FutureWarning: YF.download() has changed argument auto_adjust default to True\n",
      "  df = yf.download(ticker, start=start_date, end=end_date)\n",
      "[*********************100%***********************]  1 of 1 completed\n"
     ]
    },
    {
     "name": "stdout",
     "output_type": "stream",
     "text": [
      "   ✅ Saved to data/sp500/DD.csv\n",
      "[160/503] ⬇️ Downloading EMN...\n"
     ]
    },
    {
     "name": "stderr",
     "output_type": "stream",
     "text": [
      "/tmp/ipykernel_117496/2701487849.py:17: FutureWarning: YF.download() has changed argument auto_adjust default to True\n",
      "  df = yf.download(ticker, start=start_date, end=end_date)\n",
      "[*********************100%***********************]  1 of 1 completed\n"
     ]
    },
    {
     "name": "stdout",
     "output_type": "stream",
     "text": [
      "   ✅ Saved to data/sp500/EMN.csv\n",
      "[161/503] ⬇️ Downloading ETN...\n"
     ]
    },
    {
     "name": "stderr",
     "output_type": "stream",
     "text": [
      "/tmp/ipykernel_117496/2701487849.py:17: FutureWarning: YF.download() has changed argument auto_adjust default to True\n",
      "  df = yf.download(ticker, start=start_date, end=end_date)\n",
      "[*********************100%***********************]  1 of 1 completed\n"
     ]
    },
    {
     "name": "stdout",
     "output_type": "stream",
     "text": [
      "   ✅ Saved to data/sp500/ETN.csv\n",
      "[162/503] ⬇️ Downloading EBAY...\n"
     ]
    },
    {
     "name": "stderr",
     "output_type": "stream",
     "text": [
      "/tmp/ipykernel_117496/2701487849.py:17: FutureWarning: YF.download() has changed argument auto_adjust default to True\n",
      "  df = yf.download(ticker, start=start_date, end=end_date)\n",
      "[*********************100%***********************]  1 of 1 completed\n"
     ]
    },
    {
     "name": "stdout",
     "output_type": "stream",
     "text": [
      "   ✅ Saved to data/sp500/EBAY.csv\n",
      "[163/503] ⬇️ Downloading ECL...\n"
     ]
    },
    {
     "name": "stderr",
     "output_type": "stream",
     "text": [
      "/tmp/ipykernel_117496/2701487849.py:17: FutureWarning: YF.download() has changed argument auto_adjust default to True\n",
      "  df = yf.download(ticker, start=start_date, end=end_date)\n",
      "[*********************100%***********************]  1 of 1 completed\n"
     ]
    },
    {
     "name": "stdout",
     "output_type": "stream",
     "text": [
      "   ✅ Saved to data/sp500/ECL.csv\n",
      "[164/503] ⬇️ Downloading EIX...\n"
     ]
    },
    {
     "name": "stderr",
     "output_type": "stream",
     "text": [
      "/tmp/ipykernel_117496/2701487849.py:17: FutureWarning: YF.download() has changed argument auto_adjust default to True\n",
      "  df = yf.download(ticker, start=start_date, end=end_date)\n",
      "[*********************100%***********************]  1 of 1 completed\n"
     ]
    },
    {
     "name": "stdout",
     "output_type": "stream",
     "text": [
      "   ✅ Saved to data/sp500/EIX.csv\n",
      "[165/503] ⬇️ Downloading EW...\n"
     ]
    },
    {
     "name": "stderr",
     "output_type": "stream",
     "text": [
      "/tmp/ipykernel_117496/2701487849.py:17: FutureWarning: YF.download() has changed argument auto_adjust default to True\n",
      "  df = yf.download(ticker, start=start_date, end=end_date)\n",
      "[*********************100%***********************]  1 of 1 completed\n"
     ]
    },
    {
     "name": "stdout",
     "output_type": "stream",
     "text": [
      "   ✅ Saved to data/sp500/EW.csv\n",
      "[166/503] ⬇️ Downloading EA...\n"
     ]
    },
    {
     "name": "stderr",
     "output_type": "stream",
     "text": [
      "/tmp/ipykernel_117496/2701487849.py:17: FutureWarning: YF.download() has changed argument auto_adjust default to True\n",
      "  df = yf.download(ticker, start=start_date, end=end_date)\n",
      "[*********************100%***********************]  1 of 1 completed\n"
     ]
    },
    {
     "name": "stdout",
     "output_type": "stream",
     "text": [
      "   ✅ Saved to data/sp500/EA.csv\n",
      "[167/503] ⬇️ Downloading ELV...\n"
     ]
    },
    {
     "name": "stderr",
     "output_type": "stream",
     "text": [
      "/tmp/ipykernel_117496/2701487849.py:17: FutureWarning: YF.download() has changed argument auto_adjust default to True\n",
      "  df = yf.download(ticker, start=start_date, end=end_date)\n",
      "[*********************100%***********************]  1 of 1 completed\n"
     ]
    },
    {
     "name": "stdout",
     "output_type": "stream",
     "text": [
      "   ✅ Saved to data/sp500/ELV.csv\n",
      "[168/503] ⬇️ Downloading EMR...\n"
     ]
    },
    {
     "name": "stderr",
     "output_type": "stream",
     "text": [
      "/tmp/ipykernel_117496/2701487849.py:17: FutureWarning: YF.download() has changed argument auto_adjust default to True\n",
      "  df = yf.download(ticker, start=start_date, end=end_date)\n",
      "[*********************100%***********************]  1 of 1 completed\n"
     ]
    },
    {
     "name": "stdout",
     "output_type": "stream",
     "text": [
      "   ✅ Saved to data/sp500/EMR.csv\n",
      "[169/503] ⬇️ Downloading ENPH...\n"
     ]
    },
    {
     "name": "stderr",
     "output_type": "stream",
     "text": [
      "/tmp/ipykernel_117496/2701487849.py:17: FutureWarning: YF.download() has changed argument auto_adjust default to True\n",
      "  df = yf.download(ticker, start=start_date, end=end_date)\n",
      "[*********************100%***********************]  1 of 1 completed\n"
     ]
    },
    {
     "name": "stdout",
     "output_type": "stream",
     "text": [
      "   ✅ Saved to data/sp500/ENPH.csv\n",
      "[170/503] ⬇️ Downloading ETR...\n"
     ]
    },
    {
     "name": "stderr",
     "output_type": "stream",
     "text": [
      "/tmp/ipykernel_117496/2701487849.py:17: FutureWarning: YF.download() has changed argument auto_adjust default to True\n",
      "  df = yf.download(ticker, start=start_date, end=end_date)\n",
      "[*********************100%***********************]  1 of 1 completed\n"
     ]
    },
    {
     "name": "stdout",
     "output_type": "stream",
     "text": [
      "   ✅ Saved to data/sp500/ETR.csv\n",
      "[171/503] ⬇️ Downloading EOG...\n"
     ]
    },
    {
     "name": "stderr",
     "output_type": "stream",
     "text": [
      "/tmp/ipykernel_117496/2701487849.py:17: FutureWarning: YF.download() has changed argument auto_adjust default to True\n",
      "  df = yf.download(ticker, start=start_date, end=end_date)\n",
      "[*********************100%***********************]  1 of 1 completed\n"
     ]
    },
    {
     "name": "stdout",
     "output_type": "stream",
     "text": [
      "   ✅ Saved to data/sp500/EOG.csv\n",
      "[172/503] ⬇️ Downloading EPAM...\n"
     ]
    },
    {
     "name": "stderr",
     "output_type": "stream",
     "text": [
      "/tmp/ipykernel_117496/2701487849.py:17: FutureWarning: YF.download() has changed argument auto_adjust default to True\n",
      "  df = yf.download(ticker, start=start_date, end=end_date)\n",
      "[*********************100%***********************]  1 of 1 completed\n"
     ]
    },
    {
     "name": "stdout",
     "output_type": "stream",
     "text": [
      "   ✅ Saved to data/sp500/EPAM.csv\n",
      "[173/503] ⬇️ Downloading EQT...\n"
     ]
    },
    {
     "name": "stderr",
     "output_type": "stream",
     "text": [
      "/tmp/ipykernel_117496/2701487849.py:17: FutureWarning: YF.download() has changed argument auto_adjust default to True\n",
      "  df = yf.download(ticker, start=start_date, end=end_date)\n",
      "[*********************100%***********************]  1 of 1 completed\n"
     ]
    },
    {
     "name": "stdout",
     "output_type": "stream",
     "text": [
      "   ✅ Saved to data/sp500/EQT.csv\n",
      "[174/503] ⬇️ Downloading EFX...\n"
     ]
    },
    {
     "name": "stderr",
     "output_type": "stream",
     "text": [
      "/tmp/ipykernel_117496/2701487849.py:17: FutureWarning: YF.download() has changed argument auto_adjust default to True\n",
      "  df = yf.download(ticker, start=start_date, end=end_date)\n",
      "[*********************100%***********************]  1 of 1 completed\n"
     ]
    },
    {
     "name": "stdout",
     "output_type": "stream",
     "text": [
      "   ✅ Saved to data/sp500/EFX.csv\n",
      "[175/503] ⬇️ Downloading EQIX...\n"
     ]
    },
    {
     "name": "stderr",
     "output_type": "stream",
     "text": [
      "/tmp/ipykernel_117496/2701487849.py:17: FutureWarning: YF.download() has changed argument auto_adjust default to True\n",
      "  df = yf.download(ticker, start=start_date, end=end_date)\n",
      "[*********************100%***********************]  1 of 1 completed\n"
     ]
    },
    {
     "name": "stdout",
     "output_type": "stream",
     "text": [
      "   ✅ Saved to data/sp500/EQIX.csv\n",
      "[176/503] ⬇️ Downloading EQR...\n"
     ]
    },
    {
     "name": "stderr",
     "output_type": "stream",
     "text": [
      "/tmp/ipykernel_117496/2701487849.py:17: FutureWarning: YF.download() has changed argument auto_adjust default to True\n",
      "  df = yf.download(ticker, start=start_date, end=end_date)\n",
      "[*********************100%***********************]  1 of 1 completed\n"
     ]
    },
    {
     "name": "stdout",
     "output_type": "stream",
     "text": [
      "   ✅ Saved to data/sp500/EQR.csv\n",
      "[177/503] ⬇️ Downloading ERIE...\n"
     ]
    },
    {
     "name": "stderr",
     "output_type": "stream",
     "text": [
      "/tmp/ipykernel_117496/2701487849.py:17: FutureWarning: YF.download() has changed argument auto_adjust default to True\n",
      "  df = yf.download(ticker, start=start_date, end=end_date)\n",
      "[*********************100%***********************]  1 of 1 completed\n"
     ]
    },
    {
     "name": "stdout",
     "output_type": "stream",
     "text": [
      "   ✅ Saved to data/sp500/ERIE.csv\n",
      "[178/503] ⬇️ Downloading ESS...\n"
     ]
    },
    {
     "name": "stderr",
     "output_type": "stream",
     "text": [
      "/tmp/ipykernel_117496/2701487849.py:17: FutureWarning: YF.download() has changed argument auto_adjust default to True\n",
      "  df = yf.download(ticker, start=start_date, end=end_date)\n",
      "[*********************100%***********************]  1 of 1 completed\n"
     ]
    },
    {
     "name": "stdout",
     "output_type": "stream",
     "text": [
      "   ✅ Saved to data/sp500/ESS.csv\n",
      "[179/503] ⬇️ Downloading EL...\n"
     ]
    },
    {
     "name": "stderr",
     "output_type": "stream",
     "text": [
      "/tmp/ipykernel_117496/2701487849.py:17: FutureWarning: YF.download() has changed argument auto_adjust default to True\n",
      "  df = yf.download(ticker, start=start_date, end=end_date)\n",
      "[*********************100%***********************]  1 of 1 completed\n"
     ]
    },
    {
     "name": "stdout",
     "output_type": "stream",
     "text": [
      "   ✅ Saved to data/sp500/EL.csv\n",
      "[180/503] ⬇️ Downloading EG...\n"
     ]
    },
    {
     "name": "stderr",
     "output_type": "stream",
     "text": [
      "/tmp/ipykernel_117496/2701487849.py:17: FutureWarning: YF.download() has changed argument auto_adjust default to True\n",
      "  df = yf.download(ticker, start=start_date, end=end_date)\n",
      "[*********************100%***********************]  1 of 1 completed\n"
     ]
    },
    {
     "name": "stdout",
     "output_type": "stream",
     "text": [
      "   ✅ Saved to data/sp500/EG.csv\n",
      "[181/503] ⬇️ Downloading EVRG...\n"
     ]
    },
    {
     "name": "stderr",
     "output_type": "stream",
     "text": [
      "/tmp/ipykernel_117496/2701487849.py:17: FutureWarning: YF.download() has changed argument auto_adjust default to True\n",
      "  df = yf.download(ticker, start=start_date, end=end_date)\n",
      "[*********************100%***********************]  1 of 1 completed\n"
     ]
    },
    {
     "name": "stdout",
     "output_type": "stream",
     "text": [
      "   ✅ Saved to data/sp500/EVRG.csv\n",
      "[182/503] ⬇️ Downloading ES...\n"
     ]
    },
    {
     "name": "stderr",
     "output_type": "stream",
     "text": [
      "/tmp/ipykernel_117496/2701487849.py:17: FutureWarning: YF.download() has changed argument auto_adjust default to True\n",
      "  df = yf.download(ticker, start=start_date, end=end_date)\n",
      "[*********************100%***********************]  1 of 1 completed\n"
     ]
    },
    {
     "name": "stdout",
     "output_type": "stream",
     "text": [
      "   ✅ Saved to data/sp500/ES.csv\n",
      "[183/503] ⬇️ Downloading EXC...\n"
     ]
    },
    {
     "name": "stderr",
     "output_type": "stream",
     "text": [
      "/tmp/ipykernel_117496/2701487849.py:17: FutureWarning: YF.download() has changed argument auto_adjust default to True\n",
      "  df = yf.download(ticker, start=start_date, end=end_date)\n",
      "[*********************100%***********************]  1 of 1 completed\n"
     ]
    },
    {
     "name": "stdout",
     "output_type": "stream",
     "text": [
      "   ✅ Saved to data/sp500/EXC.csv\n",
      "[184/503] ⬇️ Downloading EXE...\n"
     ]
    },
    {
     "name": "stderr",
     "output_type": "stream",
     "text": [
      "/tmp/ipykernel_117496/2701487849.py:17: FutureWarning: YF.download() has changed argument auto_adjust default to True\n",
      "  df = yf.download(ticker, start=start_date, end=end_date)\n",
      "[*********************100%***********************]  1 of 1 completed\n"
     ]
    },
    {
     "name": "stdout",
     "output_type": "stream",
     "text": [
      "   ✅ Saved to data/sp500/EXE.csv\n",
      "[185/503] ⬇️ Downloading EXPE...\n"
     ]
    },
    {
     "name": "stderr",
     "output_type": "stream",
     "text": [
      "/tmp/ipykernel_117496/2701487849.py:17: FutureWarning: YF.download() has changed argument auto_adjust default to True\n",
      "  df = yf.download(ticker, start=start_date, end=end_date)\n",
      "[*********************100%***********************]  1 of 1 completed\n"
     ]
    },
    {
     "name": "stdout",
     "output_type": "stream",
     "text": [
      "   ✅ Saved to data/sp500/EXPE.csv\n",
      "[186/503] ⬇️ Downloading EXPD...\n"
     ]
    },
    {
     "name": "stderr",
     "output_type": "stream",
     "text": [
      "/tmp/ipykernel_117496/2701487849.py:17: FutureWarning: YF.download() has changed argument auto_adjust default to True\n",
      "  df = yf.download(ticker, start=start_date, end=end_date)\n",
      "[*********************100%***********************]  1 of 1 completed\n"
     ]
    },
    {
     "name": "stdout",
     "output_type": "stream",
     "text": [
      "   ✅ Saved to data/sp500/EXPD.csv\n",
      "[187/503] ⬇️ Downloading EXR...\n"
     ]
    },
    {
     "name": "stderr",
     "output_type": "stream",
     "text": [
      "/tmp/ipykernel_117496/2701487849.py:17: FutureWarning: YF.download() has changed argument auto_adjust default to True\n",
      "  df = yf.download(ticker, start=start_date, end=end_date)\n",
      "[*********************100%***********************]  1 of 1 completed\n"
     ]
    },
    {
     "name": "stdout",
     "output_type": "stream",
     "text": [
      "   ✅ Saved to data/sp500/EXR.csv\n",
      "[188/503] ⬇️ Downloading XOM...\n"
     ]
    },
    {
     "name": "stderr",
     "output_type": "stream",
     "text": [
      "/tmp/ipykernel_117496/2701487849.py:17: FutureWarning: YF.download() has changed argument auto_adjust default to True\n",
      "  df = yf.download(ticker, start=start_date, end=end_date)\n",
      "[*********************100%***********************]  1 of 1 completed\n"
     ]
    },
    {
     "name": "stdout",
     "output_type": "stream",
     "text": [
      "   ✅ Saved to data/sp500/XOM.csv\n",
      "[189/503] ⬇️ Downloading FFIV...\n"
     ]
    },
    {
     "name": "stderr",
     "output_type": "stream",
     "text": [
      "/tmp/ipykernel_117496/2701487849.py:17: FutureWarning: YF.download() has changed argument auto_adjust default to True\n",
      "  df = yf.download(ticker, start=start_date, end=end_date)\n",
      "[*********************100%***********************]  1 of 1 completed\n"
     ]
    },
    {
     "name": "stdout",
     "output_type": "stream",
     "text": [
      "   ✅ Saved to data/sp500/FFIV.csv\n",
      "[190/503] ⬇️ Downloading FDS...\n"
     ]
    },
    {
     "name": "stderr",
     "output_type": "stream",
     "text": [
      "/tmp/ipykernel_117496/2701487849.py:17: FutureWarning: YF.download() has changed argument auto_adjust default to True\n",
      "  df = yf.download(ticker, start=start_date, end=end_date)\n",
      "[*********************100%***********************]  1 of 1 completed\n"
     ]
    },
    {
     "name": "stdout",
     "output_type": "stream",
     "text": [
      "   ✅ Saved to data/sp500/FDS.csv\n",
      "[191/503] ⬇️ Downloading FICO...\n"
     ]
    },
    {
     "name": "stderr",
     "output_type": "stream",
     "text": [
      "/tmp/ipykernel_117496/2701487849.py:17: FutureWarning: YF.download() has changed argument auto_adjust default to True\n",
      "  df = yf.download(ticker, start=start_date, end=end_date)\n",
      "[*********************100%***********************]  1 of 1 completed\n"
     ]
    },
    {
     "name": "stdout",
     "output_type": "stream",
     "text": [
      "   ✅ Saved to data/sp500/FICO.csv\n",
      "[192/503] ⬇️ Downloading FAST...\n"
     ]
    },
    {
     "name": "stderr",
     "output_type": "stream",
     "text": [
      "/tmp/ipykernel_117496/2701487849.py:17: FutureWarning: YF.download() has changed argument auto_adjust default to True\n",
      "  df = yf.download(ticker, start=start_date, end=end_date)\n",
      "[*********************100%***********************]  1 of 1 completed\n"
     ]
    },
    {
     "name": "stdout",
     "output_type": "stream",
     "text": [
      "   ✅ Saved to data/sp500/FAST.csv\n",
      "[193/503] ⬇️ Downloading FRT...\n"
     ]
    },
    {
     "name": "stderr",
     "output_type": "stream",
     "text": [
      "/tmp/ipykernel_117496/2701487849.py:17: FutureWarning: YF.download() has changed argument auto_adjust default to True\n",
      "  df = yf.download(ticker, start=start_date, end=end_date)\n",
      "[*********************100%***********************]  1 of 1 completed\n"
     ]
    },
    {
     "name": "stdout",
     "output_type": "stream",
     "text": [
      "   ✅ Saved to data/sp500/FRT.csv\n",
      "[194/503] ⬇️ Downloading FDX...\n"
     ]
    },
    {
     "name": "stderr",
     "output_type": "stream",
     "text": [
      "/tmp/ipykernel_117496/2701487849.py:17: FutureWarning: YF.download() has changed argument auto_adjust default to True\n",
      "  df = yf.download(ticker, start=start_date, end=end_date)\n",
      "[*********************100%***********************]  1 of 1 completed\n"
     ]
    },
    {
     "name": "stdout",
     "output_type": "stream",
     "text": [
      "   ✅ Saved to data/sp500/FDX.csv\n",
      "[195/503] ⬇️ Downloading FIS...\n"
     ]
    },
    {
     "name": "stderr",
     "output_type": "stream",
     "text": [
      "/tmp/ipykernel_117496/2701487849.py:17: FutureWarning: YF.download() has changed argument auto_adjust default to True\n",
      "  df = yf.download(ticker, start=start_date, end=end_date)\n",
      "[*********************100%***********************]  1 of 1 completed\n"
     ]
    },
    {
     "name": "stdout",
     "output_type": "stream",
     "text": [
      "   ✅ Saved to data/sp500/FIS.csv\n",
      "[196/503] ⬇️ Downloading FITB...\n"
     ]
    },
    {
     "name": "stderr",
     "output_type": "stream",
     "text": [
      "/tmp/ipykernel_117496/2701487849.py:17: FutureWarning: YF.download() has changed argument auto_adjust default to True\n",
      "  df = yf.download(ticker, start=start_date, end=end_date)\n",
      "[*********************100%***********************]  1 of 1 completed\n"
     ]
    },
    {
     "name": "stdout",
     "output_type": "stream",
     "text": [
      "   ✅ Saved to data/sp500/FITB.csv\n",
      "[197/503] ⬇️ Downloading FSLR...\n"
     ]
    },
    {
     "name": "stderr",
     "output_type": "stream",
     "text": [
      "/tmp/ipykernel_117496/2701487849.py:17: FutureWarning: YF.download() has changed argument auto_adjust default to True\n",
      "  df = yf.download(ticker, start=start_date, end=end_date)\n",
      "[*********************100%***********************]  1 of 1 completed\n"
     ]
    },
    {
     "name": "stdout",
     "output_type": "stream",
     "text": [
      "   ✅ Saved to data/sp500/FSLR.csv\n",
      "[198/503] ⬇️ Downloading FE...\n"
     ]
    },
    {
     "name": "stderr",
     "output_type": "stream",
     "text": [
      "/tmp/ipykernel_117496/2701487849.py:17: FutureWarning: YF.download() has changed argument auto_adjust default to True\n",
      "  df = yf.download(ticker, start=start_date, end=end_date)\n",
      "[*********************100%***********************]  1 of 1 completed\n"
     ]
    },
    {
     "name": "stdout",
     "output_type": "stream",
     "text": [
      "   ✅ Saved to data/sp500/FE.csv\n",
      "[199/503] ⬇️ Downloading FI...\n"
     ]
    },
    {
     "name": "stderr",
     "output_type": "stream",
     "text": [
      "/tmp/ipykernel_117496/2701487849.py:17: FutureWarning: YF.download() has changed argument auto_adjust default to True\n",
      "  df = yf.download(ticker, start=start_date, end=end_date)\n",
      "[*********************100%***********************]  1 of 1 completed\n"
     ]
    },
    {
     "name": "stdout",
     "output_type": "stream",
     "text": [
      "   ✅ Saved to data/sp500/FI.csv\n",
      "[200/503] ⬇️ Downloading F...\n"
     ]
    },
    {
     "name": "stderr",
     "output_type": "stream",
     "text": [
      "/tmp/ipykernel_117496/2701487849.py:17: FutureWarning: YF.download() has changed argument auto_adjust default to True\n",
      "  df = yf.download(ticker, start=start_date, end=end_date)\n",
      "[*********************100%***********************]  1 of 1 completed\n"
     ]
    },
    {
     "name": "stdout",
     "output_type": "stream",
     "text": [
      "   ✅ Saved to data/sp500/F.csv\n",
      "[201/503] ⬇️ Downloading FTNT...\n"
     ]
    },
    {
     "name": "stderr",
     "output_type": "stream",
     "text": [
      "/tmp/ipykernel_117496/2701487849.py:17: FutureWarning: YF.download() has changed argument auto_adjust default to True\n",
      "  df = yf.download(ticker, start=start_date, end=end_date)\n",
      "[*********************100%***********************]  1 of 1 completed\n"
     ]
    },
    {
     "name": "stdout",
     "output_type": "stream",
     "text": [
      "   ✅ Saved to data/sp500/FTNT.csv\n",
      "[202/503] ⬇️ Downloading FTV...\n"
     ]
    },
    {
     "name": "stderr",
     "output_type": "stream",
     "text": [
      "/tmp/ipykernel_117496/2701487849.py:17: FutureWarning: YF.download() has changed argument auto_adjust default to True\n",
      "  df = yf.download(ticker, start=start_date, end=end_date)\n",
      "[*********************100%***********************]  1 of 1 completed\n"
     ]
    },
    {
     "name": "stdout",
     "output_type": "stream",
     "text": [
      "   ✅ Saved to data/sp500/FTV.csv\n",
      "[203/503] ⬇️ Downloading FOXA...\n"
     ]
    },
    {
     "name": "stderr",
     "output_type": "stream",
     "text": [
      "/tmp/ipykernel_117496/2701487849.py:17: FutureWarning: YF.download() has changed argument auto_adjust default to True\n",
      "  df = yf.download(ticker, start=start_date, end=end_date)\n",
      "[*********************100%***********************]  1 of 1 completed\n"
     ]
    },
    {
     "name": "stdout",
     "output_type": "stream",
     "text": [
      "   ✅ Saved to data/sp500/FOXA.csv\n",
      "[204/503] ⬇️ Downloading FOX...\n"
     ]
    },
    {
     "name": "stderr",
     "output_type": "stream",
     "text": [
      "/tmp/ipykernel_117496/2701487849.py:17: FutureWarning: YF.download() has changed argument auto_adjust default to True\n",
      "  df = yf.download(ticker, start=start_date, end=end_date)\n",
      "[*********************100%***********************]  1 of 1 completed\n"
     ]
    },
    {
     "name": "stdout",
     "output_type": "stream",
     "text": [
      "   ✅ Saved to data/sp500/FOX.csv\n",
      "[205/503] ⬇️ Downloading BEN...\n"
     ]
    },
    {
     "name": "stderr",
     "output_type": "stream",
     "text": [
      "/tmp/ipykernel_117496/2701487849.py:17: FutureWarning: YF.download() has changed argument auto_adjust default to True\n",
      "  df = yf.download(ticker, start=start_date, end=end_date)\n",
      "[*********************100%***********************]  1 of 1 completed\n"
     ]
    },
    {
     "name": "stdout",
     "output_type": "stream",
     "text": [
      "   ✅ Saved to data/sp500/BEN.csv\n",
      "[206/503] ⬇️ Downloading FCX...\n"
     ]
    },
    {
     "name": "stderr",
     "output_type": "stream",
     "text": [
      "/tmp/ipykernel_117496/2701487849.py:17: FutureWarning: YF.download() has changed argument auto_adjust default to True\n",
      "  df = yf.download(ticker, start=start_date, end=end_date)\n",
      "[*********************100%***********************]  1 of 1 completed\n"
     ]
    },
    {
     "name": "stdout",
     "output_type": "stream",
     "text": [
      "   ✅ Saved to data/sp500/FCX.csv\n",
      "[207/503] ⬇️ Downloading GRMN...\n"
     ]
    },
    {
     "name": "stderr",
     "output_type": "stream",
     "text": [
      "/tmp/ipykernel_117496/2701487849.py:17: FutureWarning: YF.download() has changed argument auto_adjust default to True\n",
      "  df = yf.download(ticker, start=start_date, end=end_date)\n",
      "[*********************100%***********************]  1 of 1 completed\n"
     ]
    },
    {
     "name": "stdout",
     "output_type": "stream",
     "text": [
      "   ✅ Saved to data/sp500/GRMN.csv\n",
      "[208/503] ⬇️ Downloading IT...\n"
     ]
    },
    {
     "name": "stderr",
     "output_type": "stream",
     "text": [
      "/tmp/ipykernel_117496/2701487849.py:17: FutureWarning: YF.download() has changed argument auto_adjust default to True\n",
      "  df = yf.download(ticker, start=start_date, end=end_date)\n",
      "[*********************100%***********************]  1 of 1 completed\n"
     ]
    },
    {
     "name": "stdout",
     "output_type": "stream",
     "text": [
      "   ✅ Saved to data/sp500/IT.csv\n",
      "[209/503] ⬇️ Downloading GE...\n"
     ]
    },
    {
     "name": "stderr",
     "output_type": "stream",
     "text": [
      "/tmp/ipykernel_117496/2701487849.py:17: FutureWarning: YF.download() has changed argument auto_adjust default to True\n",
      "  df = yf.download(ticker, start=start_date, end=end_date)\n",
      "[*********************100%***********************]  1 of 1 completed\n"
     ]
    },
    {
     "name": "stdout",
     "output_type": "stream",
     "text": [
      "   ✅ Saved to data/sp500/GE.csv\n",
      "[210/503] ⬇️ Downloading GEHC...\n"
     ]
    },
    {
     "name": "stderr",
     "output_type": "stream",
     "text": [
      "/tmp/ipykernel_117496/2701487849.py:17: FutureWarning: YF.download() has changed argument auto_adjust default to True\n",
      "  df = yf.download(ticker, start=start_date, end=end_date)\n",
      "[*********************100%***********************]  1 of 1 completed\n"
     ]
    },
    {
     "name": "stdout",
     "output_type": "stream",
     "text": [
      "   ✅ Saved to data/sp500/GEHC.csv\n",
      "[211/503] ⬇️ Downloading GEV...\n"
     ]
    },
    {
     "name": "stderr",
     "output_type": "stream",
     "text": [
      "/tmp/ipykernel_117496/2701487849.py:17: FutureWarning: YF.download() has changed argument auto_adjust default to True\n",
      "  df = yf.download(ticker, start=start_date, end=end_date)\n",
      "[*********************100%***********************]  1 of 1 completed\n"
     ]
    },
    {
     "name": "stdout",
     "output_type": "stream",
     "text": [
      "   ✅ Saved to data/sp500/GEV.csv\n",
      "[212/503] ⬇️ Downloading GEN...\n"
     ]
    },
    {
     "name": "stderr",
     "output_type": "stream",
     "text": [
      "/tmp/ipykernel_117496/2701487849.py:17: FutureWarning: YF.download() has changed argument auto_adjust default to True\n",
      "  df = yf.download(ticker, start=start_date, end=end_date)\n",
      "[*********************100%***********************]  1 of 1 completed\n"
     ]
    },
    {
     "name": "stdout",
     "output_type": "stream",
     "text": [
      "   ✅ Saved to data/sp500/GEN.csv\n",
      "[213/503] ⬇️ Downloading GNRC...\n"
     ]
    },
    {
     "name": "stderr",
     "output_type": "stream",
     "text": [
      "/tmp/ipykernel_117496/2701487849.py:17: FutureWarning: YF.download() has changed argument auto_adjust default to True\n",
      "  df = yf.download(ticker, start=start_date, end=end_date)\n",
      "[*********************100%***********************]  1 of 1 completed\n"
     ]
    },
    {
     "name": "stdout",
     "output_type": "stream",
     "text": [
      "   ✅ Saved to data/sp500/GNRC.csv\n",
      "[214/503] ⬇️ Downloading GD...\n"
     ]
    },
    {
     "name": "stderr",
     "output_type": "stream",
     "text": [
      "/tmp/ipykernel_117496/2701487849.py:17: FutureWarning: YF.download() has changed argument auto_adjust default to True\n",
      "  df = yf.download(ticker, start=start_date, end=end_date)\n",
      "[*********************100%***********************]  1 of 1 completed\n"
     ]
    },
    {
     "name": "stdout",
     "output_type": "stream",
     "text": [
      "   ✅ Saved to data/sp500/GD.csv\n",
      "[215/503] ⬇️ Downloading GIS...\n"
     ]
    },
    {
     "name": "stderr",
     "output_type": "stream",
     "text": [
      "/tmp/ipykernel_117496/2701487849.py:17: FutureWarning: YF.download() has changed argument auto_adjust default to True\n",
      "  df = yf.download(ticker, start=start_date, end=end_date)\n",
      "[*********************100%***********************]  1 of 1 completed\n"
     ]
    },
    {
     "name": "stdout",
     "output_type": "stream",
     "text": [
      "   ✅ Saved to data/sp500/GIS.csv\n",
      "[216/503] ⬇️ Downloading GM...\n"
     ]
    },
    {
     "name": "stderr",
     "output_type": "stream",
     "text": [
      "/tmp/ipykernel_117496/2701487849.py:17: FutureWarning: YF.download() has changed argument auto_adjust default to True\n",
      "  df = yf.download(ticker, start=start_date, end=end_date)\n",
      "[*********************100%***********************]  1 of 1 completed\n"
     ]
    },
    {
     "name": "stdout",
     "output_type": "stream",
     "text": [
      "   ✅ Saved to data/sp500/GM.csv\n",
      "[217/503] ⬇️ Downloading GPC...\n"
     ]
    },
    {
     "name": "stderr",
     "output_type": "stream",
     "text": [
      "/tmp/ipykernel_117496/2701487849.py:17: FutureWarning: YF.download() has changed argument auto_adjust default to True\n",
      "  df = yf.download(ticker, start=start_date, end=end_date)\n",
      "[*********************100%***********************]  1 of 1 completed\n"
     ]
    },
    {
     "name": "stdout",
     "output_type": "stream",
     "text": [
      "   ✅ Saved to data/sp500/GPC.csv\n",
      "[218/503] ⬇️ Downloading GILD...\n"
     ]
    },
    {
     "name": "stderr",
     "output_type": "stream",
     "text": [
      "/tmp/ipykernel_117496/2701487849.py:17: FutureWarning: YF.download() has changed argument auto_adjust default to True\n",
      "  df = yf.download(ticker, start=start_date, end=end_date)\n",
      "[*********************100%***********************]  1 of 1 completed\n"
     ]
    },
    {
     "name": "stdout",
     "output_type": "stream",
     "text": [
      "   ✅ Saved to data/sp500/GILD.csv\n",
      "[219/503] ⬇️ Downloading GPN...\n"
     ]
    },
    {
     "name": "stderr",
     "output_type": "stream",
     "text": [
      "/tmp/ipykernel_117496/2701487849.py:17: FutureWarning: YF.download() has changed argument auto_adjust default to True\n",
      "  df = yf.download(ticker, start=start_date, end=end_date)\n",
      "[*********************100%***********************]  1 of 1 completed\n"
     ]
    },
    {
     "name": "stdout",
     "output_type": "stream",
     "text": [
      "   ✅ Saved to data/sp500/GPN.csv\n",
      "[220/503] ⬇️ Downloading GL...\n"
     ]
    },
    {
     "name": "stderr",
     "output_type": "stream",
     "text": [
      "/tmp/ipykernel_117496/2701487849.py:17: FutureWarning: YF.download() has changed argument auto_adjust default to True\n",
      "  df = yf.download(ticker, start=start_date, end=end_date)\n",
      "[*********************100%***********************]  1 of 1 completed\n"
     ]
    },
    {
     "name": "stdout",
     "output_type": "stream",
     "text": [
      "   ✅ Saved to data/sp500/GL.csv\n",
      "[221/503] ⬇️ Downloading GDDY...\n"
     ]
    },
    {
     "name": "stderr",
     "output_type": "stream",
     "text": [
      "/tmp/ipykernel_117496/2701487849.py:17: FutureWarning: YF.download() has changed argument auto_adjust default to True\n",
      "  df = yf.download(ticker, start=start_date, end=end_date)\n",
      "[*********************100%***********************]  1 of 1 completed\n"
     ]
    },
    {
     "name": "stdout",
     "output_type": "stream",
     "text": [
      "   ✅ Saved to data/sp500/GDDY.csv\n",
      "[222/503] ⬇️ Downloading GS...\n"
     ]
    },
    {
     "name": "stderr",
     "output_type": "stream",
     "text": [
      "/tmp/ipykernel_117496/2701487849.py:17: FutureWarning: YF.download() has changed argument auto_adjust default to True\n",
      "  df = yf.download(ticker, start=start_date, end=end_date)\n",
      "[*********************100%***********************]  1 of 1 completed\n"
     ]
    },
    {
     "name": "stdout",
     "output_type": "stream",
     "text": [
      "   ✅ Saved to data/sp500/GS.csv\n",
      "[223/503] ⬇️ Downloading HAL...\n"
     ]
    },
    {
     "name": "stderr",
     "output_type": "stream",
     "text": [
      "/tmp/ipykernel_117496/2701487849.py:17: FutureWarning: YF.download() has changed argument auto_adjust default to True\n",
      "  df = yf.download(ticker, start=start_date, end=end_date)\n",
      "[*********************100%***********************]  1 of 1 completed\n"
     ]
    },
    {
     "name": "stdout",
     "output_type": "stream",
     "text": [
      "   ✅ Saved to data/sp500/HAL.csv\n",
      "[224/503] ⬇️ Downloading HIG...\n"
     ]
    },
    {
     "name": "stderr",
     "output_type": "stream",
     "text": [
      "/tmp/ipykernel_117496/2701487849.py:17: FutureWarning: YF.download() has changed argument auto_adjust default to True\n",
      "  df = yf.download(ticker, start=start_date, end=end_date)\n",
      "[*********************100%***********************]  1 of 1 completed\n"
     ]
    },
    {
     "name": "stdout",
     "output_type": "stream",
     "text": [
      "   ✅ Saved to data/sp500/HIG.csv\n",
      "[225/503] ⬇️ Downloading HAS...\n"
     ]
    },
    {
     "name": "stderr",
     "output_type": "stream",
     "text": [
      "/tmp/ipykernel_117496/2701487849.py:17: FutureWarning: YF.download() has changed argument auto_adjust default to True\n",
      "  df = yf.download(ticker, start=start_date, end=end_date)\n",
      "[*********************100%***********************]  1 of 1 completed\n"
     ]
    },
    {
     "name": "stdout",
     "output_type": "stream",
     "text": [
      "   ✅ Saved to data/sp500/HAS.csv\n",
      "[226/503] ⬇️ Downloading HCA...\n"
     ]
    },
    {
     "name": "stderr",
     "output_type": "stream",
     "text": [
      "/tmp/ipykernel_117496/2701487849.py:17: FutureWarning: YF.download() has changed argument auto_adjust default to True\n",
      "  df = yf.download(ticker, start=start_date, end=end_date)\n",
      "[*********************100%***********************]  1 of 1 completed\n"
     ]
    },
    {
     "name": "stdout",
     "output_type": "stream",
     "text": [
      "   ✅ Saved to data/sp500/HCA.csv\n",
      "[227/503] ⬇️ Downloading DOC...\n"
     ]
    },
    {
     "name": "stderr",
     "output_type": "stream",
     "text": [
      "/tmp/ipykernel_117496/2701487849.py:17: FutureWarning: YF.download() has changed argument auto_adjust default to True\n",
      "  df = yf.download(ticker, start=start_date, end=end_date)\n",
      "[*********************100%***********************]  1 of 1 completed\n"
     ]
    },
    {
     "name": "stdout",
     "output_type": "stream",
     "text": [
      "   ✅ Saved to data/sp500/DOC.csv\n",
      "[228/503] ⬇️ Downloading HSIC...\n"
     ]
    },
    {
     "name": "stderr",
     "output_type": "stream",
     "text": [
      "/tmp/ipykernel_117496/2701487849.py:17: FutureWarning: YF.download() has changed argument auto_adjust default to True\n",
      "  df = yf.download(ticker, start=start_date, end=end_date)\n",
      "[*********************100%***********************]  1 of 1 completed\n"
     ]
    },
    {
     "name": "stdout",
     "output_type": "stream",
     "text": [
      "   ✅ Saved to data/sp500/HSIC.csv\n",
      "[229/503] ⬇️ Downloading HSY...\n"
     ]
    },
    {
     "name": "stderr",
     "output_type": "stream",
     "text": [
      "/tmp/ipykernel_117496/2701487849.py:17: FutureWarning: YF.download() has changed argument auto_adjust default to True\n",
      "  df = yf.download(ticker, start=start_date, end=end_date)\n",
      "[*********************100%***********************]  1 of 1 completed\n"
     ]
    },
    {
     "name": "stdout",
     "output_type": "stream",
     "text": [
      "   ✅ Saved to data/sp500/HSY.csv\n",
      "[230/503] ⬇️ Downloading HPE...\n"
     ]
    },
    {
     "name": "stderr",
     "output_type": "stream",
     "text": [
      "/tmp/ipykernel_117496/2701487849.py:17: FutureWarning: YF.download() has changed argument auto_adjust default to True\n",
      "  df = yf.download(ticker, start=start_date, end=end_date)\n",
      "[*********************100%***********************]  1 of 1 completed\n"
     ]
    },
    {
     "name": "stdout",
     "output_type": "stream",
     "text": [
      "   ✅ Saved to data/sp500/HPE.csv\n",
      "[231/503] ⬇️ Downloading HLT...\n"
     ]
    },
    {
     "name": "stderr",
     "output_type": "stream",
     "text": [
      "/tmp/ipykernel_117496/2701487849.py:17: FutureWarning: YF.download() has changed argument auto_adjust default to True\n",
      "  df = yf.download(ticker, start=start_date, end=end_date)\n",
      "[*********************100%***********************]  1 of 1 completed\n"
     ]
    },
    {
     "name": "stdout",
     "output_type": "stream",
     "text": [
      "   ✅ Saved to data/sp500/HLT.csv\n",
      "[232/503] ⬇️ Downloading HOLX...\n"
     ]
    },
    {
     "name": "stderr",
     "output_type": "stream",
     "text": [
      "/tmp/ipykernel_117496/2701487849.py:17: FutureWarning: YF.download() has changed argument auto_adjust default to True\n",
      "  df = yf.download(ticker, start=start_date, end=end_date)\n",
      "[*********************100%***********************]  1 of 1 completed\n"
     ]
    },
    {
     "name": "stdout",
     "output_type": "stream",
     "text": [
      "   ✅ Saved to data/sp500/HOLX.csv\n",
      "[233/503] ⬇️ Downloading HD...\n"
     ]
    },
    {
     "name": "stderr",
     "output_type": "stream",
     "text": [
      "/tmp/ipykernel_117496/2701487849.py:17: FutureWarning: YF.download() has changed argument auto_adjust default to True\n",
      "  df = yf.download(ticker, start=start_date, end=end_date)\n",
      "[*********************100%***********************]  1 of 1 completed\n"
     ]
    },
    {
     "name": "stdout",
     "output_type": "stream",
     "text": [
      "   ✅ Saved to data/sp500/HD.csv\n",
      "[234/503] ⬇️ Downloading HON...\n"
     ]
    },
    {
     "name": "stderr",
     "output_type": "stream",
     "text": [
      "/tmp/ipykernel_117496/2701487849.py:17: FutureWarning: YF.download() has changed argument auto_adjust default to True\n",
      "  df = yf.download(ticker, start=start_date, end=end_date)\n",
      "[*********************100%***********************]  1 of 1 completed\n"
     ]
    },
    {
     "name": "stdout",
     "output_type": "stream",
     "text": [
      "   ✅ Saved to data/sp500/HON.csv\n",
      "[235/503] ⬇️ Downloading HRL...\n"
     ]
    },
    {
     "name": "stderr",
     "output_type": "stream",
     "text": [
      "/tmp/ipykernel_117496/2701487849.py:17: FutureWarning: YF.download() has changed argument auto_adjust default to True\n",
      "  df = yf.download(ticker, start=start_date, end=end_date)\n",
      "[*********************100%***********************]  1 of 1 completed\n"
     ]
    },
    {
     "name": "stdout",
     "output_type": "stream",
     "text": [
      "   ✅ Saved to data/sp500/HRL.csv\n",
      "[236/503] ⬇️ Downloading HST...\n"
     ]
    },
    {
     "name": "stderr",
     "output_type": "stream",
     "text": [
      "/tmp/ipykernel_117496/2701487849.py:17: FutureWarning: YF.download() has changed argument auto_adjust default to True\n",
      "  df = yf.download(ticker, start=start_date, end=end_date)\n",
      "[*********************100%***********************]  1 of 1 completed\n"
     ]
    },
    {
     "name": "stdout",
     "output_type": "stream",
     "text": [
      "   ✅ Saved to data/sp500/HST.csv\n",
      "[237/503] ⬇️ Downloading HWM...\n"
     ]
    },
    {
     "name": "stderr",
     "output_type": "stream",
     "text": [
      "/tmp/ipykernel_117496/2701487849.py:17: FutureWarning: YF.download() has changed argument auto_adjust default to True\n",
      "  df = yf.download(ticker, start=start_date, end=end_date)\n",
      "[*********************100%***********************]  1 of 1 completed\n"
     ]
    },
    {
     "name": "stdout",
     "output_type": "stream",
     "text": [
      "   ✅ Saved to data/sp500/HWM.csv\n",
      "[238/503] ⬇️ Downloading HPQ...\n"
     ]
    },
    {
     "name": "stderr",
     "output_type": "stream",
     "text": [
      "/tmp/ipykernel_117496/2701487849.py:17: FutureWarning: YF.download() has changed argument auto_adjust default to True\n",
      "  df = yf.download(ticker, start=start_date, end=end_date)\n",
      "[*********************100%***********************]  1 of 1 completed\n"
     ]
    },
    {
     "name": "stdout",
     "output_type": "stream",
     "text": [
      "   ✅ Saved to data/sp500/HPQ.csv\n",
      "[239/503] ⬇️ Downloading HUBB...\n"
     ]
    },
    {
     "name": "stderr",
     "output_type": "stream",
     "text": [
      "/tmp/ipykernel_117496/2701487849.py:17: FutureWarning: YF.download() has changed argument auto_adjust default to True\n",
      "  df = yf.download(ticker, start=start_date, end=end_date)\n",
      "[*********************100%***********************]  1 of 1 completed\n"
     ]
    },
    {
     "name": "stdout",
     "output_type": "stream",
     "text": [
      "   ✅ Saved to data/sp500/HUBB.csv\n",
      "[240/503] ⬇️ Downloading HUM...\n"
     ]
    },
    {
     "name": "stderr",
     "output_type": "stream",
     "text": [
      "/tmp/ipykernel_117496/2701487849.py:17: FutureWarning: YF.download() has changed argument auto_adjust default to True\n",
      "  df = yf.download(ticker, start=start_date, end=end_date)\n",
      "[*********************100%***********************]  1 of 1 completed\n"
     ]
    },
    {
     "name": "stdout",
     "output_type": "stream",
     "text": [
      "   ✅ Saved to data/sp500/HUM.csv\n",
      "[241/503] ⬇️ Downloading HBAN...\n"
     ]
    },
    {
     "name": "stderr",
     "output_type": "stream",
     "text": [
      "/tmp/ipykernel_117496/2701487849.py:17: FutureWarning: YF.download() has changed argument auto_adjust default to True\n",
      "  df = yf.download(ticker, start=start_date, end=end_date)\n",
      "[*********************100%***********************]  1 of 1 completed\n"
     ]
    },
    {
     "name": "stdout",
     "output_type": "stream",
     "text": [
      "   ✅ Saved to data/sp500/HBAN.csv\n",
      "[242/503] ⬇️ Downloading HII...\n"
     ]
    },
    {
     "name": "stderr",
     "output_type": "stream",
     "text": [
      "/tmp/ipykernel_117496/2701487849.py:17: FutureWarning: YF.download() has changed argument auto_adjust default to True\n",
      "  df = yf.download(ticker, start=start_date, end=end_date)\n",
      "[*********************100%***********************]  1 of 1 completed\n"
     ]
    },
    {
     "name": "stdout",
     "output_type": "stream",
     "text": [
      "   ✅ Saved to data/sp500/HII.csv\n",
      "[243/503] ⬇️ Downloading IBM...\n"
     ]
    },
    {
     "name": "stderr",
     "output_type": "stream",
     "text": [
      "/tmp/ipykernel_117496/2701487849.py:17: FutureWarning: YF.download() has changed argument auto_adjust default to True\n",
      "  df = yf.download(ticker, start=start_date, end=end_date)\n",
      "[*********************100%***********************]  1 of 1 completed\n"
     ]
    },
    {
     "name": "stdout",
     "output_type": "stream",
     "text": [
      "   ✅ Saved to data/sp500/IBM.csv\n",
      "[244/503] ⬇️ Downloading IEX...\n"
     ]
    },
    {
     "name": "stderr",
     "output_type": "stream",
     "text": [
      "/tmp/ipykernel_117496/2701487849.py:17: FutureWarning: YF.download() has changed argument auto_adjust default to True\n",
      "  df = yf.download(ticker, start=start_date, end=end_date)\n",
      "[*********************100%***********************]  1 of 1 completed\n"
     ]
    },
    {
     "name": "stdout",
     "output_type": "stream",
     "text": [
      "   ✅ Saved to data/sp500/IEX.csv\n",
      "[245/503] ⬇️ Downloading IDXX...\n"
     ]
    },
    {
     "name": "stderr",
     "output_type": "stream",
     "text": [
      "/tmp/ipykernel_117496/2701487849.py:17: FutureWarning: YF.download() has changed argument auto_adjust default to True\n",
      "  df = yf.download(ticker, start=start_date, end=end_date)\n",
      "[*********************100%***********************]  1 of 1 completed\n"
     ]
    },
    {
     "name": "stdout",
     "output_type": "stream",
     "text": [
      "   ✅ Saved to data/sp500/IDXX.csv\n",
      "[246/503] ⬇️ Downloading ITW...\n"
     ]
    },
    {
     "name": "stderr",
     "output_type": "stream",
     "text": [
      "/tmp/ipykernel_117496/2701487849.py:17: FutureWarning: YF.download() has changed argument auto_adjust default to True\n",
      "  df = yf.download(ticker, start=start_date, end=end_date)\n",
      "[*********************100%***********************]  1 of 1 completed\n"
     ]
    },
    {
     "name": "stdout",
     "output_type": "stream",
     "text": [
      "   ✅ Saved to data/sp500/ITW.csv\n",
      "[247/503] ⬇️ Downloading INCY...\n"
     ]
    },
    {
     "name": "stderr",
     "output_type": "stream",
     "text": [
      "/tmp/ipykernel_117496/2701487849.py:17: FutureWarning: YF.download() has changed argument auto_adjust default to True\n",
      "  df = yf.download(ticker, start=start_date, end=end_date)\n",
      "[*********************100%***********************]  1 of 1 completed\n"
     ]
    },
    {
     "name": "stdout",
     "output_type": "stream",
     "text": [
      "   ✅ Saved to data/sp500/INCY.csv\n",
      "[248/503] ⬇️ Downloading IR...\n"
     ]
    },
    {
     "name": "stderr",
     "output_type": "stream",
     "text": [
      "/tmp/ipykernel_117496/2701487849.py:17: FutureWarning: YF.download() has changed argument auto_adjust default to True\n",
      "  df = yf.download(ticker, start=start_date, end=end_date)\n",
      "[*********************100%***********************]  1 of 1 completed\n"
     ]
    },
    {
     "name": "stdout",
     "output_type": "stream",
     "text": [
      "   ✅ Saved to data/sp500/IR.csv\n",
      "[249/503] ⬇️ Downloading PODD...\n"
     ]
    },
    {
     "name": "stderr",
     "output_type": "stream",
     "text": [
      "/tmp/ipykernel_117496/2701487849.py:17: FutureWarning: YF.download() has changed argument auto_adjust default to True\n",
      "  df = yf.download(ticker, start=start_date, end=end_date)\n",
      "[*********************100%***********************]  1 of 1 completed\n"
     ]
    },
    {
     "name": "stdout",
     "output_type": "stream",
     "text": [
      "   ✅ Saved to data/sp500/PODD.csv\n",
      "[250/503] ⬇️ Downloading INTC...\n"
     ]
    },
    {
     "name": "stderr",
     "output_type": "stream",
     "text": [
      "/tmp/ipykernel_117496/2701487849.py:17: FutureWarning: YF.download() has changed argument auto_adjust default to True\n",
      "  df = yf.download(ticker, start=start_date, end=end_date)\n",
      "[*********************100%***********************]  1 of 1 completed\n"
     ]
    },
    {
     "name": "stdout",
     "output_type": "stream",
     "text": [
      "   ✅ Saved to data/sp500/INTC.csv\n",
      "[251/503] ⬇️ Downloading ICE...\n"
     ]
    },
    {
     "name": "stderr",
     "output_type": "stream",
     "text": [
      "/tmp/ipykernel_117496/2701487849.py:17: FutureWarning: YF.download() has changed argument auto_adjust default to True\n",
      "  df = yf.download(ticker, start=start_date, end=end_date)\n",
      "[*********************100%***********************]  1 of 1 completed\n"
     ]
    },
    {
     "name": "stdout",
     "output_type": "stream",
     "text": [
      "   ✅ Saved to data/sp500/ICE.csv\n",
      "[252/503] ⬇️ Downloading IFF...\n"
     ]
    },
    {
     "name": "stderr",
     "output_type": "stream",
     "text": [
      "/tmp/ipykernel_117496/2701487849.py:17: FutureWarning: YF.download() has changed argument auto_adjust default to True\n",
      "  df = yf.download(ticker, start=start_date, end=end_date)\n",
      "[*********************100%***********************]  1 of 1 completed\n"
     ]
    },
    {
     "name": "stdout",
     "output_type": "stream",
     "text": [
      "   ✅ Saved to data/sp500/IFF.csv\n",
      "[253/503] ⬇️ Downloading IP...\n"
     ]
    },
    {
     "name": "stderr",
     "output_type": "stream",
     "text": [
      "/tmp/ipykernel_117496/2701487849.py:17: FutureWarning: YF.download() has changed argument auto_adjust default to True\n",
      "  df = yf.download(ticker, start=start_date, end=end_date)\n",
      "[*********************100%***********************]  1 of 1 completed\n"
     ]
    },
    {
     "name": "stdout",
     "output_type": "stream",
     "text": [
      "   ✅ Saved to data/sp500/IP.csv\n",
      "[254/503] ⬇️ Downloading IPG...\n"
     ]
    },
    {
     "name": "stderr",
     "output_type": "stream",
     "text": [
      "/tmp/ipykernel_117496/2701487849.py:17: FutureWarning: YF.download() has changed argument auto_adjust default to True\n",
      "  df = yf.download(ticker, start=start_date, end=end_date)\n",
      "[*********************100%***********************]  1 of 1 completed\n"
     ]
    },
    {
     "name": "stdout",
     "output_type": "stream",
     "text": [
      "   ✅ Saved to data/sp500/IPG.csv\n",
      "[255/503] ⬇️ Downloading INTU...\n"
     ]
    },
    {
     "name": "stderr",
     "output_type": "stream",
     "text": [
      "/tmp/ipykernel_117496/2701487849.py:17: FutureWarning: YF.download() has changed argument auto_adjust default to True\n",
      "  df = yf.download(ticker, start=start_date, end=end_date)\n",
      "[*********************100%***********************]  1 of 1 completed\n"
     ]
    },
    {
     "name": "stdout",
     "output_type": "stream",
     "text": [
      "   ✅ Saved to data/sp500/INTU.csv\n",
      "[256/503] ⬇️ Downloading ISRG...\n"
     ]
    },
    {
     "name": "stderr",
     "output_type": "stream",
     "text": [
      "/tmp/ipykernel_117496/2701487849.py:17: FutureWarning: YF.download() has changed argument auto_adjust default to True\n",
      "  df = yf.download(ticker, start=start_date, end=end_date)\n",
      "[*********************100%***********************]  1 of 1 completed\n"
     ]
    },
    {
     "name": "stdout",
     "output_type": "stream",
     "text": [
      "   ✅ Saved to data/sp500/ISRG.csv\n",
      "[257/503] ⬇️ Downloading IVZ...\n"
     ]
    },
    {
     "name": "stderr",
     "output_type": "stream",
     "text": [
      "/tmp/ipykernel_117496/2701487849.py:17: FutureWarning: YF.download() has changed argument auto_adjust default to True\n",
      "  df = yf.download(ticker, start=start_date, end=end_date)\n",
      "[*********************100%***********************]  1 of 1 completed\n"
     ]
    },
    {
     "name": "stdout",
     "output_type": "stream",
     "text": [
      "   ✅ Saved to data/sp500/IVZ.csv\n",
      "[258/503] ⬇️ Downloading INVH...\n"
     ]
    },
    {
     "name": "stderr",
     "output_type": "stream",
     "text": [
      "/tmp/ipykernel_117496/2701487849.py:17: FutureWarning: YF.download() has changed argument auto_adjust default to True\n",
      "  df = yf.download(ticker, start=start_date, end=end_date)\n",
      "[*********************100%***********************]  1 of 1 completed\n"
     ]
    },
    {
     "name": "stdout",
     "output_type": "stream",
     "text": [
      "   ✅ Saved to data/sp500/INVH.csv\n",
      "[259/503] ⬇️ Downloading IQV...\n"
     ]
    },
    {
     "name": "stderr",
     "output_type": "stream",
     "text": [
      "/tmp/ipykernel_117496/2701487849.py:17: FutureWarning: YF.download() has changed argument auto_adjust default to True\n",
      "  df = yf.download(ticker, start=start_date, end=end_date)\n",
      "[*********************100%***********************]  1 of 1 completed\n"
     ]
    },
    {
     "name": "stdout",
     "output_type": "stream",
     "text": [
      "   ✅ Saved to data/sp500/IQV.csv\n",
      "[260/503] ⬇️ Downloading IRM...\n"
     ]
    },
    {
     "name": "stderr",
     "output_type": "stream",
     "text": [
      "/tmp/ipykernel_117496/2701487849.py:17: FutureWarning: YF.download() has changed argument auto_adjust default to True\n",
      "  df = yf.download(ticker, start=start_date, end=end_date)\n",
      "[*********************100%***********************]  1 of 1 completed\n"
     ]
    },
    {
     "name": "stdout",
     "output_type": "stream",
     "text": [
      "   ✅ Saved to data/sp500/IRM.csv\n",
      "[261/503] ⬇️ Downloading JBHT...\n"
     ]
    },
    {
     "name": "stderr",
     "output_type": "stream",
     "text": [
      "/tmp/ipykernel_117496/2701487849.py:17: FutureWarning: YF.download() has changed argument auto_adjust default to True\n",
      "  df = yf.download(ticker, start=start_date, end=end_date)\n",
      "[*********************100%***********************]  1 of 1 completed\n"
     ]
    },
    {
     "name": "stdout",
     "output_type": "stream",
     "text": [
      "   ✅ Saved to data/sp500/JBHT.csv\n",
      "[262/503] ⬇️ Downloading JBL...\n"
     ]
    },
    {
     "name": "stderr",
     "output_type": "stream",
     "text": [
      "/tmp/ipykernel_117496/2701487849.py:17: FutureWarning: YF.download() has changed argument auto_adjust default to True\n",
      "  df = yf.download(ticker, start=start_date, end=end_date)\n",
      "[*********************100%***********************]  1 of 1 completed\n"
     ]
    },
    {
     "name": "stdout",
     "output_type": "stream",
     "text": [
      "   ✅ Saved to data/sp500/JBL.csv\n",
      "[263/503] ⬇️ Downloading JKHY...\n"
     ]
    },
    {
     "name": "stderr",
     "output_type": "stream",
     "text": [
      "/tmp/ipykernel_117496/2701487849.py:17: FutureWarning: YF.download() has changed argument auto_adjust default to True\n",
      "  df = yf.download(ticker, start=start_date, end=end_date)\n",
      "[*********************100%***********************]  1 of 1 completed\n"
     ]
    },
    {
     "name": "stdout",
     "output_type": "stream",
     "text": [
      "   ✅ Saved to data/sp500/JKHY.csv\n",
      "[264/503] ⬇️ Downloading J...\n"
     ]
    },
    {
     "name": "stderr",
     "output_type": "stream",
     "text": [
      "/tmp/ipykernel_117496/2701487849.py:17: FutureWarning: YF.download() has changed argument auto_adjust default to True\n",
      "  df = yf.download(ticker, start=start_date, end=end_date)\n",
      "[*********************100%***********************]  1 of 1 completed\n"
     ]
    },
    {
     "name": "stdout",
     "output_type": "stream",
     "text": [
      "   ✅ Saved to data/sp500/J.csv\n",
      "[265/503] ⬇️ Downloading JNJ...\n"
     ]
    },
    {
     "name": "stderr",
     "output_type": "stream",
     "text": [
      "/tmp/ipykernel_117496/2701487849.py:17: FutureWarning: YF.download() has changed argument auto_adjust default to True\n",
      "  df = yf.download(ticker, start=start_date, end=end_date)\n",
      "[*********************100%***********************]  1 of 1 completed\n"
     ]
    },
    {
     "name": "stdout",
     "output_type": "stream",
     "text": [
      "   ✅ Saved to data/sp500/JNJ.csv\n",
      "[266/503] ⬇️ Downloading JCI...\n"
     ]
    },
    {
     "name": "stderr",
     "output_type": "stream",
     "text": [
      "/tmp/ipykernel_117496/2701487849.py:17: FutureWarning: YF.download() has changed argument auto_adjust default to True\n",
      "  df = yf.download(ticker, start=start_date, end=end_date)\n",
      "[*********************100%***********************]  1 of 1 completed\n"
     ]
    },
    {
     "name": "stdout",
     "output_type": "stream",
     "text": [
      "   ✅ Saved to data/sp500/JCI.csv\n",
      "[267/503] ⬇️ Downloading JPM...\n"
     ]
    },
    {
     "name": "stderr",
     "output_type": "stream",
     "text": [
      "/tmp/ipykernel_117496/2701487849.py:17: FutureWarning: YF.download() has changed argument auto_adjust default to True\n",
      "  df = yf.download(ticker, start=start_date, end=end_date)\n",
      "[*********************100%***********************]  1 of 1 completed\n"
     ]
    },
    {
     "name": "stdout",
     "output_type": "stream",
     "text": [
      "   ✅ Saved to data/sp500/JPM.csv\n",
      "[268/503] ⬇️ Downloading K...\n"
     ]
    },
    {
     "name": "stderr",
     "output_type": "stream",
     "text": [
      "/tmp/ipykernel_117496/2701487849.py:17: FutureWarning: YF.download() has changed argument auto_adjust default to True\n",
      "  df = yf.download(ticker, start=start_date, end=end_date)\n",
      "[*********************100%***********************]  1 of 1 completed\n"
     ]
    },
    {
     "name": "stdout",
     "output_type": "stream",
     "text": [
      "   ✅ Saved to data/sp500/K.csv\n",
      "[269/503] ⬇️ Downloading KVUE...\n"
     ]
    },
    {
     "name": "stderr",
     "output_type": "stream",
     "text": [
      "/tmp/ipykernel_117496/2701487849.py:17: FutureWarning: YF.download() has changed argument auto_adjust default to True\n",
      "  df = yf.download(ticker, start=start_date, end=end_date)\n",
      "[*********************100%***********************]  1 of 1 completed\n"
     ]
    },
    {
     "name": "stdout",
     "output_type": "stream",
     "text": [
      "   ✅ Saved to data/sp500/KVUE.csv\n",
      "[270/503] ⬇️ Downloading KDP...\n"
     ]
    },
    {
     "name": "stderr",
     "output_type": "stream",
     "text": [
      "/tmp/ipykernel_117496/2701487849.py:17: FutureWarning: YF.download() has changed argument auto_adjust default to True\n",
      "  df = yf.download(ticker, start=start_date, end=end_date)\n",
      "[*********************100%***********************]  1 of 1 completed\n"
     ]
    },
    {
     "name": "stdout",
     "output_type": "stream",
     "text": [
      "   ✅ Saved to data/sp500/KDP.csv\n",
      "[271/503] ⬇️ Downloading KEY...\n"
     ]
    },
    {
     "name": "stderr",
     "output_type": "stream",
     "text": [
      "/tmp/ipykernel_117496/2701487849.py:17: FutureWarning: YF.download() has changed argument auto_adjust default to True\n",
      "  df = yf.download(ticker, start=start_date, end=end_date)\n",
      "[*********************100%***********************]  1 of 1 completed\n"
     ]
    },
    {
     "name": "stdout",
     "output_type": "stream",
     "text": [
      "   ✅ Saved to data/sp500/KEY.csv\n",
      "[272/503] ⬇️ Downloading KEYS...\n"
     ]
    },
    {
     "name": "stderr",
     "output_type": "stream",
     "text": [
      "/tmp/ipykernel_117496/2701487849.py:17: FutureWarning: YF.download() has changed argument auto_adjust default to True\n",
      "  df = yf.download(ticker, start=start_date, end=end_date)\n",
      "[*********************100%***********************]  1 of 1 completed\n"
     ]
    },
    {
     "name": "stdout",
     "output_type": "stream",
     "text": [
      "   ✅ Saved to data/sp500/KEYS.csv\n",
      "[273/503] ⬇️ Downloading KMB...\n"
     ]
    },
    {
     "name": "stderr",
     "output_type": "stream",
     "text": [
      "/tmp/ipykernel_117496/2701487849.py:17: FutureWarning: YF.download() has changed argument auto_adjust default to True\n",
      "  df = yf.download(ticker, start=start_date, end=end_date)\n",
      "[*********************100%***********************]  1 of 1 completed\n"
     ]
    },
    {
     "name": "stdout",
     "output_type": "stream",
     "text": [
      "   ✅ Saved to data/sp500/KMB.csv\n",
      "[274/503] ⬇️ Downloading KIM...\n"
     ]
    },
    {
     "name": "stderr",
     "output_type": "stream",
     "text": [
      "/tmp/ipykernel_117496/2701487849.py:17: FutureWarning: YF.download() has changed argument auto_adjust default to True\n",
      "  df = yf.download(ticker, start=start_date, end=end_date)\n",
      "[*********************100%***********************]  1 of 1 completed\n"
     ]
    },
    {
     "name": "stdout",
     "output_type": "stream",
     "text": [
      "   ✅ Saved to data/sp500/KIM.csv\n",
      "[275/503] ⬇️ Downloading KMI...\n"
     ]
    },
    {
     "name": "stderr",
     "output_type": "stream",
     "text": [
      "/tmp/ipykernel_117496/2701487849.py:17: FutureWarning: YF.download() has changed argument auto_adjust default to True\n",
      "  df = yf.download(ticker, start=start_date, end=end_date)\n",
      "[*********************100%***********************]  1 of 1 completed\n"
     ]
    },
    {
     "name": "stdout",
     "output_type": "stream",
     "text": [
      "   ✅ Saved to data/sp500/KMI.csv\n",
      "[276/503] ⬇️ Downloading KKR...\n"
     ]
    },
    {
     "name": "stderr",
     "output_type": "stream",
     "text": [
      "/tmp/ipykernel_117496/2701487849.py:17: FutureWarning: YF.download() has changed argument auto_adjust default to True\n",
      "  df = yf.download(ticker, start=start_date, end=end_date)\n",
      "[*********************100%***********************]  1 of 1 completed\n"
     ]
    },
    {
     "name": "stdout",
     "output_type": "stream",
     "text": [
      "   ✅ Saved to data/sp500/KKR.csv\n",
      "[277/503] ⬇️ Downloading KLAC...\n"
     ]
    },
    {
     "name": "stderr",
     "output_type": "stream",
     "text": [
      "/tmp/ipykernel_117496/2701487849.py:17: FutureWarning: YF.download() has changed argument auto_adjust default to True\n",
      "  df = yf.download(ticker, start=start_date, end=end_date)\n",
      "[*********************100%***********************]  1 of 1 completed\n"
     ]
    },
    {
     "name": "stdout",
     "output_type": "stream",
     "text": [
      "   ✅ Saved to data/sp500/KLAC.csv\n",
      "[278/503] ⬇️ Downloading KHC...\n"
     ]
    },
    {
     "name": "stderr",
     "output_type": "stream",
     "text": [
      "/tmp/ipykernel_117496/2701487849.py:17: FutureWarning: YF.download() has changed argument auto_adjust default to True\n",
      "  df = yf.download(ticker, start=start_date, end=end_date)\n",
      "[*********************100%***********************]  1 of 1 completed\n"
     ]
    },
    {
     "name": "stdout",
     "output_type": "stream",
     "text": [
      "   ✅ Saved to data/sp500/KHC.csv\n",
      "[279/503] ⬇️ Downloading KR...\n"
     ]
    },
    {
     "name": "stderr",
     "output_type": "stream",
     "text": [
      "/tmp/ipykernel_117496/2701487849.py:17: FutureWarning: YF.download() has changed argument auto_adjust default to True\n",
      "  df = yf.download(ticker, start=start_date, end=end_date)\n",
      "[*********************100%***********************]  1 of 1 completed\n"
     ]
    },
    {
     "name": "stdout",
     "output_type": "stream",
     "text": [
      "   ✅ Saved to data/sp500/KR.csv\n",
      "[280/503] ⬇️ Downloading LHX...\n"
     ]
    },
    {
     "name": "stderr",
     "output_type": "stream",
     "text": [
      "/tmp/ipykernel_117496/2701487849.py:17: FutureWarning: YF.download() has changed argument auto_adjust default to True\n",
      "  df = yf.download(ticker, start=start_date, end=end_date)\n",
      "[*********************100%***********************]  1 of 1 completed\n"
     ]
    },
    {
     "name": "stdout",
     "output_type": "stream",
     "text": [
      "   ✅ Saved to data/sp500/LHX.csv\n",
      "[281/503] ⬇️ Downloading LH...\n"
     ]
    },
    {
     "name": "stderr",
     "output_type": "stream",
     "text": [
      "/tmp/ipykernel_117496/2701487849.py:17: FutureWarning: YF.download() has changed argument auto_adjust default to True\n",
      "  df = yf.download(ticker, start=start_date, end=end_date)\n",
      "[*********************100%***********************]  1 of 1 completed\n"
     ]
    },
    {
     "name": "stdout",
     "output_type": "stream",
     "text": [
      "   ✅ Saved to data/sp500/LH.csv\n",
      "[282/503] ⬇️ Downloading LRCX...\n"
     ]
    },
    {
     "name": "stderr",
     "output_type": "stream",
     "text": [
      "/tmp/ipykernel_117496/2701487849.py:17: FutureWarning: YF.download() has changed argument auto_adjust default to True\n",
      "  df = yf.download(ticker, start=start_date, end=end_date)\n",
      "[*********************100%***********************]  1 of 1 completed\n"
     ]
    },
    {
     "name": "stdout",
     "output_type": "stream",
     "text": [
      "   ✅ Saved to data/sp500/LRCX.csv\n",
      "[283/503] ⬇️ Downloading LW...\n"
     ]
    },
    {
     "name": "stderr",
     "output_type": "stream",
     "text": [
      "/tmp/ipykernel_117496/2701487849.py:17: FutureWarning: YF.download() has changed argument auto_adjust default to True\n",
      "  df = yf.download(ticker, start=start_date, end=end_date)\n",
      "[*********************100%***********************]  1 of 1 completed\n"
     ]
    },
    {
     "name": "stdout",
     "output_type": "stream",
     "text": [
      "   ✅ Saved to data/sp500/LW.csv\n",
      "[284/503] ⬇️ Downloading LVS...\n"
     ]
    },
    {
     "name": "stderr",
     "output_type": "stream",
     "text": [
      "/tmp/ipykernel_117496/2701487849.py:17: FutureWarning: YF.download() has changed argument auto_adjust default to True\n",
      "  df = yf.download(ticker, start=start_date, end=end_date)\n",
      "[*********************100%***********************]  1 of 1 completed\n"
     ]
    },
    {
     "name": "stdout",
     "output_type": "stream",
     "text": [
      "   ✅ Saved to data/sp500/LVS.csv\n",
      "[285/503] ⬇️ Downloading LDOS...\n"
     ]
    },
    {
     "name": "stderr",
     "output_type": "stream",
     "text": [
      "/tmp/ipykernel_117496/2701487849.py:17: FutureWarning: YF.download() has changed argument auto_adjust default to True\n",
      "  df = yf.download(ticker, start=start_date, end=end_date)\n",
      "[*********************100%***********************]  1 of 1 completed\n"
     ]
    },
    {
     "name": "stdout",
     "output_type": "stream",
     "text": [
      "   ✅ Saved to data/sp500/LDOS.csv\n",
      "[286/503] ⬇️ Downloading LEN...\n"
     ]
    },
    {
     "name": "stderr",
     "output_type": "stream",
     "text": [
      "/tmp/ipykernel_117496/2701487849.py:17: FutureWarning: YF.download() has changed argument auto_adjust default to True\n",
      "  df = yf.download(ticker, start=start_date, end=end_date)\n",
      "[*********************100%***********************]  1 of 1 completed\n"
     ]
    },
    {
     "name": "stdout",
     "output_type": "stream",
     "text": [
      "   ✅ Saved to data/sp500/LEN.csv\n",
      "[287/503] ⬇️ Downloading LII...\n"
     ]
    },
    {
     "name": "stderr",
     "output_type": "stream",
     "text": [
      "/tmp/ipykernel_117496/2701487849.py:17: FutureWarning: YF.download() has changed argument auto_adjust default to True\n",
      "  df = yf.download(ticker, start=start_date, end=end_date)\n",
      "[*********************100%***********************]  1 of 1 completed\n"
     ]
    },
    {
     "name": "stdout",
     "output_type": "stream",
     "text": [
      "   ✅ Saved to data/sp500/LII.csv\n",
      "[288/503] ⬇️ Downloading LLY...\n"
     ]
    },
    {
     "name": "stderr",
     "output_type": "stream",
     "text": [
      "/tmp/ipykernel_117496/2701487849.py:17: FutureWarning: YF.download() has changed argument auto_adjust default to True\n",
      "  df = yf.download(ticker, start=start_date, end=end_date)\n",
      "[*********************100%***********************]  1 of 1 completed\n"
     ]
    },
    {
     "name": "stdout",
     "output_type": "stream",
     "text": [
      "   ✅ Saved to data/sp500/LLY.csv\n",
      "[289/503] ⬇️ Downloading LIN...\n"
     ]
    },
    {
     "name": "stderr",
     "output_type": "stream",
     "text": [
      "/tmp/ipykernel_117496/2701487849.py:17: FutureWarning: YF.download() has changed argument auto_adjust default to True\n",
      "  df = yf.download(ticker, start=start_date, end=end_date)\n",
      "[*********************100%***********************]  1 of 1 completed\n"
     ]
    },
    {
     "name": "stdout",
     "output_type": "stream",
     "text": [
      "   ✅ Saved to data/sp500/LIN.csv\n",
      "[290/503] ⬇️ Downloading LYV...\n"
     ]
    },
    {
     "name": "stderr",
     "output_type": "stream",
     "text": [
      "/tmp/ipykernel_117496/2701487849.py:17: FutureWarning: YF.download() has changed argument auto_adjust default to True\n",
      "  df = yf.download(ticker, start=start_date, end=end_date)\n",
      "[*********************100%***********************]  1 of 1 completed\n"
     ]
    },
    {
     "name": "stdout",
     "output_type": "stream",
     "text": [
      "   ✅ Saved to data/sp500/LYV.csv\n",
      "[291/503] ⬇️ Downloading LKQ...\n"
     ]
    },
    {
     "name": "stderr",
     "output_type": "stream",
     "text": [
      "/tmp/ipykernel_117496/2701487849.py:17: FutureWarning: YF.download() has changed argument auto_adjust default to True\n",
      "  df = yf.download(ticker, start=start_date, end=end_date)\n",
      "[*********************100%***********************]  1 of 1 completed\n"
     ]
    },
    {
     "name": "stdout",
     "output_type": "stream",
     "text": [
      "   ✅ Saved to data/sp500/LKQ.csv\n",
      "[292/503] ⬇️ Downloading LMT...\n"
     ]
    },
    {
     "name": "stderr",
     "output_type": "stream",
     "text": [
      "/tmp/ipykernel_117496/2701487849.py:17: FutureWarning: YF.download() has changed argument auto_adjust default to True\n",
      "  df = yf.download(ticker, start=start_date, end=end_date)\n",
      "[*********************100%***********************]  1 of 1 completed\n"
     ]
    },
    {
     "name": "stdout",
     "output_type": "stream",
     "text": [
      "   ✅ Saved to data/sp500/LMT.csv\n",
      "[293/503] ⬇️ Downloading L...\n"
     ]
    },
    {
     "name": "stderr",
     "output_type": "stream",
     "text": [
      "/tmp/ipykernel_117496/2701487849.py:17: FutureWarning: YF.download() has changed argument auto_adjust default to True\n",
      "  df = yf.download(ticker, start=start_date, end=end_date)\n",
      "[*********************100%***********************]  1 of 1 completed\n"
     ]
    },
    {
     "name": "stdout",
     "output_type": "stream",
     "text": [
      "   ✅ Saved to data/sp500/L.csv\n",
      "[294/503] ⬇️ Downloading LOW...\n"
     ]
    },
    {
     "name": "stderr",
     "output_type": "stream",
     "text": [
      "/tmp/ipykernel_117496/2701487849.py:17: FutureWarning: YF.download() has changed argument auto_adjust default to True\n",
      "  df = yf.download(ticker, start=start_date, end=end_date)\n",
      "[*********************100%***********************]  1 of 1 completed\n"
     ]
    },
    {
     "name": "stdout",
     "output_type": "stream",
     "text": [
      "   ✅ Saved to data/sp500/LOW.csv\n",
      "[295/503] ⬇️ Downloading LULU...\n"
     ]
    },
    {
     "name": "stderr",
     "output_type": "stream",
     "text": [
      "/tmp/ipykernel_117496/2701487849.py:17: FutureWarning: YF.download() has changed argument auto_adjust default to True\n",
      "  df = yf.download(ticker, start=start_date, end=end_date)\n",
      "[*********************100%***********************]  1 of 1 completed\n"
     ]
    },
    {
     "name": "stdout",
     "output_type": "stream",
     "text": [
      "   ✅ Saved to data/sp500/LULU.csv\n",
      "[296/503] ⬇️ Downloading LYB...\n"
     ]
    },
    {
     "name": "stderr",
     "output_type": "stream",
     "text": [
      "/tmp/ipykernel_117496/2701487849.py:17: FutureWarning: YF.download() has changed argument auto_adjust default to True\n",
      "  df = yf.download(ticker, start=start_date, end=end_date)\n",
      "[*********************100%***********************]  1 of 1 completed\n"
     ]
    },
    {
     "name": "stdout",
     "output_type": "stream",
     "text": [
      "   ✅ Saved to data/sp500/LYB.csv\n",
      "[297/503] ⬇️ Downloading MTB...\n"
     ]
    },
    {
     "name": "stderr",
     "output_type": "stream",
     "text": [
      "/tmp/ipykernel_117496/2701487849.py:17: FutureWarning: YF.download() has changed argument auto_adjust default to True\n",
      "  df = yf.download(ticker, start=start_date, end=end_date)\n",
      "[*********************100%***********************]  1 of 1 completed\n"
     ]
    },
    {
     "name": "stdout",
     "output_type": "stream",
     "text": [
      "   ✅ Saved to data/sp500/MTB.csv\n",
      "[298/503] ⬇️ Downloading MPC...\n"
     ]
    },
    {
     "name": "stderr",
     "output_type": "stream",
     "text": [
      "/tmp/ipykernel_117496/2701487849.py:17: FutureWarning: YF.download() has changed argument auto_adjust default to True\n",
      "  df = yf.download(ticker, start=start_date, end=end_date)\n",
      "[*********************100%***********************]  1 of 1 completed\n"
     ]
    },
    {
     "name": "stdout",
     "output_type": "stream",
     "text": [
      "   ✅ Saved to data/sp500/MPC.csv\n",
      "[299/503] ⬇️ Downloading MKTX...\n"
     ]
    },
    {
     "name": "stderr",
     "output_type": "stream",
     "text": [
      "/tmp/ipykernel_117496/2701487849.py:17: FutureWarning: YF.download() has changed argument auto_adjust default to True\n",
      "  df = yf.download(ticker, start=start_date, end=end_date)\n",
      "[*********************100%***********************]  1 of 1 completed\n"
     ]
    },
    {
     "name": "stdout",
     "output_type": "stream",
     "text": [
      "   ✅ Saved to data/sp500/MKTX.csv\n",
      "[300/503] ⬇️ Downloading MAR...\n"
     ]
    },
    {
     "name": "stderr",
     "output_type": "stream",
     "text": [
      "/tmp/ipykernel_117496/2701487849.py:17: FutureWarning: YF.download() has changed argument auto_adjust default to True\n",
      "  df = yf.download(ticker, start=start_date, end=end_date)\n",
      "[*********************100%***********************]  1 of 1 completed\n"
     ]
    },
    {
     "name": "stdout",
     "output_type": "stream",
     "text": [
      "   ✅ Saved to data/sp500/MAR.csv\n",
      "[301/503] ⬇️ Downloading MMC...\n"
     ]
    },
    {
     "name": "stderr",
     "output_type": "stream",
     "text": [
      "/tmp/ipykernel_117496/2701487849.py:17: FutureWarning: YF.download() has changed argument auto_adjust default to True\n",
      "  df = yf.download(ticker, start=start_date, end=end_date)\n",
      "[*********************100%***********************]  1 of 1 completed\n"
     ]
    },
    {
     "name": "stdout",
     "output_type": "stream",
     "text": [
      "   ✅ Saved to data/sp500/MMC.csv\n",
      "[302/503] ⬇️ Downloading MLM...\n"
     ]
    },
    {
     "name": "stderr",
     "output_type": "stream",
     "text": [
      "/tmp/ipykernel_117496/2701487849.py:17: FutureWarning: YF.download() has changed argument auto_adjust default to True\n",
      "  df = yf.download(ticker, start=start_date, end=end_date)\n",
      "[*********************100%***********************]  1 of 1 completed\n"
     ]
    },
    {
     "name": "stdout",
     "output_type": "stream",
     "text": [
      "   ✅ Saved to data/sp500/MLM.csv\n",
      "[303/503] ⬇️ Downloading MAS...\n"
     ]
    },
    {
     "name": "stderr",
     "output_type": "stream",
     "text": [
      "/tmp/ipykernel_117496/2701487849.py:17: FutureWarning: YF.download() has changed argument auto_adjust default to True\n",
      "  df = yf.download(ticker, start=start_date, end=end_date)\n",
      "[*********************100%***********************]  1 of 1 completed\n"
     ]
    },
    {
     "name": "stdout",
     "output_type": "stream",
     "text": [
      "   ✅ Saved to data/sp500/MAS.csv\n",
      "[304/503] ⬇️ Downloading MA...\n"
     ]
    },
    {
     "name": "stderr",
     "output_type": "stream",
     "text": [
      "/tmp/ipykernel_117496/2701487849.py:17: FutureWarning: YF.download() has changed argument auto_adjust default to True\n",
      "  df = yf.download(ticker, start=start_date, end=end_date)\n",
      "[*********************100%***********************]  1 of 1 completed\n"
     ]
    },
    {
     "name": "stdout",
     "output_type": "stream",
     "text": [
      "   ✅ Saved to data/sp500/MA.csv\n",
      "[305/503] ⬇️ Downloading MTCH...\n"
     ]
    },
    {
     "name": "stderr",
     "output_type": "stream",
     "text": [
      "/tmp/ipykernel_117496/2701487849.py:17: FutureWarning: YF.download() has changed argument auto_adjust default to True\n",
      "  df = yf.download(ticker, start=start_date, end=end_date)\n",
      "[*********************100%***********************]  1 of 1 completed\n"
     ]
    },
    {
     "name": "stdout",
     "output_type": "stream",
     "text": [
      "   ✅ Saved to data/sp500/MTCH.csv\n",
      "[306/503] ⬇️ Downloading MKC...\n"
     ]
    },
    {
     "name": "stderr",
     "output_type": "stream",
     "text": [
      "/tmp/ipykernel_117496/2701487849.py:17: FutureWarning: YF.download() has changed argument auto_adjust default to True\n",
      "  df = yf.download(ticker, start=start_date, end=end_date)\n",
      "[*********************100%***********************]  1 of 1 completed\n"
     ]
    },
    {
     "name": "stdout",
     "output_type": "stream",
     "text": [
      "   ✅ Saved to data/sp500/MKC.csv\n",
      "[307/503] ⬇️ Downloading MCD...\n"
     ]
    },
    {
     "name": "stderr",
     "output_type": "stream",
     "text": [
      "/tmp/ipykernel_117496/2701487849.py:17: FutureWarning: YF.download() has changed argument auto_adjust default to True\n",
      "  df = yf.download(ticker, start=start_date, end=end_date)\n",
      "[*********************100%***********************]  1 of 1 completed\n"
     ]
    },
    {
     "name": "stdout",
     "output_type": "stream",
     "text": [
      "   ✅ Saved to data/sp500/MCD.csv\n",
      "[308/503] ⬇️ Downloading MCK...\n"
     ]
    },
    {
     "name": "stderr",
     "output_type": "stream",
     "text": [
      "/tmp/ipykernel_117496/2701487849.py:17: FutureWarning: YF.download() has changed argument auto_adjust default to True\n",
      "  df = yf.download(ticker, start=start_date, end=end_date)\n",
      "[*********************100%***********************]  1 of 1 completed\n"
     ]
    },
    {
     "name": "stdout",
     "output_type": "stream",
     "text": [
      "   ✅ Saved to data/sp500/MCK.csv\n",
      "[309/503] ⬇️ Downloading MDT...\n"
     ]
    },
    {
     "name": "stderr",
     "output_type": "stream",
     "text": [
      "/tmp/ipykernel_117496/2701487849.py:17: FutureWarning: YF.download() has changed argument auto_adjust default to True\n",
      "  df = yf.download(ticker, start=start_date, end=end_date)\n",
      "[*********************100%***********************]  1 of 1 completed\n"
     ]
    },
    {
     "name": "stdout",
     "output_type": "stream",
     "text": [
      "   ✅ Saved to data/sp500/MDT.csv\n",
      "[310/503] ⬇️ Downloading MRK...\n"
     ]
    },
    {
     "name": "stderr",
     "output_type": "stream",
     "text": [
      "/tmp/ipykernel_117496/2701487849.py:17: FutureWarning: YF.download() has changed argument auto_adjust default to True\n",
      "  df = yf.download(ticker, start=start_date, end=end_date)\n",
      "[*********************100%***********************]  1 of 1 completed\n"
     ]
    },
    {
     "name": "stdout",
     "output_type": "stream",
     "text": [
      "   ✅ Saved to data/sp500/MRK.csv\n",
      "[311/503] ⬇️ Downloading META...\n"
     ]
    },
    {
     "name": "stderr",
     "output_type": "stream",
     "text": [
      "/tmp/ipykernel_117496/2701487849.py:17: FutureWarning: YF.download() has changed argument auto_adjust default to True\n",
      "  df = yf.download(ticker, start=start_date, end=end_date)\n",
      "[*********************100%***********************]  1 of 1 completed\n"
     ]
    },
    {
     "name": "stdout",
     "output_type": "stream",
     "text": [
      "   ✅ Saved to data/sp500/META.csv\n",
      "[312/503] ⬇️ Downloading MET...\n"
     ]
    },
    {
     "name": "stderr",
     "output_type": "stream",
     "text": [
      "/tmp/ipykernel_117496/2701487849.py:17: FutureWarning: YF.download() has changed argument auto_adjust default to True\n",
      "  df = yf.download(ticker, start=start_date, end=end_date)\n",
      "[*********************100%***********************]  1 of 1 completed\n"
     ]
    },
    {
     "name": "stdout",
     "output_type": "stream",
     "text": [
      "   ✅ Saved to data/sp500/MET.csv\n",
      "[313/503] ⬇️ Downloading MTD...\n"
     ]
    },
    {
     "name": "stderr",
     "output_type": "stream",
     "text": [
      "/tmp/ipykernel_117496/2701487849.py:17: FutureWarning: YF.download() has changed argument auto_adjust default to True\n",
      "  df = yf.download(ticker, start=start_date, end=end_date)\n",
      "[*********************100%***********************]  1 of 1 completed\n"
     ]
    },
    {
     "name": "stdout",
     "output_type": "stream",
     "text": [
      "   ✅ Saved to data/sp500/MTD.csv\n",
      "[314/503] ⬇️ Downloading MGM...\n"
     ]
    },
    {
     "name": "stderr",
     "output_type": "stream",
     "text": [
      "/tmp/ipykernel_117496/2701487849.py:17: FutureWarning: YF.download() has changed argument auto_adjust default to True\n",
      "  df = yf.download(ticker, start=start_date, end=end_date)\n",
      "[*********************100%***********************]  1 of 1 completed\n"
     ]
    },
    {
     "name": "stdout",
     "output_type": "stream",
     "text": [
      "   ✅ Saved to data/sp500/MGM.csv\n",
      "[315/503] ⬇️ Downloading MCHP...\n"
     ]
    },
    {
     "name": "stderr",
     "output_type": "stream",
     "text": [
      "/tmp/ipykernel_117496/2701487849.py:17: FutureWarning: YF.download() has changed argument auto_adjust default to True\n",
      "  df = yf.download(ticker, start=start_date, end=end_date)\n",
      "[*********************100%***********************]  1 of 1 completed\n"
     ]
    },
    {
     "name": "stdout",
     "output_type": "stream",
     "text": [
      "   ✅ Saved to data/sp500/MCHP.csv\n",
      "[316/503] ⬇️ Downloading MU...\n"
     ]
    },
    {
     "name": "stderr",
     "output_type": "stream",
     "text": [
      "/tmp/ipykernel_117496/2701487849.py:17: FutureWarning: YF.download() has changed argument auto_adjust default to True\n",
      "  df = yf.download(ticker, start=start_date, end=end_date)\n",
      "[*********************100%***********************]  1 of 1 completed\n"
     ]
    },
    {
     "name": "stdout",
     "output_type": "stream",
     "text": [
      "   ✅ Saved to data/sp500/MU.csv\n",
      "[317/503] ⬇️ Downloading MSFT...\n"
     ]
    },
    {
     "name": "stderr",
     "output_type": "stream",
     "text": [
      "/tmp/ipykernel_117496/2701487849.py:17: FutureWarning: YF.download() has changed argument auto_adjust default to True\n",
      "  df = yf.download(ticker, start=start_date, end=end_date)\n",
      "[*********************100%***********************]  1 of 1 completed\n"
     ]
    },
    {
     "name": "stdout",
     "output_type": "stream",
     "text": [
      "   ✅ Saved to data/sp500/MSFT.csv\n",
      "[318/503] ⬇️ Downloading MAA...\n"
     ]
    },
    {
     "name": "stderr",
     "output_type": "stream",
     "text": [
      "/tmp/ipykernel_117496/2701487849.py:17: FutureWarning: YF.download() has changed argument auto_adjust default to True\n",
      "  df = yf.download(ticker, start=start_date, end=end_date)\n",
      "[*********************100%***********************]  1 of 1 completed\n"
     ]
    },
    {
     "name": "stdout",
     "output_type": "stream",
     "text": [
      "   ✅ Saved to data/sp500/MAA.csv\n",
      "[319/503] ⬇️ Downloading MRNA...\n"
     ]
    },
    {
     "name": "stderr",
     "output_type": "stream",
     "text": [
      "/tmp/ipykernel_117496/2701487849.py:17: FutureWarning: YF.download() has changed argument auto_adjust default to True\n",
      "  df = yf.download(ticker, start=start_date, end=end_date)\n",
      "[*********************100%***********************]  1 of 1 completed\n"
     ]
    },
    {
     "name": "stdout",
     "output_type": "stream",
     "text": [
      "   ✅ Saved to data/sp500/MRNA.csv\n",
      "[320/503] ⬇️ Downloading MHK...\n"
     ]
    },
    {
     "name": "stderr",
     "output_type": "stream",
     "text": [
      "/tmp/ipykernel_117496/2701487849.py:17: FutureWarning: YF.download() has changed argument auto_adjust default to True\n",
      "  df = yf.download(ticker, start=start_date, end=end_date)\n",
      "[*********************100%***********************]  1 of 1 completed\n"
     ]
    },
    {
     "name": "stdout",
     "output_type": "stream",
     "text": [
      "   ✅ Saved to data/sp500/MHK.csv\n",
      "[321/503] ⬇️ Downloading MOH...\n"
     ]
    },
    {
     "name": "stderr",
     "output_type": "stream",
     "text": [
      "/tmp/ipykernel_117496/2701487849.py:17: FutureWarning: YF.download() has changed argument auto_adjust default to True\n",
      "  df = yf.download(ticker, start=start_date, end=end_date)\n",
      "[*********************100%***********************]  1 of 1 completed\n"
     ]
    },
    {
     "name": "stdout",
     "output_type": "stream",
     "text": [
      "   ✅ Saved to data/sp500/MOH.csv\n",
      "[322/503] ⬇️ Downloading TAP...\n"
     ]
    },
    {
     "name": "stderr",
     "output_type": "stream",
     "text": [
      "/tmp/ipykernel_117496/2701487849.py:17: FutureWarning: YF.download() has changed argument auto_adjust default to True\n",
      "  df = yf.download(ticker, start=start_date, end=end_date)\n",
      "[*********************100%***********************]  1 of 1 completed\n"
     ]
    },
    {
     "name": "stdout",
     "output_type": "stream",
     "text": [
      "   ✅ Saved to data/sp500/TAP.csv\n",
      "[323/503] ⬇️ Downloading MDLZ...\n"
     ]
    },
    {
     "name": "stderr",
     "output_type": "stream",
     "text": [
      "/tmp/ipykernel_117496/2701487849.py:17: FutureWarning: YF.download() has changed argument auto_adjust default to True\n",
      "  df = yf.download(ticker, start=start_date, end=end_date)\n",
      "[*********************100%***********************]  1 of 1 completed\n"
     ]
    },
    {
     "name": "stdout",
     "output_type": "stream",
     "text": [
      "   ✅ Saved to data/sp500/MDLZ.csv\n",
      "[324/503] ⬇️ Downloading MPWR...\n"
     ]
    },
    {
     "name": "stderr",
     "output_type": "stream",
     "text": [
      "/tmp/ipykernel_117496/2701487849.py:17: FutureWarning: YF.download() has changed argument auto_adjust default to True\n",
      "  df = yf.download(ticker, start=start_date, end=end_date)\n",
      "[*********************100%***********************]  1 of 1 completed\n"
     ]
    },
    {
     "name": "stdout",
     "output_type": "stream",
     "text": [
      "   ✅ Saved to data/sp500/MPWR.csv\n",
      "[325/503] ⬇️ Downloading MNST...\n"
     ]
    },
    {
     "name": "stderr",
     "output_type": "stream",
     "text": [
      "/tmp/ipykernel_117496/2701487849.py:17: FutureWarning: YF.download() has changed argument auto_adjust default to True\n",
      "  df = yf.download(ticker, start=start_date, end=end_date)\n",
      "[*********************100%***********************]  1 of 1 completed\n"
     ]
    },
    {
     "name": "stdout",
     "output_type": "stream",
     "text": [
      "   ✅ Saved to data/sp500/MNST.csv\n",
      "[326/503] ⬇️ Downloading MCO...\n"
     ]
    },
    {
     "name": "stderr",
     "output_type": "stream",
     "text": [
      "/tmp/ipykernel_117496/2701487849.py:17: FutureWarning: YF.download() has changed argument auto_adjust default to True\n",
      "  df = yf.download(ticker, start=start_date, end=end_date)\n",
      "[*********************100%***********************]  1 of 1 completed\n"
     ]
    },
    {
     "name": "stdout",
     "output_type": "stream",
     "text": [
      "   ✅ Saved to data/sp500/MCO.csv\n",
      "[327/503] ⬇️ Downloading MS...\n"
     ]
    },
    {
     "name": "stderr",
     "output_type": "stream",
     "text": [
      "/tmp/ipykernel_117496/2701487849.py:17: FutureWarning: YF.download() has changed argument auto_adjust default to True\n",
      "  df = yf.download(ticker, start=start_date, end=end_date)\n",
      "[*********************100%***********************]  1 of 1 completed\n"
     ]
    },
    {
     "name": "stdout",
     "output_type": "stream",
     "text": [
      "   ✅ Saved to data/sp500/MS.csv\n",
      "[328/503] ⬇️ Downloading MOS...\n"
     ]
    },
    {
     "name": "stderr",
     "output_type": "stream",
     "text": [
      "/tmp/ipykernel_117496/2701487849.py:17: FutureWarning: YF.download() has changed argument auto_adjust default to True\n",
      "  df = yf.download(ticker, start=start_date, end=end_date)\n",
      "[*********************100%***********************]  1 of 1 completed\n"
     ]
    },
    {
     "name": "stdout",
     "output_type": "stream",
     "text": [
      "   ✅ Saved to data/sp500/MOS.csv\n",
      "[329/503] ⬇️ Downloading MSI...\n"
     ]
    },
    {
     "name": "stderr",
     "output_type": "stream",
     "text": [
      "/tmp/ipykernel_117496/2701487849.py:17: FutureWarning: YF.download() has changed argument auto_adjust default to True\n",
      "  df = yf.download(ticker, start=start_date, end=end_date)\n",
      "[*********************100%***********************]  1 of 1 completed\n"
     ]
    },
    {
     "name": "stdout",
     "output_type": "stream",
     "text": [
      "   ✅ Saved to data/sp500/MSI.csv\n",
      "[330/503] ⬇️ Downloading MSCI...\n"
     ]
    },
    {
     "name": "stderr",
     "output_type": "stream",
     "text": [
      "/tmp/ipykernel_117496/2701487849.py:17: FutureWarning: YF.download() has changed argument auto_adjust default to True\n",
      "  df = yf.download(ticker, start=start_date, end=end_date)\n",
      "[*********************100%***********************]  1 of 1 completed\n"
     ]
    },
    {
     "name": "stdout",
     "output_type": "stream",
     "text": [
      "   ✅ Saved to data/sp500/MSCI.csv\n",
      "[331/503] ⬇️ Downloading NDAQ...\n"
     ]
    },
    {
     "name": "stderr",
     "output_type": "stream",
     "text": [
      "/tmp/ipykernel_117496/2701487849.py:17: FutureWarning: YF.download() has changed argument auto_adjust default to True\n",
      "  df = yf.download(ticker, start=start_date, end=end_date)\n",
      "[*********************100%***********************]  1 of 1 completed\n"
     ]
    },
    {
     "name": "stdout",
     "output_type": "stream",
     "text": [
      "   ✅ Saved to data/sp500/NDAQ.csv\n",
      "[332/503] ⬇️ Downloading NTAP...\n"
     ]
    },
    {
     "name": "stderr",
     "output_type": "stream",
     "text": [
      "/tmp/ipykernel_117496/2701487849.py:17: FutureWarning: YF.download() has changed argument auto_adjust default to True\n",
      "  df = yf.download(ticker, start=start_date, end=end_date)\n",
      "[*********************100%***********************]  1 of 1 completed\n"
     ]
    },
    {
     "name": "stdout",
     "output_type": "stream",
     "text": [
      "   ✅ Saved to data/sp500/NTAP.csv\n",
      "[333/503] ⬇️ Downloading NFLX...\n"
     ]
    },
    {
     "name": "stderr",
     "output_type": "stream",
     "text": [
      "/tmp/ipykernel_117496/2701487849.py:17: FutureWarning: YF.download() has changed argument auto_adjust default to True\n",
      "  df = yf.download(ticker, start=start_date, end=end_date)\n",
      "[*********************100%***********************]  1 of 1 completed\n"
     ]
    },
    {
     "name": "stdout",
     "output_type": "stream",
     "text": [
      "   ✅ Saved to data/sp500/NFLX.csv\n",
      "[334/503] ⬇️ Downloading NEM...\n"
     ]
    },
    {
     "name": "stderr",
     "output_type": "stream",
     "text": [
      "/tmp/ipykernel_117496/2701487849.py:17: FutureWarning: YF.download() has changed argument auto_adjust default to True\n",
      "  df = yf.download(ticker, start=start_date, end=end_date)\n",
      "[*********************100%***********************]  1 of 1 completed\n"
     ]
    },
    {
     "name": "stdout",
     "output_type": "stream",
     "text": [
      "   ✅ Saved to data/sp500/NEM.csv\n",
      "[335/503] ⬇️ Downloading NWSA...\n"
     ]
    },
    {
     "name": "stderr",
     "output_type": "stream",
     "text": [
      "/tmp/ipykernel_117496/2701487849.py:17: FutureWarning: YF.download() has changed argument auto_adjust default to True\n",
      "  df = yf.download(ticker, start=start_date, end=end_date)\n",
      "[*********************100%***********************]  1 of 1 completed\n"
     ]
    },
    {
     "name": "stdout",
     "output_type": "stream",
     "text": [
      "   ✅ Saved to data/sp500/NWSA.csv\n",
      "[336/503] ⬇️ Downloading NWS...\n"
     ]
    },
    {
     "name": "stderr",
     "output_type": "stream",
     "text": [
      "/tmp/ipykernel_117496/2701487849.py:17: FutureWarning: YF.download() has changed argument auto_adjust default to True\n",
      "  df = yf.download(ticker, start=start_date, end=end_date)\n",
      "[*********************100%***********************]  1 of 1 completed\n"
     ]
    },
    {
     "name": "stdout",
     "output_type": "stream",
     "text": [
      "   ✅ Saved to data/sp500/NWS.csv\n",
      "[337/503] ⬇️ Downloading NEE...\n"
     ]
    },
    {
     "name": "stderr",
     "output_type": "stream",
     "text": [
      "/tmp/ipykernel_117496/2701487849.py:17: FutureWarning: YF.download() has changed argument auto_adjust default to True\n",
      "  df = yf.download(ticker, start=start_date, end=end_date)\n",
      "[*********************100%***********************]  1 of 1 completed\n"
     ]
    },
    {
     "name": "stdout",
     "output_type": "stream",
     "text": [
      "   ✅ Saved to data/sp500/NEE.csv\n",
      "[338/503] ⬇️ Downloading NKE...\n"
     ]
    },
    {
     "name": "stderr",
     "output_type": "stream",
     "text": [
      "/tmp/ipykernel_117496/2701487849.py:17: FutureWarning: YF.download() has changed argument auto_adjust default to True\n",
      "  df = yf.download(ticker, start=start_date, end=end_date)\n",
      "[*********************100%***********************]  1 of 1 completed\n"
     ]
    },
    {
     "name": "stdout",
     "output_type": "stream",
     "text": [
      "   ✅ Saved to data/sp500/NKE.csv\n",
      "[339/503] ⬇️ Downloading NI...\n"
     ]
    },
    {
     "name": "stderr",
     "output_type": "stream",
     "text": [
      "/tmp/ipykernel_117496/2701487849.py:17: FutureWarning: YF.download() has changed argument auto_adjust default to True\n",
      "  df = yf.download(ticker, start=start_date, end=end_date)\n",
      "[*********************100%***********************]  1 of 1 completed\n"
     ]
    },
    {
     "name": "stdout",
     "output_type": "stream",
     "text": [
      "   ✅ Saved to data/sp500/NI.csv\n",
      "[340/503] ⬇️ Downloading NDSN...\n"
     ]
    },
    {
     "name": "stderr",
     "output_type": "stream",
     "text": [
      "/tmp/ipykernel_117496/2701487849.py:17: FutureWarning: YF.download() has changed argument auto_adjust default to True\n",
      "  df = yf.download(ticker, start=start_date, end=end_date)\n",
      "[*********************100%***********************]  1 of 1 completed\n"
     ]
    },
    {
     "name": "stdout",
     "output_type": "stream",
     "text": [
      "   ✅ Saved to data/sp500/NDSN.csv\n",
      "[341/503] ⬇️ Downloading NSC...\n"
     ]
    },
    {
     "name": "stderr",
     "output_type": "stream",
     "text": [
      "/tmp/ipykernel_117496/2701487849.py:17: FutureWarning: YF.download() has changed argument auto_adjust default to True\n",
      "  df = yf.download(ticker, start=start_date, end=end_date)\n",
      "[*********************100%***********************]  1 of 1 completed\n"
     ]
    },
    {
     "name": "stdout",
     "output_type": "stream",
     "text": [
      "   ✅ Saved to data/sp500/NSC.csv\n",
      "[342/503] ⬇️ Downloading NTRS...\n"
     ]
    },
    {
     "name": "stderr",
     "output_type": "stream",
     "text": [
      "/tmp/ipykernel_117496/2701487849.py:17: FutureWarning: YF.download() has changed argument auto_adjust default to True\n",
      "  df = yf.download(ticker, start=start_date, end=end_date)\n",
      "[*********************100%***********************]  1 of 1 completed\n"
     ]
    },
    {
     "name": "stdout",
     "output_type": "stream",
     "text": [
      "   ✅ Saved to data/sp500/NTRS.csv\n",
      "[343/503] ⬇️ Downloading NOC...\n"
     ]
    },
    {
     "name": "stderr",
     "output_type": "stream",
     "text": [
      "/tmp/ipykernel_117496/2701487849.py:17: FutureWarning: YF.download() has changed argument auto_adjust default to True\n",
      "  df = yf.download(ticker, start=start_date, end=end_date)\n",
      "[*********************100%***********************]  1 of 1 completed\n"
     ]
    },
    {
     "name": "stdout",
     "output_type": "stream",
     "text": [
      "   ✅ Saved to data/sp500/NOC.csv\n",
      "[344/503] ⬇️ Downloading NCLH...\n"
     ]
    },
    {
     "name": "stderr",
     "output_type": "stream",
     "text": [
      "/tmp/ipykernel_117496/2701487849.py:17: FutureWarning: YF.download() has changed argument auto_adjust default to True\n",
      "  df = yf.download(ticker, start=start_date, end=end_date)\n",
      "[*********************100%***********************]  1 of 1 completed\n"
     ]
    },
    {
     "name": "stdout",
     "output_type": "stream",
     "text": [
      "   ✅ Saved to data/sp500/NCLH.csv\n",
      "[345/503] ⬇️ Downloading NRG...\n"
     ]
    },
    {
     "name": "stderr",
     "output_type": "stream",
     "text": [
      "/tmp/ipykernel_117496/2701487849.py:17: FutureWarning: YF.download() has changed argument auto_adjust default to True\n",
      "  df = yf.download(ticker, start=start_date, end=end_date)\n",
      "[*********************100%***********************]  1 of 1 completed\n"
     ]
    },
    {
     "name": "stdout",
     "output_type": "stream",
     "text": [
      "   ✅ Saved to data/sp500/NRG.csv\n",
      "[346/503] ⬇️ Downloading NUE...\n"
     ]
    },
    {
     "name": "stderr",
     "output_type": "stream",
     "text": [
      "/tmp/ipykernel_117496/2701487849.py:17: FutureWarning: YF.download() has changed argument auto_adjust default to True\n",
      "  df = yf.download(ticker, start=start_date, end=end_date)\n",
      "[*********************100%***********************]  1 of 1 completed\n"
     ]
    },
    {
     "name": "stdout",
     "output_type": "stream",
     "text": [
      "   ✅ Saved to data/sp500/NUE.csv\n",
      "[347/503] ⬇️ Downloading NVDA...\n"
     ]
    },
    {
     "name": "stderr",
     "output_type": "stream",
     "text": [
      "/tmp/ipykernel_117496/2701487849.py:17: FutureWarning: YF.download() has changed argument auto_adjust default to True\n",
      "  df = yf.download(ticker, start=start_date, end=end_date)\n",
      "[*********************100%***********************]  1 of 1 completed\n"
     ]
    },
    {
     "name": "stdout",
     "output_type": "stream",
     "text": [
      "   ✅ Saved to data/sp500/NVDA.csv\n",
      "[348/503] ⬇️ Downloading NVR...\n"
     ]
    },
    {
     "name": "stderr",
     "output_type": "stream",
     "text": [
      "/tmp/ipykernel_117496/2701487849.py:17: FutureWarning: YF.download() has changed argument auto_adjust default to True\n",
      "  df = yf.download(ticker, start=start_date, end=end_date)\n",
      "[*********************100%***********************]  1 of 1 completed\n"
     ]
    },
    {
     "name": "stdout",
     "output_type": "stream",
     "text": [
      "   ✅ Saved to data/sp500/NVR.csv\n",
      "[349/503] ⬇️ Downloading NXPI...\n"
     ]
    },
    {
     "name": "stderr",
     "output_type": "stream",
     "text": [
      "/tmp/ipykernel_117496/2701487849.py:17: FutureWarning: YF.download() has changed argument auto_adjust default to True\n",
      "  df = yf.download(ticker, start=start_date, end=end_date)\n",
      "[*********************100%***********************]  1 of 1 completed\n"
     ]
    },
    {
     "name": "stdout",
     "output_type": "stream",
     "text": [
      "   ✅ Saved to data/sp500/NXPI.csv\n",
      "[350/503] ⬇️ Downloading ORLY...\n"
     ]
    },
    {
     "name": "stderr",
     "output_type": "stream",
     "text": [
      "/tmp/ipykernel_117496/2701487849.py:17: FutureWarning: YF.download() has changed argument auto_adjust default to True\n",
      "  df = yf.download(ticker, start=start_date, end=end_date)\n",
      "[*********************100%***********************]  1 of 1 completed\n"
     ]
    },
    {
     "name": "stdout",
     "output_type": "stream",
     "text": [
      "   ✅ Saved to data/sp500/ORLY.csv\n",
      "[351/503] ⬇️ Downloading OXY...\n"
     ]
    },
    {
     "name": "stderr",
     "output_type": "stream",
     "text": [
      "/tmp/ipykernel_117496/2701487849.py:17: FutureWarning: YF.download() has changed argument auto_adjust default to True\n",
      "  df = yf.download(ticker, start=start_date, end=end_date)\n",
      "[*********************100%***********************]  1 of 1 completed\n"
     ]
    },
    {
     "name": "stdout",
     "output_type": "stream",
     "text": [
      "   ✅ Saved to data/sp500/OXY.csv\n",
      "[352/503] ⬇️ Downloading ODFL...\n"
     ]
    },
    {
     "name": "stderr",
     "output_type": "stream",
     "text": [
      "/tmp/ipykernel_117496/2701487849.py:17: FutureWarning: YF.download() has changed argument auto_adjust default to True\n",
      "  df = yf.download(ticker, start=start_date, end=end_date)\n",
      "[*********************100%***********************]  1 of 1 completed\n"
     ]
    },
    {
     "name": "stdout",
     "output_type": "stream",
     "text": [
      "   ✅ Saved to data/sp500/ODFL.csv\n",
      "[353/503] ⬇️ Downloading OMC...\n"
     ]
    },
    {
     "name": "stderr",
     "output_type": "stream",
     "text": [
      "/tmp/ipykernel_117496/2701487849.py:17: FutureWarning: YF.download() has changed argument auto_adjust default to True\n",
      "  df = yf.download(ticker, start=start_date, end=end_date)\n",
      "[*********************100%***********************]  1 of 1 completed\n"
     ]
    },
    {
     "name": "stdout",
     "output_type": "stream",
     "text": [
      "   ✅ Saved to data/sp500/OMC.csv\n",
      "[354/503] ⬇️ Downloading ON...\n"
     ]
    },
    {
     "name": "stderr",
     "output_type": "stream",
     "text": [
      "/tmp/ipykernel_117496/2701487849.py:17: FutureWarning: YF.download() has changed argument auto_adjust default to True\n",
      "  df = yf.download(ticker, start=start_date, end=end_date)\n",
      "[*********************100%***********************]  1 of 1 completed\n"
     ]
    },
    {
     "name": "stdout",
     "output_type": "stream",
     "text": [
      "   ✅ Saved to data/sp500/ON.csv\n",
      "[355/503] ⬇️ Downloading OKE...\n"
     ]
    },
    {
     "name": "stderr",
     "output_type": "stream",
     "text": [
      "/tmp/ipykernel_117496/2701487849.py:17: FutureWarning: YF.download() has changed argument auto_adjust default to True\n",
      "  df = yf.download(ticker, start=start_date, end=end_date)\n",
      "[*********************100%***********************]  1 of 1 completed\n"
     ]
    },
    {
     "name": "stdout",
     "output_type": "stream",
     "text": [
      "   ✅ Saved to data/sp500/OKE.csv\n",
      "[356/503] ⬇️ Downloading ORCL...\n"
     ]
    },
    {
     "name": "stderr",
     "output_type": "stream",
     "text": [
      "/tmp/ipykernel_117496/2701487849.py:17: FutureWarning: YF.download() has changed argument auto_adjust default to True\n",
      "  df = yf.download(ticker, start=start_date, end=end_date)\n",
      "[*********************100%***********************]  1 of 1 completed\n"
     ]
    },
    {
     "name": "stdout",
     "output_type": "stream",
     "text": [
      "   ✅ Saved to data/sp500/ORCL.csv\n",
      "[357/503] ⬇️ Downloading OTIS...\n"
     ]
    },
    {
     "name": "stderr",
     "output_type": "stream",
     "text": [
      "/tmp/ipykernel_117496/2701487849.py:17: FutureWarning: YF.download() has changed argument auto_adjust default to True\n",
      "  df = yf.download(ticker, start=start_date, end=end_date)\n",
      "[*********************100%***********************]  1 of 1 completed\n"
     ]
    },
    {
     "name": "stdout",
     "output_type": "stream",
     "text": [
      "   ✅ Saved to data/sp500/OTIS.csv\n",
      "[358/503] ⬇️ Downloading PCAR...\n"
     ]
    },
    {
     "name": "stderr",
     "output_type": "stream",
     "text": [
      "/tmp/ipykernel_117496/2701487849.py:17: FutureWarning: YF.download() has changed argument auto_adjust default to True\n",
      "  df = yf.download(ticker, start=start_date, end=end_date)\n",
      "[*********************100%***********************]  1 of 1 completed\n"
     ]
    },
    {
     "name": "stdout",
     "output_type": "stream",
     "text": [
      "   ✅ Saved to data/sp500/PCAR.csv\n",
      "[359/503] ⬇️ Downloading PKG...\n"
     ]
    },
    {
     "name": "stderr",
     "output_type": "stream",
     "text": [
      "/tmp/ipykernel_117496/2701487849.py:17: FutureWarning: YF.download() has changed argument auto_adjust default to True\n",
      "  df = yf.download(ticker, start=start_date, end=end_date)\n",
      "[*********************100%***********************]  1 of 1 completed\n"
     ]
    },
    {
     "name": "stdout",
     "output_type": "stream",
     "text": [
      "   ✅ Saved to data/sp500/PKG.csv\n",
      "[360/503] ⬇️ Downloading PLTR...\n"
     ]
    },
    {
     "name": "stderr",
     "output_type": "stream",
     "text": [
      "/tmp/ipykernel_117496/2701487849.py:17: FutureWarning: YF.download() has changed argument auto_adjust default to True\n",
      "  df = yf.download(ticker, start=start_date, end=end_date)\n",
      "[*********************100%***********************]  1 of 1 completed\n"
     ]
    },
    {
     "name": "stdout",
     "output_type": "stream",
     "text": [
      "   ✅ Saved to data/sp500/PLTR.csv\n",
      "[361/503] ⬇️ Downloading PANW...\n"
     ]
    },
    {
     "name": "stderr",
     "output_type": "stream",
     "text": [
      "/tmp/ipykernel_117496/2701487849.py:17: FutureWarning: YF.download() has changed argument auto_adjust default to True\n",
      "  df = yf.download(ticker, start=start_date, end=end_date)\n",
      "[*********************100%***********************]  1 of 1 completed\n"
     ]
    },
    {
     "name": "stdout",
     "output_type": "stream",
     "text": [
      "   ✅ Saved to data/sp500/PANW.csv\n",
      "[362/503] ⬇️ Downloading PSKY...\n"
     ]
    },
    {
     "name": "stderr",
     "output_type": "stream",
     "text": [
      "/tmp/ipykernel_117496/2701487849.py:17: FutureWarning: YF.download() has changed argument auto_adjust default to True\n",
      "  df = yf.download(ticker, start=start_date, end=end_date)\n",
      "[*********************100%***********************]  1 of 1 completed\n"
     ]
    },
    {
     "name": "stdout",
     "output_type": "stream",
     "text": [
      "   ✅ Saved to data/sp500/PSKY.csv\n",
      "[363/503] ⬇️ Downloading PH...\n"
     ]
    },
    {
     "name": "stderr",
     "output_type": "stream",
     "text": [
      "/tmp/ipykernel_117496/2701487849.py:17: FutureWarning: YF.download() has changed argument auto_adjust default to True\n",
      "  df = yf.download(ticker, start=start_date, end=end_date)\n",
      "[*********************100%***********************]  1 of 1 completed\n"
     ]
    },
    {
     "name": "stdout",
     "output_type": "stream",
     "text": [
      "   ✅ Saved to data/sp500/PH.csv\n",
      "[364/503] ⬇️ Downloading PAYX...\n"
     ]
    },
    {
     "name": "stderr",
     "output_type": "stream",
     "text": [
      "/tmp/ipykernel_117496/2701487849.py:17: FutureWarning: YF.download() has changed argument auto_adjust default to True\n",
      "  df = yf.download(ticker, start=start_date, end=end_date)\n",
      "[*********************100%***********************]  1 of 1 completed\n"
     ]
    },
    {
     "name": "stdout",
     "output_type": "stream",
     "text": [
      "   ✅ Saved to data/sp500/PAYX.csv\n",
      "[365/503] ⬇️ Downloading PAYC...\n"
     ]
    },
    {
     "name": "stderr",
     "output_type": "stream",
     "text": [
      "/tmp/ipykernel_117496/2701487849.py:17: FutureWarning: YF.download() has changed argument auto_adjust default to True\n",
      "  df = yf.download(ticker, start=start_date, end=end_date)\n",
      "[*********************100%***********************]  1 of 1 completed\n"
     ]
    },
    {
     "name": "stdout",
     "output_type": "stream",
     "text": [
      "   ✅ Saved to data/sp500/PAYC.csv\n",
      "[366/503] ⬇️ Downloading PYPL...\n"
     ]
    },
    {
     "name": "stderr",
     "output_type": "stream",
     "text": [
      "/tmp/ipykernel_117496/2701487849.py:17: FutureWarning: YF.download() has changed argument auto_adjust default to True\n",
      "  df = yf.download(ticker, start=start_date, end=end_date)\n",
      "[*********************100%***********************]  1 of 1 completed\n"
     ]
    },
    {
     "name": "stdout",
     "output_type": "stream",
     "text": [
      "   ✅ Saved to data/sp500/PYPL.csv\n",
      "[367/503] ⬇️ Downloading PNR...\n"
     ]
    },
    {
     "name": "stderr",
     "output_type": "stream",
     "text": [
      "/tmp/ipykernel_117496/2701487849.py:17: FutureWarning: YF.download() has changed argument auto_adjust default to True\n",
      "  df = yf.download(ticker, start=start_date, end=end_date)\n",
      "[*********************100%***********************]  1 of 1 completed\n"
     ]
    },
    {
     "name": "stdout",
     "output_type": "stream",
     "text": [
      "   ✅ Saved to data/sp500/PNR.csv\n",
      "[368/503] ⬇️ Downloading PEP...\n"
     ]
    },
    {
     "name": "stderr",
     "output_type": "stream",
     "text": [
      "/tmp/ipykernel_117496/2701487849.py:17: FutureWarning: YF.download() has changed argument auto_adjust default to True\n",
      "  df = yf.download(ticker, start=start_date, end=end_date)\n",
      "[*********************100%***********************]  1 of 1 completed\n"
     ]
    },
    {
     "name": "stdout",
     "output_type": "stream",
     "text": [
      "   ✅ Saved to data/sp500/PEP.csv\n",
      "[369/503] ⬇️ Downloading PFE...\n"
     ]
    },
    {
     "name": "stderr",
     "output_type": "stream",
     "text": [
      "/tmp/ipykernel_117496/2701487849.py:17: FutureWarning: YF.download() has changed argument auto_adjust default to True\n",
      "  df = yf.download(ticker, start=start_date, end=end_date)\n",
      "[*********************100%***********************]  1 of 1 completed\n"
     ]
    },
    {
     "name": "stdout",
     "output_type": "stream",
     "text": [
      "   ✅ Saved to data/sp500/PFE.csv\n",
      "[370/503] ⬇️ Downloading PCG...\n"
     ]
    },
    {
     "name": "stderr",
     "output_type": "stream",
     "text": [
      "/tmp/ipykernel_117496/2701487849.py:17: FutureWarning: YF.download() has changed argument auto_adjust default to True\n",
      "  df = yf.download(ticker, start=start_date, end=end_date)\n",
      "[*********************100%***********************]  1 of 1 completed\n"
     ]
    },
    {
     "name": "stdout",
     "output_type": "stream",
     "text": [
      "   ✅ Saved to data/sp500/PCG.csv\n",
      "[371/503] ⬇️ Downloading PM...\n"
     ]
    },
    {
     "name": "stderr",
     "output_type": "stream",
     "text": [
      "/tmp/ipykernel_117496/2701487849.py:17: FutureWarning: YF.download() has changed argument auto_adjust default to True\n",
      "  df = yf.download(ticker, start=start_date, end=end_date)\n",
      "[*********************100%***********************]  1 of 1 completed\n"
     ]
    },
    {
     "name": "stdout",
     "output_type": "stream",
     "text": [
      "   ✅ Saved to data/sp500/PM.csv\n",
      "[372/503] ⬇️ Downloading PSX...\n"
     ]
    },
    {
     "name": "stderr",
     "output_type": "stream",
     "text": [
      "/tmp/ipykernel_117496/2701487849.py:17: FutureWarning: YF.download() has changed argument auto_adjust default to True\n",
      "  df = yf.download(ticker, start=start_date, end=end_date)\n",
      "[*********************100%***********************]  1 of 1 completed\n"
     ]
    },
    {
     "name": "stdout",
     "output_type": "stream",
     "text": [
      "   ✅ Saved to data/sp500/PSX.csv\n",
      "[373/503] ⬇️ Downloading PNW...\n"
     ]
    },
    {
     "name": "stderr",
     "output_type": "stream",
     "text": [
      "/tmp/ipykernel_117496/2701487849.py:17: FutureWarning: YF.download() has changed argument auto_adjust default to True\n",
      "  df = yf.download(ticker, start=start_date, end=end_date)\n",
      "[*********************100%***********************]  1 of 1 completed\n"
     ]
    },
    {
     "name": "stdout",
     "output_type": "stream",
     "text": [
      "   ✅ Saved to data/sp500/PNW.csv\n",
      "[374/503] ⬇️ Downloading PNC...\n"
     ]
    },
    {
     "name": "stderr",
     "output_type": "stream",
     "text": [
      "/tmp/ipykernel_117496/2701487849.py:17: FutureWarning: YF.download() has changed argument auto_adjust default to True\n",
      "  df = yf.download(ticker, start=start_date, end=end_date)\n",
      "[*********************100%***********************]  1 of 1 completed\n"
     ]
    },
    {
     "name": "stdout",
     "output_type": "stream",
     "text": [
      "   ✅ Saved to data/sp500/PNC.csv\n",
      "[375/503] ⬇️ Downloading POOL...\n"
     ]
    },
    {
     "name": "stderr",
     "output_type": "stream",
     "text": [
      "/tmp/ipykernel_117496/2701487849.py:17: FutureWarning: YF.download() has changed argument auto_adjust default to True\n",
      "  df = yf.download(ticker, start=start_date, end=end_date)\n",
      "[*********************100%***********************]  1 of 1 completed\n"
     ]
    },
    {
     "name": "stdout",
     "output_type": "stream",
     "text": [
      "   ✅ Saved to data/sp500/POOL.csv\n",
      "[376/503] ⬇️ Downloading PPG...\n"
     ]
    },
    {
     "name": "stderr",
     "output_type": "stream",
     "text": [
      "/tmp/ipykernel_117496/2701487849.py:17: FutureWarning: YF.download() has changed argument auto_adjust default to True\n",
      "  df = yf.download(ticker, start=start_date, end=end_date)\n",
      "[*********************100%***********************]  1 of 1 completed\n"
     ]
    },
    {
     "name": "stdout",
     "output_type": "stream",
     "text": [
      "   ✅ Saved to data/sp500/PPG.csv\n",
      "[377/503] ⬇️ Downloading PPL...\n"
     ]
    },
    {
     "name": "stderr",
     "output_type": "stream",
     "text": [
      "/tmp/ipykernel_117496/2701487849.py:17: FutureWarning: YF.download() has changed argument auto_adjust default to True\n",
      "  df = yf.download(ticker, start=start_date, end=end_date)\n",
      "[*********************100%***********************]  1 of 1 completed\n"
     ]
    },
    {
     "name": "stdout",
     "output_type": "stream",
     "text": [
      "   ✅ Saved to data/sp500/PPL.csv\n",
      "[378/503] ⬇️ Downloading PFG...\n"
     ]
    },
    {
     "name": "stderr",
     "output_type": "stream",
     "text": [
      "/tmp/ipykernel_117496/2701487849.py:17: FutureWarning: YF.download() has changed argument auto_adjust default to True\n",
      "  df = yf.download(ticker, start=start_date, end=end_date)\n",
      "[*********************100%***********************]  1 of 1 completed\n"
     ]
    },
    {
     "name": "stdout",
     "output_type": "stream",
     "text": [
      "   ✅ Saved to data/sp500/PFG.csv\n",
      "[379/503] ⬇️ Downloading PG...\n"
     ]
    },
    {
     "name": "stderr",
     "output_type": "stream",
     "text": [
      "/tmp/ipykernel_117496/2701487849.py:17: FutureWarning: YF.download() has changed argument auto_adjust default to True\n",
      "  df = yf.download(ticker, start=start_date, end=end_date)\n",
      "[*********************100%***********************]  1 of 1 completed\n"
     ]
    },
    {
     "name": "stdout",
     "output_type": "stream",
     "text": [
      "   ✅ Saved to data/sp500/PG.csv\n",
      "[380/503] ⬇️ Downloading PGR...\n"
     ]
    },
    {
     "name": "stderr",
     "output_type": "stream",
     "text": [
      "/tmp/ipykernel_117496/2701487849.py:17: FutureWarning: YF.download() has changed argument auto_adjust default to True\n",
      "  df = yf.download(ticker, start=start_date, end=end_date)\n",
      "[*********************100%***********************]  1 of 1 completed\n"
     ]
    },
    {
     "name": "stdout",
     "output_type": "stream",
     "text": [
      "   ✅ Saved to data/sp500/PGR.csv\n",
      "[381/503] ⬇️ Downloading PLD...\n"
     ]
    },
    {
     "name": "stderr",
     "output_type": "stream",
     "text": [
      "/tmp/ipykernel_117496/2701487849.py:17: FutureWarning: YF.download() has changed argument auto_adjust default to True\n",
      "  df = yf.download(ticker, start=start_date, end=end_date)\n",
      "[*********************100%***********************]  1 of 1 completed\n"
     ]
    },
    {
     "name": "stdout",
     "output_type": "stream",
     "text": [
      "   ✅ Saved to data/sp500/PLD.csv\n",
      "[382/503] ⬇️ Downloading PRU...\n"
     ]
    },
    {
     "name": "stderr",
     "output_type": "stream",
     "text": [
      "/tmp/ipykernel_117496/2701487849.py:17: FutureWarning: YF.download() has changed argument auto_adjust default to True\n",
      "  df = yf.download(ticker, start=start_date, end=end_date)\n",
      "[*********************100%***********************]  1 of 1 completed\n"
     ]
    },
    {
     "name": "stdout",
     "output_type": "stream",
     "text": [
      "   ✅ Saved to data/sp500/PRU.csv\n",
      "[383/503] ⬇️ Downloading PEG...\n"
     ]
    },
    {
     "name": "stderr",
     "output_type": "stream",
     "text": [
      "/tmp/ipykernel_117496/2701487849.py:17: FutureWarning: YF.download() has changed argument auto_adjust default to True\n",
      "  df = yf.download(ticker, start=start_date, end=end_date)\n",
      "[*********************100%***********************]  1 of 1 completed\n"
     ]
    },
    {
     "name": "stdout",
     "output_type": "stream",
     "text": [
      "   ✅ Saved to data/sp500/PEG.csv\n",
      "[384/503] ⬇️ Downloading PTC...\n"
     ]
    },
    {
     "name": "stderr",
     "output_type": "stream",
     "text": [
      "/tmp/ipykernel_117496/2701487849.py:17: FutureWarning: YF.download() has changed argument auto_adjust default to True\n",
      "  df = yf.download(ticker, start=start_date, end=end_date)\n",
      "[*********************100%***********************]  1 of 1 completed\n"
     ]
    },
    {
     "name": "stdout",
     "output_type": "stream",
     "text": [
      "   ✅ Saved to data/sp500/PTC.csv\n",
      "[385/503] ⬇️ Downloading PSA...\n"
     ]
    },
    {
     "name": "stderr",
     "output_type": "stream",
     "text": [
      "/tmp/ipykernel_117496/2701487849.py:17: FutureWarning: YF.download() has changed argument auto_adjust default to True\n",
      "  df = yf.download(ticker, start=start_date, end=end_date)\n",
      "[*********************100%***********************]  1 of 1 completed\n"
     ]
    },
    {
     "name": "stdout",
     "output_type": "stream",
     "text": [
      "   ✅ Saved to data/sp500/PSA.csv\n",
      "[386/503] ⬇️ Downloading PHM...\n"
     ]
    },
    {
     "name": "stderr",
     "output_type": "stream",
     "text": [
      "/tmp/ipykernel_117496/2701487849.py:17: FutureWarning: YF.download() has changed argument auto_adjust default to True\n",
      "  df = yf.download(ticker, start=start_date, end=end_date)\n",
      "[*********************100%***********************]  1 of 1 completed\n"
     ]
    },
    {
     "name": "stdout",
     "output_type": "stream",
     "text": [
      "   ✅ Saved to data/sp500/PHM.csv\n",
      "[387/503] ⬇️ Downloading PWR...\n"
     ]
    },
    {
     "name": "stderr",
     "output_type": "stream",
     "text": [
      "/tmp/ipykernel_117496/2701487849.py:17: FutureWarning: YF.download() has changed argument auto_adjust default to True\n",
      "  df = yf.download(ticker, start=start_date, end=end_date)\n",
      "[*********************100%***********************]  1 of 1 completed\n"
     ]
    },
    {
     "name": "stdout",
     "output_type": "stream",
     "text": [
      "   ✅ Saved to data/sp500/PWR.csv\n",
      "[388/503] ⬇️ Downloading QCOM...\n"
     ]
    },
    {
     "name": "stderr",
     "output_type": "stream",
     "text": [
      "/tmp/ipykernel_117496/2701487849.py:17: FutureWarning: YF.download() has changed argument auto_adjust default to True\n",
      "  df = yf.download(ticker, start=start_date, end=end_date)\n",
      "[*********************100%***********************]  1 of 1 completed\n"
     ]
    },
    {
     "name": "stdout",
     "output_type": "stream",
     "text": [
      "   ✅ Saved to data/sp500/QCOM.csv\n",
      "[389/503] ⬇️ Downloading DGX...\n"
     ]
    },
    {
     "name": "stderr",
     "output_type": "stream",
     "text": [
      "/tmp/ipykernel_117496/2701487849.py:17: FutureWarning: YF.download() has changed argument auto_adjust default to True\n",
      "  df = yf.download(ticker, start=start_date, end=end_date)\n",
      "[*********************100%***********************]  1 of 1 completed\n"
     ]
    },
    {
     "name": "stdout",
     "output_type": "stream",
     "text": [
      "   ✅ Saved to data/sp500/DGX.csv\n",
      "[390/503] ⬇️ Downloading RL...\n"
     ]
    },
    {
     "name": "stderr",
     "output_type": "stream",
     "text": [
      "/tmp/ipykernel_117496/2701487849.py:17: FutureWarning: YF.download() has changed argument auto_adjust default to True\n",
      "  df = yf.download(ticker, start=start_date, end=end_date)\n",
      "[*********************100%***********************]  1 of 1 completed\n"
     ]
    },
    {
     "name": "stdout",
     "output_type": "stream",
     "text": [
      "   ✅ Saved to data/sp500/RL.csv\n",
      "[391/503] ⬇️ Downloading RJF...\n"
     ]
    },
    {
     "name": "stderr",
     "output_type": "stream",
     "text": [
      "/tmp/ipykernel_117496/2701487849.py:17: FutureWarning: YF.download() has changed argument auto_adjust default to True\n",
      "  df = yf.download(ticker, start=start_date, end=end_date)\n",
      "[*********************100%***********************]  1 of 1 completed\n"
     ]
    },
    {
     "name": "stdout",
     "output_type": "stream",
     "text": [
      "   ✅ Saved to data/sp500/RJF.csv\n",
      "[392/503] ⬇️ Downloading RTX...\n"
     ]
    },
    {
     "name": "stderr",
     "output_type": "stream",
     "text": [
      "/tmp/ipykernel_117496/2701487849.py:17: FutureWarning: YF.download() has changed argument auto_adjust default to True\n",
      "  df = yf.download(ticker, start=start_date, end=end_date)\n",
      "[*********************100%***********************]  1 of 1 completed\n"
     ]
    },
    {
     "name": "stdout",
     "output_type": "stream",
     "text": [
      "   ✅ Saved to data/sp500/RTX.csv\n",
      "[393/503] ⬇️ Downloading O...\n"
     ]
    },
    {
     "name": "stderr",
     "output_type": "stream",
     "text": [
      "/tmp/ipykernel_117496/2701487849.py:17: FutureWarning: YF.download() has changed argument auto_adjust default to True\n",
      "  df = yf.download(ticker, start=start_date, end=end_date)\n",
      "[*********************100%***********************]  1 of 1 completed\n"
     ]
    },
    {
     "name": "stdout",
     "output_type": "stream",
     "text": [
      "   ✅ Saved to data/sp500/O.csv\n",
      "[394/503] ⬇️ Downloading REG...\n"
     ]
    },
    {
     "name": "stderr",
     "output_type": "stream",
     "text": [
      "/tmp/ipykernel_117496/2701487849.py:17: FutureWarning: YF.download() has changed argument auto_adjust default to True\n",
      "  df = yf.download(ticker, start=start_date, end=end_date)\n",
      "[*********************100%***********************]  1 of 1 completed\n"
     ]
    },
    {
     "name": "stdout",
     "output_type": "stream",
     "text": [
      "   ✅ Saved to data/sp500/REG.csv\n",
      "[395/503] ⬇️ Downloading REGN...\n"
     ]
    },
    {
     "name": "stderr",
     "output_type": "stream",
     "text": [
      "/tmp/ipykernel_117496/2701487849.py:17: FutureWarning: YF.download() has changed argument auto_adjust default to True\n",
      "  df = yf.download(ticker, start=start_date, end=end_date)\n",
      "[*********************100%***********************]  1 of 1 completed\n"
     ]
    },
    {
     "name": "stdout",
     "output_type": "stream",
     "text": [
      "   ✅ Saved to data/sp500/REGN.csv\n",
      "[396/503] ⬇️ Downloading RF...\n"
     ]
    },
    {
     "name": "stderr",
     "output_type": "stream",
     "text": [
      "/tmp/ipykernel_117496/2701487849.py:17: FutureWarning: YF.download() has changed argument auto_adjust default to True\n",
      "  df = yf.download(ticker, start=start_date, end=end_date)\n",
      "[*********************100%***********************]  1 of 1 completed\n"
     ]
    },
    {
     "name": "stdout",
     "output_type": "stream",
     "text": [
      "   ✅ Saved to data/sp500/RF.csv\n",
      "[397/503] ⬇️ Downloading RSG...\n"
     ]
    },
    {
     "name": "stderr",
     "output_type": "stream",
     "text": [
      "/tmp/ipykernel_117496/2701487849.py:17: FutureWarning: YF.download() has changed argument auto_adjust default to True\n",
      "  df = yf.download(ticker, start=start_date, end=end_date)\n",
      "[*********************100%***********************]  1 of 1 completed\n"
     ]
    },
    {
     "name": "stdout",
     "output_type": "stream",
     "text": [
      "   ✅ Saved to data/sp500/RSG.csv\n",
      "[398/503] ⬇️ Downloading RMD...\n"
     ]
    },
    {
     "name": "stderr",
     "output_type": "stream",
     "text": [
      "/tmp/ipykernel_117496/2701487849.py:17: FutureWarning: YF.download() has changed argument auto_adjust default to True\n",
      "  df = yf.download(ticker, start=start_date, end=end_date)\n",
      "[*********************100%***********************]  1 of 1 completed\n"
     ]
    },
    {
     "name": "stdout",
     "output_type": "stream",
     "text": [
      "   ✅ Saved to data/sp500/RMD.csv\n",
      "[399/503] ⬇️ Downloading RVTY...\n"
     ]
    },
    {
     "name": "stderr",
     "output_type": "stream",
     "text": [
      "/tmp/ipykernel_117496/2701487849.py:17: FutureWarning: YF.download() has changed argument auto_adjust default to True\n",
      "  df = yf.download(ticker, start=start_date, end=end_date)\n",
      "[*********************100%***********************]  1 of 1 completed\n"
     ]
    },
    {
     "name": "stdout",
     "output_type": "stream",
     "text": [
      "   ✅ Saved to data/sp500/RVTY.csv\n",
      "[400/503] ⬇️ Downloading ROK...\n"
     ]
    },
    {
     "name": "stderr",
     "output_type": "stream",
     "text": [
      "/tmp/ipykernel_117496/2701487849.py:17: FutureWarning: YF.download() has changed argument auto_adjust default to True\n",
      "  df = yf.download(ticker, start=start_date, end=end_date)\n",
      "[*********************100%***********************]  1 of 1 completed\n"
     ]
    },
    {
     "name": "stdout",
     "output_type": "stream",
     "text": [
      "   ✅ Saved to data/sp500/ROK.csv\n",
      "[401/503] ⬇️ Downloading ROL...\n"
     ]
    },
    {
     "name": "stderr",
     "output_type": "stream",
     "text": [
      "/tmp/ipykernel_117496/2701487849.py:17: FutureWarning: YF.download() has changed argument auto_adjust default to True\n",
      "  df = yf.download(ticker, start=start_date, end=end_date)\n",
      "[*********************100%***********************]  1 of 1 completed\n"
     ]
    },
    {
     "name": "stdout",
     "output_type": "stream",
     "text": [
      "   ✅ Saved to data/sp500/ROL.csv\n",
      "[402/503] ⬇️ Downloading ROP...\n"
     ]
    },
    {
     "name": "stderr",
     "output_type": "stream",
     "text": [
      "/tmp/ipykernel_117496/2701487849.py:17: FutureWarning: YF.download() has changed argument auto_adjust default to True\n",
      "  df = yf.download(ticker, start=start_date, end=end_date)\n",
      "[*********************100%***********************]  1 of 1 completed\n"
     ]
    },
    {
     "name": "stdout",
     "output_type": "stream",
     "text": [
      "   ✅ Saved to data/sp500/ROP.csv\n",
      "[403/503] ⬇️ Downloading ROST...\n"
     ]
    },
    {
     "name": "stderr",
     "output_type": "stream",
     "text": [
      "/tmp/ipykernel_117496/2701487849.py:17: FutureWarning: YF.download() has changed argument auto_adjust default to True\n",
      "  df = yf.download(ticker, start=start_date, end=end_date)\n",
      "[*********************100%***********************]  1 of 1 completed\n"
     ]
    },
    {
     "name": "stdout",
     "output_type": "stream",
     "text": [
      "   ✅ Saved to data/sp500/ROST.csv\n",
      "[404/503] ⬇️ Downloading RCL...\n"
     ]
    },
    {
     "name": "stderr",
     "output_type": "stream",
     "text": [
      "/tmp/ipykernel_117496/2701487849.py:17: FutureWarning: YF.download() has changed argument auto_adjust default to True\n",
      "  df = yf.download(ticker, start=start_date, end=end_date)\n",
      "[*********************100%***********************]  1 of 1 completed\n"
     ]
    },
    {
     "name": "stdout",
     "output_type": "stream",
     "text": [
      "   ✅ Saved to data/sp500/RCL.csv\n",
      "[405/503] ⬇️ Downloading SPGI...\n"
     ]
    },
    {
     "name": "stderr",
     "output_type": "stream",
     "text": [
      "/tmp/ipykernel_117496/2701487849.py:17: FutureWarning: YF.download() has changed argument auto_adjust default to True\n",
      "  df = yf.download(ticker, start=start_date, end=end_date)\n",
      "[*********************100%***********************]  1 of 1 completed\n"
     ]
    },
    {
     "name": "stdout",
     "output_type": "stream",
     "text": [
      "   ✅ Saved to data/sp500/SPGI.csv\n",
      "[406/503] ⬇️ Downloading CRM...\n"
     ]
    },
    {
     "name": "stderr",
     "output_type": "stream",
     "text": [
      "/tmp/ipykernel_117496/2701487849.py:17: FutureWarning: YF.download() has changed argument auto_adjust default to True\n",
      "  df = yf.download(ticker, start=start_date, end=end_date)\n",
      "[*********************100%***********************]  1 of 1 completed\n"
     ]
    },
    {
     "name": "stdout",
     "output_type": "stream",
     "text": [
      "   ✅ Saved to data/sp500/CRM.csv\n",
      "[407/503] ⬇️ Downloading SBAC...\n"
     ]
    },
    {
     "name": "stderr",
     "output_type": "stream",
     "text": [
      "/tmp/ipykernel_117496/2701487849.py:17: FutureWarning: YF.download() has changed argument auto_adjust default to True\n",
      "  df = yf.download(ticker, start=start_date, end=end_date)\n",
      "[*********************100%***********************]  1 of 1 completed\n"
     ]
    },
    {
     "name": "stdout",
     "output_type": "stream",
     "text": [
      "   ✅ Saved to data/sp500/SBAC.csv\n",
      "[408/503] ⬇️ Downloading SLB...\n"
     ]
    },
    {
     "name": "stderr",
     "output_type": "stream",
     "text": [
      "/tmp/ipykernel_117496/2701487849.py:17: FutureWarning: YF.download() has changed argument auto_adjust default to True\n",
      "  df = yf.download(ticker, start=start_date, end=end_date)\n",
      "[*********************100%***********************]  1 of 1 completed\n"
     ]
    },
    {
     "name": "stdout",
     "output_type": "stream",
     "text": [
      "   ✅ Saved to data/sp500/SLB.csv\n",
      "[409/503] ⬇️ Downloading STX...\n"
     ]
    },
    {
     "name": "stderr",
     "output_type": "stream",
     "text": [
      "/tmp/ipykernel_117496/2701487849.py:17: FutureWarning: YF.download() has changed argument auto_adjust default to True\n",
      "  df = yf.download(ticker, start=start_date, end=end_date)\n",
      "[*********************100%***********************]  1 of 1 completed\n"
     ]
    },
    {
     "name": "stdout",
     "output_type": "stream",
     "text": [
      "   ✅ Saved to data/sp500/STX.csv\n",
      "[410/503] ⬇️ Downloading SRE...\n"
     ]
    },
    {
     "name": "stderr",
     "output_type": "stream",
     "text": [
      "/tmp/ipykernel_117496/2701487849.py:17: FutureWarning: YF.download() has changed argument auto_adjust default to True\n",
      "  df = yf.download(ticker, start=start_date, end=end_date)\n",
      "[*********************100%***********************]  1 of 1 completed\n"
     ]
    },
    {
     "name": "stdout",
     "output_type": "stream",
     "text": [
      "   ✅ Saved to data/sp500/SRE.csv\n",
      "[411/503] ⬇️ Downloading NOW...\n"
     ]
    },
    {
     "name": "stderr",
     "output_type": "stream",
     "text": [
      "/tmp/ipykernel_117496/2701487849.py:17: FutureWarning: YF.download() has changed argument auto_adjust default to True\n",
      "  df = yf.download(ticker, start=start_date, end=end_date)\n",
      "[*********************100%***********************]  1 of 1 completed\n"
     ]
    },
    {
     "name": "stdout",
     "output_type": "stream",
     "text": [
      "   ✅ Saved to data/sp500/NOW.csv\n",
      "[412/503] ⬇️ Downloading SHW...\n"
     ]
    },
    {
     "name": "stderr",
     "output_type": "stream",
     "text": [
      "/tmp/ipykernel_117496/2701487849.py:17: FutureWarning: YF.download() has changed argument auto_adjust default to True\n",
      "  df = yf.download(ticker, start=start_date, end=end_date)\n",
      "[*********************100%***********************]  1 of 1 completed\n"
     ]
    },
    {
     "name": "stdout",
     "output_type": "stream",
     "text": [
      "   ✅ Saved to data/sp500/SHW.csv\n",
      "[413/503] ⬇️ Downloading SPG...\n"
     ]
    },
    {
     "name": "stderr",
     "output_type": "stream",
     "text": [
      "/tmp/ipykernel_117496/2701487849.py:17: FutureWarning: YF.download() has changed argument auto_adjust default to True\n",
      "  df = yf.download(ticker, start=start_date, end=end_date)\n",
      "[*********************100%***********************]  1 of 1 completed\n"
     ]
    },
    {
     "name": "stdout",
     "output_type": "stream",
     "text": [
      "   ✅ Saved to data/sp500/SPG.csv\n",
      "[414/503] ⬇️ Downloading SWKS...\n"
     ]
    },
    {
     "name": "stderr",
     "output_type": "stream",
     "text": [
      "/tmp/ipykernel_117496/2701487849.py:17: FutureWarning: YF.download() has changed argument auto_adjust default to True\n",
      "  df = yf.download(ticker, start=start_date, end=end_date)\n",
      "[*********************100%***********************]  1 of 1 completed\n"
     ]
    },
    {
     "name": "stdout",
     "output_type": "stream",
     "text": [
      "   ✅ Saved to data/sp500/SWKS.csv\n",
      "[415/503] ⬇️ Downloading SJM...\n"
     ]
    },
    {
     "name": "stderr",
     "output_type": "stream",
     "text": [
      "/tmp/ipykernel_117496/2701487849.py:17: FutureWarning: YF.download() has changed argument auto_adjust default to True\n",
      "  df = yf.download(ticker, start=start_date, end=end_date)\n",
      "[*********************100%***********************]  1 of 1 completed\n"
     ]
    },
    {
     "name": "stdout",
     "output_type": "stream",
     "text": [
      "   ✅ Saved to data/sp500/SJM.csv\n",
      "[416/503] ⬇️ Downloading SW...\n"
     ]
    },
    {
     "name": "stderr",
     "output_type": "stream",
     "text": [
      "/tmp/ipykernel_117496/2701487849.py:17: FutureWarning: YF.download() has changed argument auto_adjust default to True\n",
      "  df = yf.download(ticker, start=start_date, end=end_date)\n",
      "[*********************100%***********************]  1 of 1 completed\n"
     ]
    },
    {
     "name": "stdout",
     "output_type": "stream",
     "text": [
      "   ✅ Saved to data/sp500/SW.csv\n",
      "[417/503] ⬇️ Downloading SNA...\n"
     ]
    },
    {
     "name": "stderr",
     "output_type": "stream",
     "text": [
      "/tmp/ipykernel_117496/2701487849.py:17: FutureWarning: YF.download() has changed argument auto_adjust default to True\n",
      "  df = yf.download(ticker, start=start_date, end=end_date)\n",
      "[*********************100%***********************]  1 of 1 completed\n"
     ]
    },
    {
     "name": "stdout",
     "output_type": "stream",
     "text": [
      "   ✅ Saved to data/sp500/SNA.csv\n",
      "[418/503] ⬇️ Downloading SOLV...\n"
     ]
    },
    {
     "name": "stderr",
     "output_type": "stream",
     "text": [
      "/tmp/ipykernel_117496/2701487849.py:17: FutureWarning: YF.download() has changed argument auto_adjust default to True\n",
      "  df = yf.download(ticker, start=start_date, end=end_date)\n",
      "[*********************100%***********************]  1 of 1 completed\n"
     ]
    },
    {
     "name": "stdout",
     "output_type": "stream",
     "text": [
      "   ✅ Saved to data/sp500/SOLV.csv\n",
      "[419/503] ⬇️ Downloading SO...\n"
     ]
    },
    {
     "name": "stderr",
     "output_type": "stream",
     "text": [
      "/tmp/ipykernel_117496/2701487849.py:17: FutureWarning: YF.download() has changed argument auto_adjust default to True\n",
      "  df = yf.download(ticker, start=start_date, end=end_date)\n",
      "[*********************100%***********************]  1 of 1 completed\n"
     ]
    },
    {
     "name": "stdout",
     "output_type": "stream",
     "text": [
      "   ✅ Saved to data/sp500/SO.csv\n",
      "[420/503] ⬇️ Downloading LUV...\n"
     ]
    },
    {
     "name": "stderr",
     "output_type": "stream",
     "text": [
      "/tmp/ipykernel_117496/2701487849.py:17: FutureWarning: YF.download() has changed argument auto_adjust default to True\n",
      "  df = yf.download(ticker, start=start_date, end=end_date)\n",
      "[*********************100%***********************]  1 of 1 completed\n"
     ]
    },
    {
     "name": "stdout",
     "output_type": "stream",
     "text": [
      "   ✅ Saved to data/sp500/LUV.csv\n",
      "[421/503] ⬇️ Downloading SWK...\n"
     ]
    },
    {
     "name": "stderr",
     "output_type": "stream",
     "text": [
      "/tmp/ipykernel_117496/2701487849.py:17: FutureWarning: YF.download() has changed argument auto_adjust default to True\n",
      "  df = yf.download(ticker, start=start_date, end=end_date)\n",
      "[*********************100%***********************]  1 of 1 completed\n"
     ]
    },
    {
     "name": "stdout",
     "output_type": "stream",
     "text": [
      "   ✅ Saved to data/sp500/SWK.csv\n",
      "[422/503] ⬇️ Downloading SBUX...\n"
     ]
    },
    {
     "name": "stderr",
     "output_type": "stream",
     "text": [
      "/tmp/ipykernel_117496/2701487849.py:17: FutureWarning: YF.download() has changed argument auto_adjust default to True\n",
      "  df = yf.download(ticker, start=start_date, end=end_date)\n",
      "[*********************100%***********************]  1 of 1 completed\n"
     ]
    },
    {
     "name": "stdout",
     "output_type": "stream",
     "text": [
      "   ✅ Saved to data/sp500/SBUX.csv\n",
      "[423/503] ⬇️ Downloading STT...\n"
     ]
    },
    {
     "name": "stderr",
     "output_type": "stream",
     "text": [
      "/tmp/ipykernel_117496/2701487849.py:17: FutureWarning: YF.download() has changed argument auto_adjust default to True\n",
      "  df = yf.download(ticker, start=start_date, end=end_date)\n",
      "[*********************100%***********************]  1 of 1 completed\n"
     ]
    },
    {
     "name": "stdout",
     "output_type": "stream",
     "text": [
      "   ✅ Saved to data/sp500/STT.csv\n",
      "[424/503] ⬇️ Downloading STLD...\n"
     ]
    },
    {
     "name": "stderr",
     "output_type": "stream",
     "text": [
      "/tmp/ipykernel_117496/2701487849.py:17: FutureWarning: YF.download() has changed argument auto_adjust default to True\n",
      "  df = yf.download(ticker, start=start_date, end=end_date)\n",
      "[*********************100%***********************]  1 of 1 completed\n"
     ]
    },
    {
     "name": "stdout",
     "output_type": "stream",
     "text": [
      "   ✅ Saved to data/sp500/STLD.csv\n",
      "[425/503] ⬇️ Downloading STE...\n"
     ]
    },
    {
     "name": "stderr",
     "output_type": "stream",
     "text": [
      "/tmp/ipykernel_117496/2701487849.py:17: FutureWarning: YF.download() has changed argument auto_adjust default to True\n",
      "  df = yf.download(ticker, start=start_date, end=end_date)\n",
      "[*********************100%***********************]  1 of 1 completed\n"
     ]
    },
    {
     "name": "stdout",
     "output_type": "stream",
     "text": [
      "   ✅ Saved to data/sp500/STE.csv\n",
      "[426/503] ⬇️ Downloading SYK...\n"
     ]
    },
    {
     "name": "stderr",
     "output_type": "stream",
     "text": [
      "/tmp/ipykernel_117496/2701487849.py:17: FutureWarning: YF.download() has changed argument auto_adjust default to True\n",
      "  df = yf.download(ticker, start=start_date, end=end_date)\n",
      "[*********************100%***********************]  1 of 1 completed\n"
     ]
    },
    {
     "name": "stdout",
     "output_type": "stream",
     "text": [
      "   ✅ Saved to data/sp500/SYK.csv\n",
      "[427/503] ⬇️ Downloading SMCI...\n"
     ]
    },
    {
     "name": "stderr",
     "output_type": "stream",
     "text": [
      "/tmp/ipykernel_117496/2701487849.py:17: FutureWarning: YF.download() has changed argument auto_adjust default to True\n",
      "  df = yf.download(ticker, start=start_date, end=end_date)\n",
      "[*********************100%***********************]  1 of 1 completed\n"
     ]
    },
    {
     "name": "stdout",
     "output_type": "stream",
     "text": [
      "   ✅ Saved to data/sp500/SMCI.csv\n",
      "[428/503] ⬇️ Downloading SYF...\n"
     ]
    },
    {
     "name": "stderr",
     "output_type": "stream",
     "text": [
      "/tmp/ipykernel_117496/2701487849.py:17: FutureWarning: YF.download() has changed argument auto_adjust default to True\n",
      "  df = yf.download(ticker, start=start_date, end=end_date)\n",
      "[*********************100%***********************]  1 of 1 completed\n"
     ]
    },
    {
     "name": "stdout",
     "output_type": "stream",
     "text": [
      "   ✅ Saved to data/sp500/SYF.csv\n",
      "[429/503] ⬇️ Downloading SNPS...\n"
     ]
    },
    {
     "name": "stderr",
     "output_type": "stream",
     "text": [
      "/tmp/ipykernel_117496/2701487849.py:17: FutureWarning: YF.download() has changed argument auto_adjust default to True\n",
      "  df = yf.download(ticker, start=start_date, end=end_date)\n",
      "[*********************100%***********************]  1 of 1 completed\n"
     ]
    },
    {
     "name": "stdout",
     "output_type": "stream",
     "text": [
      "   ✅ Saved to data/sp500/SNPS.csv\n",
      "[430/503] ⬇️ Downloading SYY...\n"
     ]
    },
    {
     "name": "stderr",
     "output_type": "stream",
     "text": [
      "/tmp/ipykernel_117496/2701487849.py:17: FutureWarning: YF.download() has changed argument auto_adjust default to True\n",
      "  df = yf.download(ticker, start=start_date, end=end_date)\n",
      "[*********************100%***********************]  1 of 1 completed\n"
     ]
    },
    {
     "name": "stdout",
     "output_type": "stream",
     "text": [
      "   ✅ Saved to data/sp500/SYY.csv\n",
      "[431/503] ⬇️ Downloading TMUS...\n"
     ]
    },
    {
     "name": "stderr",
     "output_type": "stream",
     "text": [
      "/tmp/ipykernel_117496/2701487849.py:17: FutureWarning: YF.download() has changed argument auto_adjust default to True\n",
      "  df = yf.download(ticker, start=start_date, end=end_date)\n",
      "[*********************100%***********************]  1 of 1 completed\n"
     ]
    },
    {
     "name": "stdout",
     "output_type": "stream",
     "text": [
      "   ✅ Saved to data/sp500/TMUS.csv\n",
      "[432/503] ⬇️ Downloading TROW...\n"
     ]
    },
    {
     "name": "stderr",
     "output_type": "stream",
     "text": [
      "/tmp/ipykernel_117496/2701487849.py:17: FutureWarning: YF.download() has changed argument auto_adjust default to True\n",
      "  df = yf.download(ticker, start=start_date, end=end_date)\n",
      "[*********************100%***********************]  1 of 1 completed\n"
     ]
    },
    {
     "name": "stdout",
     "output_type": "stream",
     "text": [
      "   ✅ Saved to data/sp500/TROW.csv\n",
      "[433/503] ⬇️ Downloading TTWO...\n"
     ]
    },
    {
     "name": "stderr",
     "output_type": "stream",
     "text": [
      "/tmp/ipykernel_117496/2701487849.py:17: FutureWarning: YF.download() has changed argument auto_adjust default to True\n",
      "  df = yf.download(ticker, start=start_date, end=end_date)\n",
      "[*********************100%***********************]  1 of 1 completed\n"
     ]
    },
    {
     "name": "stdout",
     "output_type": "stream",
     "text": [
      "   ✅ Saved to data/sp500/TTWO.csv\n",
      "[434/503] ⬇️ Downloading TPR...\n"
     ]
    },
    {
     "name": "stderr",
     "output_type": "stream",
     "text": [
      "/tmp/ipykernel_117496/2701487849.py:17: FutureWarning: YF.download() has changed argument auto_adjust default to True\n",
      "  df = yf.download(ticker, start=start_date, end=end_date)\n",
      "[*********************100%***********************]  1 of 1 completed\n"
     ]
    },
    {
     "name": "stdout",
     "output_type": "stream",
     "text": [
      "   ✅ Saved to data/sp500/TPR.csv\n",
      "[435/503] ⬇️ Downloading TRGP...\n"
     ]
    },
    {
     "name": "stderr",
     "output_type": "stream",
     "text": [
      "/tmp/ipykernel_117496/2701487849.py:17: FutureWarning: YF.download() has changed argument auto_adjust default to True\n",
      "  df = yf.download(ticker, start=start_date, end=end_date)\n",
      "[*********************100%***********************]  1 of 1 completed\n"
     ]
    },
    {
     "name": "stdout",
     "output_type": "stream",
     "text": [
      "   ✅ Saved to data/sp500/TRGP.csv\n",
      "[436/503] ⬇️ Downloading TGT...\n"
     ]
    },
    {
     "name": "stderr",
     "output_type": "stream",
     "text": [
      "/tmp/ipykernel_117496/2701487849.py:17: FutureWarning: YF.download() has changed argument auto_adjust default to True\n",
      "  df = yf.download(ticker, start=start_date, end=end_date)\n",
      "[*********************100%***********************]  1 of 1 completed\n"
     ]
    },
    {
     "name": "stdout",
     "output_type": "stream",
     "text": [
      "   ✅ Saved to data/sp500/TGT.csv\n",
      "[437/503] ⬇️ Downloading TEL...\n"
     ]
    },
    {
     "name": "stderr",
     "output_type": "stream",
     "text": [
      "/tmp/ipykernel_117496/2701487849.py:17: FutureWarning: YF.download() has changed argument auto_adjust default to True\n",
      "  df = yf.download(ticker, start=start_date, end=end_date)\n",
      "[*********************100%***********************]  1 of 1 completed\n"
     ]
    },
    {
     "name": "stdout",
     "output_type": "stream",
     "text": [
      "   ✅ Saved to data/sp500/TEL.csv\n",
      "[438/503] ⬇️ Downloading TDY...\n"
     ]
    },
    {
     "name": "stderr",
     "output_type": "stream",
     "text": [
      "/tmp/ipykernel_117496/2701487849.py:17: FutureWarning: YF.download() has changed argument auto_adjust default to True\n",
      "  df = yf.download(ticker, start=start_date, end=end_date)\n",
      "[*********************100%***********************]  1 of 1 completed\n"
     ]
    },
    {
     "name": "stdout",
     "output_type": "stream",
     "text": [
      "   ✅ Saved to data/sp500/TDY.csv\n",
      "[439/503] ⬇️ Downloading TER...\n"
     ]
    },
    {
     "name": "stderr",
     "output_type": "stream",
     "text": [
      "/tmp/ipykernel_117496/2701487849.py:17: FutureWarning: YF.download() has changed argument auto_adjust default to True\n",
      "  df = yf.download(ticker, start=start_date, end=end_date)\n",
      "[*********************100%***********************]  1 of 1 completed\n"
     ]
    },
    {
     "name": "stdout",
     "output_type": "stream",
     "text": [
      "   ✅ Saved to data/sp500/TER.csv\n",
      "[440/503] ⬇️ Downloading TSLA...\n"
     ]
    },
    {
     "name": "stderr",
     "output_type": "stream",
     "text": [
      "/tmp/ipykernel_117496/2701487849.py:17: FutureWarning: YF.download() has changed argument auto_adjust default to True\n",
      "  df = yf.download(ticker, start=start_date, end=end_date)\n",
      "[*********************100%***********************]  1 of 1 completed\n"
     ]
    },
    {
     "name": "stdout",
     "output_type": "stream",
     "text": [
      "   ✅ Saved to data/sp500/TSLA.csv\n",
      "[441/503] ⬇️ Downloading TXN...\n"
     ]
    },
    {
     "name": "stderr",
     "output_type": "stream",
     "text": [
      "/tmp/ipykernel_117496/2701487849.py:17: FutureWarning: YF.download() has changed argument auto_adjust default to True\n",
      "  df = yf.download(ticker, start=start_date, end=end_date)\n",
      "[*********************100%***********************]  1 of 1 completed\n"
     ]
    },
    {
     "name": "stdout",
     "output_type": "stream",
     "text": [
      "   ✅ Saved to data/sp500/TXN.csv\n",
      "[442/503] ⬇️ Downloading TPL...\n"
     ]
    },
    {
     "name": "stderr",
     "output_type": "stream",
     "text": [
      "/tmp/ipykernel_117496/2701487849.py:17: FutureWarning: YF.download() has changed argument auto_adjust default to True\n",
      "  df = yf.download(ticker, start=start_date, end=end_date)\n",
      "[*********************100%***********************]  1 of 1 completed\n"
     ]
    },
    {
     "name": "stdout",
     "output_type": "stream",
     "text": [
      "   ✅ Saved to data/sp500/TPL.csv\n",
      "[443/503] ⬇️ Downloading TXT...\n"
     ]
    },
    {
     "name": "stderr",
     "output_type": "stream",
     "text": [
      "/tmp/ipykernel_117496/2701487849.py:17: FutureWarning: YF.download() has changed argument auto_adjust default to True\n",
      "  df = yf.download(ticker, start=start_date, end=end_date)\n",
      "[*********************100%***********************]  1 of 1 completed\n"
     ]
    },
    {
     "name": "stdout",
     "output_type": "stream",
     "text": [
      "   ✅ Saved to data/sp500/TXT.csv\n",
      "[444/503] ⬇️ Downloading TMO...\n"
     ]
    },
    {
     "name": "stderr",
     "output_type": "stream",
     "text": [
      "/tmp/ipykernel_117496/2701487849.py:17: FutureWarning: YF.download() has changed argument auto_adjust default to True\n",
      "  df = yf.download(ticker, start=start_date, end=end_date)\n",
      "[*********************100%***********************]  1 of 1 completed\n"
     ]
    },
    {
     "name": "stdout",
     "output_type": "stream",
     "text": [
      "   ✅ Saved to data/sp500/TMO.csv\n",
      "[445/503] ⬇️ Downloading TJX...\n"
     ]
    },
    {
     "name": "stderr",
     "output_type": "stream",
     "text": [
      "/tmp/ipykernel_117496/2701487849.py:17: FutureWarning: YF.download() has changed argument auto_adjust default to True\n",
      "  df = yf.download(ticker, start=start_date, end=end_date)\n",
      "[*********************100%***********************]  1 of 1 completed\n"
     ]
    },
    {
     "name": "stdout",
     "output_type": "stream",
     "text": [
      "   ✅ Saved to data/sp500/TJX.csv\n",
      "[446/503] ⬇️ Downloading TKO...\n"
     ]
    },
    {
     "name": "stderr",
     "output_type": "stream",
     "text": [
      "/tmp/ipykernel_117496/2701487849.py:17: FutureWarning: YF.download() has changed argument auto_adjust default to True\n",
      "  df = yf.download(ticker, start=start_date, end=end_date)\n",
      "[*********************100%***********************]  1 of 1 completed\n"
     ]
    },
    {
     "name": "stdout",
     "output_type": "stream",
     "text": [
      "   ✅ Saved to data/sp500/TKO.csv\n",
      "[447/503] ⬇️ Downloading TTD...\n"
     ]
    },
    {
     "name": "stderr",
     "output_type": "stream",
     "text": [
      "/tmp/ipykernel_117496/2701487849.py:17: FutureWarning: YF.download() has changed argument auto_adjust default to True\n",
      "  df = yf.download(ticker, start=start_date, end=end_date)\n",
      "[*********************100%***********************]  1 of 1 completed\n"
     ]
    },
    {
     "name": "stdout",
     "output_type": "stream",
     "text": [
      "   ✅ Saved to data/sp500/TTD.csv\n",
      "[448/503] ⬇️ Downloading TSCO...\n"
     ]
    },
    {
     "name": "stderr",
     "output_type": "stream",
     "text": [
      "/tmp/ipykernel_117496/2701487849.py:17: FutureWarning: YF.download() has changed argument auto_adjust default to True\n",
      "  df = yf.download(ticker, start=start_date, end=end_date)\n",
      "[*********************100%***********************]  1 of 1 completed\n"
     ]
    },
    {
     "name": "stdout",
     "output_type": "stream",
     "text": [
      "   ✅ Saved to data/sp500/TSCO.csv\n",
      "[449/503] ⬇️ Downloading TT...\n"
     ]
    },
    {
     "name": "stderr",
     "output_type": "stream",
     "text": [
      "/tmp/ipykernel_117496/2701487849.py:17: FutureWarning: YF.download() has changed argument auto_adjust default to True\n",
      "  df = yf.download(ticker, start=start_date, end=end_date)\n",
      "[*********************100%***********************]  1 of 1 completed\n"
     ]
    },
    {
     "name": "stdout",
     "output_type": "stream",
     "text": [
      "   ✅ Saved to data/sp500/TT.csv\n",
      "[450/503] ⬇️ Downloading TDG...\n"
     ]
    },
    {
     "name": "stderr",
     "output_type": "stream",
     "text": [
      "/tmp/ipykernel_117496/2701487849.py:17: FutureWarning: YF.download() has changed argument auto_adjust default to True\n",
      "  df = yf.download(ticker, start=start_date, end=end_date)\n",
      "[*********************100%***********************]  1 of 1 completed\n"
     ]
    },
    {
     "name": "stdout",
     "output_type": "stream",
     "text": [
      "   ✅ Saved to data/sp500/TDG.csv\n",
      "[451/503] ⬇️ Downloading TRV...\n"
     ]
    },
    {
     "name": "stderr",
     "output_type": "stream",
     "text": [
      "/tmp/ipykernel_117496/2701487849.py:17: FutureWarning: YF.download() has changed argument auto_adjust default to True\n",
      "  df = yf.download(ticker, start=start_date, end=end_date)\n",
      "[*********************100%***********************]  1 of 1 completed\n"
     ]
    },
    {
     "name": "stdout",
     "output_type": "stream",
     "text": [
      "   ✅ Saved to data/sp500/TRV.csv\n",
      "[452/503] ⬇️ Downloading TRMB...\n"
     ]
    },
    {
     "name": "stderr",
     "output_type": "stream",
     "text": [
      "/tmp/ipykernel_117496/2701487849.py:17: FutureWarning: YF.download() has changed argument auto_adjust default to True\n",
      "  df = yf.download(ticker, start=start_date, end=end_date)\n",
      "[*********************100%***********************]  1 of 1 completed\n"
     ]
    },
    {
     "name": "stdout",
     "output_type": "stream",
     "text": [
      "   ✅ Saved to data/sp500/TRMB.csv\n",
      "[453/503] ⬇️ Downloading TFC...\n"
     ]
    },
    {
     "name": "stderr",
     "output_type": "stream",
     "text": [
      "/tmp/ipykernel_117496/2701487849.py:17: FutureWarning: YF.download() has changed argument auto_adjust default to True\n",
      "  df = yf.download(ticker, start=start_date, end=end_date)\n",
      "[*********************100%***********************]  1 of 1 completed\n"
     ]
    },
    {
     "name": "stdout",
     "output_type": "stream",
     "text": [
      "   ✅ Saved to data/sp500/TFC.csv\n",
      "[454/503] ⬇️ Downloading TYL...\n"
     ]
    },
    {
     "name": "stderr",
     "output_type": "stream",
     "text": [
      "/tmp/ipykernel_117496/2701487849.py:17: FutureWarning: YF.download() has changed argument auto_adjust default to True\n",
      "  df = yf.download(ticker, start=start_date, end=end_date)\n",
      "[*********************100%***********************]  1 of 1 completed\n"
     ]
    },
    {
     "name": "stdout",
     "output_type": "stream",
     "text": [
      "   ✅ Saved to data/sp500/TYL.csv\n",
      "[455/503] ⬇️ Downloading TSN...\n"
     ]
    },
    {
     "name": "stderr",
     "output_type": "stream",
     "text": [
      "/tmp/ipykernel_117496/2701487849.py:17: FutureWarning: YF.download() has changed argument auto_adjust default to True\n",
      "  df = yf.download(ticker, start=start_date, end=end_date)\n",
      "[*********************100%***********************]  1 of 1 completed\n"
     ]
    },
    {
     "name": "stdout",
     "output_type": "stream",
     "text": [
      "   ✅ Saved to data/sp500/TSN.csv\n",
      "[456/503] ⬇️ Downloading USB...\n"
     ]
    },
    {
     "name": "stderr",
     "output_type": "stream",
     "text": [
      "/tmp/ipykernel_117496/2701487849.py:17: FutureWarning: YF.download() has changed argument auto_adjust default to True\n",
      "  df = yf.download(ticker, start=start_date, end=end_date)\n",
      "[*********************100%***********************]  1 of 1 completed\n"
     ]
    },
    {
     "name": "stdout",
     "output_type": "stream",
     "text": [
      "   ✅ Saved to data/sp500/USB.csv\n",
      "[457/503] ⬇️ Downloading UBER...\n"
     ]
    },
    {
     "name": "stderr",
     "output_type": "stream",
     "text": [
      "/tmp/ipykernel_117496/2701487849.py:17: FutureWarning: YF.download() has changed argument auto_adjust default to True\n",
      "  df = yf.download(ticker, start=start_date, end=end_date)\n",
      "[*********************100%***********************]  1 of 1 completed\n"
     ]
    },
    {
     "name": "stdout",
     "output_type": "stream",
     "text": [
      "   ✅ Saved to data/sp500/UBER.csv\n",
      "[458/503] ⬇️ Downloading UDR...\n"
     ]
    },
    {
     "name": "stderr",
     "output_type": "stream",
     "text": [
      "/tmp/ipykernel_117496/2701487849.py:17: FutureWarning: YF.download() has changed argument auto_adjust default to True\n",
      "  df = yf.download(ticker, start=start_date, end=end_date)\n",
      "[*********************100%***********************]  1 of 1 completed\n"
     ]
    },
    {
     "name": "stdout",
     "output_type": "stream",
     "text": [
      "   ✅ Saved to data/sp500/UDR.csv\n",
      "[459/503] ⬇️ Downloading ULTA...\n"
     ]
    },
    {
     "name": "stderr",
     "output_type": "stream",
     "text": [
      "/tmp/ipykernel_117496/2701487849.py:17: FutureWarning: YF.download() has changed argument auto_adjust default to True\n",
      "  df = yf.download(ticker, start=start_date, end=end_date)\n",
      "[*********************100%***********************]  1 of 1 completed\n"
     ]
    },
    {
     "name": "stdout",
     "output_type": "stream",
     "text": [
      "   ✅ Saved to data/sp500/ULTA.csv\n",
      "[460/503] ⬇️ Downloading UNP...\n"
     ]
    },
    {
     "name": "stderr",
     "output_type": "stream",
     "text": [
      "/tmp/ipykernel_117496/2701487849.py:17: FutureWarning: YF.download() has changed argument auto_adjust default to True\n",
      "  df = yf.download(ticker, start=start_date, end=end_date)\n",
      "[*********************100%***********************]  1 of 1 completed\n"
     ]
    },
    {
     "name": "stdout",
     "output_type": "stream",
     "text": [
      "   ✅ Saved to data/sp500/UNP.csv\n",
      "[461/503] ⬇️ Downloading UAL...\n"
     ]
    },
    {
     "name": "stderr",
     "output_type": "stream",
     "text": [
      "/tmp/ipykernel_117496/2701487849.py:17: FutureWarning: YF.download() has changed argument auto_adjust default to True\n",
      "  df = yf.download(ticker, start=start_date, end=end_date)\n",
      "[*********************100%***********************]  1 of 1 completed\n"
     ]
    },
    {
     "name": "stdout",
     "output_type": "stream",
     "text": [
      "   ✅ Saved to data/sp500/UAL.csv\n",
      "[462/503] ⬇️ Downloading UPS...\n"
     ]
    },
    {
     "name": "stderr",
     "output_type": "stream",
     "text": [
      "/tmp/ipykernel_117496/2701487849.py:17: FutureWarning: YF.download() has changed argument auto_adjust default to True\n",
      "  df = yf.download(ticker, start=start_date, end=end_date)\n",
      "[*********************100%***********************]  1 of 1 completed\n"
     ]
    },
    {
     "name": "stdout",
     "output_type": "stream",
     "text": [
      "   ✅ Saved to data/sp500/UPS.csv\n",
      "[463/503] ⬇️ Downloading URI...\n"
     ]
    },
    {
     "name": "stderr",
     "output_type": "stream",
     "text": [
      "/tmp/ipykernel_117496/2701487849.py:17: FutureWarning: YF.download() has changed argument auto_adjust default to True\n",
      "  df = yf.download(ticker, start=start_date, end=end_date)\n",
      "[*********************100%***********************]  1 of 1 completed\n"
     ]
    },
    {
     "name": "stdout",
     "output_type": "stream",
     "text": [
      "   ✅ Saved to data/sp500/URI.csv\n",
      "[464/503] ⬇️ Downloading UNH...\n"
     ]
    },
    {
     "name": "stderr",
     "output_type": "stream",
     "text": [
      "/tmp/ipykernel_117496/2701487849.py:17: FutureWarning: YF.download() has changed argument auto_adjust default to True\n",
      "  df = yf.download(ticker, start=start_date, end=end_date)\n",
      "[*********************100%***********************]  1 of 1 completed\n"
     ]
    },
    {
     "name": "stdout",
     "output_type": "stream",
     "text": [
      "   ✅ Saved to data/sp500/UNH.csv\n",
      "[465/503] ⬇️ Downloading UHS...\n"
     ]
    },
    {
     "name": "stderr",
     "output_type": "stream",
     "text": [
      "/tmp/ipykernel_117496/2701487849.py:17: FutureWarning: YF.download() has changed argument auto_adjust default to True\n",
      "  df = yf.download(ticker, start=start_date, end=end_date)\n",
      "[*********************100%***********************]  1 of 1 completed\n"
     ]
    },
    {
     "name": "stdout",
     "output_type": "stream",
     "text": [
      "   ✅ Saved to data/sp500/UHS.csv\n",
      "[466/503] ⬇️ Downloading VLO...\n"
     ]
    },
    {
     "name": "stderr",
     "output_type": "stream",
     "text": [
      "/tmp/ipykernel_117496/2701487849.py:17: FutureWarning: YF.download() has changed argument auto_adjust default to True\n",
      "  df = yf.download(ticker, start=start_date, end=end_date)\n",
      "[*********************100%***********************]  1 of 1 completed\n"
     ]
    },
    {
     "name": "stdout",
     "output_type": "stream",
     "text": [
      "   ✅ Saved to data/sp500/VLO.csv\n",
      "[467/503] ⬇️ Downloading VTR...\n"
     ]
    },
    {
     "name": "stderr",
     "output_type": "stream",
     "text": [
      "/tmp/ipykernel_117496/2701487849.py:17: FutureWarning: YF.download() has changed argument auto_adjust default to True\n",
      "  df = yf.download(ticker, start=start_date, end=end_date)\n",
      "[*********************100%***********************]  1 of 1 completed\n"
     ]
    },
    {
     "name": "stdout",
     "output_type": "stream",
     "text": [
      "   ✅ Saved to data/sp500/VTR.csv\n",
      "[468/503] ⬇️ Downloading VLTO...\n"
     ]
    },
    {
     "name": "stderr",
     "output_type": "stream",
     "text": [
      "/tmp/ipykernel_117496/2701487849.py:17: FutureWarning: YF.download() has changed argument auto_adjust default to True\n",
      "  df = yf.download(ticker, start=start_date, end=end_date)\n",
      "[*********************100%***********************]  1 of 1 completed\n"
     ]
    },
    {
     "name": "stdout",
     "output_type": "stream",
     "text": [
      "   ✅ Saved to data/sp500/VLTO.csv\n",
      "[469/503] ⬇️ Downloading VRSN...\n"
     ]
    },
    {
     "name": "stderr",
     "output_type": "stream",
     "text": [
      "/tmp/ipykernel_117496/2701487849.py:17: FutureWarning: YF.download() has changed argument auto_adjust default to True\n",
      "  df = yf.download(ticker, start=start_date, end=end_date)\n",
      "[*********************100%***********************]  1 of 1 completed\n"
     ]
    },
    {
     "name": "stdout",
     "output_type": "stream",
     "text": [
      "   ✅ Saved to data/sp500/VRSN.csv\n",
      "[470/503] ⬇️ Downloading VRSK...\n"
     ]
    },
    {
     "name": "stderr",
     "output_type": "stream",
     "text": [
      "/tmp/ipykernel_117496/2701487849.py:17: FutureWarning: YF.download() has changed argument auto_adjust default to True\n",
      "  df = yf.download(ticker, start=start_date, end=end_date)\n",
      "[*********************100%***********************]  1 of 1 completed\n"
     ]
    },
    {
     "name": "stdout",
     "output_type": "stream",
     "text": [
      "   ✅ Saved to data/sp500/VRSK.csv\n",
      "[471/503] ⬇️ Downloading VZ...\n"
     ]
    },
    {
     "name": "stderr",
     "output_type": "stream",
     "text": [
      "/tmp/ipykernel_117496/2701487849.py:17: FutureWarning: YF.download() has changed argument auto_adjust default to True\n",
      "  df = yf.download(ticker, start=start_date, end=end_date)\n",
      "[*********************100%***********************]  1 of 1 completed\n"
     ]
    },
    {
     "name": "stdout",
     "output_type": "stream",
     "text": [
      "   ✅ Saved to data/sp500/VZ.csv\n",
      "[472/503] ⬇️ Downloading VRTX...\n"
     ]
    },
    {
     "name": "stderr",
     "output_type": "stream",
     "text": [
      "/tmp/ipykernel_117496/2701487849.py:17: FutureWarning: YF.download() has changed argument auto_adjust default to True\n",
      "  df = yf.download(ticker, start=start_date, end=end_date)\n",
      "[*********************100%***********************]  1 of 1 completed\n"
     ]
    },
    {
     "name": "stdout",
     "output_type": "stream",
     "text": [
      "   ✅ Saved to data/sp500/VRTX.csv\n",
      "[473/503] ⬇️ Downloading VTRS...\n"
     ]
    },
    {
     "name": "stderr",
     "output_type": "stream",
     "text": [
      "/tmp/ipykernel_117496/2701487849.py:17: FutureWarning: YF.download() has changed argument auto_adjust default to True\n",
      "  df = yf.download(ticker, start=start_date, end=end_date)\n",
      "[*********************100%***********************]  1 of 1 completed\n"
     ]
    },
    {
     "name": "stdout",
     "output_type": "stream",
     "text": [
      "   ✅ Saved to data/sp500/VTRS.csv\n",
      "[474/503] ⬇️ Downloading VICI...\n"
     ]
    },
    {
     "name": "stderr",
     "output_type": "stream",
     "text": [
      "/tmp/ipykernel_117496/2701487849.py:17: FutureWarning: YF.download() has changed argument auto_adjust default to True\n",
      "  df = yf.download(ticker, start=start_date, end=end_date)\n",
      "[*********************100%***********************]  1 of 1 completed\n"
     ]
    },
    {
     "name": "stdout",
     "output_type": "stream",
     "text": [
      "   ✅ Saved to data/sp500/VICI.csv\n",
      "[475/503] ⬇️ Downloading V...\n"
     ]
    },
    {
     "name": "stderr",
     "output_type": "stream",
     "text": [
      "/tmp/ipykernel_117496/2701487849.py:17: FutureWarning: YF.download() has changed argument auto_adjust default to True\n",
      "  df = yf.download(ticker, start=start_date, end=end_date)\n",
      "[*********************100%***********************]  1 of 1 completed\n"
     ]
    },
    {
     "name": "stdout",
     "output_type": "stream",
     "text": [
      "   ✅ Saved to data/sp500/V.csv\n",
      "[476/503] ⬇️ Downloading VST...\n"
     ]
    },
    {
     "name": "stderr",
     "output_type": "stream",
     "text": [
      "/tmp/ipykernel_117496/2701487849.py:17: FutureWarning: YF.download() has changed argument auto_adjust default to True\n",
      "  df = yf.download(ticker, start=start_date, end=end_date)\n",
      "[*********************100%***********************]  1 of 1 completed\n"
     ]
    },
    {
     "name": "stdout",
     "output_type": "stream",
     "text": [
      "   ✅ Saved to data/sp500/VST.csv\n",
      "[477/503] ⬇️ Downloading VMC...\n"
     ]
    },
    {
     "name": "stderr",
     "output_type": "stream",
     "text": [
      "/tmp/ipykernel_117496/2701487849.py:17: FutureWarning: YF.download() has changed argument auto_adjust default to True\n",
      "  df = yf.download(ticker, start=start_date, end=end_date)\n",
      "[*********************100%***********************]  1 of 1 completed\n"
     ]
    },
    {
     "name": "stdout",
     "output_type": "stream",
     "text": [
      "   ✅ Saved to data/sp500/VMC.csv\n",
      "[478/503] ⬇️ Downloading WRB...\n"
     ]
    },
    {
     "name": "stderr",
     "output_type": "stream",
     "text": [
      "/tmp/ipykernel_117496/2701487849.py:17: FutureWarning: YF.download() has changed argument auto_adjust default to True\n",
      "  df = yf.download(ticker, start=start_date, end=end_date)\n",
      "[*********************100%***********************]  1 of 1 completed\n"
     ]
    },
    {
     "name": "stdout",
     "output_type": "stream",
     "text": [
      "   ✅ Saved to data/sp500/WRB.csv\n",
      "[479/503] ⬇️ Downloading GWW...\n"
     ]
    },
    {
     "name": "stderr",
     "output_type": "stream",
     "text": [
      "/tmp/ipykernel_117496/2701487849.py:17: FutureWarning: YF.download() has changed argument auto_adjust default to True\n",
      "  df = yf.download(ticker, start=start_date, end=end_date)\n",
      "[*********************100%***********************]  1 of 1 completed\n"
     ]
    },
    {
     "name": "stdout",
     "output_type": "stream",
     "text": [
      "   ✅ Saved to data/sp500/GWW.csv\n",
      "[480/503] ⬇️ Downloading WAB...\n"
     ]
    },
    {
     "name": "stderr",
     "output_type": "stream",
     "text": [
      "/tmp/ipykernel_117496/2701487849.py:17: FutureWarning: YF.download() has changed argument auto_adjust default to True\n",
      "  df = yf.download(ticker, start=start_date, end=end_date)\n",
      "[*********************100%***********************]  1 of 1 completed\n"
     ]
    },
    {
     "name": "stdout",
     "output_type": "stream",
     "text": [
      "   ✅ Saved to data/sp500/WAB.csv\n",
      "[481/503] ⬇️ Downloading WBA...\n"
     ]
    },
    {
     "name": "stderr",
     "output_type": "stream",
     "text": [
      "/tmp/ipykernel_117496/2701487849.py:17: FutureWarning: YF.download() has changed argument auto_adjust default to True\n",
      "  df = yf.download(ticker, start=start_date, end=end_date)\n",
      "[*********************100%***********************]  1 of 1 completed\n"
     ]
    },
    {
     "name": "stdout",
     "output_type": "stream",
     "text": [
      "   ✅ Saved to data/sp500/WBA.csv\n",
      "[482/503] ⬇️ Downloading WMT...\n"
     ]
    },
    {
     "name": "stderr",
     "output_type": "stream",
     "text": [
      "/tmp/ipykernel_117496/2701487849.py:17: FutureWarning: YF.download() has changed argument auto_adjust default to True\n",
      "  df = yf.download(ticker, start=start_date, end=end_date)\n",
      "[*********************100%***********************]  1 of 1 completed\n"
     ]
    },
    {
     "name": "stdout",
     "output_type": "stream",
     "text": [
      "   ✅ Saved to data/sp500/WMT.csv\n",
      "[483/503] ⬇️ Downloading DIS...\n"
     ]
    },
    {
     "name": "stderr",
     "output_type": "stream",
     "text": [
      "/tmp/ipykernel_117496/2701487849.py:17: FutureWarning: YF.download() has changed argument auto_adjust default to True\n",
      "  df = yf.download(ticker, start=start_date, end=end_date)\n",
      "[*********************100%***********************]  1 of 1 completed\n"
     ]
    },
    {
     "name": "stdout",
     "output_type": "stream",
     "text": [
      "   ✅ Saved to data/sp500/DIS.csv\n",
      "[484/503] ⬇️ Downloading WBD...\n"
     ]
    },
    {
     "name": "stderr",
     "output_type": "stream",
     "text": [
      "/tmp/ipykernel_117496/2701487849.py:17: FutureWarning: YF.download() has changed argument auto_adjust default to True\n",
      "  df = yf.download(ticker, start=start_date, end=end_date)\n",
      "[*********************100%***********************]  1 of 1 completed\n"
     ]
    },
    {
     "name": "stdout",
     "output_type": "stream",
     "text": [
      "   ✅ Saved to data/sp500/WBD.csv\n",
      "[485/503] ⬇️ Downloading WM...\n"
     ]
    },
    {
     "name": "stderr",
     "output_type": "stream",
     "text": [
      "/tmp/ipykernel_117496/2701487849.py:17: FutureWarning: YF.download() has changed argument auto_adjust default to True\n",
      "  df = yf.download(ticker, start=start_date, end=end_date)\n",
      "[*********************100%***********************]  1 of 1 completed\n"
     ]
    },
    {
     "name": "stdout",
     "output_type": "stream",
     "text": [
      "   ✅ Saved to data/sp500/WM.csv\n",
      "[486/503] ⬇️ Downloading WAT...\n"
     ]
    },
    {
     "name": "stderr",
     "output_type": "stream",
     "text": [
      "/tmp/ipykernel_117496/2701487849.py:17: FutureWarning: YF.download() has changed argument auto_adjust default to True\n",
      "  df = yf.download(ticker, start=start_date, end=end_date)\n",
      "[*********************100%***********************]  1 of 1 completed\n"
     ]
    },
    {
     "name": "stdout",
     "output_type": "stream",
     "text": [
      "   ✅ Saved to data/sp500/WAT.csv\n",
      "[487/503] ⬇️ Downloading WEC...\n"
     ]
    },
    {
     "name": "stderr",
     "output_type": "stream",
     "text": [
      "/tmp/ipykernel_117496/2701487849.py:17: FutureWarning: YF.download() has changed argument auto_adjust default to True\n",
      "  df = yf.download(ticker, start=start_date, end=end_date)\n",
      "[*********************100%***********************]  1 of 1 completed\n"
     ]
    },
    {
     "name": "stdout",
     "output_type": "stream",
     "text": [
      "   ✅ Saved to data/sp500/WEC.csv\n",
      "[488/503] ⬇️ Downloading WFC...\n"
     ]
    },
    {
     "name": "stderr",
     "output_type": "stream",
     "text": [
      "/tmp/ipykernel_117496/2701487849.py:17: FutureWarning: YF.download() has changed argument auto_adjust default to True\n",
      "  df = yf.download(ticker, start=start_date, end=end_date)\n",
      "[*********************100%***********************]  1 of 1 completed\n"
     ]
    },
    {
     "name": "stdout",
     "output_type": "stream",
     "text": [
      "   ✅ Saved to data/sp500/WFC.csv\n",
      "[489/503] ⬇️ Downloading WELL...\n"
     ]
    },
    {
     "name": "stderr",
     "output_type": "stream",
     "text": [
      "/tmp/ipykernel_117496/2701487849.py:17: FutureWarning: YF.download() has changed argument auto_adjust default to True\n",
      "  df = yf.download(ticker, start=start_date, end=end_date)\n",
      "[*********************100%***********************]  1 of 1 completed\n"
     ]
    },
    {
     "name": "stdout",
     "output_type": "stream",
     "text": [
      "   ✅ Saved to data/sp500/WELL.csv\n",
      "[490/503] ⬇️ Downloading WST...\n"
     ]
    },
    {
     "name": "stderr",
     "output_type": "stream",
     "text": [
      "/tmp/ipykernel_117496/2701487849.py:17: FutureWarning: YF.download() has changed argument auto_adjust default to True\n",
      "  df = yf.download(ticker, start=start_date, end=end_date)\n",
      "[*********************100%***********************]  1 of 1 completed\n"
     ]
    },
    {
     "name": "stdout",
     "output_type": "stream",
     "text": [
      "   ✅ Saved to data/sp500/WST.csv\n",
      "[491/503] ⬇️ Downloading WDC...\n"
     ]
    },
    {
     "name": "stderr",
     "output_type": "stream",
     "text": [
      "/tmp/ipykernel_117496/2701487849.py:17: FutureWarning: YF.download() has changed argument auto_adjust default to True\n",
      "  df = yf.download(ticker, start=start_date, end=end_date)\n",
      "[*********************100%***********************]  1 of 1 completed\n"
     ]
    },
    {
     "name": "stdout",
     "output_type": "stream",
     "text": [
      "   ✅ Saved to data/sp500/WDC.csv\n",
      "[492/503] ⬇️ Downloading WY...\n"
     ]
    },
    {
     "name": "stderr",
     "output_type": "stream",
     "text": [
      "/tmp/ipykernel_117496/2701487849.py:17: FutureWarning: YF.download() has changed argument auto_adjust default to True\n",
      "  df = yf.download(ticker, start=start_date, end=end_date)\n",
      "[*********************100%***********************]  1 of 1 completed\n"
     ]
    },
    {
     "name": "stdout",
     "output_type": "stream",
     "text": [
      "   ✅ Saved to data/sp500/WY.csv\n",
      "[493/503] ⬇️ Downloading WSM...\n"
     ]
    },
    {
     "name": "stderr",
     "output_type": "stream",
     "text": [
      "/tmp/ipykernel_117496/2701487849.py:17: FutureWarning: YF.download() has changed argument auto_adjust default to True\n",
      "  df = yf.download(ticker, start=start_date, end=end_date)\n",
      "[*********************100%***********************]  1 of 1 completed\n"
     ]
    },
    {
     "name": "stdout",
     "output_type": "stream",
     "text": [
      "   ✅ Saved to data/sp500/WSM.csv\n",
      "[494/503] ⬇️ Downloading WMB...\n"
     ]
    },
    {
     "name": "stderr",
     "output_type": "stream",
     "text": [
      "/tmp/ipykernel_117496/2701487849.py:17: FutureWarning: YF.download() has changed argument auto_adjust default to True\n",
      "  df = yf.download(ticker, start=start_date, end=end_date)\n",
      "[*********************100%***********************]  1 of 1 completed\n"
     ]
    },
    {
     "name": "stdout",
     "output_type": "stream",
     "text": [
      "   ✅ Saved to data/sp500/WMB.csv\n",
      "[495/503] ⬇️ Downloading WTW...\n"
     ]
    },
    {
     "name": "stderr",
     "output_type": "stream",
     "text": [
      "/tmp/ipykernel_117496/2701487849.py:17: FutureWarning: YF.download() has changed argument auto_adjust default to True\n",
      "  df = yf.download(ticker, start=start_date, end=end_date)\n",
      "[*********************100%***********************]  1 of 1 completed\n"
     ]
    },
    {
     "name": "stdout",
     "output_type": "stream",
     "text": [
      "   ✅ Saved to data/sp500/WTW.csv\n",
      "[496/503] ⬇️ Downloading WDAY...\n"
     ]
    },
    {
     "name": "stderr",
     "output_type": "stream",
     "text": [
      "/tmp/ipykernel_117496/2701487849.py:17: FutureWarning: YF.download() has changed argument auto_adjust default to True\n",
      "  df = yf.download(ticker, start=start_date, end=end_date)\n",
      "[*********************100%***********************]  1 of 1 completed\n"
     ]
    },
    {
     "name": "stdout",
     "output_type": "stream",
     "text": [
      "   ✅ Saved to data/sp500/WDAY.csv\n",
      "[497/503] ⬇️ Downloading WYNN...\n"
     ]
    },
    {
     "name": "stderr",
     "output_type": "stream",
     "text": [
      "/tmp/ipykernel_117496/2701487849.py:17: FutureWarning: YF.download() has changed argument auto_adjust default to True\n",
      "  df = yf.download(ticker, start=start_date, end=end_date)\n",
      "[*********************100%***********************]  1 of 1 completed\n"
     ]
    },
    {
     "name": "stdout",
     "output_type": "stream",
     "text": [
      "   ✅ Saved to data/sp500/WYNN.csv\n",
      "[498/503] ⬇️ Downloading XEL...\n"
     ]
    },
    {
     "name": "stderr",
     "output_type": "stream",
     "text": [
      "/tmp/ipykernel_117496/2701487849.py:17: FutureWarning: YF.download() has changed argument auto_adjust default to True\n",
      "  df = yf.download(ticker, start=start_date, end=end_date)\n",
      "[*********************100%***********************]  1 of 1 completed\n"
     ]
    },
    {
     "name": "stdout",
     "output_type": "stream",
     "text": [
      "   ✅ Saved to data/sp500/XEL.csv\n",
      "[499/503] ⬇️ Downloading XYL...\n"
     ]
    },
    {
     "name": "stderr",
     "output_type": "stream",
     "text": [
      "/tmp/ipykernel_117496/2701487849.py:17: FutureWarning: YF.download() has changed argument auto_adjust default to True\n",
      "  df = yf.download(ticker, start=start_date, end=end_date)\n",
      "[*********************100%***********************]  1 of 1 completed\n"
     ]
    },
    {
     "name": "stdout",
     "output_type": "stream",
     "text": [
      "   ✅ Saved to data/sp500/XYL.csv\n",
      "[500/503] ⬇️ Downloading YUM...\n"
     ]
    },
    {
     "name": "stderr",
     "output_type": "stream",
     "text": [
      "/tmp/ipykernel_117496/2701487849.py:17: FutureWarning: YF.download() has changed argument auto_adjust default to True\n",
      "  df = yf.download(ticker, start=start_date, end=end_date)\n",
      "[*********************100%***********************]  1 of 1 completed\n"
     ]
    },
    {
     "name": "stdout",
     "output_type": "stream",
     "text": [
      "   ✅ Saved to data/sp500/YUM.csv\n",
      "[501/503] ⬇️ Downloading ZBRA...\n"
     ]
    },
    {
     "name": "stderr",
     "output_type": "stream",
     "text": [
      "/tmp/ipykernel_117496/2701487849.py:17: FutureWarning: YF.download() has changed argument auto_adjust default to True\n",
      "  df = yf.download(ticker, start=start_date, end=end_date)\n",
      "[*********************100%***********************]  1 of 1 completed\n"
     ]
    },
    {
     "name": "stdout",
     "output_type": "stream",
     "text": [
      "   ✅ Saved to data/sp500/ZBRA.csv\n",
      "[502/503] ⬇️ Downloading ZBH...\n"
     ]
    },
    {
     "name": "stderr",
     "output_type": "stream",
     "text": [
      "/tmp/ipykernel_117496/2701487849.py:17: FutureWarning: YF.download() has changed argument auto_adjust default to True\n",
      "  df = yf.download(ticker, start=start_date, end=end_date)\n",
      "[*********************100%***********************]  1 of 1 completed\n"
     ]
    },
    {
     "name": "stdout",
     "output_type": "stream",
     "text": [
      "   ✅ Saved to data/sp500/ZBH.csv\n",
      "[503/503] ⬇️ Downloading ZTS...\n"
     ]
    },
    {
     "name": "stderr",
     "output_type": "stream",
     "text": [
      "/tmp/ipykernel_117496/2701487849.py:17: FutureWarning: YF.download() has changed argument auto_adjust default to True\n",
      "  df = yf.download(ticker, start=start_date, end=end_date)\n",
      "[*********************100%***********************]  1 of 1 completed\n"
     ]
    },
    {
     "name": "stdout",
     "output_type": "stream",
     "text": [
      "   ✅ Saved to data/sp500/ZTS.csv\n"
     ]
    }
   ],
   "source": [
    "download_sp500_batch(\"2015-01-01\", \"2024-12-31\")"
   ]
  },
  {
   "cell_type": "code",
   "execution_count": 14,
   "id": "84053e67",
   "metadata": {},
   "outputs": [],
   "source": [
    "import pandas as pd\n",
    "import numpy as np\n",
    "\n",
    "def compute_technical_features(df: pd.DataFrame) -> pd.DataFrame:\n",
    "    \"\"\"\n",
    "    Compute daily technical features from historical stock price data.\n",
    "    Assumes df has columns: Date, Open, High, Low, Close, Volume\n",
    "    \"\"\"\n",
    "    df = df.copy()\n",
    "    df['Date'] = pd.to_datetime(df['Date'])\n",
    "    df.set_index('Date', inplace=True)\n",
    "    \n",
    "    # Ensure price columns exist\n",
    "    required_cols = ['Open', 'High', 'Low', 'Close', 'Volume']\n",
    "    for col in required_cols:\n",
    "        if col not in df.columns:\n",
    "            raise ValueError(f\"Missing column: {col}\")\n",
    "    \n",
    "    # Trend\n",
    "    df['SMA_5'] = df['Close'].rolling(window=5).mean()\n",
    "    df['SMA_20'] = df['Close'].rolling(window=20).mean()\n",
    "    df['SMA_ratio'] = df['SMA_5'] / df['SMA_20']\n",
    "    df['EMA_12'] = df['Close'].ewm(span=12, adjust=False).mean()\n",
    "    df['EMA_26'] = df['Close'].ewm(span=26, adjust=False).mean()\n",
    "    \n",
    "    # Momentum\n",
    "    delta = df['Close'].diff()\n",
    "    up = delta.clip(lower=0)\n",
    "    down = -delta.clip(upper=0)\n",
    "    avg_gain = up.rolling(14).mean()\n",
    "    avg_loss = down.rolling(14).mean()\n",
    "    rs = avg_gain / avg_loss\n",
    "    df['RSI_14'] = 100 - (100 / (1 + rs))\n",
    "    \n",
    "    df['MACD_line'] = df['EMA_12'] - df['EMA_26']\n",
    "    df['MACD_signal'] = df['MACD_line'].ewm(span=9, adjust=False).mean()\n",
    "    df['MACD_hist'] = df['MACD_line'] - df['MACD_signal']\n",
    "\n",
    "    df['Streak'] = np.where(df['Close'] > df['Close'].shift(1), 1, \n",
    "                            np.where(df['Close'] < df['Close'].shift(1), -1, 0))\n",
    "    df['Streak_length'] = df['Streak'] * (df['Streak'] != 0).astype(int)\n",
    "    df['Streak_length'] = df['Streak_length'].groupby((df['Streak_length'] != df['Streak_length'].shift()).cumsum()).cumsum()\n",
    "\n",
    "    # Volatility\n",
    "    df['Log_return'] = np.log(df['Close'] / df['Close'].shift(1))\n",
    "    df['Realized_vol_20d'] = df['Log_return'].rolling(20).std()\n",
    "    df['Realized_vol_60d'] = df['Log_return'].rolling(60).std()\n",
    "    \n",
    "    rolling_std = df['Close'].rolling(window=20).std()\n",
    "    df['Bollinger_bandwidth'] = (4 * rolling_std) / df['Close'].rolling(window=20).mean()\n",
    "\n",
    "    df['Rolling_High_Low_20d'] = df['High'].rolling(20).max() - df['Low'].rolling(20).min()\n",
    "\n",
    "    # Volume\n",
    "    df['OBV'] = (np.sign(df['Close'].diff()) * df['Volume']).fillna(0).cumsum()\n",
    "    df['Volume_zscore_20d'] = (df['Volume'] - df['Volume'].rolling(20).mean()) / df['Volume'].rolling(20).std()\n",
    "\n",
    "    # Returns / Lags\n",
    "    for i in range(1, 6):\n",
    "        df[f'Return_{i}d'] = df['Close'].pct_change(i)\n",
    "    df['Momentum_20d'] = df['Close'].pct_change(20)\n",
    "    df['Momentum_60d'] = df['Close'].pct_change(60)\n",
    "    df['Rolling_mean_return_20d'] = df['Log_return'].rolling(20).mean()\n",
    "    df['Rolling_var_return_20d'] = df['Log_return'].rolling(20).var()\n",
    "\n",
    "    # Drop helper columns\n",
    "    df.drop(columns=['Log_return', 'Streak'], inplace=True)\n",
    "\n",
    "    return df.reset_index()\n"
   ]
  },
  {
   "cell_type": "code",
   "execution_count": 23,
   "id": "cc5538b0",
   "metadata": {},
   "outputs": [],
   "source": [
    "import os\n",
    "\n",
    "def batch_compute_features(input_dir=\"data/sp500\", output_dir=\"data/features\"):\n",
    "    os.makedirs(output_dir, exist_ok=True)\n",
    "    files = [f for f in os.listdir(input_dir) if f.endswith(\".csv\")]\n",
    "\n",
    "    for i, file in enumerate(files):\n",
    "        ticker = file.replace(\".csv\", \"\")\n",
    "        input_path = os.path.join(input_dir, file)\n",
    "        output_path = os.path.join(output_dir, f\"{ticker}_features.csv\")\n",
    "\n",
    "        if os.path.exists(output_path):\n",
    "            print(f\"[{i+1}/{len(files)}] ✅ {ticker} already processed.\")\n",
    "            continue\n",
    "\n",
    "        try:\n",
    "            print(f\"[{i+1}/{len(files)}] ⏳ Processing {ticker}...\")\n",
    "            df = pd.read_csv(input_path, skiprows=2, header=None)\n",
    "            df.columns = ['Date', 'Close', 'High', 'Low', 'Open', 'Volume']\n",
    "            # Force numeric types after skipping both header and label\n",
    "            for col in ['Open', 'High', 'Low', 'Close', 'Volume']:\n",
    "                if col in df.columns:\n",
    "                    df[col] = pd.to_numeric(df[col], errors='coerce')\n",
    "\n",
    "            df.dropna(subset=['Close', 'High', 'Low', 'Open', 'Volume'], how='all', inplace=True)\n",
    "            features_df = compute_technical_features(df)\n",
    "            features_df.to_csv(output_path, index=False)\n",
    "            print(f\"   ✅ Saved to {output_path}\")\n",
    "        except Exception as e:\n",
    "            print(f\"   ❌ Failed for {ticker}: {e}\")"
   ]
  },
  {
   "cell_type": "code",
   "execution_count": 24,
   "id": "a61119f7",
   "metadata": {},
   "outputs": [
    {
     "name": "stdout",
     "output_type": "stream",
     "text": [
      "[1/503] ⏳ Processing MAR...\n",
      "   ✅ Saved to data/features/MAR_features.csv\n",
      "[2/503] ⏳ Processing XYZ...\n",
      "   ✅ Saved to data/features/XYZ_features.csv\n",
      "[3/503] ⏳ Processing NTRS...\n",
      "   ✅ Saved to data/features/NTRS_features.csv\n",
      "[4/503] ⏳ Processing ELV...\n",
      "   ✅ Saved to data/features/ELV_features.csv\n",
      "[5/503] ⏳ Processing VZ...\n",
      "   ✅ Saved to data/features/VZ_features.csv\n",
      "[6/503] ⏳ Processing MCD...\n",
      "   ✅ Saved to data/features/MCD_features.csv\n",
      "[7/503] ⏳ Processing L...\n",
      "   ✅ Saved to data/features/L_features.csv\n",
      "[8/503] ⏳ Processing GM...\n",
      "   ✅ Saved to data/features/GM_features.csv\n",
      "[9/503] ⏳ Processing OMC...\n",
      "   ✅ Saved to data/features/OMC_features.csv\n",
      "[10/503] ⏳ Processing TYL...\n",
      "   ✅ Saved to data/features/TYL_features.csv\n",
      "[11/503] ⏳ Processing WMB...\n",
      "   ✅ Saved to data/features/WMB_features.csv\n",
      "[12/503] ⏳ Processing BKR...\n",
      "   ✅ Saved to data/features/BKR_features.csv\n",
      "[13/503] ⏳ Processing CPB...\n",
      "   ✅ Saved to data/features/CPB_features.csv\n",
      "[14/503] ⏳ Processing FE...\n",
      "   ✅ Saved to data/features/FE_features.csv\n",
      "[15/503] ⏳ Processing LYB...\n",
      "   ✅ Saved to data/features/LYB_features.csv\n",
      "[16/503] ⏳ Processing UNH...\n",
      "   ✅ Saved to data/features/UNH_features.csv\n",
      "[17/503] ⏳ Processing KKR...\n",
      "   ✅ Saved to data/features/KKR_features.csv\n",
      "[18/503] ⏳ Processing FIS...\n",
      "   ✅ Saved to data/features/FIS_features.csv\n",
      "[19/503] ⏳ Processing GOOGL...\n",
      "   ✅ Saved to data/features/GOOGL_features.csv\n",
      "[20/503] ⏳ Processing KMX...\n",
      "   ✅ Saved to data/features/KMX_features.csv\n",
      "[21/503] ⏳ Processing POOL...\n",
      "   ✅ Saved to data/features/POOL_features.csv\n",
      "[22/503] ⏳ Processing PLD...\n",
      "   ✅ Saved to data/features/PLD_features.csv\n",
      "[23/503] ⏳ Processing ATO...\n",
      "   ✅ Saved to data/features/ATO_features.csv\n",
      "[24/503] ⏳ Processing AMAT...\n",
      "   ✅ Saved to data/features/AMAT_features.csv\n",
      "[25/503] ⏳ Processing PEG...\n",
      "   ✅ Saved to data/features/PEG_features.csv\n",
      "[26/503] ⏳ Processing APH...\n",
      "   ✅ Saved to data/features/APH_features.csv\n",
      "[27/503] ⏳ Processing MDLZ...\n",
      "   ✅ Saved to data/features/MDLZ_features.csv\n",
      "[28/503] ⏳ Processing MET...\n",
      "   ✅ Saved to data/features/MET_features.csv\n",
      "[29/503] ⏳ Processing NSC...\n",
      "   ✅ Saved to data/features/NSC_features.csv\n",
      "[30/503] ⏳ Processing ISRG...\n",
      "   ✅ Saved to data/features/ISRG_features.csv\n",
      "[31/503] ⏳ Processing FTV...\n",
      "   ✅ Saved to data/features/FTV_features.csv\n",
      "[32/503] ⏳ Processing NVR...\n",
      "   ✅ Saved to data/features/NVR_features.csv\n",
      "[33/503] ⏳ Processing TSN...\n",
      "   ✅ Saved to data/features/TSN_features.csv\n",
      "[34/503] ⏳ Processing CPT...\n",
      "   ✅ Saved to data/features/CPT_features.csv\n",
      "[35/503] ⏳ Processing NI...\n",
      "   ✅ Saved to data/features/NI_features.csv\n",
      "[36/503] ⏳ Processing EXPD...\n",
      "   ✅ Saved to data/features/EXPD_features.csv\n",
      "[37/503] ⏳ Processing DG...\n",
      "   ✅ Saved to data/features/DG_features.csv\n",
      "[38/503] ⏳ Processing PGR...\n",
      "   ✅ Saved to data/features/PGR_features.csv\n",
      "[39/503] ⏳ Processing MAS...\n",
      "   ✅ Saved to data/features/MAS_features.csv\n",
      "[40/503] ⏳ Processing DTE...\n",
      "   ✅ Saved to data/features/DTE_features.csv\n",
      "[41/503] ⏳ Processing SCHW...\n",
      "   ✅ Saved to data/features/SCHW_features.csv\n",
      "[42/503] ⏳ Processing VST...\n",
      "   ✅ Saved to data/features/VST_features.csv\n",
      "[43/503] ⏳ Processing INTC...\n",
      "   ✅ Saved to data/features/INTC_features.csv\n",
      "[44/503] ⏳ Processing CRWD...\n",
      "   ✅ Saved to data/features/CRWD_features.csv\n",
      "[45/503] ⏳ Processing DAL...\n",
      "   ✅ Saved to data/features/DAL_features.csv\n",
      "[46/503] ⏳ Processing IBM...\n",
      "   ✅ Saved to data/features/IBM_features.csv\n",
      "[47/503] ⏳ Processing ROST...\n",
      "   ✅ Saved to data/features/ROST_features.csv\n",
      "[48/503] ⏳ Processing DHI...\n",
      "   ✅ Saved to data/features/DHI_features.csv\n",
      "[49/503] ⏳ Processing DXCM...\n",
      "   ✅ Saved to data/features/DXCM_features.csv\n",
      "[50/503] ⏳ Processing STE...\n",
      "   ✅ Saved to data/features/STE_features.csv\n",
      "[51/503] ⏳ Processing J...\n",
      "   ✅ Saved to data/features/J_features.csv\n",
      "[52/503] ⏳ Processing VMC...\n",
      "   ✅ Saved to data/features/VMC_features.csv\n",
      "[53/503] ⏳ Processing WDAY...\n",
      "   ✅ Saved to data/features/WDAY_features.csv\n",
      "[54/503] ⏳ Processing MPC...\n",
      "   ✅ Saved to data/features/MPC_features.csv\n",
      "[55/503] ⏳ Processing EOG...\n",
      "   ✅ Saved to data/features/EOG_features.csv\n",
      "[56/503] ⏳ Processing IFF...\n",
      "   ✅ Saved to data/features/IFF_features.csv\n",
      "[57/503] ⏳ Processing ZTS...\n",
      "   ✅ Saved to data/features/ZTS_features.csv\n",
      "[58/503] ⏳ Processing MCK...\n",
      "   ✅ Saved to data/features/MCK_features.csv\n",
      "[59/503] ⏳ Processing KEYS...\n",
      "   ✅ Saved to data/features/KEYS_features.csv\n",
      "[60/503] ⏳ Processing ACGL...\n",
      "   ✅ Saved to data/features/ACGL_features.csv\n",
      "[61/503] ⏳ Processing EXPE...\n",
      "   ✅ Saved to data/features/EXPE_features.csv\n",
      "[62/503] ⏳ Processing PNC...\n",
      "   ✅ Saved to data/features/PNC_features.csv\n",
      "[63/503] ⏳ Processing CARR...\n",
      "   ✅ Saved to data/features/CARR_features.csv\n",
      "[64/503] ⏳ Processing DVN...\n",
      "   ✅ Saved to data/features/DVN_features.csv\n",
      "[65/503] ⏳ Processing AWK...\n",
      "   ✅ Saved to data/features/AWK_features.csv\n",
      "[66/503] ⏳ Processing PFE...\n",
      "   ✅ Saved to data/features/PFE_features.csv\n",
      "[67/503] ⏳ Processing BSX...\n",
      "   ✅ Saved to data/features/BSX_features.csv\n",
      "[68/503] ⏳ Processing PYPL...\n",
      "   ✅ Saved to data/features/PYPL_features.csv\n",
      "[69/503] ⏳ Processing SW...\n",
      "   ✅ Saved to data/features/SW_features.csv\n",
      "[70/503] ⏳ Processing SLB...\n",
      "   ✅ Saved to data/features/SLB_features.csv\n",
      "[71/503] ⏳ Processing MU...\n",
      "   ✅ Saved to data/features/MU_features.csv\n",
      "[72/503] ⏳ Processing UPS...\n",
      "   ✅ Saved to data/features/UPS_features.csv\n",
      "[73/503] ⏳ Processing LOW...\n",
      "   ✅ Saved to data/features/LOW_features.csv\n",
      "[74/503] ⏳ Processing SWKS...\n",
      "   ✅ Saved to data/features/SWKS_features.csv\n",
      "[75/503] ⏳ Processing PWR...\n",
      "   ✅ Saved to data/features/PWR_features.csv\n",
      "[76/503] ⏳ Processing HUBB...\n",
      "   ✅ Saved to data/features/HUBB_features.csv\n",
      "[77/503] ⏳ Processing KVUE...\n",
      "   ✅ Saved to data/features/KVUE_features.csv\n",
      "[78/503] ⏳ Processing RSG...\n",
      "   ✅ Saved to data/features/RSG_features.csv\n",
      "[79/503] ⏳ Processing MRK...\n",
      "   ✅ Saved to data/features/MRK_features.csv\n",
      "[80/503] ⏳ Processing GLW...\n",
      "   ✅ Saved to data/features/GLW_features.csv\n",
      "[81/503] ⏳ Processing AXP...\n",
      "   ✅ Saved to data/features/AXP_features.csv\n",
      "[82/503] ⏳ Processing ROP...\n",
      "   ✅ Saved to data/features/ROP_features.csv\n",
      "[83/503] ⏳ Processing NCLH...\n",
      "   ✅ Saved to data/features/NCLH_features.csv\n",
      "[84/503] ⏳ Processing CPAY...\n",
      "   ✅ Saved to data/features/CPAY_features.csv\n",
      "[85/503] ⏳ Processing LUV...\n",
      "   ✅ Saved to data/features/LUV_features.csv\n",
      "[86/503] ⏳ Processing SMCI...\n",
      "   ✅ Saved to data/features/SMCI_features.csv\n",
      "[87/503] ⏳ Processing MCHP...\n",
      "   ✅ Saved to data/features/MCHP_features.csv\n",
      "[88/503] ⏳ Processing BLDR...\n",
      "   ✅ Saved to data/features/BLDR_features.csv\n",
      "[89/503] ⏳ Processing IR...\n",
      "   ✅ Saved to data/features/IR_features.csv\n",
      "[90/503] ⏳ Processing JKHY...\n",
      "   ✅ Saved to data/features/JKHY_features.csv\n",
      "[91/503] ⏳ Processing APO...\n",
      "   ✅ Saved to data/features/APO_features.csv\n",
      "[92/503] ⏳ Processing SNPS...\n",
      "   ✅ Saved to data/features/SNPS_features.csv\n",
      "[93/503] ⏳ Processing NOC...\n",
      "   ✅ Saved to data/features/NOC_features.csv\n",
      "[94/503] ⏳ Processing CVS...\n",
      "   ✅ Saved to data/features/CVS_features.csv\n",
      "[95/503] ⏳ Processing TPR...\n",
      "   ✅ Saved to data/features/TPR_features.csv\n",
      "[96/503] ⏳ Processing DOW...\n",
      "   ✅ Saved to data/features/DOW_features.csv\n",
      "[97/503] ⏳ Processing FRT...\n",
      "   ✅ Saved to data/features/FRT_features.csv\n",
      "[98/503] ⏳ Processing CLX...\n",
      "   ✅ Saved to data/features/CLX_features.csv\n",
      "[99/503] ⏳ Processing LW...\n",
      "   ✅ Saved to data/features/LW_features.csv\n",
      "[100/503] ⏳ Processing EMR...\n",
      "   ✅ Saved to data/features/EMR_features.csv\n",
      "[101/503] ⏳ Processing TXN...\n",
      "   ✅ Saved to data/features/TXN_features.csv\n",
      "[102/503] ⏳ Processing MNST...\n",
      "   ✅ Saved to data/features/MNST_features.csv\n",
      "[103/503] ⏳ Processing TFC...\n",
      "   ✅ Saved to data/features/TFC_features.csv\n",
      "[104/503] ⏳ Processing CHTR...\n",
      "   ✅ Saved to data/features/CHTR_features.csv\n",
      "[105/503] ⏳ Processing KR...\n",
      "   ✅ Saved to data/features/KR_features.csv\n",
      "[106/503] ⏳ Processing EVRG...\n",
      "   ✅ Saved to data/features/EVRG_features.csv\n",
      "[107/503] ⏳ Processing COP...\n",
      "   ✅ Saved to data/features/COP_features.csv\n",
      "[108/503] ⏳ Processing ZBH...\n",
      "   ✅ Saved to data/features/ZBH_features.csv\n",
      "[109/503] ⏳ Processing IVZ...\n",
      "   ✅ Saved to data/features/IVZ_features.csv\n",
      "[110/503] ⏳ Processing GOOG...\n",
      "   ✅ Saved to data/features/GOOG_features.csv\n",
      "[111/503] ⏳ Processing HAS...\n",
      "   ✅ Saved to data/features/HAS_features.csv\n",
      "[112/503] ⏳ Processing DAY...\n",
      "   ✅ Saved to data/features/DAY_features.csv\n",
      "[113/503] ⏳ Processing SPG...\n",
      "   ✅ Saved to data/features/SPG_features.csv\n",
      "[114/503] ⏳ Processing TTD...\n",
      "   ✅ Saved to data/features/TTD_features.csv\n",
      "[115/503] ⏳ Processing GDDY...\n",
      "   ✅ Saved to data/features/GDDY_features.csv\n",
      "[116/503] ⏳ Processing BRO...\n",
      "   ✅ Saved to data/features/BRO_features.csv\n",
      "[117/503] ⏳ Processing GE...\n",
      "   ✅ Saved to data/features/GE_features.csv\n",
      "[118/503] ⏳ Processing D...\n",
      "   ✅ Saved to data/features/D_features.csv\n",
      "[119/503] ⏳ Processing KDP...\n",
      "   ✅ Saved to data/features/KDP_features.csv\n",
      "[120/503] ⏳ Processing JBL...\n",
      "   ✅ Saved to data/features/JBL_features.csv\n",
      "[121/503] ⏳ Processing LULU...\n",
      "   ✅ Saved to data/features/LULU_features.csv\n",
      "[122/503] ⏳ Processing HRL...\n",
      "   ✅ Saved to data/features/HRL_features.csv\n",
      "[123/503] ⏳ Processing CSX...\n",
      "   ✅ Saved to data/features/CSX_features.csv\n",
      "[124/503] ⏳ Processing CF...\n",
      "   ✅ Saved to data/features/CF_features.csv\n",
      "[125/503] ⏳ Processing PG...\n",
      "   ✅ Saved to data/features/PG_features.csv\n",
      "[126/503] ⏳ Processing FTNT...\n",
      "   ✅ Saved to data/features/FTNT_features.csv\n",
      "[127/503] ⏳ Processing FOX...\n",
      "   ✅ Saved to data/features/FOX_features.csv\n",
      "[128/503] ⏳ Processing UNP...\n",
      "   ✅ Saved to data/features/UNP_features.csv\n",
      "[129/503] ⏳ Processing AES...\n",
      "   ✅ Saved to data/features/AES_features.csv\n",
      "[130/503] ⏳ Processing MS...\n",
      "   ✅ Saved to data/features/MS_features.csv\n",
      "[131/503] ⏳ Processing CAG...\n",
      "   ✅ Saved to data/features/CAG_features.csv\n",
      "[132/503] ⏳ Processing ADM...\n",
      "   ✅ Saved to data/features/ADM_features.csv\n",
      "[133/503] ⏳ Processing CVX...\n",
      "   ✅ Saved to data/features/CVX_features.csv\n",
      "[134/503] ⏳ Processing URI...\n",
      "   ✅ Saved to data/features/URI_features.csv\n",
      "[135/503] ⏳ Processing EPAM...\n",
      "   ✅ Saved to data/features/EPAM_features.csv\n",
      "[136/503] ⏳ Processing AVY...\n",
      "   ✅ Saved to data/features/AVY_features.csv\n",
      "[137/503] ⏳ Processing DHR...\n",
      "   ✅ Saved to data/features/DHR_features.csv\n",
      "[138/503] ⏳ Processing ODFL...\n",
      "   ✅ Saved to data/features/ODFL_features.csv\n",
      "[139/503] ⏳ Processing JCI...\n",
      "   ✅ Saved to data/features/JCI_features.csv\n",
      "[140/503] ⏳ Processing GL...\n",
      "   ✅ Saved to data/features/GL_features.csv\n",
      "[141/503] ⏳ Processing VRTX...\n",
      "   ✅ Saved to data/features/VRTX_features.csv\n",
      "[142/503] ⏳ Processing LII...\n",
      "   ✅ Saved to data/features/LII_features.csv\n",
      "[143/503] ⏳ Processing PAYX...\n",
      "   ✅ Saved to data/features/PAYX_features.csv\n",
      "[144/503] ⏳ Processing BIIB...\n",
      "   ✅ Saved to data/features/BIIB_features.csv\n",
      "[145/503] ⏳ Processing EBAY...\n",
      "   ✅ Saved to data/features/EBAY_features.csv\n",
      "[146/503] ⏳ Processing NEE...\n",
      "   ✅ Saved to data/features/NEE_features.csv\n",
      "[147/503] ⏳ Processing BG...\n",
      "   ✅ Saved to data/features/BG_features.csv\n",
      "[148/503] ⏳ Processing IDXX...\n",
      "   ✅ Saved to data/features/IDXX_features.csv\n",
      "[149/503] ⏳ Processing FITB...\n",
      "   ✅ Saved to data/features/FITB_features.csv\n",
      "[150/503] ⏳ Processing MAA...\n",
      "   ✅ Saved to data/features/MAA_features.csv\n",
      "[151/503] ⏳ Processing SBUX...\n",
      "   ✅ Saved to data/features/SBUX_features.csv\n",
      "[152/503] ⏳ Processing NWS...\n",
      "   ✅ Saved to data/features/NWS_features.csv\n",
      "[153/503] ⏳ Processing VLTO...\n",
      "   ✅ Saved to data/features/VLTO_features.csv\n",
      "[154/503] ⏳ Processing YUM...\n",
      "   ✅ Saved to data/features/YUM_features.csv\n",
      "[155/503] ⏳ Processing MLM...\n",
      "   ✅ Saved to data/features/MLM_features.csv\n",
      "[156/503] ⏳ Processing UDR...\n",
      "   ✅ Saved to data/features/UDR_features.csv\n",
      "[157/503] ⏳ Processing MTCH...\n",
      "   ✅ Saved to data/features/MTCH_features.csv\n",
      "[158/503] ⏳ Processing MOS...\n",
      "   ✅ Saved to data/features/MOS_features.csv\n",
      "[159/503] ⏳ Processing AMD...\n",
      "   ✅ Saved to data/features/AMD_features.csv\n",
      "[160/503] ⏳ Processing KMB...\n",
      "   ✅ Saved to data/features/KMB_features.csv\n",
      "[161/503] ⏳ Processing O...\n",
      "   ✅ Saved to data/features/O_features.csv\n",
      "[162/503] ⏳ Processing ALB...\n",
      "   ✅ Saved to data/features/ALB_features.csv\n",
      "[163/503] ⏳ Processing EXE...\n",
      "   ✅ Saved to data/features/EXE_features.csv\n",
      "[164/503] ⏳ Processing WAT...\n",
      "   ✅ Saved to data/features/WAT_features.csv\n",
      "[165/503] ⏳ Processing BR...\n",
      "   ✅ Saved to data/features/BR_features.csv\n",
      "[166/503] ⏳ Processing TDY...\n",
      "   ✅ Saved to data/features/TDY_features.csv\n",
      "[167/503] ⏳ Processing HLT...\n",
      "   ✅ Saved to data/features/HLT_features.csv\n",
      "[168/503] ⏳ Processing HIG...\n",
      "   ✅ Saved to data/features/HIG_features.csv\n",
      "[169/503] ⏳ Processing GIS...\n",
      "   ✅ Saved to data/features/GIS_features.csv\n",
      "[170/503] ⏳ Processing EIX...\n",
      "   ✅ Saved to data/features/EIX_features.csv\n",
      "[171/503] ⏳ Processing BK...\n",
      "   ✅ Saved to data/features/BK_features.csv\n",
      "[172/503] ⏳ Processing CNC...\n",
      "   ✅ Saved to data/features/CNC_features.csv\n",
      "[173/503] ⏳ Processing LMT...\n",
      "   ✅ Saved to data/features/LMT_features.csv\n",
      "[174/503] ⏳ Processing INCY...\n",
      "   ✅ Saved to data/features/INCY_features.csv\n",
      "[175/503] ⏳ Processing VICI...\n",
      "   ✅ Saved to data/features/VICI_features.csv\n",
      "[176/503] ⏳ Processing ALLE...\n",
      "   ✅ Saved to data/features/ALLE_features.csv\n",
      "[177/503] ⏳ Processing BF-B...\n",
      "   ✅ Saved to data/features/BF-B_features.csv\n",
      "[178/503] ⏳ Processing LHX...\n",
      "   ✅ Saved to data/features/LHX_features.csv\n",
      "[179/503] ⏳ Processing EW...\n",
      "   ✅ Saved to data/features/EW_features.csv\n",
      "[180/503] ⏳ Processing MO...\n",
      "   ✅ Saved to data/features/MO_features.csv\n",
      "[181/503] ⏳ Processing GS...\n",
      "   ✅ Saved to data/features/GS_features.csv\n",
      "[182/503] ⏳ Processing TRGP...\n",
      "   ✅ Saved to data/features/TRGP_features.csv\n",
      "[183/503] ⏳ Processing WSM...\n",
      "   ✅ Saved to data/features/WSM_features.csv\n",
      "[184/503] ⏳ Processing A...\n",
      "   ✅ Saved to data/features/A_features.csv\n",
      "[185/503] ⏳ Processing CB...\n",
      "   ✅ Saved to data/features/CB_features.csv\n",
      "[186/503] ⏳ Processing TGT...\n",
      "   ✅ Saved to data/features/TGT_features.csv\n",
      "[187/503] ⏳ Processing LEN...\n",
      "   ✅ Saved to data/features/LEN_features.csv\n",
      "[188/503] ⏳ Processing FICO...\n",
      "   ✅ Saved to data/features/FICO_features.csv\n",
      "[189/503] ⏳ Processing ROL...\n",
      "   ✅ Saved to data/features/ROL_features.csv\n",
      "[190/503] ⏳ Processing HON...\n",
      "   ✅ Saved to data/features/HON_features.csv\n",
      "[191/503] ⏳ Processing IT...\n",
      "   ✅ Saved to data/features/IT_features.csv\n",
      "[192/503] ⏳ Processing TECH...\n",
      "   ✅ Saved to data/features/TECH_features.csv\n",
      "[193/503] ⏳ Processing IEX...\n",
      "   ✅ Saved to data/features/IEX_features.csv\n",
      "[194/503] ⏳ Processing WDC...\n",
      "   ✅ Saved to data/features/WDC_features.csv\n",
      "[195/503] ⏳ Processing FCX...\n",
      "   ✅ Saved to data/features/FCX_features.csv\n",
      "[196/503] ⏳ Processing IPG...\n",
      "   ✅ Saved to data/features/IPG_features.csv\n",
      "[197/503] ⏳ Processing FAST...\n",
      "   ✅ Saved to data/features/FAST_features.csv\n",
      "[198/503] ⏳ Processing GEV...\n",
      "   ✅ Saved to data/features/GEV_features.csv\n",
      "[199/503] ⏳ Processing AZO...\n",
      "   ✅ Saved to data/features/AZO_features.csv\n",
      "[200/503] ⏳ Processing REGN...\n",
      "   ✅ Saved to data/features/REGN_features.csv\n",
      "[201/503] ⏳ Processing HBAN...\n",
      "   ✅ Saved to data/features/HBAN_features.csv\n",
      "[202/503] ⏳ Processing CHD...\n",
      "   ✅ Saved to data/features/CHD_features.csv\n",
      "[203/503] ⏳ Processing HCA...\n",
      "   ✅ Saved to data/features/HCA_features.csv\n",
      "[204/503] ⏳ Processing ABNB...\n",
      "   ✅ Saved to data/features/ABNB_features.csv\n",
      "[205/503] ⏳ Processing MOH...\n",
      "   ✅ Saved to data/features/MOH_features.csv\n",
      "[206/503] ⏳ Processing EQIX...\n",
      "   ✅ Saved to data/features/EQIX_features.csv\n",
      "[207/503] ⏳ Processing HOLX...\n",
      "   ✅ Saved to data/features/HOLX_features.csv\n",
      "[208/503] ⏳ Processing PSX...\n",
      "   ✅ Saved to data/features/PSX_features.csv\n",
      "[209/503] ⏳ Processing NTAP...\n",
      "   ✅ Saved to data/features/NTAP_features.csv\n",
      "[210/503] ⏳ Processing ABBV...\n",
      "   ✅ Saved to data/features/ABBV_features.csv\n",
      "[211/503] ⏳ Processing AOS...\n",
      "   ✅ Saved to data/features/AOS_features.csv\n",
      "[212/503] ⏳ Processing SJM...\n",
      "   ✅ Saved to data/features/SJM_features.csv\n",
      "[213/503] ⏳ Processing CAH...\n",
      "   ✅ Saved to data/features/CAH_features.csv\n",
      "[214/503] ⏳ Processing DUK...\n",
      "   ✅ Saved to data/features/DUK_features.csv\n",
      "[215/503] ⏳ Processing MA...\n",
      "   ✅ Saved to data/features/MA_features.csv\n",
      "[216/503] ⏳ Processing LIN...\n",
      "   ✅ Saved to data/features/LIN_features.csv\n",
      "[217/503] ⏳ Processing TER...\n",
      "   ✅ Saved to data/features/TER_features.csv\n",
      "[218/503] ⏳ Processing QCOM...\n",
      "   ✅ Saved to data/features/QCOM_features.csv\n",
      "[219/503] ⏳ Processing SYF...\n",
      "   ✅ Saved to data/features/SYF_features.csv\n",
      "[220/503] ⏳ Processing PEP...\n",
      "   ✅ Saved to data/features/PEP_features.csv\n",
      "[221/503] ⏳ Processing AON...\n",
      "   ✅ Saved to data/features/AON_features.csv\n",
      "[222/503] ⏳ Processing EFX...\n",
      "   ✅ Saved to data/features/EFX_features.csv\n",
      "[223/503] ⏳ Processing FDS...\n",
      "   ✅ Saved to data/features/FDS_features.csv\n",
      "[224/503] ⏳ Processing AAPL...\n",
      "   ✅ Saved to data/features/AAPL_features.csv\n",
      "[225/503] ⏳ Processing NRG...\n",
      "   ✅ Saved to data/features/NRG_features.csv\n",
      "[226/503] ⏳ Processing MRNA...\n",
      "   ✅ Saved to data/features/MRNA_features.csv\n",
      "[227/503] ⏳ Processing SNA...\n",
      "   ✅ Saved to data/features/SNA_features.csv\n",
      "[228/503] ⏳ Processing AMT...\n",
      "   ✅ Saved to data/features/AMT_features.csv\n",
      "[229/503] ⏳ Processing MKC...\n",
      "   ✅ Saved to data/features/MKC_features.csv\n",
      "[230/503] ⏳ Processing BLK...\n",
      "   ✅ Saved to data/features/BLK_features.csv\n",
      "[231/503] ⏳ Processing CTSH...\n",
      "   ✅ Saved to data/features/CTSH_features.csv\n",
      "[232/503] ⏳ Processing SWK...\n",
      "   ✅ Saved to data/features/SWK_features.csv\n",
      "[233/503] ⏳ Processing CRM...\n",
      "   ✅ Saved to data/features/CRM_features.csv\n",
      "[234/503] ⏳ Processing SBAC...\n",
      "   ✅ Saved to data/features/SBAC_features.csv\n",
      "[235/503] ⏳ Processing MTB...\n",
      "   ✅ Saved to data/features/MTB_features.csv\n",
      "[236/503] ⏳ Processing FANG...\n",
      "   ✅ Saved to data/features/FANG_features.csv\n",
      "[237/503] ⏳ Processing ESS...\n",
      "   ✅ Saved to data/features/ESS_features.csv\n",
      "[238/503] ⏳ Processing VRSK...\n",
      "   ✅ Saved to data/features/VRSK_features.csv\n",
      "[239/503] ⏳ Processing AJG...\n",
      "   ✅ Saved to data/features/AJG_features.csv\n",
      "[240/503] ⏳ Processing K...\n",
      "   ✅ Saved to data/features/K_features.csv\n",
      "[241/503] ⏳ Processing DELL...\n",
      "   ✅ Saved to data/features/DELL_features.csv\n",
      "[242/503] ⏳ Processing CDNS...\n",
      "   ✅ Saved to data/features/CDNS_features.csv\n",
      "[243/503] ⏳ Processing EQR...\n",
      "   ✅ Saved to data/features/EQR_features.csv\n",
      "[244/503] ⏳ Processing BEN...\n",
      "   ✅ Saved to data/features/BEN_features.csv\n",
      "[245/503] ⏳ Processing GEN...\n",
      "   ✅ Saved to data/features/GEN_features.csv\n",
      "[246/503] ⏳ Processing F...\n",
      "   ✅ Saved to data/features/F_features.csv\n",
      "[247/503] ⏳ Processing MCO...\n",
      "   ✅ Saved to data/features/MCO_features.csv\n",
      "[248/503] ⏳ Processing REG...\n",
      "   ✅ Saved to data/features/REG_features.csv\n",
      "[249/503] ⏳ Processing ROK...\n",
      "   ✅ Saved to data/features/ROK_features.csv\n",
      "[250/503] ⏳ Processing ADP...\n",
      "   ✅ Saved to data/features/ADP_features.csv\n",
      "[251/503] ⏳ Processing PSKY...\n",
      "   ✅ Saved to data/features/PSKY_features.csv\n",
      "[252/503] ⏳ Processing LVS...\n",
      "   ✅ Saved to data/features/LVS_features.csv\n",
      "[253/503] ⏳ Processing COO...\n",
      "   ✅ Saved to data/features/COO_features.csv\n",
      "[254/503] ⏳ Processing INTU...\n",
      "   ✅ Saved to data/features/INTU_features.csv\n",
      "[255/503] ⏳ Processing AMZN...\n",
      "   ✅ Saved to data/features/AMZN_features.csv\n",
      "[256/503] ⏳ Processing SO...\n",
      "   ✅ Saved to data/features/SO_features.csv\n",
      "[257/503] ⏳ Processing HPQ...\n",
      "   ✅ Saved to data/features/HPQ_features.csv\n",
      "[258/503] ⏳ Processing PH...\n",
      "   ✅ Saved to data/features/PH_features.csv\n",
      "[259/503] ⏳ Processing APTV...\n",
      "   ✅ Saved to data/features/APTV_features.csv\n",
      "[260/503] ⏳ Processing BAX...\n",
      "   ✅ Saved to data/features/BAX_features.csv\n",
      "[261/503] ⏳ Processing UBER...\n",
      "   ✅ Saved to data/features/UBER_features.csv\n",
      "[262/503] ⏳ Processing C...\n",
      "   ✅ Saved to data/features/C_features.csv\n",
      "[263/503] ⏳ Processing DOV...\n",
      "   ✅ Saved to data/features/DOV_features.csv\n",
      "[264/503] ⏳ Processing CTRA...\n",
      "   ✅ Saved to data/features/CTRA_features.csv\n",
      "[265/503] ⏳ Processing PLTR...\n",
      "   ✅ Saved to data/features/PLTR_features.csv\n",
      "[266/503] ⏳ Processing WBD...\n",
      "   ✅ Saved to data/features/WBD_features.csv\n",
      "[267/503] ⏳ Processing DASH...\n",
      "   ✅ Saved to data/features/DASH_features.csv\n",
      "[268/503] ⏳ Processing ORLY...\n",
      "   ✅ Saved to data/features/ORLY_features.csv\n",
      "[269/503] ⏳ Processing GD...\n",
      "   ✅ Saved to data/features/GD_features.csv\n",
      "[270/503] ⏳ Processing BXP...\n",
      "   ✅ Saved to data/features/BXP_features.csv\n",
      "[271/503] ⏳ Processing DPZ...\n",
      "   ✅ Saved to data/features/DPZ_features.csv\n",
      "[272/503] ⏳ Processing RL...\n",
      "   ✅ Saved to data/features/RL_features.csv\n",
      "[273/503] ⏳ Processing GWW...\n",
      "   ✅ Saved to data/features/GWW_features.csv\n",
      "[274/503] ⏳ Processing KEY...\n",
      "   ✅ Saved to data/features/KEY_features.csv\n",
      "[275/503] ⏳ Processing NDAQ...\n",
      "   ✅ Saved to data/features/NDAQ_features.csv\n",
      "[276/503] ⏳ Processing ZBRA...\n",
      "   ✅ Saved to data/features/ZBRA_features.csv\n",
      "[277/503] ⏳ Processing JNJ...\n",
      "   ✅ Saved to data/features/JNJ_features.csv\n",
      "[278/503] ⏳ Processing CCI...\n",
      "   ✅ Saved to data/features/CCI_features.csv\n",
      "[279/503] ⏳ Processing VTR...\n",
      "   ✅ Saved to data/features/VTR_features.csv\n",
      "[280/503] ⏳ Processing STZ...\n",
      "   ✅ Saved to data/features/STZ_features.csv\n",
      "[281/503] ⏳ Processing TSLA...\n",
      "   ✅ Saved to data/features/TSLA_features.csv\n",
      "[282/503] ⏳ Processing RJF...\n",
      "   ✅ Saved to data/features/RJF_features.csv\n",
      "[283/503] ⏳ Processing TKO...\n",
      "   ✅ Saved to data/features/TKO_features.csv\n",
      "[284/503] ⏳ Processing TEL...\n",
      "   ✅ Saved to data/features/TEL_features.csv\n",
      "[285/503] ⏳ Processing CBRE...\n",
      "   ✅ Saved to data/features/CBRE_features.csv\n",
      "[286/503] ⏳ Processing MPWR...\n",
      "   ✅ Saved to data/features/MPWR_features.csv\n",
      "[287/503] ⏳ Processing CNP...\n",
      "   ✅ Saved to data/features/CNP_features.csv\n",
      "[288/503] ⏳ Processing CI...\n",
      "   ✅ Saved to data/features/CI_features.csv\n",
      "[289/503] ⏳ Processing BAC...\n",
      "   ✅ Saved to data/features/BAC_features.csv\n",
      "[290/503] ⏳ Processing KO...\n",
      "   ✅ Saved to data/features/KO_features.csv\n",
      "[291/503] ⏳ Processing EA...\n",
      "   ✅ Saved to data/features/EA_features.csv\n",
      "[292/503] ⏳ Processing BRK-B...\n",
      "   ✅ Saved to data/features/BRK-B_features.csv\n",
      "[293/503] ⏳ Processing JPM...\n",
      "   ✅ Saved to data/features/JPM_features.csv\n",
      "[294/503] ⏳ Processing CAT...\n",
      "   ✅ Saved to data/features/CAT_features.csv\n",
      "[295/503] ⏳ Processing FFIV...\n",
      "   ✅ Saved to data/features/FFIV_features.csv\n",
      "[296/503] ⏳ Processing PM...\n",
      "   ✅ Saved to data/features/PM_features.csv\n",
      "[297/503] ⏳ Processing COF...\n",
      "   ✅ Saved to data/features/COF_features.csv\n",
      "[298/503] ⏳ Processing HPE...\n",
      "   ✅ Saved to data/features/HPE_features.csv\n",
      "[299/503] ⏳ Processing WTW...\n",
      "   ✅ Saved to data/features/WTW_features.csv\n",
      "[300/503] ⏳ Processing SYK...\n",
      "   ✅ Saved to data/features/SYK_features.csv\n",
      "[301/503] ⏳ Processing HST...\n",
      "   ✅ Saved to data/features/HST_features.csv\n",
      "[302/503] ⏳ Processing XOM...\n",
      "   ✅ Saved to data/features/XOM_features.csv\n",
      "[303/503] ⏳ Processing SOLV...\n",
      "   ✅ Saved to data/features/SOLV_features.csv\n",
      "[304/503] ⏳ Processing IP...\n",
      "   ✅ Saved to data/features/IP_features.csv\n",
      "[305/503] ⏳ Processing USB...\n",
      "   ✅ Saved to data/features/USB_features.csv\n",
      "[306/503] ⏳ Processing ICE...\n",
      "   ✅ Saved to data/features/ICE_features.csv\n",
      "[307/503] ⏳ Processing TPL...\n",
      "   ✅ Saved to data/features/TPL_features.csv\n",
      "[308/503] ⏳ Processing CFG...\n",
      "   ✅ Saved to data/features/CFG_features.csv\n",
      "[309/503] ⏳ Processing CRL...\n",
      "   ✅ Saved to data/features/CRL_features.csv\n",
      "[310/503] ⏳ Processing EXR...\n",
      "   ✅ Saved to data/features/EXR_features.csv\n",
      "[311/503] ⏳ Processing STX...\n",
      "   ✅ Saved to data/features/STX_features.csv\n",
      "[312/503] ⏳ Processing PANW...\n",
      "   ✅ Saved to data/features/PANW_features.csv\n",
      "[313/503] ⏳ Processing PCAR...\n",
      "   ✅ Saved to data/features/PCAR_features.csv\n",
      "[314/503] ⏳ Processing LH...\n",
      "   ✅ Saved to data/features/LH_features.csv\n",
      "[315/503] ⏳ Processing NOW...\n",
      "   ✅ Saved to data/features/NOW_features.csv\n",
      "[316/503] ⏳ Processing MSCI...\n",
      "   ✅ Saved to data/features/MSCI_features.csv\n",
      "[317/503] ⏳ Processing AME...\n",
      "   ✅ Saved to data/features/AME_features.csv\n",
      "[318/503] ⏳ Processing MKTX...\n",
      "   ✅ Saved to data/features/MKTX_features.csv\n",
      "[319/503] ⏳ Processing ES...\n",
      "   ✅ Saved to data/features/ES_features.csv\n",
      "[320/503] ⏳ Processing ITW...\n",
      "   ✅ Saved to data/features/ITW_features.csv\n",
      "[321/503] ⏳ Processing ACN...\n",
      "   ✅ Saved to data/features/ACN_features.csv\n",
      "[322/503] ⏳ Processing EXC...\n",
      "   ✅ Saved to data/features/EXC_features.csv\n",
      "[323/503] ⏳ Processing LLY...\n",
      "   ✅ Saved to data/features/LLY_features.csv\n",
      "[324/503] ⏳ Processing LYV...\n",
      "   ✅ Saved to data/features/LYV_features.csv\n",
      "[325/503] ⏳ Processing HD...\n",
      "   ✅ Saved to data/features/HD_features.csv\n",
      "[326/503] ⏳ Processing BX...\n",
      "   ✅ Saved to data/features/BX_features.csv\n",
      "[327/503] ⏳ Processing MHK...\n",
      "   ✅ Saved to data/features/MHK_features.csv\n",
      "[328/503] ⏳ Processing TAP...\n",
      "   ✅ Saved to data/features/TAP_features.csv\n",
      "[329/503] ⏳ Processing NXPI...\n",
      "   ✅ Saved to data/features/NXPI_features.csv\n",
      "[330/503] ⏳ Processing CDW...\n",
      "   ✅ Saved to data/features/CDW_features.csv\n",
      "[331/503] ⏳ Processing GRMN...\n",
      "   ✅ Saved to data/features/GRMN_features.csv\n",
      "[332/503] ⏳ Processing CEG...\n",
      "   ✅ Saved to data/features/CEG_features.csv\n",
      "[333/503] ⏳ Processing AMGN...\n",
      "   ✅ Saved to data/features/AMGN_features.csv\n",
      "[334/503] ⏳ Processing WM...\n",
      "   ✅ Saved to data/features/WM_features.csv\n",
      "[335/503] ⏳ Processing CMG...\n",
      "   ✅ Saved to data/features/CMG_features.csv\n",
      "[336/503] ⏳ Processing UAL...\n",
      "   ✅ Saved to data/features/UAL_features.csv\n",
      "[337/503] ⏳ Processing ED...\n",
      "   ✅ Saved to data/features/ED_features.csv\n",
      "[338/503] ⏳ Processing DE...\n",
      "   ✅ Saved to data/features/DE_features.csv\n",
      "[339/503] ⏳ Processing CSGP...\n",
      "   ✅ Saved to data/features/CSGP_features.csv\n",
      "[340/503] ⏳ Processing CTVA...\n",
      "   ✅ Saved to data/features/CTVA_features.csv\n",
      "[341/503] ⏳ Processing ULTA...\n",
      "   ✅ Saved to data/features/ULTA_features.csv\n",
      "[342/503] ⏳ Processing ON...\n",
      "   ✅ Saved to data/features/ON_features.csv\n",
      "[343/503] ⏳ Processing AIG...\n",
      "   ✅ Saved to data/features/AIG_features.csv\n",
      "[344/503] ⏳ Processing GNRC...\n",
      "   ✅ Saved to data/features/GNRC_features.csv\n",
      "[345/503] ⏳ Processing HSIC...\n",
      "   ✅ Saved to data/features/HSIC_features.csv\n",
      "[346/503] ⏳ Processing ALGN...\n",
      "   ✅ Saved to data/features/ALGN_features.csv\n",
      "[347/503] ⏳ Processing OXY...\n",
      "   ✅ Saved to data/features/OXY_features.csv\n",
      "[348/503] ⏳ Processing STLD...\n",
      "   ✅ Saved to data/features/STLD_features.csv\n",
      "[349/503] ⏳ Processing PPL...\n",
      "   ✅ Saved to data/features/PPL_features.csv\n",
      "[350/503] ⏳ Processing WELL...\n",
      "   ✅ Saved to data/features/WELL_features.csv\n",
      "[351/503] ⏳ Processing ABT...\n",
      "   ✅ Saved to data/features/ABT_features.csv\n",
      "[352/503] ⏳ Processing KMI...\n",
      "   ✅ Saved to data/features/KMI_features.csv\n",
      "[353/503] ⏳ Processing HUM...\n",
      "   ✅ Saved to data/features/HUM_features.csv\n",
      "[354/503] ⏳ Processing ARE...\n",
      "   ✅ Saved to data/features/ARE_features.csv\n",
      "[355/503] ⏳ Processing JBHT...\n",
      "   ✅ Saved to data/features/JBHT_features.csv\n",
      "[356/503] ⏳ Processing ETR...\n",
      "   ✅ Saved to data/features/ETR_features.csv\n",
      "[357/503] ⏳ Processing AEP...\n",
      "   ✅ Saved to data/features/AEP_features.csv\n",
      "[358/503] ⏳ Processing BKNG...\n",
      "   ✅ Saved to data/features/BKNG_features.csv\n",
      "[359/503] ⏳ Processing CMS...\n",
      "   ✅ Saved to data/features/CMS_features.csv\n",
      "[360/503] ⏳ Processing ORCL...\n",
      "   ✅ Saved to data/features/ORCL_features.csv\n",
      "[361/503] ⏳ Processing RTX...\n",
      "   ✅ Saved to data/features/RTX_features.csv\n",
      "[362/503] ⏳ Processing CSCO...\n",
      "   ✅ Saved to data/features/CSCO_features.csv\n",
      "[363/503] ⏳ Processing DOC...\n",
      "   ✅ Saved to data/features/DOC_features.csv\n",
      "[364/503] ⏳ Processing ANET...\n",
      "   ✅ Saved to data/features/ANET_features.csv\n",
      "[365/503] ⏳ Processing PNW...\n",
      "   ✅ Saved to data/features/PNW_features.csv\n",
      "[366/503] ⏳ Processing MDT...\n",
      "   ✅ Saved to data/features/MDT_features.csv\n",
      "[367/503] ⏳ Processing MGM...\n",
      "   ✅ Saved to data/features/MGM_features.csv\n",
      "[368/503] ⏳ Processing PSA...\n",
      "   ✅ Saved to data/features/PSA_features.csv\n",
      "[369/503] ⏳ Processing WFC...\n",
      "   ✅ Saved to data/features/WFC_features.csv\n",
      "[370/503] ⏳ Processing WRB...\n",
      "   ✅ Saved to data/features/WRB_features.csv\n",
      "[371/503] ⏳ Processing WMT...\n",
      "   ✅ Saved to data/features/WMT_features.csv\n",
      "[372/503] ⏳ Processing LRCX...\n",
      "   ✅ Saved to data/features/LRCX_features.csv\n",
      "[373/503] ⏳ Processing TMUS...\n",
      "   ✅ Saved to data/features/TMUS_features.csv\n",
      "[374/503] ⏳ Processing TDG...\n",
      "   ✅ Saved to data/features/TDG_features.csv\n",
      "[375/503] ⏳ Processing SHW...\n",
      "   ✅ Saved to data/features/SHW_features.csv\n",
      "[376/503] ⏳ Processing RF...\n",
      "   ✅ Saved to data/features/RF_features.csv\n",
      "[377/503] ⏳ Processing HII...\n",
      "   ✅ Saved to data/features/HII_features.csv\n",
      "[378/503] ⏳ Processing TROW...\n",
      "   ✅ Saved to data/features/TROW_features.csv\n",
      "[379/503] ⏳ Processing FOXA...\n",
      "   ✅ Saved to data/features/FOXA_features.csv\n",
      "[380/503] ⏳ Processing DDOG...\n",
      "   ✅ Saved to data/features/DDOG_features.csv\n",
      "[381/503] ⏳ Processing BA...\n",
      "   ✅ Saved to data/features/BA_features.csv\n",
      "[382/503] ⏳ Processing DGX...\n",
      "   ✅ Saved to data/features/DGX_features.csv\n",
      "[383/503] ⏳ Processing NDSN...\n",
      "   ✅ Saved to data/features/NDSN_features.csv\n",
      "[384/503] ⏳ Processing MMC...\n",
      "   ✅ Saved to data/features/MMC_features.csv\n",
      "[385/503] ⏳ Processing EL...\n",
      "   ✅ Saved to data/features/EL_features.csv\n",
      "[386/503] ⏳ Processing MMM...\n",
      "   ✅ Saved to data/features/MMM_features.csv\n",
      "[387/503] ⏳ Processing HSY...\n",
      "   ✅ Saved to data/features/HSY_features.csv\n",
      "[388/503] ⏳ Processing WYNN...\n",
      "   ✅ Saved to data/features/WYNN_features.csv\n",
      "[389/503] ⏳ Processing KLAC...\n",
      "   ✅ Saved to data/features/KLAC_features.csv\n",
      "[390/503] ⏳ Processing TRMB...\n",
      "   ✅ Saved to data/features/TRMB_features.csv\n",
      "[391/503] ⏳ Processing AVGO...\n",
      "   ✅ Saved to data/features/AVGO_features.csv\n",
      "[392/503] ⏳ Processing CBOE...\n",
      "   ✅ Saved to data/features/CBOE_features.csv\n",
      "[393/503] ⏳ Processing TXT...\n",
      "   ✅ Saved to data/features/TXT_features.csv\n",
      "[394/503] ⏳ Processing APD...\n",
      "   ✅ Saved to data/features/APD_features.csv\n",
      "[395/503] ⏳ Processing UHS...\n",
      "   ✅ Saved to data/features/UHS_features.csv\n",
      "[396/503] ⏳ Processing GILD...\n",
      "   ✅ Saved to data/features/GILD_features.csv\n",
      "[397/503] ⏳ Processing WBA...\n",
      "   ✅ Saved to data/features/WBA_features.csv\n",
      "[398/503] ⏳ Processing CZR...\n",
      "   ✅ Saved to data/features/CZR_features.csv\n",
      "[399/503] ⏳ Processing AFL...\n",
      "   ✅ Saved to data/features/AFL_features.csv\n",
      "[400/503] ⏳ Processing BALL...\n",
      "   ✅ Saved to data/features/BALL_features.csv\n",
      "[401/503] ⏳ Processing XYL...\n",
      "   ✅ Saved to data/features/XYL_features.csv\n",
      "[402/503] ⏳ Processing CL...\n",
      "   ✅ Saved to data/features/CL_features.csv\n",
      "[403/503] ⏳ Processing WEC...\n",
      "   ✅ Saved to data/features/WEC_features.csv\n",
      "[404/503] ⏳ Processing COIN...\n",
      "   ✅ Saved to data/features/COIN_features.csv\n",
      "[405/503] ⏳ Processing EMN...\n",
      "   ✅ Saved to data/features/EMN_features.csv\n",
      "[406/503] ⏳ Processing ADSK...\n",
      "   ✅ Saved to data/features/ADSK_features.csv\n",
      "[407/503] ⏳ Processing GPC...\n",
      "   ✅ Saved to data/features/GPC_features.csv\n",
      "[408/503] ⏳ Processing AVB...\n",
      "   ✅ Saved to data/features/AVB_features.csv\n",
      "[409/503] ⏳ Processing LDOS...\n",
      "   ✅ Saved to data/features/LDOS_features.csv\n",
      "[410/503] ⏳ Processing ETN...\n",
      "   ✅ Saved to data/features/ETN_features.csv\n",
      "[411/503] ⏳ Processing ADBE...\n",
      "   ✅ Saved to data/features/ADBE_features.csv\n",
      "[412/503] ⏳ Processing GEHC...\n",
      "   ✅ Saved to data/features/GEHC_features.csv\n",
      "[413/503] ⏳ Processing NKE...\n",
      "   ✅ Saved to data/features/NKE_features.csv\n",
      "[414/503] ⏳ Processing WAB...\n",
      "   ✅ Saved to data/features/WAB_features.csv\n",
      "[415/503] ⏳ Processing EQT...\n",
      "   ✅ Saved to data/features/EQT_features.csv\n",
      "[416/503] ⏳ Processing DECK...\n",
      "   ✅ Saved to data/features/DECK_features.csv\n",
      "[417/503] ⏳ Processing WY...\n",
      "   ✅ Saved to data/features/WY_features.csv\n",
      "[418/503] ⏳ Processing TSCO...\n",
      "   ✅ Saved to data/features/TSCO_features.csv\n",
      "[419/503] ⏳ Processing XEL...\n",
      "   ✅ Saved to data/features/XEL_features.csv\n",
      "[420/503] ⏳ Processing TTWO...\n",
      "   ✅ Saved to data/features/TTWO_features.csv\n",
      "[421/503] ⏳ Processing VRSN...\n",
      "   ✅ Saved to data/features/VRSN_features.csv\n",
      "[422/503] ⏳ Processing BDX...\n",
      "   ✅ Saved to data/features/BDX_features.csv\n",
      "[423/503] ⏳ Processing NWSA...\n",
      "   ✅ Saved to data/features/NWSA_features.csv\n",
      "[424/503] ⏳ Processing PNR...\n",
      "   ✅ Saved to data/features/PNR_features.csv\n",
      "[425/503] ⏳ Processing TRV...\n",
      "   ✅ Saved to data/features/TRV_features.csv\n",
      "[426/503] ⏳ Processing CINF...\n",
      "   ✅ Saved to data/features/CINF_features.csv\n",
      "[427/503] ⏳ Processing VTRS...\n",
      "   ✅ Saved to data/features/VTRS_features.csv\n",
      "[428/503] ⏳ Processing COR...\n",
      "   ✅ Saved to data/features/COR_features.csv\n",
      "[429/503] ⏳ Processing ALL...\n",
      "   ✅ Saved to data/features/ALL_features.csv\n",
      "[430/503] ⏳ Processing SRE...\n",
      "   ✅ Saved to data/features/SRE_features.csv\n",
      "[431/503] ⏳ Processing DLR...\n",
      "   ✅ Saved to data/features/DLR_features.csv\n",
      "[432/503] ⏳ Processing DVA...\n",
      "   ✅ Saved to data/features/DVA_features.csv\n",
      "[433/503] ⏳ Processing PPG...\n",
      "   ✅ Saved to data/features/PPG_features.csv\n",
      "[434/503] ⏳ Processing NVDA...\n",
      "   ✅ Saved to data/features/NVDA_features.csv\n",
      "[435/503] ⏳ Processing TMO...\n",
      "   ✅ Saved to data/features/TMO_features.csv\n",
      "[436/503] ⏳ Processing AIZ...\n",
      "   ✅ Saved to data/features/AIZ_features.csv\n",
      "[437/503] ⏳ Processing DRI...\n",
      "   ✅ Saved to data/features/DRI_features.csv\n",
      "[438/503] ⏳ Processing CCL...\n",
      "   ✅ Saved to data/features/CCL_features.csv\n",
      "[439/503] ⏳ Processing HAL...\n",
      "   ✅ Saved to data/features/HAL_features.csv\n",
      "[440/503] ⏳ Processing IQV...\n",
      "   ✅ Saved to data/features/IQV_features.csv\n",
      "[441/503] ⏳ Processing STT...\n",
      "   ✅ Saved to data/features/STT_features.csv\n",
      "[442/503] ⏳ Processing PFG...\n",
      "   ✅ Saved to data/features/PFG_features.csv\n",
      "[443/503] ⏳ Processing COST...\n",
      "   ✅ Saved to data/features/COST_features.csv\n",
      "[444/503] ⏳ Processing MSFT...\n",
      "   ✅ Saved to data/features/MSFT_features.csv\n",
      "[445/503] ⏳ Processing IRM...\n",
      "   ✅ Saved to data/features/IRM_features.csv\n",
      "[446/503] ⏳ Processing VLO...\n",
      "   ✅ Saved to data/features/VLO_features.csv\n",
      "[447/503] ⏳ Processing TT...\n",
      "   ✅ Saved to data/features/TT_features.csv\n",
      "[448/503] ⏳ Processing FDX...\n",
      "   ✅ Saved to data/features/FDX_features.csv\n",
      "[449/503] ⏳ Processing AKAM...\n",
      "   ✅ Saved to data/features/AKAM_features.csv\n",
      "[450/503] ⏳ Processing CMI...\n",
      "   ✅ Saved to data/features/CMI_features.csv\n",
      "[451/503] ⏳ Processing AMP...\n",
      "   ✅ Saved to data/features/AMP_features.csv\n",
      "[452/503] ⏳ Processing WST...\n",
      "   ✅ Saved to data/features/WST_features.csv\n",
      "[453/503] ⏳ Processing APA...\n",
      "   ✅ Saved to data/features/APA_features.csv\n",
      "[454/503] ⏳ Processing META...\n",
      "   ✅ Saved to data/features/META_features.csv\n",
      "[455/503] ⏳ Processing BMY...\n",
      "   ✅ Saved to data/features/BMY_features.csv\n",
      "[456/503] ⏳ Processing NUE...\n",
      "   ✅ Saved to data/features/NUE_features.csv\n",
      "[457/503] ⏳ Processing HWM...\n",
      "   ✅ Saved to data/features/HWM_features.csv\n",
      "[458/503] ⏳ Processing KHC...\n",
      "   ✅ Saved to data/features/KHC_features.csv\n",
      "[459/503] ⏳ Processing AMCR...\n",
      "   ✅ Saved to data/features/AMCR_features.csv\n",
      "[460/503] ⏳ Processing DLTR...\n",
      "   ✅ Saved to data/features/DLTR_features.csv\n",
      "[461/503] ⏳ Processing CMCSA...\n",
      "   ✅ Saved to data/features/CMCSA_features.csv\n",
      "[462/503] ⏳ Processing ECL...\n",
      "   ✅ Saved to data/features/ECL_features.csv\n",
      "[463/503] ⏳ Processing T...\n",
      "   ✅ Saved to data/features/T_features.csv\n",
      "[464/503] ⏳ Processing BBY...\n",
      "   ✅ Saved to data/features/BBY_features.csv\n",
      "[465/503] ⏳ Processing MTD...\n",
      "   ✅ Saved to data/features/MTD_features.csv\n",
      "[466/503] ⏳ Processing PODD...\n",
      "   ✅ Saved to data/features/PODD_features.csv\n",
      "[467/503] ⏳ Processing PAYC...\n",
      "   ✅ Saved to data/features/PAYC_features.csv\n",
      "[468/503] ⏳ Processing PHM...\n",
      "   ✅ Saved to data/features/PHM_features.csv\n",
      "[469/503] ⏳ Processing RMD...\n",
      "   ✅ Saved to data/features/RMD_features.csv\n",
      "[470/503] ⏳ Processing FSLR...\n",
      "   ✅ Saved to data/features/FSLR_features.csv\n",
      "[471/503] ⏳ Processing CTAS...\n",
      "   ✅ Saved to data/features/CTAS_features.csv\n",
      "[472/503] ⏳ Processing INVH...\n",
      "   ✅ Saved to data/features/INVH_features.csv\n",
      "[473/503] ⏳ Processing OKE...\n",
      "   ✅ Saved to data/features/OKE_features.csv\n",
      "[474/503] ⏳ Processing V...\n",
      "   ✅ Saved to data/features/V_features.csv\n",
      "[475/503] ⏳ Processing AEE...\n",
      "   ✅ Saved to data/features/AEE_features.csv\n",
      "[476/503] ⏳ Processing EG...\n",
      "   ✅ Saved to data/features/EG_features.csv\n",
      "[477/503] ⏳ Processing PRU...\n",
      "   ✅ Saved to data/features/PRU_features.csv\n",
      "[478/503] ⏳ Processing ADI...\n",
      "   ✅ Saved to data/features/ADI_features.csv\n",
      "[479/503] ⏳ Processing OTIS...\n",
      "   ✅ Saved to data/features/OTIS_features.csv\n",
      "[480/503] ⏳ Processing RCL...\n",
      "   ✅ Saved to data/features/RCL_features.csv\n",
      "[481/503] ⏳ Processing NFLX...\n",
      "   ✅ Saved to data/features/NFLX_features.csv\n",
      "[482/503] ⏳ Processing NEM...\n",
      "   ✅ Saved to data/features/NEM_features.csv\n",
      "[483/503] ⏳ Processing CPRT...\n",
      "   ✅ Saved to data/features/CPRT_features.csv\n",
      "[484/503] ⏳ Processing PKG...\n",
      "   ✅ Saved to data/features/PKG_features.csv\n",
      "[485/503] ⏳ Processing DIS...\n",
      "   ✅ Saved to data/features/DIS_features.csv\n",
      "[486/503] ⏳ Processing KIM...\n",
      "   ✅ Saved to data/features/KIM_features.csv\n",
      "[487/503] ⏳ Processing ENPH...\n",
      "   ✅ Saved to data/features/ENPH_features.csv\n",
      "[488/503] ⏳ Processing SYY...\n",
      "   ✅ Saved to data/features/SYY_features.csv\n",
      "[489/503] ⏳ Processing LKQ...\n",
      "   ✅ Saved to data/features/LKQ_features.csv\n",
      "[490/503] ⏳ Processing DD...\n",
      "   ✅ Saved to data/features/DD_features.csv\n",
      "[491/503] ⏳ Processing MSI...\n",
      "   ✅ Saved to data/features/MSI_features.csv\n",
      "[492/503] ⏳ Processing CHRW...\n",
      "   ✅ Saved to data/features/CHRW_features.csv\n",
      "[493/503] ⏳ Processing FI...\n",
      "   ✅ Saved to data/features/FI_features.csv\n",
      "[494/503] ⏳ Processing PCG...\n",
      "   ✅ Saved to data/features/PCG_features.csv\n",
      "[495/503] ⏳ Processing SPGI...\n",
      "   ✅ Saved to data/features/SPGI_features.csv\n",
      "[496/503] ⏳ Processing AXON...\n",
      "   ✅ Saved to data/features/AXON_features.csv\n",
      "[497/503] ⏳ Processing TJX...\n",
      "   ✅ Saved to data/features/TJX_features.csv\n",
      "[498/503] ⏳ Processing RVTY...\n",
      "   ✅ Saved to data/features/RVTY_features.csv\n",
      "[499/503] ⏳ Processing LNT...\n",
      "   ✅ Saved to data/features/LNT_features.csv\n",
      "[500/503] ⏳ Processing ERIE...\n",
      "   ✅ Saved to data/features/ERIE_features.csv\n",
      "[501/503] ⏳ Processing CME...\n",
      "   ✅ Saved to data/features/CME_features.csv\n",
      "[502/503] ⏳ Processing GPN...\n",
      "   ✅ Saved to data/features/GPN_features.csv\n",
      "[503/503] ⏳ Processing PTC...\n",
      "   ✅ Saved to data/features/PTC_features.csv\n"
     ]
    }
   ],
   "source": [
    "batch_compute_features()"
   ]
  },
  {
   "cell_type": "code",
   "execution_count": 6,
   "id": "da6f9eab",
   "metadata": {},
   "outputs": [],
   "source": [
    "import os\n",
    "import pandas as pd\n",
    "import yfinance as yf\n",
    "import numpy as np"
   ]
  },
  {
   "cell_type": "code",
   "execution_count": 1,
   "id": "a17e835d",
   "metadata": {},
   "outputs": [],
   "source": [
    "import os\n",
    "import time\n",
    "import pandas as pd\n",
    "import numpy as np\n",
    "import yfinance as yf\n",
    "\n",
    "def extract_and_merge_fundamentals(input_dir=\"data/features\", output_dir=\"data/features_with_fundamentals\"):\n",
    "    os.makedirs(output_dir, exist_ok=True)\n",
    "    files = [f for f in os.listdir(input_dir) if f.endswith(\"_features.csv\")]\n",
    "    fundamentals_stats = []\n",
    "\n",
    "    for i, file in enumerate(files):\n",
    "        ticker = file.replace(\"_features.csv\", \"\")\n",
    "        input_path = os.path.join(input_dir, file)\n",
    "        output_path = os.path.join(output_dir, f\"{ticker}_full.csv\")\n",
    "\n",
    "        if os.path.exists(output_path):\n",
    "            print(f\"[{i+1}/{len(files)}] ✅ {ticker} already processed.\")\n",
    "            continue\n",
    "\n",
    "        try:\n",
    "            print(f\"[{i+1}/{len(files)}] ⏳ Getting fundamentals for {ticker}...\")\n",
    "\n",
    "            # Load features\n",
    "            df = pd.read_csv(input_path, parse_dates=['Date'])\n",
    "            df.set_index('Date', inplace=True)\n",
    "\n",
    "            # Prepare Ticker object\n",
    "            yf_ticker = yf.Ticker(ticker)\n",
    "\n",
    "            # EPS (Diluted) from income_stmt\n",
    "            try:\n",
    "                eps_series = yf_ticker.income_stmt.T[['Diluted EPS']]\n",
    "                eps_series.index = pd.to_datetime(eps_series.index)\n",
    "                df = df.merge(eps_series.rename(columns={'Diluted EPS': 'EPS_TTM'}),\n",
    "                              how='left', left_index=True, right_index=True)\n",
    "                df['EPS_TTM'] = df['EPS_TTM'].ffill()\n",
    "            except Exception as e:\n",
    "                print(f\"   ⚠️ EPS extraction failed for {ticker}: {e}\")\n",
    "                df['EPS_TTM'] = np.nan\n",
    "\n",
    "            # Market Cap\n",
    "            try:\n",
    "                shares_out = yf_ticker.info.get('sharesOutstanding')\n",
    "                if shares_out is not None:\n",
    "                    df['Market_Cap'] = df['Close'] * shares_out\n",
    "                else:\n",
    "                    df['Market_Cap'] = np.nan\n",
    "            except Exception as e:\n",
    "                print(f\"   ⚠️ Market Cap failed for {ticker}: {e}\")\n",
    "                df['Market_Cap'] = np.nan\n",
    "\n",
    "            # PE Ratio & Dividend Yield\n",
    "            try:\n",
    "                df['PE_Ratio'] = yf_ticker.info.get('trailingPE', np.nan)\n",
    "                df['Dividend_Yield'] = yf_ticker.info.get('dividendYield', np.nan)\n",
    "            except Exception as e:\n",
    "                print(f\"   ⚠️ PE/Yield failed for {ticker}: {e}\")\n",
    "                df['PE_Ratio'] = np.nan\n",
    "                df['Dividend_Yield'] = np.nan\n",
    "\n",
    "            # Save result\n",
    "            df.reset_index().to_csv(output_path, index=False)\n",
    "            print(f\"   ✅ Saved to {output_path}\")\n",
    "\n",
    "            # Track completeness\n",
    "            stats = {\n",
    "                'Ticker': ticker,\n",
    "                'EPS_TTM_avail': df['EPS_TTM'].notna().mean(),\n",
    "                'MarketCap_avail': df['Market_Cap'].notna().mean(),\n",
    "                'PE_avail': df['PE_Ratio'].notna().mean(),\n",
    "                'DivYield_avail': df['Dividend_Yield'].notna().mean()\n",
    "            }\n",
    "            fundamentals_stats.append(stats)\n",
    "\n",
    "        except Exception as e:\n",
    "            print(f\"   ❌ Totally failed for {ticker}: {e}\")\n",
    "        time.sleep(1.5)\n",
    "\n",
    "    return pd.DataFrame(fundamentals_stats)"
   ]
  },
  {
   "cell_type": "code",
   "execution_count": 2,
   "id": "b3f66116",
   "metadata": {},
   "outputs": [
    {
     "name": "stdout",
     "output_type": "stream",
     "text": [
      "[1/503] ✅ MSFT already processed.\n",
      "[2/503] ✅ AOS already processed.\n",
      "[3/503] ✅ PNR already processed.\n",
      "[4/503] ✅ WBA already processed.\n",
      "[5/503] ✅ TJX already processed.\n",
      "[6/503] ✅ HSY already processed.\n",
      "[7/503] ✅ CPT already processed.\n",
      "[8/503] ✅ MRK already processed.\n",
      "[9/503] ✅ GD already processed.\n",
      "[10/503] ✅ VZ already processed.\n",
      "[11/503] ✅ DTE already processed.\n",
      "[12/503] ✅ NEM already processed.\n",
      "[13/503] ✅ MOS already processed.\n",
      "[14/503] ✅ ABBV already processed.\n",
      "[15/503] ✅ MKTX already processed.\n",
      "[16/503] ✅ MLM already processed.\n",
      "[17/503] ✅ DIS already processed.\n",
      "[18/503] ✅ DG already processed.\n",
      "[19/503] ✅ TXN already processed.\n",
      "[20/503] ✅ PRU already processed.\n",
      "[21/503] ✅ HSIC already processed.\n",
      "[22/503] ✅ HBAN already processed.\n",
      "[23/503] ✅ CZR already processed.\n",
      "[24/503] ✅ VMC already processed.\n",
      "[25/503] ✅ CSCO already processed.\n",
      "[26/503] ✅ TDY already processed.\n",
      "[27/503] ✅ SWK already processed.\n",
      "[28/503] ✅ EA already processed.\n",
      "[29/503] ✅ RCL already processed.\n",
      "[30/503] ✅ DGX already processed.\n",
      "[31/503] ✅ FSLR already processed.\n",
      "[32/503] ✅ RF already processed.\n",
      "[33/503] ✅ ROP already processed.\n",
      "[34/503] ✅ CME already processed.\n",
      "[35/503] ✅ RTX already processed.\n",
      "[36/503] ✅ LHX already processed.\n",
      "[37/503] ✅ CTRA already processed.\n",
      "[38/503] ⏳ Getting fundamentals for PFE...\n",
      "   ✅ Saved to data/features_with_fundamentals/PFE_full.csv\n",
      "[39/503] ✅ VST already processed.\n",
      "[40/503] ✅ NDSN already processed.\n",
      "[41/503] ✅ TT already processed.\n",
      "[42/503] ✅ ICE already processed.\n",
      "[43/503] ✅ WEC already processed.\n",
      "[44/503] ⏳ Getting fundamentals for WBD...\n",
      "   ✅ Saved to data/features_with_fundamentals/WBD_full.csv\n",
      "[45/503] ⏳ Getting fundamentals for SYK...\n",
      "   ✅ Saved to data/features_with_fundamentals/SYK_full.csv\n",
      "[46/503] ⏳ Getting fundamentals for KEY...\n",
      "   ✅ Saved to data/features_with_fundamentals/KEY_full.csv\n",
      "[47/503] ⏳ Getting fundamentals for SNPS...\n",
      "   ✅ Saved to data/features_with_fundamentals/SNPS_full.csv\n",
      "[48/503] ⏳ Getting fundamentals for CRWD...\n",
      "   ✅ Saved to data/features_with_fundamentals/CRWD_full.csv\n",
      "[49/503] ⏳ Getting fundamentals for JCI...\n",
      "   ✅ Saved to data/features_with_fundamentals/JCI_full.csv\n",
      "[50/503] ⏳ Getting fundamentals for GIS...\n",
      "   ✅ Saved to data/features_with_fundamentals/GIS_full.csv\n",
      "[51/503] ⏳ Getting fundamentals for IP...\n",
      "   ✅ Saved to data/features_with_fundamentals/IP_full.csv\n",
      "[52/503] ⏳ Getting fundamentals for CVX...\n",
      "   ✅ Saved to data/features_with_fundamentals/CVX_full.csv\n",
      "[53/503] ⏳ Getting fundamentals for LW...\n",
      "   ✅ Saved to data/features_with_fundamentals/LW_full.csv\n",
      "[54/503] ⏳ Getting fundamentals for RVTY...\n",
      "   ✅ Saved to data/features_with_fundamentals/RVTY_full.csv\n",
      "[55/503] ⏳ Getting fundamentals for GEN...\n",
      "   ✅ Saved to data/features_with_fundamentals/GEN_full.csv\n",
      "[56/503] ⏳ Getting fundamentals for HAL...\n",
      "   ✅ Saved to data/features_with_fundamentals/HAL_full.csv\n",
      "[57/503] ⏳ Getting fundamentals for AMP...\n",
      "   ✅ Saved to data/features_with_fundamentals/AMP_full.csv\n",
      "[58/503] ⏳ Getting fundamentals for SYY...\n",
      "   ✅ Saved to data/features_with_fundamentals/SYY_full.csv\n",
      "[59/503] ⏳ Getting fundamentals for T...\n",
      "   ✅ Saved to data/features_with_fundamentals/T_full.csv\n",
      "[60/503] ⏳ Getting fundamentals for KVUE...\n",
      "   ✅ Saved to data/features_with_fundamentals/KVUE_full.csv\n",
      "[61/503] ⏳ Getting fundamentals for ADBE...\n",
      "   ✅ Saved to data/features_with_fundamentals/ADBE_full.csv\n",
      "[62/503] ⏳ Getting fundamentals for SHW...\n",
      "   ✅ Saved to data/features_with_fundamentals/SHW_full.csv\n",
      "[63/503] ⏳ Getting fundamentals for CDNS...\n",
      "   ✅ Saved to data/features_with_fundamentals/CDNS_full.csv\n",
      "[64/503] ⏳ Getting fundamentals for XEL...\n",
      "   ✅ Saved to data/features_with_fundamentals/XEL_full.csv\n",
      "[65/503] ⏳ Getting fundamentals for GDDY...\n",
      "   ✅ Saved to data/features_with_fundamentals/GDDY_full.csv\n",
      "[66/503] ⏳ Getting fundamentals for PLD...\n",
      "   ✅ Saved to data/features_with_fundamentals/PLD_full.csv\n",
      "[67/503] ⏳ Getting fundamentals for UNH...\n",
      "   ✅ Saved to data/features_with_fundamentals/UNH_full.csv\n",
      "[68/503] ⏳ Getting fundamentals for MAS...\n",
      "   ✅ Saved to data/features_with_fundamentals/MAS_full.csv\n",
      "[69/503] ⏳ Getting fundamentals for DPZ...\n",
      "   ✅ Saved to data/features_with_fundamentals/DPZ_full.csv\n",
      "[70/503] ⏳ Getting fundamentals for WRB...\n",
      "   ✅ Saved to data/features_with_fundamentals/WRB_full.csv\n",
      "[71/503] ⏳ Getting fundamentals for OXY...\n",
      "   ✅ Saved to data/features_with_fundamentals/OXY_full.csv\n",
      "[72/503] ⏳ Getting fundamentals for DVA...\n",
      "   ✅ Saved to data/features_with_fundamentals/DVA_full.csv\n",
      "[73/503] ⏳ Getting fundamentals for MTCH...\n",
      "   ✅ Saved to data/features_with_fundamentals/MTCH_full.csv\n",
      "[74/503] ⏳ Getting fundamentals for FITB...\n",
      "   ✅ Saved to data/features_with_fundamentals/FITB_full.csv\n",
      "[75/503] ⏳ Getting fundamentals for HWM...\n",
      "   ✅ Saved to data/features_with_fundamentals/HWM_full.csv\n",
      "[76/503] ⏳ Getting fundamentals for CPAY...\n",
      "   ✅ Saved to data/features_with_fundamentals/CPAY_full.csv\n",
      "[77/503] ⏳ Getting fundamentals for UDR...\n",
      "   ✅ Saved to data/features_with_fundamentals/UDR_full.csv\n",
      "[78/503] ⏳ Getting fundamentals for CLX...\n",
      "   ✅ Saved to data/features_with_fundamentals/CLX_full.csv\n",
      "[79/503] ⏳ Getting fundamentals for LRCX...\n",
      "   ✅ Saved to data/features_with_fundamentals/LRCX_full.csv\n",
      "[80/503] ⏳ Getting fundamentals for BMY...\n",
      "   ✅ Saved to data/features_with_fundamentals/BMY_full.csv\n",
      "[81/503] ⏳ Getting fundamentals for MO...\n",
      "   ✅ Saved to data/features_with_fundamentals/MO_full.csv\n",
      "[82/503] ⏳ Getting fundamentals for MET...\n",
      "   ✅ Saved to data/features_with_fundamentals/MET_full.csv\n",
      "[83/503] ⏳ Getting fundamentals for CDW...\n",
      "   ✅ Saved to data/features_with_fundamentals/CDW_full.csv\n",
      "[84/503] ⏳ Getting fundamentals for CFG...\n",
      "   ✅ Saved to data/features_with_fundamentals/CFG_full.csv\n",
      "[85/503] ⏳ Getting fundamentals for APH...\n",
      "   ✅ Saved to data/features_with_fundamentals/APH_full.csv\n",
      "[86/503] ⏳ Getting fundamentals for ALL...\n",
      "   ✅ Saved to data/features_with_fundamentals/ALL_full.csv\n",
      "[87/503] ⏳ Getting fundamentals for SPGI...\n",
      "   ✅ Saved to data/features_with_fundamentals/SPGI_full.csv\n",
      "[88/503] ⏳ Getting fundamentals for MKC...\n",
      "   ✅ Saved to data/features_with_fundamentals/MKC_full.csv\n",
      "[89/503] ⏳ Getting fundamentals for CHTR...\n",
      "   ✅ Saved to data/features_with_fundamentals/CHTR_full.csv\n",
      "[90/503] ⏳ Getting fundamentals for AZO...\n",
      "   ✅ Saved to data/features_with_fundamentals/AZO_full.csv\n",
      "[91/503] ⏳ Getting fundamentals for DHI...\n",
      "   ✅ Saved to data/features_with_fundamentals/DHI_full.csv\n",
      "[92/503] ⏳ Getting fundamentals for VRTX...\n",
      "   ✅ Saved to data/features_with_fundamentals/VRTX_full.csv\n",
      "[93/503] ⏳ Getting fundamentals for STX...\n",
      "   ✅ Saved to data/features_with_fundamentals/STX_full.csv\n",
      "[94/503] ⏳ Getting fundamentals for NFLX...\n",
      "   ✅ Saved to data/features_with_fundamentals/NFLX_full.csv\n",
      "[95/503] ⏳ Getting fundamentals for MCK...\n",
      "   ✅ Saved to data/features_with_fundamentals/MCK_full.csv\n",
      "[96/503] ⏳ Getting fundamentals for DOC...\n",
      "   ✅ Saved to data/features_with_fundamentals/DOC_full.csv\n",
      "[97/503] ⏳ Getting fundamentals for SLB...\n",
      "   ✅ Saved to data/features_with_fundamentals/SLB_full.csv\n",
      "[98/503] ⏳ Getting fundamentals for CBOE...\n",
      "   ✅ Saved to data/features_with_fundamentals/CBOE_full.csv\n",
      "[99/503] ⏳ Getting fundamentals for AMCR...\n",
      "   ✅ Saved to data/features_with_fundamentals/AMCR_full.csv\n",
      "[100/503] ⏳ Getting fundamentals for CARR...\n",
      "   ✅ Saved to data/features_with_fundamentals/CARR_full.csv\n",
      "[101/503] ⏳ Getting fundamentals for O...\n",
      "   ✅ Saved to data/features_with_fundamentals/O_full.csv\n",
      "[102/503] ⏳ Getting fundamentals for BALL...\n",
      "   ✅ Saved to data/features_with_fundamentals/BALL_full.csv\n",
      "[103/503] ⏳ Getting fundamentals for FIS...\n",
      "   ✅ Saved to data/features_with_fundamentals/FIS_full.csv\n",
      "[104/503] ⏳ Getting fundamentals for GM...\n",
      "   ✅ Saved to data/features_with_fundamentals/GM_full.csv\n",
      "[105/503] ⏳ Getting fundamentals for DELL...\n",
      "   ✅ Saved to data/features_with_fundamentals/DELL_full.csv\n",
      "[106/503] ⏳ Getting fundamentals for SOLV...\n",
      "   ✅ Saved to data/features_with_fundamentals/SOLV_full.csv\n",
      "[107/503] ⏳ Getting fundamentals for WMT...\n",
      "   ✅ Saved to data/features_with_fundamentals/WMT_full.csv\n",
      "[108/503] ⏳ Getting fundamentals for BA...\n",
      "   ✅ Saved to data/features_with_fundamentals/BA_full.csv\n",
      "[109/503] ⏳ Getting fundamentals for MRNA...\n",
      "   ✅ Saved to data/features_with_fundamentals/MRNA_full.csv\n",
      "[110/503] ⏳ Getting fundamentals for IBM...\n",
      "   ✅ Saved to data/features_with_fundamentals/IBM_full.csv\n",
      "[111/503] ⏳ Getting fundamentals for GLW...\n",
      "   ✅ Saved to data/features_with_fundamentals/GLW_full.csv\n",
      "[112/503] ⏳ Getting fundamentals for TEL...\n",
      "   ✅ Saved to data/features_with_fundamentals/TEL_full.csv\n",
      "[113/503] ⏳ Getting fundamentals for NTRS...\n",
      "   ✅ Saved to data/features_with_fundamentals/NTRS_full.csv\n",
      "[114/503] ⏳ Getting fundamentals for TER...\n",
      "   ✅ Saved to data/features_with_fundamentals/TER_full.csv\n",
      "[115/503] ⏳ Getting fundamentals for SWKS...\n",
      "   ✅ Saved to data/features_with_fundamentals/SWKS_full.csv\n",
      "[116/503] ⏳ Getting fundamentals for CI...\n",
      "   ✅ Saved to data/features_with_fundamentals/CI_full.csv\n",
      "[117/503] ⏳ Getting fundamentals for APD...\n",
      "   ✅ Saved to data/features_with_fundamentals/APD_full.csv\n",
      "[118/503] ⏳ Getting fundamentals for MDT...\n",
      "   ✅ Saved to data/features_with_fundamentals/MDT_full.csv\n",
      "[119/503] ⏳ Getting fundamentals for CB...\n",
      "   ✅ Saved to data/features_with_fundamentals/CB_full.csv\n",
      "[120/503] ⏳ Getting fundamentals for CRL...\n",
      "   ✅ Saved to data/features_with_fundamentals/CRL_full.csv\n",
      "[121/503] ⏳ Getting fundamentals for DXCM...\n",
      "   ✅ Saved to data/features_with_fundamentals/DXCM_full.csv\n",
      "[122/503] ⏳ Getting fundamentals for ADP...\n",
      "   ✅ Saved to data/features_with_fundamentals/ADP_full.csv\n",
      "[123/503] ⏳ Getting fundamentals for NKE...\n",
      "   ✅ Saved to data/features_with_fundamentals/NKE_full.csv\n",
      "[124/503] ⏳ Getting fundamentals for PTC...\n",
      "   ✅ Saved to data/features_with_fundamentals/PTC_full.csv\n",
      "[125/503] ⏳ Getting fundamentals for DLR...\n",
      "   ✅ Saved to data/features_with_fundamentals/DLR_full.csv\n",
      "[126/503] ⏳ Getting fundamentals for BG...\n",
      "   ✅ Saved to data/features_with_fundamentals/BG_full.csv\n",
      "[127/503] ⏳ Getting fundamentals for JBL...\n",
      "   ✅ Saved to data/features_with_fundamentals/JBL_full.csv\n",
      "[128/503] ⏳ Getting fundamentals for HRL...\n",
      "   ✅ Saved to data/features_with_fundamentals/HRL_full.csv\n",
      "[129/503] ⏳ Getting fundamentals for CNC...\n",
      "   ✅ Saved to data/features_with_fundamentals/CNC_full.csv\n",
      "[130/503] ⏳ Getting fundamentals for MGM...\n",
      "   ✅ Saved to data/features_with_fundamentals/MGM_full.csv\n",
      "[131/503] ⏳ Getting fundamentals for TMO...\n",
      "   ✅ Saved to data/features_with_fundamentals/TMO_full.csv\n",
      "[132/503] ⏳ Getting fundamentals for MPWR...\n",
      "   ✅ Saved to data/features_with_fundamentals/MPWR_full.csv\n",
      "[133/503] ⏳ Getting fundamentals for JBHT...\n",
      "   ✅ Saved to data/features_with_fundamentals/JBHT_full.csv\n",
      "[134/503] ⏳ Getting fundamentals for BR...\n",
      "   ✅ Saved to data/features_with_fundamentals/BR_full.csv\n",
      "[135/503] ⏳ Getting fundamentals for GEHC...\n",
      "   ✅ Saved to data/features_with_fundamentals/GEHC_full.csv\n",
      "[136/503] ⏳ Getting fundamentals for LNT...\n",
      "   ✅ Saved to data/features_with_fundamentals/LNT_full.csv\n",
      "[137/503] ⏳ Getting fundamentals for PEG...\n",
      "   ✅ Saved to data/features_with_fundamentals/PEG_full.csv\n",
      "[138/503] ⏳ Getting fundamentals for ARE...\n",
      "   ✅ Saved to data/features_with_fundamentals/ARE_full.csv\n",
      "[139/503] ⏳ Getting fundamentals for TGT...\n",
      "   ✅ Saved to data/features_with_fundamentals/TGT_full.csv\n",
      "[140/503] ⏳ Getting fundamentals for KMI...\n",
      "   ✅ Saved to data/features_with_fundamentals/KMI_full.csv\n",
      "[141/503] ⏳ Getting fundamentals for CMI...\n",
      "   ✅ Saved to data/features_with_fundamentals/CMI_full.csv\n",
      "[142/503] ⏳ Getting fundamentals for PGR...\n",
      "   ✅ Saved to data/features_with_fundamentals/PGR_full.csv\n",
      "[143/503] ⏳ Getting fundamentals for V...\n",
      "   ✅ Saved to data/features_with_fundamentals/V_full.csv\n",
      "[144/503] ⏳ Getting fundamentals for CAH...\n",
      "   ✅ Saved to data/features_with_fundamentals/CAH_full.csv\n",
      "[145/503] ⏳ Getting fundamentals for ABT...\n",
      "   ✅ Saved to data/features_with_fundamentals/ABT_full.csv\n",
      "[146/503] ⏳ Getting fundamentals for ACGL...\n",
      "   ✅ Saved to data/features_with_fundamentals/ACGL_full.csv\n",
      "[147/503] ⏳ Getting fundamentals for REGN...\n",
      "   ✅ Saved to data/features_with_fundamentals/REGN_full.csv\n",
      "[148/503] ⏳ Getting fundamentals for SW...\n",
      "   ✅ Saved to data/features_with_fundamentals/SW_full.csv\n",
      "[149/503] ⏳ Getting fundamentals for DASH...\n",
      "   ✅ Saved to data/features_with_fundamentals/DASH_full.csv\n",
      "[150/503] ⏳ Getting fundamentals for AKAM...\n",
      "   ✅ Saved to data/features_with_fundamentals/AKAM_full.csv\n",
      "[151/503] ⏳ Getting fundamentals for GS...\n",
      "   ✅ Saved to data/features_with_fundamentals/GS_full.csv\n",
      "[152/503] ⏳ Getting fundamentals for NI...\n",
      "   ✅ Saved to data/features_with_fundamentals/NI_full.csv\n",
      "[153/503] ⏳ Getting fundamentals for NWS...\n",
      "   ✅ Saved to data/features_with_fundamentals/NWS_full.csv\n",
      "[154/503] ⏳ Getting fundamentals for BBY...\n",
      "   ✅ Saved to data/features_with_fundamentals/BBY_full.csv\n",
      "[155/503] ⏳ Getting fundamentals for MMM...\n",
      "   ✅ Saved to data/features_with_fundamentals/MMM_full.csv\n",
      "[156/503] ⏳ Getting fundamentals for MTD...\n",
      "   ✅ Saved to data/features_with_fundamentals/MTD_full.csv\n",
      "[157/503] ⏳ Getting fundamentals for HLT...\n",
      "   ✅ Saved to data/features_with_fundamentals/HLT_full.csv\n",
      "[158/503] ⏳ Getting fundamentals for JNJ...\n",
      "   ✅ Saved to data/features_with_fundamentals/JNJ_full.csv\n",
      "[159/503] ⏳ Getting fundamentals for AMGN...\n",
      "   ✅ Saved to data/features_with_fundamentals/AMGN_full.csv\n",
      "[160/503] ⏳ Getting fundamentals for HAS...\n",
      "   ✅ Saved to data/features_with_fundamentals/HAS_full.csv\n",
      "[161/503] ⏳ Getting fundamentals for K...\n",
      "   ✅ Saved to data/features_with_fundamentals/K_full.csv\n",
      "[162/503] ⏳ Getting fundamentals for DOV...\n",
      "   ✅ Saved to data/features_with_fundamentals/DOV_full.csv\n",
      "[163/503] ⏳ Getting fundamentals for ZBH...\n",
      "   ✅ Saved to data/features_with_fundamentals/ZBH_full.csv\n",
      "[164/503] ⏳ Getting fundamentals for POOL...\n",
      "   ✅ Saved to data/features_with_fundamentals/POOL_full.csv\n",
      "[165/503] ⏳ Getting fundamentals for ERIE...\n",
      "   ✅ Saved to data/features_with_fundamentals/ERIE_full.csv\n",
      "[166/503] ⏳ Getting fundamentals for MCHP...\n",
      "   ✅ Saved to data/features_with_fundamentals/MCHP_full.csv\n",
      "[167/503] ⏳ Getting fundamentals for BRO...\n",
      "   ✅ Saved to data/features_with_fundamentals/BRO_full.csv\n",
      "[168/503] ⏳ Getting fundamentals for KDP...\n",
      "   ✅ Saved to data/features_with_fundamentals/KDP_full.csv\n",
      "[169/503] ⏳ Getting fundamentals for CL...\n",
      "   ✅ Saved to data/features_with_fundamentals/CL_full.csv\n",
      "[170/503] ⏳ Getting fundamentals for ON...\n",
      "   ✅ Saved to data/features_with_fundamentals/ON_full.csv\n",
      "[171/503] ⏳ Getting fundamentals for NOC...\n",
      "   ✅ Saved to data/features_with_fundamentals/NOC_full.csv\n",
      "[172/503] ⏳ Getting fundamentals for ALLE...\n",
      "   ✅ Saved to data/features_with_fundamentals/ALLE_full.csv\n",
      "[173/503] ⏳ Getting fundamentals for AIZ...\n",
      "   ✅ Saved to data/features_with_fundamentals/AIZ_full.csv\n",
      "[174/503] ⏳ Getting fundamentals for BXP...\n",
      "   ✅ Saved to data/features_with_fundamentals/BXP_full.csv\n",
      "[175/503] ⏳ Getting fundamentals for VTRS...\n",
      "   ✅ Saved to data/features_with_fundamentals/VTRS_full.csv\n",
      "[176/503] ⏳ Getting fundamentals for IVZ...\n",
      "   ✅ Saved to data/features_with_fundamentals/IVZ_full.csv\n",
      "[177/503] ⏳ Getting fundamentals for FDX...\n",
      "   ✅ Saved to data/features_with_fundamentals/FDX_full.csv\n",
      "[178/503] ⏳ Getting fundamentals for CSX...\n",
      "   ✅ Saved to data/features_with_fundamentals/CSX_full.csv\n",
      "[179/503] ⏳ Getting fundamentals for LIN...\n",
      "   ✅ Saved to data/features_with_fundamentals/LIN_full.csv\n",
      "[180/503] ⏳ Getting fundamentals for HD...\n",
      "   ✅ Saved to data/features_with_fundamentals/HD_full.csv\n",
      "[181/503] ⏳ Getting fundamentals for TPL...\n",
      "   ✅ Saved to data/features_with_fundamentals/TPL_full.csv\n",
      "[182/503] ⏳ Getting fundamentals for INCY...\n",
      "   ✅ Saved to data/features_with_fundamentals/INCY_full.csv\n",
      "[183/503] ⏳ Getting fundamentals for TTWO...\n",
      "   ✅ Saved to data/features_with_fundamentals/TTWO_full.csv\n",
      "[184/503] ⏳ Getting fundamentals for FTV...\n",
      "   ✅ Saved to data/features_with_fundamentals/FTV_full.csv\n",
      "[185/503] ⏳ Getting fundamentals for CMCSA...\n",
      "   ✅ Saved to data/features_with_fundamentals/CMCSA_full.csv\n",
      "[186/503] ⏳ Getting fundamentals for PANW...\n",
      "   ✅ Saved to data/features_with_fundamentals/PANW_full.csv\n",
      "[187/503] ⏳ Getting fundamentals for PAYX...\n",
      "   ✅ Saved to data/features_with_fundamentals/PAYX_full.csv\n",
      "[188/503] ⏳ Getting fundamentals for KIM...\n",
      "   ✅ Saved to data/features_with_fundamentals/KIM_full.csv\n",
      "[189/503] ⏳ Getting fundamentals for OKE...\n",
      "   ✅ Saved to data/features_with_fundamentals/OKE_full.csv\n",
      "[190/503] ⏳ Getting fundamentals for VICI...\n",
      "   ✅ Saved to data/features_with_fundamentals/VICI_full.csv\n",
      "[191/503] ⏳ Getting fundamentals for KR...\n",
      "   ✅ Saved to data/features_with_fundamentals/KR_full.csv\n",
      "[192/503] ⏳ Getting fundamentals for ATO...\n",
      "   ✅ Saved to data/features_with_fundamentals/ATO_full.csv\n",
      "[193/503] ⏳ Getting fundamentals for LOW...\n",
      "   ✅ Saved to data/features_with_fundamentals/LOW_full.csv\n",
      "[194/503] ⏳ Getting fundamentals for ODFL...\n",
      "   ✅ Saved to data/features_with_fundamentals/ODFL_full.csv\n",
      "[195/503] ⏳ Getting fundamentals for PYPL...\n",
      "   ✅ Saved to data/features_with_fundamentals/PYPL_full.csv\n",
      "[196/503] ⏳ Getting fundamentals for VRSN...\n",
      "   ✅ Saved to data/features_with_fundamentals/VRSN_full.csv\n",
      "[197/503] ⏳ Getting fundamentals for VRSK...\n",
      "   ✅ Saved to data/features_with_fundamentals/VRSK_full.csv\n",
      "[198/503] ⏳ Getting fundamentals for ADM...\n",
      "   ✅ Saved to data/features_with_fundamentals/ADM_full.csv\n",
      "[199/503] ⏳ Getting fundamentals for ADSK...\n",
      "   ✅ Saved to data/features_with_fundamentals/ADSK_full.csv\n",
      "[200/503] ⏳ Getting fundamentals for ESS...\n",
      "   ✅ Saved to data/features_with_fundamentals/ESS_full.csv\n",
      "[201/503] ⏳ Getting fundamentals for VTR...\n",
      "   ✅ Saved to data/features_with_fundamentals/VTR_full.csv\n",
      "[202/503] ⏳ Getting fundamentals for WDC...\n",
      "   ✅ Saved to data/features_with_fundamentals/WDC_full.csv\n",
      "[203/503] ⏳ Getting fundamentals for AON...\n",
      "   ✅ Saved to data/features_with_fundamentals/AON_full.csv\n",
      "[204/503] ⏳ Getting fundamentals for J...\n",
      "   ✅ Saved to data/features_with_fundamentals/J_full.csv\n",
      "[205/503] ⏳ Getting fundamentals for META...\n",
      "   ✅ Saved to data/features_with_fundamentals/META_full.csv\n",
      "[206/503] ⏳ Getting fundamentals for HOLX...\n",
      "   ✅ Saved to data/features_with_fundamentals/HOLX_full.csv\n",
      "[207/503] ⏳ Getting fundamentals for MCD...\n",
      "   ✅ Saved to data/features_with_fundamentals/MCD_full.csv\n",
      "[208/503] ⏳ Getting fundamentals for RL...\n",
      "   ✅ Saved to data/features_with_fundamentals/RL_full.csv\n",
      "[209/503] ⏳ Getting fundamentals for WMB...\n",
      "   ✅ Saved to data/features_with_fundamentals/WMB_full.csv\n",
      "[210/503] ⏳ Getting fundamentals for GL...\n",
      "   ✅ Saved to data/features_with_fundamentals/GL_full.csv\n",
      "[211/503] ⏳ Getting fundamentals for ANET...\n",
      "   ✅ Saved to data/features_with_fundamentals/ANET_full.csv\n",
      "[212/503] ⏳ Getting fundamentals for IRM...\n",
      "   ✅ Saved to data/features_with_fundamentals/IRM_full.csv\n",
      "[213/503] ⏳ Getting fundamentals for D...\n",
      "   ✅ Saved to data/features_with_fundamentals/D_full.csv\n",
      "[214/503] ⏳ Getting fundamentals for TSLA...\n",
      "   ✅ Saved to data/features_with_fundamentals/TSLA_full.csv\n",
      "[215/503] ⏳ Getting fundamentals for NXPI...\n",
      "   ✅ Saved to data/features_with_fundamentals/NXPI_full.csv\n",
      "[216/503] ⏳ Getting fundamentals for CMS...\n",
      "   ✅ Saved to data/features_with_fundamentals/CMS_full.csv\n",
      "[217/503] ⏳ Getting fundamentals for ETR...\n",
      "   ✅ Saved to data/features_with_fundamentals/ETR_full.csv\n",
      "[218/503] ⏳ Getting fundamentals for KLAC...\n",
      "   ✅ Saved to data/features_with_fundamentals/KLAC_full.csv\n",
      "[219/503] ⏳ Getting fundamentals for PM...\n",
      "   ✅ Saved to data/features_with_fundamentals/PM_full.csv\n",
      "[220/503] ⏳ Getting fundamentals for MU...\n",
      "   ✅ Saved to data/features_with_fundamentals/MU_full.csv\n",
      "[221/503] ⏳ Getting fundamentals for PCAR...\n",
      "   ✅ Saved to data/features_with_fundamentals/PCAR_full.csv\n",
      "[222/503] ⏳ Getting fundamentals for HIG...\n",
      "   ✅ Saved to data/features_with_fundamentals/HIG_full.csv\n",
      "[223/503] ⏳ Getting fundamentals for ABNB...\n",
      "   ✅ Saved to data/features_with_fundamentals/ABNB_full.csv\n",
      "[224/503] ⏳ Getting fundamentals for FFIV...\n",
      "   ✅ Saved to data/features_with_fundamentals/FFIV_full.csv\n",
      "[225/503] ⏳ Getting fundamentals for ROK...\n",
      "   ✅ Saved to data/features_with_fundamentals/ROK_full.csv\n",
      "[226/503] ⏳ Getting fundamentals for EXPD...\n",
      "   ✅ Saved to data/features_with_fundamentals/EXPD_full.csv\n",
      "[227/503] ⏳ Getting fundamentals for TKO...\n",
      "   ✅ Saved to data/features_with_fundamentals/TKO_full.csv\n",
      "[228/503] ⏳ Getting fundamentals for KHC...\n",
      "   ✅ Saved to data/features_with_fundamentals/KHC_full.csv\n",
      "[229/503] ⏳ Getting fundamentals for PCG...\n",
      "   ✅ Saved to data/features_with_fundamentals/PCG_full.csv\n",
      "[230/503] ⏳ Getting fundamentals for CTAS...\n",
      "   ✅ Saved to data/features_with_fundamentals/CTAS_full.csv\n",
      "[231/503] ⏳ Getting fundamentals for NSC...\n",
      "   ✅ Saved to data/features_with_fundamentals/NSC_full.csv\n",
      "[232/503] ⏳ Getting fundamentals for AXON...\n",
      "   ✅ Saved to data/features_with_fundamentals/AXON_full.csv\n",
      "[233/503] ⏳ Getting fundamentals for CCI...\n",
      "   ✅ Saved to data/features_with_fundamentals/CCI_full.csv\n",
      "[234/503] ⏳ Getting fundamentals for ECL...\n",
      "   ✅ Saved to data/features_with_fundamentals/ECL_full.csv\n",
      "[235/503] ⏳ Getting fundamentals for GEV...\n",
      "   ✅ Saved to data/features_with_fundamentals/GEV_full.csv\n",
      "[236/503] ⏳ Getting fundamentals for PG...\n",
      "   ✅ Saved to data/features_with_fundamentals/PG_full.csv\n",
      "[237/503] ⏳ Getting fundamentals for TRMB...\n",
      "   ✅ Saved to data/features_with_fundamentals/TRMB_full.csv\n",
      "[238/503] ⏳ Getting fundamentals for USB...\n",
      "   ✅ Saved to data/features_with_fundamentals/USB_full.csv\n",
      "[239/503] ⏳ Getting fundamentals for EOG...\n",
      "   ✅ Saved to data/features_with_fundamentals/EOG_full.csv\n",
      "[240/503] ⏳ Getting fundamentals for BK...\n",
      "   ✅ Saved to data/features_with_fundamentals/BK_full.csv\n",
      "[241/503] ⏳ Getting fundamentals for BLDR...\n",
      "   ✅ Saved to data/features_with_fundamentals/BLDR_full.csv\n",
      "[242/503] ⏳ Getting fundamentals for ETN...\n",
      "   ✅ Saved to data/features_with_fundamentals/ETN_full.csv\n",
      "[243/503] ⏳ Getting fundamentals for FRT...\n",
      "   ✅ Saved to data/features_with_fundamentals/FRT_full.csv\n",
      "[244/503] ⏳ Getting fundamentals for BRK-B...\n",
      "   ✅ Saved to data/features_with_fundamentals/BRK-B_full.csv\n",
      "[245/503] ⏳ Getting fundamentals for CAG...\n",
      "   ✅ Saved to data/features_with_fundamentals/CAG_full.csv\n",
      "[246/503] ⏳ Getting fundamentals for MS...\n",
      "   ✅ Saved to data/features_with_fundamentals/MS_full.csv\n",
      "[247/503] ⏳ Getting fundamentals for VLTO...\n",
      "   ✅ Saved to data/features_with_fundamentals/VLTO_full.csv\n",
      "[248/503] ⏳ Getting fundamentals for PSKY...\n",
      "   ✅ Saved to data/features_with_fundamentals/PSKY_full.csv\n",
      "[249/503] ⏳ Getting fundamentals for AMZN...\n",
      "   ✅ Saved to data/features_with_fundamentals/AMZN_full.csv\n",
      "[250/503] ⏳ Getting fundamentals for KEYS...\n",
      "   ✅ Saved to data/features_with_fundamentals/KEYS_full.csv\n",
      "[251/503] ⏳ Getting fundamentals for SO...\n",
      "   ✅ Saved to data/features_with_fundamentals/SO_full.csv\n",
      "[252/503] ⏳ Getting fundamentals for TPR...\n",
      "   ✅ Saved to data/features_with_fundamentals/TPR_full.csv\n",
      "[253/503] ⏳ Getting fundamentals for KO...\n",
      "   ✅ Saved to data/features_with_fundamentals/KO_full.csv\n",
      "[254/503] ⏳ Getting fundamentals for RMD...\n",
      "   ✅ Saved to data/features_with_fundamentals/RMD_full.csv\n",
      "[255/503] ⏳ Getting fundamentals for GNRC...\n",
      "   ✅ Saved to data/features_with_fundamentals/GNRC_full.csv\n",
      "[256/503] ⏳ Getting fundamentals for BKR...\n",
      "   ✅ Saved to data/features_with_fundamentals/BKR_full.csv\n",
      "[257/503] ⏳ Getting fundamentals for COR...\n",
      "   ✅ Saved to data/features_with_fundamentals/COR_full.csv\n",
      "[258/503] ⏳ Getting fundamentals for EQT...\n",
      "   ✅ Saved to data/features_with_fundamentals/EQT_full.csv\n",
      "[259/503] ⏳ Getting fundamentals for CCL...\n",
      "   ✅ Saved to data/features_with_fundamentals/CCL_full.csv\n",
      "[260/503] ⏳ Getting fundamentals for CF...\n",
      "   ✅ Saved to data/features_with_fundamentals/CF_full.csv\n",
      "[261/503] ⏳ Getting fundamentals for GRMN...\n",
      "   ✅ Saved to data/features_with_fundamentals/GRMN_full.csv\n",
      "[262/503] ⏳ Getting fundamentals for EMN...\n",
      "   ✅ Saved to data/features_with_fundamentals/EMN_full.csv\n",
      "[263/503] ⏳ Getting fundamentals for HII...\n",
      "   ✅ Saved to data/features_with_fundamentals/HII_full.csv\n",
      "[264/503] ⏳ Getting fundamentals for DRI...\n",
      "   ✅ Saved to data/features_with_fundamentals/DRI_full.csv\n",
      "[265/503] ⏳ Getting fundamentals for PPL...\n",
      "   ✅ Saved to data/features_with_fundamentals/PPL_full.csv\n",
      "[266/503] ⏳ Getting fundamentals for HUBB...\n",
      "   ✅ Saved to data/features_with_fundamentals/HUBB_full.csv\n",
      "[267/503] ⏳ Getting fundamentals for LVS...\n",
      "   ✅ Saved to data/features_with_fundamentals/LVS_full.csv\n",
      "[268/503] ⏳ Getting fundamentals for F...\n",
      "   ✅ Saved to data/features_with_fundamentals/F_full.csv\n",
      "[269/503] ⏳ Getting fundamentals for AME...\n",
      "   ✅ Saved to data/features_with_fundamentals/AME_full.csv\n",
      "[270/503] ⏳ Getting fundamentals for TDG...\n",
      "   ✅ Saved to data/features_with_fundamentals/TDG_full.csv\n",
      "[271/503] ⏳ Getting fundamentals for BAC...\n",
      "   ✅ Saved to data/features_with_fundamentals/BAC_full.csv\n",
      "[272/503] ⏳ Getting fundamentals for EQIX...\n",
      "   ✅ Saved to data/features_with_fundamentals/EQIX_full.csv\n",
      "[273/503] ⏳ Getting fundamentals for ADI...\n",
      "   ✅ Saved to data/features_with_fundamentals/ADI_full.csv\n",
      "[274/503] ⏳ Getting fundamentals for BLK...\n",
      "   ✅ Saved to data/features_with_fundamentals/BLK_full.csv\n",
      "[275/503] ⏳ Getting fundamentals for TYL...\n",
      "   ✅ Saved to data/features_with_fundamentals/TYL_full.csv\n",
      "[276/503] ⏳ Getting fundamentals for EPAM...\n",
      "   ✅ Saved to data/features_with_fundamentals/EPAM_full.csv\n",
      "[277/503] ⏳ Getting fundamentals for AMT...\n",
      "   ✅ Saved to data/features_with_fundamentals/AMT_full.csv\n",
      "[278/503] ⏳ Getting fundamentals for COO...\n",
      "   ✅ Saved to data/features_with_fundamentals/COO_full.csv\n",
      "[279/503] ⏳ Getting fundamentals for NOW...\n",
      "   ✅ Saved to data/features_with_fundamentals/NOW_full.csv\n",
      "[280/503] ⏳ Getting fundamentals for DECK...\n",
      "   ✅ Saved to data/features_with_fundamentals/DECK_full.csv\n",
      "[281/503] ⏳ Getting fundamentals for PKG...\n",
      "   ✅ Saved to data/features_with_fundamentals/PKG_full.csv\n",
      "[282/503] ⏳ Getting fundamentals for LYV...\n",
      "   ✅ Saved to data/features_with_fundamentals/LYV_full.csv\n",
      "[283/503] ⏳ Getting fundamentals for LII...\n",
      "   ✅ Saved to data/features_with_fundamentals/LII_full.csv\n",
      "[284/503] ⏳ Getting fundamentals for PSX...\n",
      "   ✅ Saved to data/features_with_fundamentals/PSX_full.csv\n",
      "[285/503] ⏳ Getting fundamentals for UPS...\n",
      "   ✅ Saved to data/features_with_fundamentals/UPS_full.csv\n",
      "[286/503] ⏳ Getting fundamentals for AEP...\n",
      "   ✅ Saved to data/features_with_fundamentals/AEP_full.csv\n",
      "[287/503] ⏳ Getting fundamentals for SCHW...\n",
      "   ✅ Saved to data/features_with_fundamentals/SCHW_full.csv\n",
      "[288/503] ⏳ Getting fundamentals for XYL...\n",
      "   ✅ Saved to data/features_with_fundamentals/XYL_full.csv\n",
      "[289/503] ⏳ Getting fundamentals for UBER...\n",
      "   ✅ Saved to data/features_with_fundamentals/UBER_full.csv\n",
      "[290/503] ⏳ Getting fundamentals for AES...\n",
      "   ✅ Saved to data/features_with_fundamentals/AES_full.csv\n",
      "[291/503] ⏳ Getting fundamentals for AEE...\n",
      "   ✅ Saved to data/features_with_fundamentals/AEE_full.csv\n",
      "[292/503] ⏳ Getting fundamentals for CRM...\n",
      "   ✅ Saved to data/features_with_fundamentals/CRM_full.csv\n",
      "[293/503] ⏳ Getting fundamentals for EFX...\n",
      "   ✅ Saved to data/features_with_fundamentals/EFX_full.csv\n",
      "[294/503] ⏳ Getting fundamentals for BSX...\n",
      "   ✅ Saved to data/features_with_fundamentals/BSX_full.csv\n",
      "[295/503] ⏳ Getting fundamentals for TECH...\n",
      "   ✅ Saved to data/features_with_fundamentals/TECH_full.csv\n",
      "[296/503] ⏳ Getting fundamentals for FCX...\n",
      "   ✅ Saved to data/features_with_fundamentals/FCX_full.csv\n",
      "[297/503] ⏳ Getting fundamentals for WFC...\n",
      "   ✅ Saved to data/features_with_fundamentals/WFC_full.csv\n",
      "[298/503] ⏳ Getting fundamentals for LULU...\n",
      "   ✅ Saved to data/features_with_fundamentals/LULU_full.csv\n",
      "[299/503] ⏳ Getting fundamentals for CTVA...\n",
      "   ✅ Saved to data/features_with_fundamentals/CTVA_full.csv\n",
      "[300/503] ⏳ Getting fundamentals for PODD...\n",
      "   ✅ Saved to data/features_with_fundamentals/PODD_full.csv\n",
      "[301/503] ⏳ Getting fundamentals for PSA...\n",
      "   ✅ Saved to data/features_with_fundamentals/PSA_full.csv\n",
      "[302/503] ⏳ Getting fundamentals for CINF...\n",
      "   ✅ Saved to data/features_with_fundamentals/CINF_full.csv\n",
      "[303/503] ⏳ Getting fundamentals for AFL...\n",
      "   ✅ Saved to data/features_with_fundamentals/AFL_full.csv\n",
      "[304/503] ⏳ Getting fundamentals for IEX...\n",
      "   ✅ Saved to data/features_with_fundamentals/IEX_full.csv\n",
      "[305/503] ⏳ Getting fundamentals for COST...\n",
      "   ✅ Saved to data/features_with_fundamentals/COST_full.csv\n",
      "[306/503] ⏳ Getting fundamentals for TRGP...\n",
      "   ✅ Saved to data/features_with_fundamentals/TRGP_full.csv\n",
      "[307/503] ⏳ Getting fundamentals for GE...\n",
      "   ✅ Saved to data/features_with_fundamentals/GE_full.csv\n",
      "[308/503] ⏳ Getting fundamentals for HUM...\n",
      "   ✅ Saved to data/features_with_fundamentals/HUM_full.csv\n",
      "[309/503] ⏳ Getting fundamentals for TMUS...\n",
      "   ✅ Saved to data/features_with_fundamentals/TMUS_full.csv\n",
      "[310/503] ⏳ Getting fundamentals for DE...\n",
      "   ✅ Saved to data/features_with_fundamentals/DE_full.csv\n",
      "[311/503] ⏳ Getting fundamentals for UNP...\n",
      "   ✅ Saved to data/features_with_fundamentals/UNP_full.csv\n",
      "[312/503] ⏳ Getting fundamentals for GOOG...\n",
      "   ✅ Saved to data/features_with_fundamentals/GOOG_full.csv\n",
      "[313/503] ⏳ Getting fundamentals for DDOG...\n",
      "   ✅ Saved to data/features_with_fundamentals/DDOG_full.csv\n",
      "[314/503] ⏳ Getting fundamentals for XYZ...\n",
      "   ✅ Saved to data/features_with_fundamentals/XYZ_full.csv\n",
      "[315/503] ⏳ Getting fundamentals for EQR...\n",
      "   ✅ Saved to data/features_with_fundamentals/EQR_full.csv\n",
      "[316/503] ⏳ Getting fundamentals for SPG...\n",
      "   ✅ Saved to data/features_with_fundamentals/SPG_full.csv\n",
      "[317/503] ⏳ Getting fundamentals for ES...\n",
      "   ✅ Saved to data/features_with_fundamentals/ES_full.csv\n",
      "[318/503] ⏳ Getting fundamentals for NDAQ...\n",
      "   ✅ Saved to data/features_with_fundamentals/NDAQ_full.csv\n",
      "[319/503] ⏳ Getting fundamentals for PAYC...\n",
      "   ✅ Saved to data/features_with_fundamentals/PAYC_full.csv\n",
      "[320/503] ⏳ Getting fundamentals for KMX...\n",
      "   ✅ Saved to data/features_with_fundamentals/KMX_full.csv\n",
      "[321/503] ⏳ Getting fundamentals for DAL...\n",
      "   ✅ Saved to data/features_with_fundamentals/DAL_full.csv\n",
      "[322/503] ⏳ Getting fundamentals for IT...\n",
      "   ✅ Saved to data/features_with_fundamentals/IT_full.csv\n",
      "[323/503] ⏳ Getting fundamentals for WELL...\n",
      "   ✅ Saved to data/features_with_fundamentals/WELL_full.csv\n",
      "[324/503] ⏳ Getting fundamentals for EIX...\n",
      "   ✅ Saved to data/features_with_fundamentals/EIX_full.csv\n",
      "[325/503] ⏳ Getting fundamentals for EXR...\n",
      "   ✅ Saved to data/features_with_fundamentals/EXR_full.csv\n",
      "[326/503] ⏳ Getting fundamentals for EW...\n",
      "   ✅ Saved to data/features_with_fundamentals/EW_full.csv\n",
      "[327/503] ⏳ Getting fundamentals for SNA...\n",
      "   ✅ Saved to data/features_with_fundamentals/SNA_full.csv\n",
      "[328/503] ⏳ Getting fundamentals for MPC...\n",
      "   ✅ Saved to data/features_with_fundamentals/MPC_full.csv\n",
      "[329/503] ⏳ Getting fundamentals for GPC...\n",
      "   ✅ Saved to data/features_with_fundamentals/GPC_full.csv\n",
      "[330/503] ⏳ Getting fundamentals for IFF...\n",
      "   ✅ Saved to data/features_with_fundamentals/IFF_full.csv\n",
      "[331/503] ⏳ Getting fundamentals for CBRE...\n",
      "   ✅ Saved to data/features_with_fundamentals/CBRE_full.csv\n",
      "[332/503] ⏳ Getting fundamentals for PLTR...\n",
      "   ✅ Saved to data/features_with_fundamentals/PLTR_full.csv\n",
      "[333/503] ⏳ Getting fundamentals for DOW...\n",
      "   ✅ Saved to data/features_with_fundamentals/DOW_full.csv\n",
      "[334/503] ⏳ Getting fundamentals for TROW...\n",
      "   ✅ Saved to data/features_with_fundamentals/TROW_full.csv\n",
      "[335/503] ⏳ Getting fundamentals for MCO...\n",
      "   ✅ Saved to data/features_with_fundamentals/MCO_full.csv\n",
      "[336/503] ⏳ Getting fundamentals for AVGO...\n",
      "   ✅ Saved to data/features_with_fundamentals/AVGO_full.csv\n",
      "[337/503] ⏳ Getting fundamentals for APTV...\n",
      "   ✅ Saved to data/features_with_fundamentals/APTV_full.csv\n",
      "[338/503] ⏳ Getting fundamentals for ORLY...\n",
      "   ✅ Saved to data/features_with_fundamentals/ORLY_full.csv\n",
      "[339/503] ⏳ Getting fundamentals for APO...\n",
      "   ✅ Saved to data/features_with_fundamentals/APO_full.csv\n",
      "[340/503] ⏳ Getting fundamentals for CEG...\n",
      "   ✅ Saved to data/features_with_fundamentals/CEG_full.csv\n",
      "[341/503] ⏳ Getting fundamentals for PNC...\n",
      "   ✅ Saved to data/features_with_fundamentals/PNC_full.csv\n",
      "[342/503] ⏳ Getting fundamentals for TFC...\n",
      "   ✅ Saved to data/features_with_fundamentals/TFC_full.csv\n",
      "[343/503] ⏳ Getting fundamentals for LMT...\n",
      "   ✅ Saved to data/features_with_fundamentals/LMT_full.csv\n",
      "[344/503] ⏳ Getting fundamentals for LYB...\n",
      "   ✅ Saved to data/features_with_fundamentals/LYB_full.csv\n",
      "[345/503] ⏳ Getting fundamentals for OMC...\n",
      "   ✅ Saved to data/features_with_fundamentals/OMC_full.csv\n",
      "[346/503] ⏳ Getting fundamentals for NRG...\n",
      "   ✅ Saved to data/features_with_fundamentals/NRG_full.csv\n",
      "[347/503] ⏳ Getting fundamentals for PFG...\n",
      "   ✅ Saved to data/features_with_fundamentals/PFG_full.csv\n",
      "[348/503] ⏳ Getting fundamentals for TSN...\n",
      "   ✅ Saved to data/features_with_fundamentals/TSN_full.csv\n",
      "[349/503] ⏳ Getting fundamentals for ORCL...\n",
      "   ✅ Saved to data/features_with_fundamentals/ORCL_full.csv\n",
      "[350/503] ⏳ Getting fundamentals for NVDA...\n",
      "   ✅ Saved to data/features_with_fundamentals/NVDA_full.csv\n",
      "[351/503] ⏳ Getting fundamentals for CTSH...\n",
      "   ✅ Saved to data/features_with_fundamentals/CTSH_full.csv\n",
      "[352/503] ⏳ Getting fundamentals for STLD...\n",
      "   ✅ Saved to data/features_with_fundamentals/STLD_full.csv\n",
      "[353/503] ⏳ Getting fundamentals for MSCI...\n",
      "   ✅ Saved to data/features_with_fundamentals/MSCI_full.csv\n",
      "[354/503] ⏳ Getting fundamentals for NWSA...\n",
      "   ✅ Saved to data/features_with_fundamentals/NWSA_full.csv\n",
      "[355/503] ⏳ Getting fundamentals for IR...\n",
      "   ✅ Saved to data/features_with_fundamentals/IR_full.csv\n",
      "[356/503] ⏳ Getting fundamentals for NTAP...\n",
      "   ✅ Saved to data/features_with_fundamentals/NTAP_full.csv\n",
      "[357/503] ⏳ Getting fundamentals for ZBRA...\n",
      "   ✅ Saved to data/features_with_fundamentals/ZBRA_full.csv\n",
      "[358/503] ⏳ Getting fundamentals for UHS...\n",
      "   ✅ Saved to data/features_with_fundamentals/UHS_full.csv\n",
      "[359/503] ⏳ Getting fundamentals for CPB...\n",
      "   ✅ Saved to data/features_with_fundamentals/CPB_full.csv\n",
      "[360/503] ⏳ Getting fundamentals for HPQ...\n",
      "   ✅ Saved to data/features_with_fundamentals/HPQ_full.csv\n",
      "[361/503] ⏳ Getting fundamentals for LDOS...\n",
      "   ✅ Saved to data/features_with_fundamentals/LDOS_full.csv\n",
      "[362/503] ⏳ Getting fundamentals for EL...\n",
      "   ✅ Saved to data/features_with_fundamentals/EL_full.csv\n",
      "[363/503] ⏳ Getting fundamentals for PWR...\n",
      "   ✅ Saved to data/features_with_fundamentals/PWR_full.csv\n",
      "[364/503] ⏳ Getting fundamentals for ELV...\n",
      "   ✅ Saved to data/features_with_fundamentals/ELV_full.csv\n",
      "[365/503] ⏳ Getting fundamentals for PEP...\n",
      "   ✅ Saved to data/features_with_fundamentals/PEP_full.csv\n",
      "[366/503] ⏳ Getting fundamentals for ALB...\n",
      "   ✅ Saved to data/features_with_fundamentals/ALB_full.csv\n",
      "[367/503] ⏳ Getting fundamentals for GILD...\n",
      "   ✅ Saved to data/features_with_fundamentals/GILD_full.csv\n",
      "[368/503] ⏳ Getting fundamentals for ISRG...\n",
      "   ✅ Saved to data/features_with_fundamentals/ISRG_full.csv\n",
      "[369/503] ⏳ Getting fundamentals for GWW...\n",
      "   ✅ Saved to data/features_with_fundamentals/GWW_full.csv\n",
      "[370/503] ⏳ Getting fundamentals for EBAY...\n",
      "   ✅ Saved to data/features_with_fundamentals/EBAY_full.csv\n",
      "[371/503] ⏳ Getting fundamentals for TSCO...\n",
      "   ✅ Saved to data/features_with_fundamentals/TSCO_full.csv\n",
      "[372/503] ⏳ Getting fundamentals for ULTA...\n",
      "   ✅ Saved to data/features_with_fundamentals/ULTA_full.csv\n",
      "[373/503] ⏳ Getting fundamentals for NVR...\n",
      "   ✅ Saved to data/features_with_fundamentals/NVR_full.csv\n",
      "[374/503] ⏳ Getting fundamentals for ED...\n",
      "   ✅ Saved to data/features_with_fundamentals/ED_full.csv\n",
      "[375/503] ⏳ Getting fundamentals for CSGP...\n",
      "   ✅ Saved to data/features_with_fundamentals/CSGP_full.csv\n",
      "[376/503] ⏳ Getting fundamentals for AMAT...\n",
      "   ✅ Saved to data/features_with_fundamentals/AMAT_full.csv\n",
      "[377/503] ⏳ Getting fundamentals for GPN...\n",
      "   ✅ Saved to data/features_with_fundamentals/GPN_full.csv\n",
      "[378/503] ⏳ Getting fundamentals for MDLZ...\n",
      "   ✅ Saved to data/features_with_fundamentals/MDLZ_full.csv\n",
      "[379/503] ⏳ Getting fundamentals for WST...\n",
      "   ✅ Saved to data/features_with_fundamentals/WST_full.csv\n",
      "[380/503] ⏳ Getting fundamentals for UAL...\n",
      "   ✅ Saved to data/features_with_fundamentals/UAL_full.csv\n",
      "[381/503] ⏳ Getting fundamentals for WSM...\n",
      "   ✅ Saved to data/features_with_fundamentals/WSM_full.csv\n",
      "[382/503] ⏳ Getting fundamentals for MAA...\n",
      "   ✅ Saved to data/features_with_fundamentals/MAA_full.csv\n",
      "[383/503] ⏳ Getting fundamentals for BIIB...\n",
      "   ✅ Saved to data/features_with_fundamentals/BIIB_full.csv\n",
      "[384/503] ⏳ Getting fundamentals for ACN...\n",
      "   ✅ Saved to data/features_with_fundamentals/ACN_full.csv\n",
      "[385/503] ⏳ Getting fundamentals for STZ...\n",
      "   ✅ Saved to data/features_with_fundamentals/STZ_full.csv\n",
      "[386/503] ⏳ Getting fundamentals for RSG...\n",
      "   ✅ Saved to data/features_with_fundamentals/RSG_full.csv\n",
      "[387/503] ⏳ Getting fundamentals for IQV...\n",
      "   ✅ Saved to data/features_with_fundamentals/IQV_full.csv\n",
      "[388/503] ⏳ Getting fundamentals for LLY...\n",
      "   ✅ Saved to data/features_with_fundamentals/LLY_full.csv\n",
      "[389/503] ⏳ Getting fundamentals for A...\n",
      "   ✅ Saved to data/features_with_fundamentals/A_full.csv\n",
      "[390/503] ⏳ Getting fundamentals for ALGN...\n",
      "   ✅ Saved to data/features_with_fundamentals/ALGN_full.csv\n",
      "[391/503] ⏳ Getting fundamentals for CAT...\n",
      "   ✅ Saved to data/features_with_fundamentals/CAT_full.csv\n",
      "[392/503] ⏳ Getting fundamentals for CVS...\n",
      "   ✅ Saved to data/features_with_fundamentals/CVS_full.csv\n",
      "[393/503] ⏳ Getting fundamentals for L...\n",
      "   ✅ Saved to data/features_with_fundamentals/L_full.csv\n",
      "[394/503] ⏳ Getting fundamentals for EXC...\n",
      "   ✅ Saved to data/features_with_fundamentals/EXC_full.csv\n",
      "[395/503] ⏳ Getting fundamentals for C...\n",
      "   ✅ Saved to data/features_with_fundamentals/C_full.csv\n",
      "[396/503] ⏳ Getting fundamentals for INTC...\n",
      "   ✅ Saved to data/features_with_fundamentals/INTC_full.csv\n",
      "[397/503] ⏳ Getting fundamentals for DAY...\n",
      "   ✅ Saved to data/features_with_fundamentals/DAY_full.csv\n",
      "[398/503] ⏳ Getting fundamentals for SJM...\n",
      "   ✅ Saved to data/features_with_fundamentals/SJM_full.csv\n",
      "[399/503] ⏳ Getting fundamentals for EXE...\n",
      "   ✅ Saved to data/features_with_fundamentals/EXE_full.csv\n",
      "[400/503] ⏳ Getting fundamentals for NCLH...\n",
      "   ✅ Saved to data/features_with_fundamentals/NCLH_full.csv\n",
      "[401/503] ⏳ Getting fundamentals for TXT...\n",
      "   ✅ Saved to data/features_with_fundamentals/TXT_full.csv\n",
      "[402/503] ⏳ Getting fundamentals for SBAC...\n",
      "   ✅ Saved to data/features_with_fundamentals/SBAC_full.csv\n",
      "[403/503] ⏳ Getting fundamentals for LH...\n",
      "   ✅ Saved to data/features_with_fundamentals/LH_full.csv\n",
      "[404/503] ⏳ Getting fundamentals for ENPH...\n",
      "   ✅ Saved to data/features_with_fundamentals/ENPH_full.csv\n",
      "[405/503] ⏳ Getting fundamentals for AIG...\n",
      "   ✅ Saved to data/features_with_fundamentals/AIG_full.csv\n",
      "[406/503] ⏳ Getting fundamentals for WY...\n",
      "   ✅ Saved to data/features_with_fundamentals/WY_full.csv\n",
      "[407/503] ⏳ Getting fundamentals for QCOM...\n",
      "   ✅ Saved to data/features_with_fundamentals/QCOM_full.csv\n",
      "[408/503] ⏳ Getting fundamentals for NEE...\n",
      "   ✅ Saved to data/features_with_fundamentals/NEE_full.csv\n",
      "[409/503] ⏳ Getting fundamentals for AVY...\n",
      "   ✅ Saved to data/features_with_fundamentals/AVY_full.csv\n",
      "[410/503] ⏳ Getting fundamentals for URI...\n",
      "   ✅ Saved to data/features_with_fundamentals/URI_full.csv\n",
      "[411/503] ⏳ Getting fundamentals for AJG...\n",
      "   ✅ Saved to data/features_with_fundamentals/AJG_full.csv\n",
      "[412/503] ⏳ Getting fundamentals for INTU...\n",
      "   ✅ Saved to data/features_with_fundamentals/INTU_full.csv\n",
      "[413/503] ⏳ Getting fundamentals for MHK...\n",
      "   ✅ Saved to data/features_with_fundamentals/MHK_full.csv\n",
      "[414/503] ⏳ Getting fundamentals for JPM...\n",
      "   ✅ Saved to data/features_with_fundamentals/JPM_full.csv\n",
      "[415/503] ⏳ Getting fundamentals for JKHY...\n",
      "   ✅ Saved to data/features_with_fundamentals/JKHY_full.csv\n",
      "[416/503] ⏳ Getting fundamentals for DHR...\n",
      "   ✅ Saved to data/features_with_fundamentals/DHR_full.csv\n",
      "[417/503] ⏳ Getting fundamentals for FTNT...\n",
      "   ✅ Saved to data/features_with_fundamentals/FTNT_full.csv\n",
      "[418/503] ⏳ Getting fundamentals for AMD...\n",
      "   ✅ Saved to data/features_with_fundamentals/AMD_full.csv\n",
      "[419/503] ⏳ Getting fundamentals for MMC...\n",
      "   ✅ Saved to data/features_with_fundamentals/MMC_full.csv\n",
      "[420/503] ⏳ Getting fundamentals for FDS...\n",
      "   ✅ Saved to data/features_with_fundamentals/FDS_full.csv\n",
      "[421/503] ⏳ Getting fundamentals for SMCI...\n",
      "   ✅ Saved to data/features_with_fundamentals/SMCI_full.csv\n",
      "[422/503] ⏳ Getting fundamentals for CMG...\n",
      "   ✅ Saved to data/features_with_fundamentals/CMG_full.csv\n",
      "[423/503] ⏳ Getting fundamentals for CHRW...\n",
      "   ✅ Saved to data/features_with_fundamentals/CHRW_full.csv\n",
      "[424/503] ⏳ Getting fundamentals for AWK...\n",
      "   ✅ Saved to data/features_with_fundamentals/AWK_full.csv\n",
      "[425/503] ⏳ Getting fundamentals for DVN...\n",
      "   ✅ Saved to data/features_with_fundamentals/DVN_full.csv\n",
      "[426/503] ⏳ Getting fundamentals for FAST...\n",
      "   ✅ Saved to data/features_with_fundamentals/FAST_full.csv\n",
      "[427/503] ⏳ Getting fundamentals for MSI...\n",
      "   ✅ Saved to data/features_with_fundamentals/MSI_full.csv\n",
      "[428/503] ⏳ Getting fundamentals for TTD...\n",
      "   ✅ Saved to data/features_with_fundamentals/TTD_full.csv\n",
      "[429/503] ⏳ Getting fundamentals for PHM...\n",
      "   ✅ Saved to data/features_with_fundamentals/PHM_full.csv\n",
      "[430/503] ⏳ Getting fundamentals for CNP...\n",
      "   ✅ Saved to data/features_with_fundamentals/CNP_full.csv\n",
      "[431/503] ⏳ Getting fundamentals for TRV...\n",
      "   ✅ Saved to data/features_with_fundamentals/TRV_full.csv\n",
      "[432/503] ⏳ Getting fundamentals for EXPE...\n",
      "   ✅ Saved to data/features_with_fundamentals/EXPE_full.csv\n",
      "[433/503] ⏳ Getting fundamentals for IPG...\n",
      "   ✅ Saved to data/features_with_fundamentals/IPG_full.csv\n",
      "[434/503] ⏳ Getting fundamentals for DLTR...\n",
      "   ✅ Saved to data/features_with_fundamentals/DLTR_full.csv\n",
      "[435/503] ⏳ Getting fundamentals for INVH...\n",
      "   ✅ Saved to data/features_with_fundamentals/INVH_full.csv\n",
      "[436/503] ⏳ Getting fundamentals for WYNN...\n",
      "   ✅ Saved to data/features_with_fundamentals/WYNN_full.csv\n",
      "[437/503] ⏳ Getting fundamentals for SRE...\n",
      "   ✅ Saved to data/features_with_fundamentals/SRE_full.csv\n",
      "[438/503] ⏳ Getting fundamentals for LUV...\n",
      "   ✅ Saved to data/features_with_fundamentals/LUV_full.csv\n",
      "[439/503] ⏳ Getting fundamentals for GOOGL...\n",
      "   ✅ Saved to data/features_with_fundamentals/GOOGL_full.csv\n",
      "[440/503] ⏳ Getting fundamentals for PNW...\n",
      "   ✅ Saved to data/features_with_fundamentals/PNW_full.csv\n",
      "[441/503] ⏳ Getting fundamentals for CPRT...\n",
      "   ✅ Saved to data/features_with_fundamentals/CPRT_full.csv\n",
      "[442/503] ⏳ Getting fundamentals for BKNG...\n",
      "   ✅ Saved to data/features_with_fundamentals/BKNG_full.csv\n",
      "[443/503] ⏳ Getting fundamentals for NUE...\n",
      "   ✅ Saved to data/features_with_fundamentals/NUE_full.csv\n",
      "[444/503] ⏳ Getting fundamentals for BX...\n",
      "   ✅ Saved to data/features_with_fundamentals/BX_full.csv\n",
      "[445/503] ⏳ Getting fundamentals for KKR...\n",
      "   ✅ Saved to data/features_with_fundamentals/KKR_full.csv\n",
      "[446/503] ⏳ Getting fundamentals for CHD...\n",
      "   ✅ Saved to data/features_with_fundamentals/CHD_full.csv\n",
      "[447/503] ⏳ Getting fundamentals for WAB...\n",
      "   ✅ Saved to data/features_with_fundamentals/WAB_full.csv\n",
      "[448/503] ⏳ Getting fundamentals for WTW...\n",
      "   ✅ Saved to data/features_with_fundamentals/WTW_full.csv\n",
      "[449/503] ⏳ Getting fundamentals for BF-B...\n",
      "   ✅ Saved to data/features_with_fundamentals/BF-B_full.csv\n",
      "[450/503] ⏳ Getting fundamentals for LEN...\n",
      "   ✅ Saved to data/features_with_fundamentals/LEN_full.csv\n",
      "[451/503] ⏳ Getting fundamentals for DD...\n",
      "   ✅ Saved to data/features_with_fundamentals/DD_full.csv\n",
      "[452/503] ⏳ Getting fundamentals for WDAY...\n",
      "   ✅ Saved to data/features_with_fundamentals/WDAY_full.csv\n",
      "[453/503] ⏳ Getting fundamentals for MNST...\n",
      "   ✅ Saved to data/features_with_fundamentals/MNST_full.csv\n",
      "[454/503] ⏳ Getting fundamentals for MAR...\n",
      "   ✅ Saved to data/features_with_fundamentals/MAR_full.csv\n",
      "[455/503] ⏳ Getting fundamentals for BDX...\n",
      "   ✅ Saved to data/features_with_fundamentals/BDX_full.csv\n",
      "[456/503] ⏳ Getting fundamentals for BAX...\n",
      "   ✅ Saved to data/features_with_fundamentals/BAX_full.csv\n",
      "[457/503] ⏳ Getting fundamentals for AVB...\n",
      "   ✅ Saved to data/features_with_fundamentals/AVB_full.csv\n",
      "[458/503] ⏳ Getting fundamentals for FOXA...\n",
      "   ✅ Saved to data/features_with_fundamentals/FOXA_full.csv\n",
      "[459/503] ⏳ Getting fundamentals for COIN...\n",
      "   ✅ Saved to data/features_with_fundamentals/COIN_full.csv\n",
      "[460/503] ⏳ Getting fundamentals for ROST...\n",
      "   ✅ Saved to data/features_with_fundamentals/ROST_full.csv\n",
      "[461/503] ⏳ Getting fundamentals for KMB...\n",
      "   ✅ Saved to data/features_with_fundamentals/KMB_full.csv\n",
      "[462/503] ⏳ Getting fundamentals for ZTS...\n",
      "   ✅ Saved to data/features_with_fundamentals/ZTS_full.csv\n",
      "[463/503] ⏳ Getting fundamentals for SBUX...\n",
      "   ✅ Saved to data/features_with_fundamentals/SBUX_full.csv\n",
      "[464/503] ⏳ Getting fundamentals for COF...\n",
      "   ✅ Saved to data/features_with_fundamentals/COF_full.csv\n",
      "[465/503] ⏳ Getting fundamentals for OTIS...\n",
      "   ✅ Saved to data/features_with_fundamentals/OTIS_full.csv\n",
      "[466/503] ⏳ Getting fundamentals for AAPL...\n",
      "   ✅ Saved to data/features_with_fundamentals/AAPL_full.csv\n",
      "[467/503] ⏳ Getting fundamentals for HPE...\n",
      "   ✅ Saved to data/features_with_fundamentals/HPE_full.csv\n",
      "[468/503] ⏳ Getting fundamentals for WM...\n",
      "   ✅ Saved to data/features_with_fundamentals/WM_full.csv\n",
      "[469/503] ⏳ Getting fundamentals for RJF...\n",
      "   ✅ Saved to data/features_with_fundamentals/RJF_full.csv\n",
      "[470/503] ⏳ Getting fundamentals for COP...\n",
      "   ✅ Saved to data/features_with_fundamentals/COP_full.csv\n",
      "[471/503] ⏳ Getting fundamentals for IDXX...\n",
      "   ✅ Saved to data/features_with_fundamentals/IDXX_full.csv\n",
      "[472/503] ⏳ Getting fundamentals for STT...\n",
      "   ✅ Saved to data/features_with_fundamentals/STT_full.csv\n",
      "[473/503] ⏳ Getting fundamentals for ROL...\n",
      "   ✅ Saved to data/features_with_fundamentals/ROL_full.csv\n",
      "[474/503] ⏳ Getting fundamentals for FOX...\n",
      "   ✅ Saved to data/features_with_fundamentals/FOX_full.csv\n",
      "[475/503] ⏳ Getting fundamentals for ITW...\n",
      "   ✅ Saved to data/features_with_fundamentals/ITW_full.csv\n",
      "[476/503] ⏳ Getting fundamentals for SYF...\n",
      "   ✅ Saved to data/features_with_fundamentals/SYF_full.csv\n",
      "[477/503] ⏳ Getting fundamentals for VLO...\n",
      "   ✅ Saved to data/features_with_fundamentals/VLO_full.csv\n",
      "[478/503] ⏳ Getting fundamentals for FE...\n",
      "   ✅ Saved to data/features_with_fundamentals/FE_full.csv\n",
      "[479/503] ⏳ Getting fundamentals for DUK...\n",
      "   ✅ Saved to data/features_with_fundamentals/DUK_full.csv\n",
      "[480/503] ⏳ Getting fundamentals for MA...\n",
      "   ✅ Saved to data/features_with_fundamentals/MA_full.csv\n",
      "[481/503] ⏳ Getting fundamentals for EVRG...\n",
      "   ✅ Saved to data/features_with_fundamentals/EVRG_full.csv\n",
      "[482/503] ⏳ Getting fundamentals for HCA...\n",
      "   ✅ Saved to data/features_with_fundamentals/HCA_full.csv\n",
      "[483/503] ⏳ Getting fundamentals for EMR...\n",
      "   ✅ Saved to data/features_with_fundamentals/EMR_full.csv\n",
      "[484/503] ⏳ Getting fundamentals for PH...\n",
      "   ✅ Saved to data/features_with_fundamentals/PH_full.csv\n",
      "[485/503] ⏳ Getting fundamentals for EG...\n",
      "   ✅ Saved to data/features_with_fundamentals/EG_full.csv\n",
      "[486/503] ⏳ Getting fundamentals for HON...\n",
      "   ✅ Saved to data/features_with_fundamentals/HON_full.csv\n",
      "[487/503] ⏳ Getting fundamentals for PPG...\n",
      "   ✅ Saved to data/features_with_fundamentals/PPG_full.csv\n",
      "[488/503] ⏳ Getting fundamentals for FANG...\n",
      "   ✅ Saved to data/features_with_fundamentals/FANG_full.csv\n",
      "[489/503] ⏳ Getting fundamentals for TAP...\n",
      "   ✅ Saved to data/features_with_fundamentals/TAP_full.csv\n",
      "[490/503] ⏳ Getting fundamentals for YUM...\n",
      "   ✅ Saved to data/features_with_fundamentals/YUM_full.csv\n",
      "[491/503] ⏳ Getting fundamentals for WAT...\n",
      "   ✅ Saved to data/features_with_fundamentals/WAT_full.csv\n",
      "[492/503] ⏳ Getting fundamentals for XOM...\n",
      "   ✅ Saved to data/features_with_fundamentals/XOM_full.csv\n",
      "[493/503] ⏳ Getting fundamentals for APA...\n",
      "   ✅ Saved to data/features_with_fundamentals/APA_full.csv\n",
      "[494/503] ⏳ Getting fundamentals for REG...\n",
      "   ✅ Saved to data/features_with_fundamentals/REG_full.csv\n",
      "[495/503] ⏳ Getting fundamentals for MOH...\n",
      "   ✅ Saved to data/features_with_fundamentals/MOH_full.csv\n",
      "[496/503] ⏳ Getting fundamentals for HST...\n",
      "   ✅ Saved to data/features_with_fundamentals/HST_full.csv\n",
      "[497/503] ⏳ Getting fundamentals for FI...\n",
      "   ✅ Saved to data/features_with_fundamentals/FI_full.csv\n",
      "[498/503] ⏳ Getting fundamentals for MTB...\n",
      "   ✅ Saved to data/features_with_fundamentals/MTB_full.csv\n",
      "[499/503] ⏳ Getting fundamentals for FICO...\n",
      "   ✅ Saved to data/features_with_fundamentals/FICO_full.csv\n",
      "[500/503] ⏳ Getting fundamentals for AXP...\n",
      "   ✅ Saved to data/features_with_fundamentals/AXP_full.csv\n",
      "[501/503] ⏳ Getting fundamentals for STE...\n",
      "   ✅ Saved to data/features_with_fundamentals/STE_full.csv\n",
      "[502/503] ⏳ Getting fundamentals for BEN...\n",
      "   ✅ Saved to data/features_with_fundamentals/BEN_full.csv\n",
      "[503/503] ⏳ Getting fundamentals for LKQ...\n",
      "   ✅ Saved to data/features_with_fundamentals/LKQ_full.csv\n"
     ]
    },
    {
     "data": {
      "text/html": [
       "<div>\n",
       "<style scoped>\n",
       "    .dataframe tbody tr th:only-of-type {\n",
       "        vertical-align: middle;\n",
       "    }\n",
       "\n",
       "    .dataframe tbody tr th {\n",
       "        vertical-align: top;\n",
       "    }\n",
       "\n",
       "    .dataframe thead th {\n",
       "        text-align: right;\n",
       "    }\n",
       "</style>\n",
       "<table border=\"1\" class=\"dataframe\">\n",
       "  <thead>\n",
       "    <tr style=\"text-align: right;\">\n",
       "      <th></th>\n",
       "      <th>Ticker</th>\n",
       "      <th>EPS_TTM_avail</th>\n",
       "      <th>MarketCap_avail</th>\n",
       "      <th>PE_avail</th>\n",
       "      <th>DivYield_avail</th>\n",
       "    </tr>\n",
       "  </thead>\n",
       "  <tbody>\n",
       "    <tr>\n",
       "      <th>0</th>\n",
       "      <td>PFE</td>\n",
       "      <td>0.299404</td>\n",
       "      <td>1.0</td>\n",
       "      <td>1.0</td>\n",
       "      <td>1.0</td>\n",
       "    </tr>\n",
       "    <tr>\n",
       "      <th>1</th>\n",
       "      <td>WBD</td>\n",
       "      <td>0.299404</td>\n",
       "      <td>1.0</td>\n",
       "      <td>1.0</td>\n",
       "      <td>0.0</td>\n",
       "    </tr>\n",
       "    <tr>\n",
       "      <th>2</th>\n",
       "      <td>SYK</td>\n",
       "      <td>0.299404</td>\n",
       "      <td>1.0</td>\n",
       "      <td>1.0</td>\n",
       "      <td>1.0</td>\n",
       "    </tr>\n",
       "    <tr>\n",
       "      <th>3</th>\n",
       "      <td>KEY</td>\n",
       "      <td>0.299404</td>\n",
       "      <td>1.0</td>\n",
       "      <td>0.0</td>\n",
       "      <td>1.0</td>\n",
       "    </tr>\n",
       "    <tr>\n",
       "      <th>4</th>\n",
       "      <td>SNPS</td>\n",
       "      <td>0.216302</td>\n",
       "      <td>1.0</td>\n",
       "      <td>1.0</td>\n",
       "      <td>0.0</td>\n",
       "    </tr>\n",
       "    <tr>\n",
       "      <th>...</th>\n",
       "      <td>...</td>\n",
       "      <td>...</td>\n",
       "      <td>...</td>\n",
       "      <td>...</td>\n",
       "      <td>...</td>\n",
       "    </tr>\n",
       "    <tr>\n",
       "      <th>456</th>\n",
       "      <td>FICO</td>\n",
       "      <td>0.324851</td>\n",
       "      <td>1.0</td>\n",
       "      <td>1.0</td>\n",
       "      <td>0.0</td>\n",
       "    </tr>\n",
       "    <tr>\n",
       "      <th>457</th>\n",
       "      <td>AXP</td>\n",
       "      <td>0.299404</td>\n",
       "      <td>1.0</td>\n",
       "      <td>1.0</td>\n",
       "      <td>1.0</td>\n",
       "    </tr>\n",
       "    <tr>\n",
       "      <th>458</th>\n",
       "      <td>STE</td>\n",
       "      <td>0.274751</td>\n",
       "      <td>1.0</td>\n",
       "      <td>1.0</td>\n",
       "      <td>1.0</td>\n",
       "    </tr>\n",
       "    <tr>\n",
       "      <th>459</th>\n",
       "      <td>BEN</td>\n",
       "      <td>0.324851</td>\n",
       "      <td>1.0</td>\n",
       "      <td>1.0</td>\n",
       "      <td>1.0</td>\n",
       "    </tr>\n",
       "    <tr>\n",
       "      <th>460</th>\n",
       "      <td>LKQ</td>\n",
       "      <td>0.299404</td>\n",
       "      <td>1.0</td>\n",
       "      <td>1.0</td>\n",
       "      <td>1.0</td>\n",
       "    </tr>\n",
       "  </tbody>\n",
       "</table>\n",
       "<p>461 rows × 5 columns</p>\n",
       "</div>"
      ],
      "text/plain": [
       "    Ticker  EPS_TTM_avail  MarketCap_avail  PE_avail  DivYield_avail\n",
       "0      PFE       0.299404              1.0       1.0             1.0\n",
       "1      WBD       0.299404              1.0       1.0             0.0\n",
       "2      SYK       0.299404              1.0       1.0             1.0\n",
       "3      KEY       0.299404              1.0       0.0             1.0\n",
       "4     SNPS       0.216302              1.0       1.0             0.0\n",
       "..     ...            ...              ...       ...             ...\n",
       "456   FICO       0.324851              1.0       1.0             0.0\n",
       "457    AXP       0.299404              1.0       1.0             1.0\n",
       "458    STE       0.274751              1.0       1.0             1.0\n",
       "459    BEN       0.324851              1.0       1.0             1.0\n",
       "460    LKQ       0.299404              1.0       1.0             1.0\n",
       "\n",
       "[461 rows x 5 columns]"
      ]
     },
     "execution_count": 2,
     "metadata": {},
     "output_type": "execute_result"
    }
   ],
   "source": [
    "extract_and_merge_fundamentals()"
   ]
  },
  {
   "cell_type": "code",
   "execution_count": 3,
   "id": "50fe4e5c",
   "metadata": {},
   "outputs": [],
   "source": [
    "# Re-import required packages after state reset\n",
    "import pandas as pd\n",
    "import numpy as np\n",
    "import os\n",
    "\n",
    "def generate_labels_from_fundamentals(input_dir=\"data/features_with_fundamentals\",\n",
    "                                      output_dir=\"data/labeled_features\",\n",
    "                                      horizon=5, vol_window=20, min_vol_threshold=0.005):\n",
    "    os.makedirs(output_dir, exist_ok=True)\n",
    "    files = [f for f in os.listdir(input_dir) if f.endswith(\"_full.csv\")]\n",
    "    summary_stats = []\n",
    "\n",
    "    for i, file in enumerate(files):\n",
    "        ticker = file.replace(\"_full.csv\", \"\")\n",
    "        input_path = os.path.join(input_dir, file)\n",
    "        output_path = os.path.join(output_dir, f\"{ticker}_labeled.csv\")\n",
    "\n",
    "        try:\n",
    "            df = pd.read_csv(input_path, parse_dates=['Date'])\n",
    "            df.set_index('Date', inplace=True)\n",
    "            df.sort_index(inplace=True)\n",
    "\n",
    "            # Step 1: Compute log returns\n",
    "            df['LogReturn'] = np.log(df['Close'] / df['Close'].shift(1))\n",
    "\n",
    "            # Step 2: Estimate rolling volatility (past 20 days)\n",
    "            df['RollingVol'] = df['LogReturn'].rolling(vol_window).std()\n",
    "\n",
    "            # Step 3: Compute forward return over horizon\n",
    "            df['ForwardReturn'] = df['Close'].shift(-horizon) / df['Close'] - 1\n",
    "\n",
    "            # Step 4: Apply minimum volatility threshold\n",
    "            df['VolThreshold'] = df['RollingVol'].clip(lower=min_vol_threshold)\n",
    "\n",
    "            # Step 5: Assign label\n",
    "            def label_row(row):\n",
    "                if pd.isna(row['ForwardReturn']) or pd.isna(row['VolThreshold']):\n",
    "                    return np.nan\n",
    "                if row['ForwardReturn'] <= -row['VolThreshold']:\n",
    "                    return \"down\"\n",
    "                elif row['ForwardReturn'] >= row['VolThreshold']:\n",
    "                    return \"up\"\n",
    "                else:\n",
    "                    return \"flat\"\n",
    "\n",
    "            df['Label'] = df.apply(label_row, axis=1)\n",
    "\n",
    "            # Save labeled file\n",
    "            df.reset_index().to_csv(output_path, index=False)\n",
    "\n",
    "            # Collect label distribution stats\n",
    "            label_counts = df['Label'].value_counts(normalize=True).to_dict()\n",
    "            summary_stats.append({\n",
    "                \"Ticker\": ticker,\n",
    "                \"Up_pct\": label_counts.get(\"up\", 0.0),\n",
    "                \"Down_pct\": label_counts.get(\"down\", 0.0),\n",
    "                \"Flat_pct\": label_counts.get(\"flat\", 0.0),\n",
    "                \"Total\": df['Label'].notna().sum()\n",
    "            })\n",
    "\n",
    "            print(f\"[{i+1}/{len(files)}] ✅ Labeled {ticker}: {df['Label'].notna().sum()} samples\")\n",
    "\n",
    "        except Exception as e:\n",
    "            print(f\"[{i+1}/{len(files)}] ❌ Failed for {ticker}: {e}\")\n",
    "\n",
    "    return pd.DataFrame(summary_stats)"
   ]
  },
  {
   "cell_type": "code",
   "execution_count": 4,
   "id": "102a118b",
   "metadata": {},
   "outputs": [
    {
     "name": "stdout",
     "output_type": "stream",
     "text": [
      "[1/503] ✅ Labeled KDP: 2490 samples\n",
      "[2/503] ✅ Labeled MPC: 2490 samples\n",
      "[3/503] ✅ Labeled AVY: 2490 samples\n",
      "[4/503] ✅ Labeled D: 2490 samples\n",
      "[5/503] ✅ Labeled ADBE: 2490 samples\n",
      "[6/503] ✅ Labeled HWM: 2028 samples\n",
      "[7/503] ✅ Labeled ANET: 2490 samples\n",
      "[8/503] ✅ Labeled AMD: 2490 samples\n",
      "[9/503] ✅ Labeled MSI: 2490 samples\n",
      "[10/503] ✅ Labeled GEN: 2490 samples\n",
      "[11/503] ✅ Labeled EQT: 2490 samples\n",
      "[12/503] ✅ Labeled VICI: 1735 samples\n",
      "[13/503] ✅ Labeled CI: 2490 samples\n",
      "[14/503] ✅ Labeled PHM: 2490 samples\n",
      "[15/503] ✅ Labeled AEP: 2490 samples\n",
      "[16/503] ✅ Labeled ODFL: 2490 samples\n",
      "[17/503] ✅ Labeled DECK: 2490 samples\n",
      "[18/503] ✅ Labeled EVRG: 2490 samples\n",
      "[19/503] ✅ Labeled DVN: 2490 samples\n",
      "[20/503] ✅ Labeled GNRC: 2490 samples\n",
      "[21/503] ✅ Labeled STX: 2490 samples\n",
      "[22/503] ✅ Labeled FSLR: 2490 samples\n",
      "[23/503] ✅ Labeled LHX: 2490 samples\n",
      "[24/503] ✅ Labeled MKC: 2490 samples\n",
      "[25/503] ✅ Labeled MO: 2490 samples\n",
      "[26/503] ✅ Labeled PAYC: 2490 samples\n",
      "[27/503] ✅ Labeled TGT: 2490 samples\n",
      "[28/503] ✅ Labeled NWSA: 2490 samples\n",
      "[29/503] ✅ Labeled BAC: 2490 samples\n",
      "[30/503] ✅ Labeled TRGP: 2490 samples\n",
      "[31/503] ✅ Labeled UPS: 2490 samples\n",
      "[32/503] ✅ Labeled ADP: 2490 samples\n",
      "[33/503] ✅ Labeled NDAQ: 2490 samples\n",
      "[34/503] ✅ Labeled DUK: 2490 samples\n",
      "[35/503] ✅ Labeled OXY: 2490 samples\n",
      "[36/503] ✅ Labeled PYPL: 2364 samples\n",
      "[37/503] ✅ Labeled AES: 2490 samples\n",
      "[38/503] ✅ Labeled AME: 2490 samples\n",
      "[39/503] ✅ Labeled DIS: 2490 samples\n",
      "[40/503] ✅ Labeled WSM: 2490 samples\n",
      "[41/503] ✅ Labeled UNP: 2490 samples\n",
      "[42/503] ✅ Labeled DOW: 1431 samples\n",
      "[43/503] ✅ Labeled SW: 2490 samples\n",
      "[44/503] ✅ Labeled VTR: 2490 samples\n",
      "[45/503] ✅ Labeled CHRW: 2490 samples\n",
      "[46/503] ✅ Labeled TYL: 2490 samples\n",
      "[47/503] ✅ Labeled VLTO: 287 samples\n",
      "[48/503] ✅ Labeled GM: 2490 samples\n",
      "[49/503] ✅ Labeled DAL: 2490 samples\n",
      "[50/503] ✅ Labeled HLT: 2490 samples\n",
      "[51/503] ✅ Labeled CVS: 2490 samples\n",
      "[52/503] ✅ Labeled XOM: 2490 samples\n",
      "[53/503] ✅ Labeled MGM: 2490 samples\n",
      "[54/503] ✅ Labeled GWW: 2490 samples\n",
      "[55/503] ✅ Labeled CDW: 2490 samples\n",
      "[56/503] ✅ Labeled AMZN: 2490 samples\n",
      "[57/503] ✅ Labeled WST: 2490 samples\n",
      "[58/503] ✅ Labeled CFG: 2490 samples\n",
      "[59/503] ✅ Labeled MET: 2490 samples\n",
      "[60/503] ✅ Labeled NOC: 2490 samples\n",
      "[61/503] ✅ Labeled IDXX: 2490 samples\n",
      "[62/503] ✅ Labeled IT: 2490 samples\n",
      "[63/503] ✅ Labeled BRO: 2490 samples\n",
      "[64/503] ✅ Labeled SBUX: 2490 samples\n",
      "[65/503] ✅ Labeled INTC: 2490 samples\n",
      "[66/503] ✅ Labeled PEP: 2490 samples\n",
      "[67/503] ✅ Labeled AFL: 2490 samples\n",
      "[68/503] ✅ Labeled LYB: 2490 samples\n",
      "[69/503] ✅ Labeled TECH: 2490 samples\n",
      "[70/503] ✅ Labeled CRM: 2490 samples\n",
      "[71/503] ✅ Labeled FICO: 2490 samples\n",
      "[72/503] ✅ Labeled LNT: 2490 samples\n",
      "[73/503] ✅ Labeled IVZ: 2490 samples\n",
      "[74/503] ✅ Labeled WELL: 2490 samples\n",
      "[75/503] ✅ Labeled DAY: 1656 samples\n",
      "[76/503] ✅ Labeled PAYX: 2490 samples\n",
      "[77/503] ✅ Labeled NTAP: 2490 samples\n",
      "[78/503] ✅ Labeled HCA: 2490 samples\n",
      "[79/503] ✅ Labeled CL: 2490 samples\n",
      "[80/503] ✅ Labeled MTB: 2490 samples\n",
      "[81/503] ✅ Labeled CSCO: 2490 samples\n",
      "[82/503] ✅ Labeled DD: 2490 samples\n",
      "[83/503] ✅ Labeled PPL: 2490 samples\n",
      "[84/503] ✅ Labeled SO: 2490 samples\n",
      "[85/503] ✅ Labeled RMD: 2490 samples\n",
      "[86/503] ✅ Labeled EMN: 2490 samples\n",
      "[87/503] ✅ Labeled UAL: 2490 samples\n",
      "[88/503] ✅ Labeled PLD: 2490 samples\n",
      "[89/503] ✅ Labeled LDOS: 2490 samples\n",
      "[90/503] ✅ Labeled KLAC: 2490 samples\n",
      "[91/503] ✅ Labeled PFE: 2490 samples\n",
      "[92/503] ✅ Labeled SWKS: 2490 samples\n",
      "[93/503] ✅ Labeled EBAY: 2490 samples\n",
      "[94/503] ✅ Labeled ON: 2490 samples\n",
      "[95/503] ✅ Labeled ISRG: 2490 samples\n",
      "[96/503] ✅ Labeled ABT: 2490 samples\n",
      "[97/503] ✅ Labeled NUE: 2490 samples\n",
      "[98/503] ✅ Labeled MLM: 2490 samples\n",
      "[99/503] ✅ Labeled META: 2490 samples\n",
      "[100/503] ✅ Labeled ZTS: 2490 samples\n",
      "[101/503] ✅ Labeled CTSH: 2490 samples\n",
      "[102/503] ✅ Labeled ROST: 2490 samples\n",
      "[103/503] ✅ Labeled AVGO: 2490 samples\n",
      "[104/503] ✅ Labeled CSX: 2490 samples\n",
      "[105/503] ✅ Labeled LEN: 2490 samples\n",
      "[106/503] ✅ Labeled ABNB: 994 samples\n",
      "[107/503] ✅ Labeled APO: 2490 samples\n",
      "[108/503] ✅ Labeled HBAN: 2490 samples\n",
      "[109/503] ✅ Labeled WY: 2490 samples\n",
      "[110/503] ✅ Labeled REG: 2490 samples\n",
      "[111/503] ✅ Labeled ADSK: 2490 samples\n",
      "[112/503] ✅ Labeled TRMB: 2490 samples\n",
      "[113/503] ✅ Labeled WEC: 2490 samples\n",
      "[114/503] ✅ Labeled AZO: 2490 samples\n",
      "[115/503] ✅ Labeled HAS: 2490 samples\n",
      "[116/503] ✅ Labeled ALL: 2490 samples\n",
      "[117/503] ✅ Labeled KR: 2490 samples\n",
      "[118/503] ✅ Labeled UNH: 2490 samples\n",
      "[119/503] ✅ Labeled LH: 2490 samples\n",
      "[120/503] ✅ Labeled DOC: 2490 samples\n",
      "[121/503] ✅ Labeled AIG: 2490 samples\n",
      "[122/503] ✅ Labeled DG: 2490 samples\n",
      "[123/503] ✅ Labeled TTWO: 2490 samples\n",
      "[124/503] ✅ Labeled J: 2490 samples\n",
      "[125/503] ✅ Labeled TSCO: 2490 samples\n",
      "[126/503] ✅ Labeled RCL: 2490 samples\n",
      "[127/503] ✅ Labeled LMT: 2490 samples\n",
      "[128/503] ✅ Labeled PG: 2490 samples\n",
      "[129/503] ✅ Labeled FIS: 2490 samples\n",
      "[130/503] ✅ Labeled TSLA: 2490 samples\n",
      "[131/503] ✅ Labeled IPG: 2490 samples\n",
      "[132/503] ✅ Labeled PCAR: 2490 samples\n",
      "[133/503] ✅ Labeled TPL: 2490 samples\n",
      "[134/503] ✅ Labeled MA: 2490 samples\n",
      "[135/503] ✅ Labeled ROK: 2490 samples\n",
      "[136/503] ✅ Labeled WTW: 2490 samples\n",
      "[137/503] ✅ Labeled EXC: 2490 samples\n",
      "[138/503] ✅ Labeled O: 2490 samples\n",
      "[139/503] ✅ Labeled LIN: 2490 samples\n",
      "[140/503] ✅ Labeled GOOGL: 2490 samples\n",
      "[141/503] ✅ Labeled WAB: 2490 samples\n",
      "[142/503] ✅ Labeled MAS: 2490 samples\n",
      "[143/503] ✅ Labeled HSY: 2490 samples\n",
      "[144/503] ✅ Labeled BF-B: 2490 samples\n",
      "[145/503] ✅ Labeled CCL: 2490 samples\n",
      "[146/503] ✅ Labeled SOLV: 168 samples\n",
      "[147/503] ✅ Labeled ABBV: 2490 samples\n",
      "[148/503] ✅ Labeled INVH: 1966 samples\n",
      "[149/503] ✅ Labeled DXCM: 2490 samples\n",
      "[150/503] ✅ Labeled FFIV: 2490 samples\n",
      "[151/503] ✅ Labeled IQV: 2490 samples\n",
      "[152/503] ✅ Labeled CAT: 2490 samples\n",
      "[153/503] ✅ Labeled CNC: 2490 samples\n",
      "[154/503] ✅ Labeled BAX: 2490 samples\n",
      "[155/503] ✅ Labeled MRNA: 1500 samples\n",
      "[156/503] ✅ Labeled USB: 2490 samples\n",
      "[157/503] ✅ Labeled SMCI: 2490 samples\n",
      "[158/503] ✅ Labeled PSA: 2490 samples\n",
      "[159/503] ✅ Labeled MOS: 2490 samples\n",
      "[160/503] ✅ Labeled PANW: 2490 samples\n",
      "[161/503] ✅ Labeled NCLH: 2490 samples\n",
      "[162/503] ✅ Labeled VRSK: 2490 samples\n",
      "[163/503] ✅ Labeled NKE: 2490 samples\n",
      "[164/503] ✅ Labeled ECL: 2490 samples\n",
      "[165/503] ✅ Labeled WYNN: 2490 samples\n",
      "[166/503] ✅ Labeled EW: 2490 samples\n",
      "[167/503] ✅ Labeled AMT: 2490 samples\n",
      "[168/503] ✅ Labeled GE: 2490 samples\n",
      "[169/503] ✅ Labeled BKR: 2490 samples\n",
      "[170/503] ✅ Labeled MSCI: 2490 samples\n",
      "[171/503] ✅ Labeled COF: 2490 samples\n",
      "[172/503] ✅ Labeled AWK: 2490 samples\n",
      "[173/503] ✅ Labeled PFG: 2490 samples\n",
      "[174/503] ✅ Labeled BMY: 2490 samples\n",
      "[175/503] ✅ Labeled EPAM: 2490 samples\n",
      "[176/503] ✅ Labeled IP: 2490 samples\n",
      "[177/503] ✅ Labeled ORCL: 2490 samples\n",
      "[178/503] ✅ Labeled KEY: 2490 samples\n",
      "[179/503] ✅ Labeled EXPD: 2490 samples\n",
      "[180/503] ✅ Labeled APH: 2490 samples\n",
      "[181/503] ✅ Labeled HD: 2490 samples\n",
      "[182/503] ✅ Labeled NOW: 2490 samples\n",
      "[183/503] ✅ Labeled FITB: 2490 samples\n",
      "[184/503] ✅ Labeled FAST: 2490 samples\n",
      "[185/503] ✅ Labeled AMP: 2490 samples\n",
      "[186/503] ✅ Labeled C: 2490 samples\n",
      "[187/503] ✅ Labeled MCK: 2490 samples\n",
      "[188/503] ✅ Labeled HPQ: 2490 samples\n",
      "[189/503] ✅ Labeled V: 2490 samples\n",
      "[190/503] ✅ Labeled STZ: 2490 samples\n",
      "[191/503] ✅ Labeled IFF: 2490 samples\n",
      "[192/503] ✅ Labeled KIM: 2490 samples\n",
      "[193/503] ✅ Labeled WMB: 2490 samples\n",
      "[194/503] ✅ Labeled BXP: 2490 samples\n",
      "[195/503] ✅ Labeled BK: 2490 samples\n",
      "[196/503] ✅ Labeled SNPS: 2490 samples\n",
      "[197/503] ✅ Labeled AEE: 2490 samples\n",
      "[198/503] ✅ Labeled HIG: 2490 samples\n",
      "[199/503] ✅ Labeled ICE: 2490 samples\n",
      "[200/503] ✅ Labeled MS: 2490 samples\n",
      "[201/503] ✅ Labeled NEE: 2490 samples\n",
      "[202/503] ✅ Labeled FTNT: 2490 samples\n",
      "[203/503] ✅ Labeled COR: 2490 samples\n",
      "[204/503] ✅ Labeled GOOG: 2490 samples\n",
      "[205/503] ✅ Labeled SYF: 2490 samples\n",
      "[206/503] ✅ Labeled TDY: 2490 samples\n",
      "[207/503] ✅ Labeled WM: 2490 samples\n",
      "[208/503] ✅ Labeled FDS: 2490 samples\n",
      "[209/503] ✅ Labeled NTRS: 2490 samples\n",
      "[210/503] ✅ Labeled VZ: 2490 samples\n",
      "[211/503] ✅ Labeled AMCR: 2490 samples\n",
      "[212/503] ✅ Labeled WDAY: 2490 samples\n",
      "[213/503] ✅ Labeled TER: 2490 samples\n",
      "[214/503] ✅ Labeled CHTR: 2490 samples\n",
      "[215/503] ✅ Labeled LVS: 2490 samples\n",
      "[216/503] ✅ Labeled PRU: 2490 samples\n",
      "[217/503] ✅ Labeled AXON: 2490 samples\n",
      "[218/503] ✅ Labeled FTV: 2112 samples\n",
      "[219/503] ✅ Labeled SYY: 2490 samples\n",
      "[220/503] ✅ Labeled JPM: 2490 samples\n",
      "[221/503] ✅ Labeled PPG: 2490 samples\n",
      "[222/503] ✅ Labeled MTCH: 2490 samples\n",
      "[223/503] ✅ Labeled CMS: 2490 samples\n",
      "[224/503] ✅ Labeled COST: 2490 samples\n",
      "[225/503] ✅ Labeled MPWR: 2490 samples\n",
      "[226/503] ✅ Labeled DTE: 2490 samples\n",
      "[227/503] ✅ Labeled MMM: 2490 samples\n",
      "[228/503] ✅ Labeled COO: 2490 samples\n",
      "[229/503] ✅ Labeled OTIS: 1179 samples\n",
      "[230/503] ✅ Labeled LKQ: 2490 samples\n",
      "[231/503] ✅ Labeled DHR: 2490 samples\n",
      "[232/503] ✅ Labeled TMUS: 2490 samples\n",
      "[233/503] ✅ Labeled ACN: 2490 samples\n",
      "[234/503] ✅ Labeled BSX: 2490 samples\n",
      "[235/503] ✅ Labeled FRT: 2490 samples\n",
      "[236/503] ✅ Labeled CHD: 2490 samples\n",
      "[237/503] ✅ Labeled EXPE: 2490 samples\n",
      "[238/503] ✅ Labeled GLW: 2490 samples\n",
      "[239/503] ✅ Labeled CAH: 2490 samples\n",
      "[240/503] ✅ Labeled MRK: 2490 samples\n",
      "[241/503] ✅ Labeled K: 2490 samples\n",
      "[242/503] ✅ Labeled KHC: 2364 samples\n",
      "[243/503] ✅ Labeled AOS: 2490 samples\n",
      "[244/503] ✅ Labeled ATO: 2490 samples\n",
      "[245/503] ✅ Labeled KKR: 2490 samples\n",
      "[246/503] ✅ Labeled MMC: 2490 samples\n",
      "[247/503] ✅ Labeled SJM: 2490 samples\n",
      "[248/503] ✅ Labeled GPC: 2490 samples\n",
      "[249/503] ✅ Labeled JBHT: 2490 samples\n",
      "[250/503] ✅ Labeled CB: 2490 samples\n",
      "[251/503] ✅ Labeled XYL: 2490 samples\n",
      "[252/503] ✅ Labeled FCX: 2490 samples\n",
      "[253/503] ✅ Labeled ZBH: 2490 samples\n",
      "[254/503] ✅ Labeled EFX: 2490 samples\n",
      "[255/503] ✅ Labeled APA: 2490 samples\n",
      "[256/503] ✅ Labeled GL: 2490 samples\n",
      "[257/503] ✅ Labeled HON: 2490 samples\n",
      "[258/503] ✅ Labeled VMC: 2490 samples\n",
      "[259/503] ✅ Labeled JKHY: 2490 samples\n",
      "[260/503] ✅ Labeled LW: 2021 samples\n",
      "[261/503] ✅ Labeled DHI: 2490 samples\n",
      "[262/503] ✅ Labeled TMO: 2490 samples\n",
      "[263/503] ✅ Labeled MCO: 2490 samples\n",
      "[264/503] ✅ Labeled GILD: 2490 samples\n",
      "[265/503] ✅ Labeled ZBRA: 2490 samples\n",
      "[266/503] ✅ Labeled CEG: 716 samples\n",
      "[267/503] ✅ Labeled MDT: 2490 samples\n",
      "[268/503] ✅ Labeled PLTR: 1044 samples\n",
      "[269/503] ✅ Labeled CMG: 2490 samples\n",
      "[270/503] ✅ Labeled IBM: 2490 samples\n",
      "[271/503] ✅ Labeled UDR: 2490 samples\n",
      "[272/503] ✅ Labeled DE: 2490 samples\n",
      "[273/503] ✅ Labeled DOV: 2490 samples\n",
      "[274/503] ✅ Labeled MKTX: 2490 samples\n",
      "[275/503] ✅ Labeled GRMN: 2490 samples\n",
      "[276/503] ✅ Labeled CBRE: 2490 samples\n",
      "[277/503] ✅ Labeled DGX: 2490 samples\n",
      "[278/503] ✅ Labeled RF: 2490 samples\n",
      "[279/503] ✅ Labeled LII: 2490 samples\n",
      "[280/503] ✅ Labeled SNA: 2490 samples\n",
      "[281/503] ✅ Labeled ADM: 2490 samples\n",
      "[282/503] ✅ Labeled PSX: 2490 samples\n",
      "[283/503] ✅ Labeled CPRT: 2490 samples\n",
      "[284/503] ✅ Labeled JBL: 2490 samples\n",
      "[285/503] ✅ Labeled TROW: 2490 samples\n",
      "[286/503] ✅ Labeled UBER: 1395 samples\n",
      "[287/503] ✅ Labeled GEV: 167 samples\n",
      "[288/503] ✅ Labeled WAT: 2490 samples\n",
      "[289/503] ✅ Labeled AIZ: 2490 samples\n",
      "[290/503] ✅ Labeled DPZ: 2490 samples\n",
      "[291/503] ✅ Labeled PCG: 2490 samples\n",
      "[292/503] ✅ Labeled ETR: 2490 samples\n",
      "[293/503] ✅ Labeled TJX: 2490 samples\n",
      "[294/503] ✅ Labeled HSIC: 2490 samples\n",
      "[295/503] ✅ Labeled NWS: 2490 samples\n",
      "[296/503] ✅ Labeled HOLX: 2490 samples\n",
      "[297/503] ✅ Labeled URI: 2490 samples\n",
      "[298/503] ✅ Labeled MAA: 2490 samples\n",
      "[299/503] ✅ Labeled CMCSA: 2490 samples\n",
      "[300/503] ✅ Labeled WBA: 2490 samples\n",
      "[301/503] ✅ Labeled CMI: 2490 samples\n",
      "[302/503] ✅ Labeled AMAT: 2490 samples\n",
      "[303/503] ✅ Labeled HUM: 2490 samples\n",
      "[304/503] ✅ Labeled CNP: 2490 samples\n",
      "[305/503] ✅ Labeled SWK: 2490 samples\n",
      "[306/503] ✅ Labeled VRTX: 2490 samples\n",
      "[307/503] ✅ Labeled CLX: 2490 samples\n",
      "[308/503] ✅ Labeled BKNG: 2490 samples\n",
      "[309/503] ✅ Labeled MDLZ: 2490 samples\n",
      "[310/503] ✅ Labeled TTD: 2057 samples\n",
      "[311/503] ✅ Labeled PTC: 2490 samples\n",
      "[312/503] ✅ Labeled RTX: 2490 samples\n",
      "[313/503] ✅ Labeled BA: 2490 samples\n",
      "[314/503] ✅ Labeled RVTY: 2490 samples\n",
      "[315/503] ✅ Labeled BX: 2490 samples\n",
      "[316/503] ✅ Labeled FDX: 2490 samples\n",
      "[317/503] ✅ Labeled JCI: 2490 samples\n",
      "[318/503] ✅ Labeled NVDA: 2490 samples\n",
      "[319/503] ✅ Labeled HAL: 2490 samples\n",
      "[320/503] ✅ Labeled BLK: 2490 samples\n",
      "[321/503] ✅ Labeled GS: 2490 samples\n",
      "[322/503] ✅ Labeled XEL: 2490 samples\n",
      "[323/503] ✅ Labeled SPG: 2490 samples\n",
      "[324/503] ✅ Labeled AON: 2490 samples\n",
      "[325/503] ✅ Labeled EQIX: 2490 samples\n",
      "[326/503] ✅ Labeled CZR: 2490 samples\n",
      "[327/503] ✅ Labeled BG: 2490 samples\n",
      "[328/503] ✅ Labeled COP: 2490 samples\n",
      "[329/503] ✅ Labeled QCOM: 2490 samples\n",
      "[330/503] ✅ Labeled SBAC: 2490 samples\n",
      "[331/503] ✅ Labeled ALB: 2490 samples\n",
      "[332/503] ✅ Labeled DELL: 2081 samples\n",
      "[333/503] ✅ Labeled F: 2490 samples\n",
      "[334/503] ✅ Labeled CBOE: 2490 samples\n",
      "[335/503] ✅ Labeled PKG: 2490 samples\n",
      "[336/503] ✅ Labeled PH: 2490 samples\n",
      "[337/503] ✅ Labeled DDOG: 1304 samples\n",
      "[338/503] ✅ Labeled CF: 2490 samples\n",
      "[339/503] ✅ Labeled HII: 2490 samples\n",
      "[340/503] ✅ Labeled CTVA: 1385 samples\n",
      "[341/503] ✅ Labeled DLR: 2490 samples\n",
      "[342/503] ✅ Labeled GDDY: 2430 samples\n",
      "[343/503] ✅ Labeled TDG: 2490 samples\n",
      "[344/503] ✅ Labeled FANG: 2490 samples\n",
      "[345/503] ✅ Labeled LULU: 2490 samples\n",
      "[346/503] ✅ Labeled BALL: 2490 samples\n",
      "[347/503] ✅ Labeled AVB: 2490 samples\n",
      "[348/503] ✅ Labeled EL: 2490 samples\n",
      "[349/503] ✅ Labeled PGR: 2490 samples\n",
      "[350/503] ✅ Labeled SHW: 2490 samples\n",
      "[351/503] ✅ Labeled BIIB: 2490 samples\n",
      "[352/503] ✅ Labeled APTV: 2490 samples\n",
      "[353/503] ✅ Labeled NXPI: 2490 samples\n",
      "[354/503] ✅ Labeled PNR: 2490 samples\n",
      "[355/503] ✅ Labeled EXR: 2490 samples\n",
      "[356/503] ✅ Labeled DVA: 2490 samples\n",
      "[357/503] ✅ Labeled CTRA: 2490 samples\n",
      "[358/503] ✅ Labeled SYK: 2490 samples\n",
      "[359/503] ✅ Labeled GD: 2490 samples\n",
      "[360/503] ✅ Labeled ETN: 2490 samples\n",
      "[361/503] ✅ Labeled PODD: 2490 samples\n",
      "[362/503] ✅ Labeled TXN: 2490 samples\n",
      "[363/503] ✅ Labeled NEM: 2490 samples\n",
      "[364/503] ✅ Labeled CINF: 2490 samples\n",
      "[365/503] ✅ Labeled EOG: 2490 samples\n",
      "[366/503] ✅ Labeled KMI: 2490 samples\n",
      "[367/503] ✅ Labeled AXP: 2490 samples\n",
      "[368/503] ✅ Labeled ESS: 2490 samples\n",
      "[369/503] ✅ Labeled ADI: 2490 samples\n",
      "[370/503] ✅ Labeled GIS: 2490 samples\n",
      "[371/503] ✅ Labeled MU: 2490 samples\n",
      "[372/503] ✅ Labeled MCD: 2490 samples\n",
      "[373/503] ✅ Labeled VLO: 2490 samples\n",
      "[374/503] ✅ Labeled KO: 2490 samples\n",
      "[375/503] ✅ Labeled BLDR: 2490 samples\n",
      "[376/503] ✅ Labeled CPT: 2490 samples\n",
      "[377/503] ✅ Labeled PEG: 2490 samples\n",
      "[378/503] ✅ Labeled CRWD: 1373 samples\n",
      "[379/503] ✅ Labeled APD: 2490 samples\n",
      "[380/503] ✅ Labeled CME: 2490 samples\n",
      "[381/503] ✅ Labeled ENPH: 2490 samples\n",
      "[382/503] ✅ Labeled T: 2490 samples\n",
      "[383/503] ✅ Labeled MOH: 2490 samples\n",
      "[384/503] ✅ Labeled IEX: 2490 samples\n",
      "[385/503] ✅ Labeled HPE: 2290 samples\n",
      "[386/503] ✅ Labeled A: 2490 samples\n",
      "[387/503] ✅ Labeled AMGN: 2490 samples\n",
      "[388/503] ✅ Labeled LUV: 2490 samples\n",
      "[389/503] ✅ Labeled CCI: 2490 samples\n",
      "[390/503] ✅ Labeled TPR: 2490 samples\n",
      "[391/503] ✅ Labeled WMT: 2490 samples\n",
      "[392/503] ✅ Labeled BDX: 2490 samples\n",
      "[393/503] ✅ Labeled KVUE: 392 samples\n",
      "[394/503] ✅ Labeled PNW: 2490 samples\n",
      "[395/503] ✅ Labeled WBD: 2490 samples\n",
      "[396/503] ✅ Labeled TSN: 2490 samples\n",
      "[397/503] ✅ Labeled YUM: 2490 samples\n",
      "[398/503] ✅ Labeled SLB: 2490 samples\n",
      "[399/503] ✅ Labeled GPN: 2490 samples\n",
      "[400/503] ✅ Labeled BR: 2490 samples\n",
      "[401/503] ✅ Labeled ALGN: 2490 samples\n",
      "[402/503] ✅ Labeled JNJ: 2490 samples\n",
      "[403/503] ✅ Labeled ULTA: 2490 samples\n",
      "[404/503] ✅ Labeled GEHC: 487 samples\n",
      "[405/503] ✅ Labeled EG: 2490 samples\n",
      "[406/503] ✅ Labeled VRSN: 2490 samples\n",
      "[407/503] ✅ Labeled HUBB: 2490 samples\n",
      "[408/503] ✅ Labeled IR: 1896 samples\n",
      "[409/503] ✅ Labeled NRG: 2490 samples\n",
      "[410/503] ✅ Labeled ES: 2490 samples\n",
      "[411/503] ✅ Labeled HST: 2490 samples\n",
      "[412/503] ✅ Labeled ORLY: 2490 samples\n",
      "[413/503] ✅ Labeled VST: 2047 samples\n",
      "[414/503] ✅ Labeled MAR: 2490 samples\n",
      "[415/503] ✅ Labeled STLD: 2490 samples\n",
      "[416/503] ✅ Labeled WFC: 2490 samples\n",
      "[417/503] ✅ Labeled RSG: 2490 samples\n",
      "[418/503] ✅ Labeled TFC: 2490 samples\n",
      "[419/503] ✅ Labeled TKO: 2490 samples\n",
      "[420/503] ✅ Labeled CTAS: 2490 samples\n",
      "[421/503] ✅ Labeled ELV: 2490 samples\n",
      "[422/503] ✅ Labeled PNC: 2490 samples\n",
      "[423/503] ✅ Labeled WDC: 2490 samples\n",
      "[424/503] ✅ Labeled POOL: 2490 samples\n",
      "[425/503] ✅ Labeled KMX: 2490 samples\n",
      "[426/503] ✅ Labeled ACGL: 2490 samples\n",
      "[427/503] ✅ Labeled FI: 2490 samples\n",
      "[428/503] ✅ Labeled ED: 2490 samples\n",
      "[429/503] ✅ Labeled DLTR: 2490 samples\n",
      "[430/503] ✅ Labeled REGN: 2490 samples\n",
      "[431/503] ✅ Labeled LOW: 2490 samples\n",
      "[432/503] ✅ Labeled INTU: 2490 samples\n",
      "[433/503] ✅ Labeled CAG: 2490 samples\n",
      "[434/503] ✅ Labeled ARE: 2490 samples\n",
      "[435/503] ✅ Labeled DASH: 995 samples\n",
      "[436/503] ✅ Labeled LYV: 2490 samples\n",
      "[437/503] ✅ Labeled NFLX: 2490 samples\n",
      "[438/503] ✅ Labeled CVX: 2490 samples\n",
      "[439/503] ✅ Labeled IRM: 2490 samples\n",
      "[440/503] ✅ Labeled PM: 2490 samples\n",
      "[441/503] ✅ Labeled TRV: 2490 samples\n",
      "[442/503] ✅ Labeled TAP: 2490 samples\n",
      "[443/503] ✅ Labeled SCHW: 2490 samples\n",
      "[444/503] ✅ Labeled KMB: 2490 samples\n",
      "[445/503] ✅ Labeled FOXA: 1437 samples\n",
      "[446/503] ✅ Labeled EMR: 2490 samples\n",
      "[447/503] ✅ Labeled EQR: 2490 samples\n",
      "[448/503] ✅ Labeled OKE: 2490 samples\n",
      "[449/503] ✅ Labeled ALLE: 2490 samples\n",
      "[450/503] ✅ Labeled MHK: 2490 samples\n",
      "[451/503] ✅ Labeled LRCX: 2490 samples\n",
      "[452/503] ✅ Labeled MCHP: 2490 samples\n",
      "[453/503] ✅ Labeled CRL: 2490 samples\n",
      "[454/503] ✅ Labeled ERIE: 2490 samples\n",
      "[455/503] ✅ Labeled HRL: 2490 samples\n",
      "[456/503] ✅ Labeled STT: 2490 samples\n",
      "[457/503] ✅ Labeled ROP: 2490 samples\n",
      "[458/503] ✅ Labeled DRI: 2490 samples\n",
      "[459/503] ✅ Labeled BBY: 2490 samples\n",
      "[460/503] ✅ Labeled RL: 2490 samples\n",
      "[461/503] ✅ Labeled CPAY: 2490 samples\n",
      "[462/503] ✅ Labeled SPGI: 2490 samples\n",
      "[463/503] ✅ Labeled PSKY: 2490 samples\n",
      "[464/503] ✅ Labeled VTRS: 2490 samples\n",
      "[465/503] ✅ Labeled CSGP: 2490 samples\n",
      "[466/503] ✅ Labeled BRK-B: 2490 samples\n",
      "[467/503] ✅ Labeled BEN: 2490 samples\n",
      "[468/503] ✅ Labeled FOX: 1436 samples\n",
      "[469/503] ✅ Labeled NSC: 2490 samples\n",
      "[470/503] ✅ Labeled AKAM: 2490 samples\n",
      "[471/503] ✅ Labeled AAPL: 2490 samples\n",
      "[472/503] ✅ Labeled SRE: 2490 samples\n",
      "[473/503] ✅ Labeled KEYS: 2490 samples\n",
      "[474/503] ✅ Labeled WRB: 2490 samples\n",
      "[475/503] ✅ Labeled ITW: 2490 samples\n",
      "[476/503] ✅ Labeled LLY: 2490 samples\n",
      "[477/503] ✅ Labeled NVR: 2490 samples\n",
      "[478/503] ✅ Labeled MTD: 2490 samples\n",
      "[479/503] ✅ Labeled AJG: 2490 samples\n",
      "[480/503] ✅ Labeled UHS: 2490 samples\n",
      "[481/503] ✅ Labeled TXT: 2490 samples\n",
      "[482/503] ✅ Labeled CPB: 2490 samples\n",
      "[483/503] ✅ Labeled NI: 2490 samples\n",
      "[484/503] ✅ Labeled MNST: 2490 samples\n",
      "[485/503] ✅ Labeled MSFT: 2490 samples\n",
      "[486/503] ✅ Labeled EIX: 2490 samples\n",
      "[487/503] ✅ Labeled NDSN: 2490 samples\n",
      "[488/503] ✅ Labeled COIN: 910 samples\n",
      "[489/503] ✅ Labeled STE: 2490 samples\n",
      "[490/503] ✅ Labeled XYZ: 2267 samples\n",
      "[491/503] ✅ Labeled ROL: 2490 samples\n",
      "[492/503] ✅ Labeled EXE: 953 samples\n",
      "[493/503] ✅ Labeled EA: 2490 samples\n",
      "[494/503] ✅ Labeled INCY: 2490 samples\n",
      "[495/503] ✅ Labeled FE: 2490 samples\n",
      "[496/503] ✅ Labeled CARR: 1179 samples\n",
      "[497/503] ✅ Labeled TEL: 2490 samples\n",
      "[498/503] ✅ Labeled PWR: 2490 samples\n",
      "[499/503] ✅ Labeled L: 2490 samples\n",
      "[500/503] ✅ Labeled OMC: 2490 samples\n",
      "[501/503] ✅ Labeled CDNS: 2490 samples\n",
      "[502/503] ✅ Labeled TT: 2490 samples\n",
      "[503/503] ✅ Labeled RJF: 2490 samples\n"
     ]
    }
   ],
   "source": [
    "summary_df = generate_labels_from_fundamentals()"
   ]
  },
  {
   "cell_type": "code",
   "execution_count": 16,
   "id": "1d498c90",
   "metadata": {},
   "outputs": [],
   "source": [
    "# Re-import required packages after reset\n",
    "import pandas as pd\n",
    "import numpy as np\n",
    "import os\n",
    "\n",
    "def build_final_dataset(input_dir=\"data/labeled_features\", output_file=\"data/final_dataset_GBDT.csv\"):\n",
    "    all_data = []\n",
    "    files = [f for f in os.listdir(input_dir) if f.endswith(\"_labeled.csv\")]\n",
    "\n",
    "    for i, file in enumerate(files):\n",
    "        ticker = file.replace(\"_labeled.csv\", \"\")\n",
    "        input_path = os.path.join(input_dir, file)\n",
    "\n",
    "        try:\n",
    "            df = pd.read_csv(input_path, parse_dates=['Date'])\n",
    "\n",
    "            # Add ticker column for reference (optional)\n",
    "            df['Ticker'] = ticker\n",
    "\n",
    "            # Drop the unwanted columns entirely\n",
    "            cols_to_remove = ['PE_Ratio', 'EPS_TTM', 'Dividend_Yield']\n",
    "            for c in cols_to_remove:\n",
    "                if c in df.columns:\n",
    "                    df.drop(columns=c, inplace=True)\n",
    "\n",
    "            # Drop rows with any NaNs now (strict)\n",
    "            df.dropna(axis=0, how='any', inplace=True)\n",
    "\n",
    "            all_data.append(df)\n",
    "            print(f\"[{i+1}/{len(files)}] ✅ Loaded {ticker}: {len(df)} rows\")\n",
    "\n",
    "        except Exception as e:\n",
    "            print(f\"[{i+1}/{len(files)}] ❌ Failed for {ticker}: {e}\")\n",
    "\n",
    "    combined_df = pd.concat(all_data, ignore_index=True)\n",
    "\n",
    "    # Move Label column to the end\n",
    "    target = combined_df.pop(\"Label\")\n",
    "    combined_df[\"Label\"] = target\n",
    "\n",
    "    os.makedirs(os.path.dirname(output_file), exist_ok=True)\n",
    "    combined_df.to_csv(output_file, index=False)\n",
    "    print(f\"\\n✅ Final dataset saved to {output_file} with shape {combined_df.shape}\")\n",
    "\n",
    "    return combined_df"
   ]
  },
  {
   "cell_type": "code",
   "execution_count": 10,
   "id": "a5da7fdd",
   "metadata": {},
   "outputs": [
    {
     "name": "stdout",
     "output_type": "stream",
     "text": [
      "set()\n",
      "set()\n",
      "set()\n",
      "set()\n",
      "{'Dividend_Yield'}\n",
      "set()\n",
      "{'Dividend_Yield'}\n",
      "{'Dividend_Yield'}\n",
      "set()\n",
      "set()\n",
      "set()\n",
      "set()\n",
      "set()\n",
      "set()\n",
      "set()\n",
      "set()\n",
      "{'Dividend_Yield'}\n",
      "set()\n",
      "set()\n",
      "{'Dividend_Yield'}\n",
      "set()\n",
      "{'Dividend_Yield'}\n",
      "set()\n",
      "set()\n",
      "set()\n",
      "set()\n",
      "set()\n",
      "set()\n",
      "set()\n",
      "set()\n",
      "set()\n",
      "set()\n",
      "set()\n",
      "set()\n",
      "set()\n",
      "{'Dividend_Yield'}\n",
      "set()\n",
      "set()\n",
      "set()\n",
      "set()\n",
      "set()\n",
      "{'PE_Ratio'}\n",
      "set()\n",
      "set()\n",
      "set()\n",
      "{'Dividend_Yield'}\n",
      "{'EPS_TTM'}\n",
      "set()\n",
      "set()\n",
      "set()\n",
      "set()\n",
      "set()\n",
      "{'Dividend_Yield'}\n",
      "set()\n",
      "set()\n",
      "{'Dividend_Yield'}\n",
      "set()\n",
      "set()\n",
      "set()\n",
      "set()\n",
      "{'Dividend_Yield'}\n",
      "{'Dividend_Yield'}\n",
      "set()\n",
      "set()\n",
      "{'Dividend_Yield', 'PE_Ratio'}\n",
      "set()\n",
      "set()\n",
      "set()\n",
      "set()\n",
      "set()\n",
      "{'Dividend_Yield'}\n",
      "set()\n",
      "set()\n",
      "set()\n",
      "{'Dividend_Yield'}\n",
      "set()\n",
      "set()\n",
      "set()\n",
      "set()\n",
      "set()\n",
      "set()\n",
      "set()\n",
      "set()\n",
      "set()\n",
      "set()\n",
      "set()\n",
      "{'Dividend_Yield'}\n",
      "set()\n",
      "set()\n",
      "set()\n",
      "set()\n",
      "set()\n",
      "set()\n",
      "{'Dividend_Yield'}\n",
      "{'Dividend_Yield'}\n",
      "set()\n",
      "set()\n",
      "set()\n",
      "set()\n",
      "set()\n",
      "set()\n",
      "set()\n",
      "set()\n",
      "set()\n",
      "set()\n",
      "{'Dividend_Yield'}\n",
      "set()\n",
      "set()\n",
      "set()\n",
      "set()\n",
      "{'Dividend_Yield'}\n",
      "{'Dividend_Yield'}\n",
      "set()\n",
      "{'Dividend_Yield'}\n",
      "{'PE_Ratio'}\n",
      "set()\n",
      "set()\n",
      "set()\n",
      "set()\n",
      "set()\n",
      "set()\n",
      "set()\n",
      "{'Dividend_Yield', 'PE_Ratio'}\n",
      "set()\n",
      "set()\n",
      "set()\n",
      "set()\n",
      "set()\n",
      "set()\n",
      "{'Dividend_Yield'}\n",
      "set()\n",
      "set()\n",
      "set()\n",
      "set()\n",
      "set()\n",
      "set()\n",
      "set()\n",
      "set()\n",
      "set()\n",
      "set()\n",
      "set()\n",
      "set()\n",
      "{'EPS_TTM'}\n",
      "set()\n",
      "{'Dividend_Yield'}\n",
      "{'Dividend_Yield', 'EPS_TTM'}\n",
      "set()\n",
      "set()\n",
      "{'Dividend_Yield'}\n",
      "{'Dividend_Yield'}\n",
      "{'Dividend_Yield'}\n",
      "set()\n",
      "{'Dividend_Yield'}\n",
      "{'PE_Ratio'}\n",
      "{'Dividend_Yield', 'PE_Ratio'}\n",
      "set()\n",
      "{'Dividend_Yield'}\n",
      "set()\n",
      "{'EPS_TTM'}\n",
      "{'Dividend_Yield'}\n",
      "{'Dividend_Yield'}\n",
      "set()\n",
      "set()\n",
      "set()\n",
      "set()\n",
      "{'Dividend_Yield'}\n",
      "set()\n",
      "set()\n",
      "set()\n",
      "set()\n",
      "set()\n",
      "set()\n",
      "set()\n",
      "set()\n",
      "{'Dividend_Yield'}\n",
      "{'PE_Ratio'}\n",
      "set()\n",
      "{'PE_Ratio'}\n",
      "set()\n",
      "set()\n",
      "set()\n",
      "{'Dividend_Yield'}\n",
      "set()\n",
      "set()\n",
      "set()\n",
      "set()\n",
      "set()\n",
      "set()\n",
      "set()\n",
      "{'PE_Ratio'}\n",
      "{'PE_Ratio'}\n",
      "set()\n",
      "set()\n",
      "set()\n",
      "set()\n",
      "{'Dividend_Yield'}\n",
      "set()\n",
      "set()\n",
      "set()\n",
      "set()\n",
      "set()\n",
      "{'Dividend_Yield'}\n",
      "set()\n",
      "set()\n",
      "set()\n",
      "{'Dividend_Yield'}\n",
      "set()\n",
      "set()\n",
      "set()\n",
      "{'EPS_TTM'}\n",
      "set()\n",
      "{'Dividend_Yield'}\n",
      "set()\n",
      "{'Dividend_Yield'}\n",
      "set()\n",
      "set()\n",
      "{'Dividend_Yield'}\n",
      "set()\n",
      "set()\n",
      "set()\n",
      "set()\n",
      "set()\n",
      "set()\n",
      "set()\n",
      "set()\n",
      "{'EPS_TTM'}\n",
      "set()\n",
      "{'Dividend_Yield'}\n",
      "set()\n",
      "set()\n",
      "set()\n",
      "set()\n",
      "set()\n",
      "{'Dividend_Yield'}\n",
      "set()\n",
      "set()\n",
      "set()\n",
      "set()\n",
      "set()\n",
      "{'EPS_TTM'}\n",
      "set()\n",
      "{'PE_Ratio'}\n",
      "{'EPS_TTM'}\n",
      "set()\n",
      "set()\n",
      "set()\n",
      "{'PE_Ratio'}\n",
      "set()\n",
      "set()\n",
      "set()\n",
      "set()\n",
      "set()\n",
      "set()\n",
      "set()\n",
      "set()\n",
      "set()\n",
      "set()\n",
      "set()\n",
      "set()\n",
      "set()\n",
      "set()\n",
      "set()\n",
      "set()\n",
      "set()\n",
      "{'Dividend_Yield'}\n",
      "{'EPS_TTM'}\n",
      "set()\n",
      "{'Dividend_Yield'}\n",
      "{'Dividend_Yield'}\n",
      "set()\n",
      "set()\n",
      "set()\n",
      "set()\n",
      "set()\n",
      "set()\n",
      "{'Dividend_Yield'}\n",
      "set()\n",
      "set()\n",
      "set()\n",
      "set()\n",
      "set()\n",
      "set()\n",
      "{'Dividend_Yield'}\n",
      "set()\n",
      "set()\n",
      "{'Dividend_Yield'}\n",
      "{'EPS_TTM'}\n",
      "{'Dividend_Yield'}\n",
      "set()\n",
      "set()\n",
      "set()\n",
      "set()\n",
      "{'EPS_TTM'}\n",
      "{'Dividend_Yield'}\n",
      "set()\n",
      "{'Dividend_Yield'}\n",
      "set()\n",
      "set()\n",
      "set()\n",
      "{'PE_Ratio'}\n",
      "set()\n",
      "set()\n",
      "set()\n",
      "set()\n",
      "set()\n",
      "{'Dividend_Yield'}\n",
      "set()\n",
      "set()\n",
      "set()\n",
      "{'Dividend_Yield'}\n",
      "{'Dividend_Yield'}\n",
      "set()\n",
      "{'Dividend_Yield', 'PE_Ratio'}\n",
      "set()\n",
      "set()\n",
      "set()\n",
      "set()\n",
      "set()\n",
      "set()\n",
      "set()\n",
      "set()\n",
      "set()\n",
      "set()\n",
      "set()\n",
      "set()\n",
      "{'Dividend_Yield', 'PE_Ratio'}\n",
      "set()\n",
      "set()\n",
      "set()\n",
      "set()\n",
      "{'PE_Ratio'}\n",
      "set()\n",
      "set()\n",
      "set()\n",
      "set()\n",
      "set()\n",
      "{'Dividend_Yield'}\n",
      "set()\n",
      "set()\n",
      "set()\n",
      "set()\n",
      "{'Dividend_Yield'}\n",
      "{'Dividend_Yield'}\n",
      "set()\n",
      "{'Dividend_Yield'}\n",
      "set()\n",
      "set()\n",
      "{'PE_Ratio'}\n",
      "set()\n",
      "set()\n",
      "{'Dividend_Yield'}\n",
      "{'Dividend_Yield'}\n",
      "set()\n",
      "{'EPS_TTM'}\n",
      "set()\n",
      "{'Dividend_Yield'}\n",
      "set()\n",
      "set()\n",
      "{'EPS_TTM'}\n",
      "set()\n",
      "{'Dividend_Yield'}\n",
      "set()\n",
      "{'EPS_TTM'}\n",
      "set()\n",
      "set()\n",
      "set()\n",
      "set()\n",
      "set()\n",
      "set()\n",
      "set()\n",
      "set()\n",
      "set()\n",
      "set()\n",
      "set()\n",
      "{'Dividend_Yield'}\n",
      "{'EPS_TTM'}\n",
      "set()\n",
      "{'Dividend_Yield', 'PE_Ratio'}\n",
      "set()\n",
      "set()\n",
      "{'Dividend_Yield'}\n",
      "set()\n",
      "{'Dividend_Yield'}\n",
      "set()\n",
      "set()\n",
      "set()\n",
      "set()\n",
      "set()\n",
      "{'PE_Ratio'}\n",
      "set()\n",
      "set()\n",
      "set()\n",
      "{'EPS_TTM'}\n",
      "set()\n",
      "{'Dividend_Yield'}\n",
      "set()\n",
      "set()\n",
      "set()\n",
      "set()\n",
      "set()\n",
      "{'Dividend_Yield'}\n",
      "set()\n",
      "{'Dividend_Yield'}\n",
      "{'EPS_TTM'}\n",
      "set()\n",
      "set()\n",
      "set()\n",
      "set()\n",
      "set()\n",
      "set()\n",
      "set()\n",
      "{'Dividend_Yield'}\n",
      "set()\n",
      "set()\n",
      "set()\n",
      "set()\n",
      "set()\n",
      "set()\n",
      "set()\n",
      "set()\n",
      "set()\n",
      "set()\n",
      "set()\n",
      "set()\n",
      "{'Dividend_Yield'}\n",
      "{'Dividend_Yield'}\n",
      "{'Dividend_Yield'}\n",
      "set()\n",
      "{'Dividend_Yield'}\n",
      "set()\n",
      "set()\n",
      "set()\n",
      "set()\n",
      "{'PE_Ratio'}\n",
      "{'Dividend_Yield'}\n",
      "{'Dividend_Yield'}\n",
      "{'Dividend_Yield'}\n",
      "set()\n",
      "set()\n",
      "set()\n",
      "set()\n",
      "set()\n",
      "set()\n",
      "set()\n",
      "set()\n",
      "set()\n",
      "set()\n",
      "set()\n",
      "set()\n",
      "{'Dividend_Yield'}\n",
      "set()\n",
      "{'PE_Ratio'}\n",
      "{'Dividend_Yield', 'PE_Ratio'}\n",
      "set()\n",
      "set()\n",
      "set()\n",
      "set()\n",
      "set()\n",
      "set()\n",
      "set()\n",
      "{'Dividend_Yield'}\n",
      "set()\n",
      "set()\n",
      "{'PE_Ratio'}\n",
      "{'Dividend_Yield'}\n",
      "{'Dividend_Yield'}\n",
      "set()\n",
      "set()\n",
      "set()\n",
      "{'Dividend_Yield'}\n",
      "set()\n",
      "set()\n",
      "{'Dividend_Yield'}\n",
      "set()\n",
      "set()\n",
      "set()\n",
      "{'Dividend_Yield'}\n",
      "{'Dividend_Yield'}\n",
      "set()\n",
      "set()\n",
      "set()\n",
      "set()\n",
      "set()\n",
      "{'Dividend_Yield'}\n",
      "{'EPS_TTM'}\n",
      "set()\n",
      "set()\n",
      "{'Dividend_Yield'}\n",
      "set()\n",
      "{'Dividend_Yield'}\n",
      "set()\n",
      "{'EPS_TTM', 'PE_Ratio'}\n",
      "set()\n",
      "{'Dividend_Yield'}\n",
      "set()\n",
      "set()\n",
      "set()\n",
      "set()\n",
      "set()\n",
      "set()\n",
      "{'Dividend_Yield'}\n",
      "set()\n",
      "set()\n",
      "{'EPS_TTM', 'PE_Ratio', 'Dividend_Yield'}\n"
     ]
    }
   ],
   "source": [
    "# for all csvs under data/features_with_fundamentals, locate labels (column names) has only nan values. genereate a set include all nan column names\n",
    "nan_cols = set()\n",
    "for file in os.listdir(\"data/features_with_fundamentals\"):\n",
    "    df = pd.read_csv(os.path.join(\"data/features_with_fundamentals\", file))\n",
    "    file_nan_cols = set(df.columns[df.isna().all()])\n",
    "    print(file_nan_cols)\n",
    "    nan_cols.update(file_nan_cols)\n",
    "print(nan_cols)\n"
   ]
  },
  {
   "cell_type": "code",
   "execution_count": 17,
   "id": "02f93bd2",
   "metadata": {},
   "outputs": [
    {
     "name": "stdout",
     "output_type": "stream",
     "text": [
      "[1/503] ✅ Loaded CMCSA: 2450 rows\n",
      "[2/503] ✅ Loaded HAS: 2450 rows\n",
      "[3/503] ✅ Loaded VST: 2007 rows\n",
      "[4/503] ✅ Loaded HII: 2450 rows\n",
      "[5/503] ✅ Loaded UDR: 2450 rows\n",
      "[6/503] ✅ Loaded VRTX: 2450 rows\n",
      "[7/503] ✅ Loaded CNC: 2450 rows\n",
      "[8/503] ✅ Loaded EXPE: 2450 rows\n",
      "[9/503] ✅ Loaded DGX: 2450 rows\n",
      "[10/503] ✅ Loaded ANET: 2450 rows\n",
      "[11/503] ✅ Loaded FRT: 2450 rows\n",
      "[12/503] ✅ Loaded IFF: 2450 rows\n",
      "[13/503] ✅ Loaded APA: 2450 rows\n",
      "[14/503] ✅ Loaded HRL: 2450 rows\n",
      "[15/503] ✅ Loaded DLTR: 2450 rows\n",
      "[16/503] ✅ Loaded INCY: 2450 rows\n",
      "[17/503] ✅ Loaded TECH: 2450 rows\n",
      "[18/503] ✅ Loaded URI: 2450 rows\n",
      "[19/503] ✅ Loaded MCD: 2450 rows\n",
      "[20/503] ✅ Loaded LLY: 2450 rows\n",
      "[21/503] ✅ Loaded AEP: 2450 rows\n",
      "[22/503] ✅ Loaded AON: 2450 rows\n",
      "[23/503] ✅ Loaded GEV: 127 rows\n",
      "[24/503] ✅ Loaded CRM: 2450 rows\n",
      "[25/503] ✅ Loaded XYZ: 2227 rows\n",
      "[26/503] ✅ Loaded RF: 2450 rows\n",
      "[27/503] ✅ Loaded LYV: 2450 rows\n",
      "[28/503] ✅ Loaded ABBV: 2450 rows\n",
      "[29/503] ✅ Loaded GRMN: 2450 rows\n",
      "[30/503] ✅ Loaded MAS: 2450 rows\n",
      "[31/503] ✅ Loaded CSCO: 2450 rows\n",
      "[32/503] ✅ Loaded WST: 2450 rows\n",
      "[33/503] ✅ Loaded ALL: 2450 rows\n",
      "[34/503] ✅ Loaded TXN: 2450 rows\n",
      "[35/503] ✅ Loaded STLD: 2450 rows\n",
      "[36/503] ✅ Loaded MRNA: 1460 rows\n",
      "[37/503] ✅ Loaded FTNT: 2450 rows\n",
      "[38/503] ✅ Loaded UNH: 2450 rows\n",
      "[39/503] ✅ Loaded MGM: 2450 rows\n",
      "[40/503] ✅ Loaded OTIS: 1139 rows\n",
      "[41/503] ✅ Loaded MMC: 2450 rows\n",
      "[42/503] ✅ Loaded DLR: 2450 rows\n",
      "[43/503] ✅ Loaded VLO: 2450 rows\n",
      "[44/503] ✅ Loaded MAR: 2450 rows\n",
      "[45/503] ✅ Loaded ZBRA: 2450 rows\n",
      "[46/503] ✅ Loaded TYL: 2450 rows\n",
      "[47/503] ✅ Loaded WAT: 2450 rows\n",
      "[48/503] ✅ Loaded GEHC: 447 rows\n",
      "[49/503] ✅ Loaded COST: 2450 rows\n",
      "[50/503] ✅ Loaded KEY: 2450 rows\n",
      "[51/503] ✅ Loaded TEL: 2450 rows\n",
      "[52/503] ✅ Loaded TDG: 2450 rows\n",
      "[53/503] ✅ Loaded AKAM: 2450 rows\n",
      "[54/503] ✅ Loaded TXT: 2450 rows\n",
      "[55/503] ✅ Loaded AAPL: 2450 rows\n",
      "[56/503] ✅ Loaded AMGN: 2450 rows\n",
      "[57/503] ✅ Loaded GL: 2450 rows\n",
      "[58/503] ✅ Loaded ROST: 2450 rows\n",
      "[59/503] ✅ Loaded AMP: 2450 rows\n",
      "[60/503] ✅ Loaded DD: 2450 rows\n",
      "[61/503] ✅ Loaded LIN: 2450 rows\n",
      "[62/503] ✅ Loaded ES: 2450 rows\n",
      "[63/503] ✅ Loaded DAL: 2450 rows\n",
      "[64/503] ✅ Loaded WBA: 2450 rows\n",
      "[65/503] ✅ Loaded ALGN: 2450 rows\n",
      "[66/503] ✅ Loaded COR: 2450 rows\n",
      "[67/503] ✅ Loaded FDS: 2450 rows\n",
      "[68/503] ✅ Loaded VLTO: 247 rows\n",
      "[69/503] ✅ Loaded JPM: 2450 rows\n",
      "[70/503] ✅ Loaded L: 2450 rows\n",
      "[71/503] ✅ Loaded AJG: 2450 rows\n",
      "[72/503] ✅ Loaded SNA: 2450 rows\n",
      "[73/503] ✅ Loaded MRK: 2450 rows\n",
      "[74/503] ✅ Loaded CTSH: 2450 rows\n",
      "[75/503] ✅ Loaded USB: 2450 rows\n",
      "[76/503] ✅ Loaded MS: 2450 rows\n",
      "[77/503] ✅ Loaded ADBE: 2450 rows\n",
      "[78/503] ✅ Loaded NOW: 2450 rows\n",
      "[79/503] ✅ Loaded ITW: 2450 rows\n",
      "[80/503] ✅ Loaded YUM: 2450 rows\n",
      "[81/503] ✅ Loaded CMG: 2450 rows\n",
      "[82/503] ✅ Loaded TDY: 2450 rows\n",
      "[83/503] ✅ Loaded LW: 1981 rows\n",
      "[84/503] ✅ Loaded WY: 2450 rows\n",
      "[85/503] ✅ Loaded FDX: 2450 rows\n",
      "[86/503] ✅ Loaded KIM: 2450 rows\n",
      "[87/503] ✅ Loaded UBER: 1355 rows\n",
      "[88/503] ✅ Loaded ORLY: 2450 rows\n",
      "[89/503] ✅ Loaded ORCL: 2450 rows\n",
      "[90/503] ✅ Loaded HUM: 2450 rows\n",
      "[91/503] ✅ Loaded IP: 2450 rows\n",
      "[92/503] ✅ Loaded AME: 2450 rows\n",
      "[93/503] ✅ Loaded CRL: 2450 rows\n",
      "[94/503] ✅ Loaded EQIX: 2450 rows\n",
      "[95/503] ✅ Loaded CBRE: 2450 rows\n",
      "[96/503] ✅ Loaded ABT: 2450 rows\n",
      "[97/503] ✅ Loaded BG: 2450 rows\n",
      "[98/503] ✅ Loaded ROK: 2450 rows\n",
      "[99/503] ✅ Loaded LNT: 2450 rows\n",
      "[100/503] ✅ Loaded EOG: 2450 rows\n",
      "[101/503] ✅ Loaded NCLH: 2450 rows\n",
      "[102/503] ✅ Loaded PLD: 2450 rows\n",
      "[103/503] ✅ Loaded BRK-B: 2450 rows\n",
      "[104/503] ✅ Loaded MSI: 2450 rows\n",
      "[105/503] ✅ Loaded GEN: 2450 rows\n",
      "[106/503] ✅ Loaded BK: 2450 rows\n",
      "[107/503] ✅ Loaded NRG: 2450 rows\n",
      "[108/503] ✅ Loaded CAT: 2450 rows\n",
      "[109/503] ✅ Loaded VICI: 1695 rows\n",
      "[110/503] ✅ Loaded MTCH: 2450 rows\n",
      "[111/503] ✅ Loaded COIN: 870 rows\n",
      "[112/503] ✅ Loaded RJF: 2450 rows\n",
      "[113/503] ✅ Loaded K: 2450 rows\n",
      "[114/503] ✅ Loaded STX: 2450 rows\n",
      "[115/503] ✅ Loaded APTV: 2450 rows\n",
      "[116/503] ✅ Loaded PLTR: 1004 rows\n",
      "[117/503] ✅ Loaded VTRS: 2450 rows\n",
      "[118/503] ✅ Loaded SW: 2376 rows\n",
      "[119/503] ✅ Loaded DRI: 2450 rows\n",
      "[120/503] ✅ Loaded DHR: 2450 rows\n",
      "[121/503] ✅ Loaded APD: 2450 rows\n",
      "[122/503] ✅ Loaded OKE: 2450 rows\n",
      "[123/503] ✅ Loaded SWKS: 2450 rows\n",
      "[124/503] ✅ Loaded HSY: 2450 rows\n",
      "[125/503] ✅ Loaded LH: 2450 rows\n",
      "[126/503] ✅ Loaded HCA: 2450 rows\n",
      "[127/503] ✅ Loaded INTU: 2450 rows\n",
      "[128/503] ✅ Loaded EBAY: 2450 rows\n",
      "[129/503] ✅ Loaded CRWD: 1333 rows\n",
      "[130/503] ✅ Loaded HST: 2450 rows\n",
      "[131/503] ✅ Loaded CNP: 2450 rows\n",
      "[132/503] ✅ Loaded BR: 2450 rows\n",
      "[133/503] ✅ Loaded DVA: 2450 rows\n",
      "[134/503] ✅ Loaded APH: 2450 rows\n",
      "[135/503] ✅ Loaded ZTS: 2450 rows\n",
      "[136/503] ✅ Loaded MOS: 2450 rows\n",
      "[137/503] ✅ Loaded FTV: 2072 rows\n",
      "[138/503] ✅ Loaded TPL: 2450 rows\n",
      "[139/503] ✅ Loaded BLK: 2450 rows\n",
      "[140/503] ✅ Loaded V: 2450 rows\n",
      "[141/503] ✅ Loaded UHS: 2450 rows\n",
      "[142/503] ✅ Loaded HUBB: 2450 rows\n",
      "[143/503] ✅ Loaded ICE: 2450 rows\n",
      "[144/503] ✅ Loaded ESS: 2450 rows\n",
      "[145/503] ✅ Loaded ZBH: 2450 rows\n",
      "[146/503] ✅ Loaded WBD: 2450 rows\n",
      "[147/503] ✅ Loaded BRO: 2450 rows\n",
      "[148/503] ✅ Loaded MCK: 2450 rows\n",
      "[149/503] ✅ Loaded PSX: 2450 rows\n",
      "[150/503] ✅ Loaded WRB: 2450 rows\n",
      "[151/503] ✅ Loaded MKTX: 2450 rows\n",
      "[152/503] ✅ Loaded NTAP: 2450 rows\n",
      "[153/503] ✅ Loaded TKO: 2450 rows\n",
      "[154/503] ✅ Loaded DOC: 2450 rows\n",
      "[155/503] ✅ Loaded FI: 2450 rows\n",
      "[156/503] ✅ Loaded SNPS: 2450 rows\n",
      "[157/503] ✅ Loaded KR: 2450 rows\n",
      "[158/503] ✅ Loaded PNC: 2450 rows\n",
      "[159/503] ✅ Loaded SPG: 2450 rows\n",
      "[160/503] ✅ Loaded PNW: 2450 rows\n",
      "[161/503] ✅ Loaded EXE: 913 rows\n",
      "[162/503] ✅ Loaded MCHP: 2450 rows\n",
      "[163/503] ✅ Loaded AVGO: 2450 rows\n",
      "[164/503] ✅ Loaded BKR: 2450 rows\n",
      "[165/503] ✅ Loaded MPWR: 2450 rows\n",
      "[166/503] ✅ Loaded SPGI: 2450 rows\n",
      "[167/503] ✅ Loaded MTD: 2450 rows\n",
      "[168/503] ✅ Loaded DOV: 2450 rows\n",
      "[169/503] ✅ Loaded KMB: 2450 rows\n",
      "[170/503] ✅ Loaded F: 2450 rows\n",
      "[171/503] ✅ Loaded MOH: 2450 rows\n",
      "[172/503] ✅ Loaded CHD: 2450 rows\n",
      "[173/503] ✅ Loaded HWM: 1988 rows\n",
      "[174/503] ✅ Loaded HD: 2450 rows\n",
      "[175/503] ✅ Loaded WAB: 2450 rows\n",
      "[176/503] ✅ Loaded WSM: 2450 rows\n",
      "[177/503] ✅ Loaded RTX: 2450 rows\n",
      "[178/503] ✅ Loaded IEX: 2450 rows\n",
      "[179/503] ✅ Loaded MU: 2450 rows\n",
      "[180/503] ✅ Loaded DE: 2450 rows\n",
      "[181/503] ✅ Loaded PAYC: 2450 rows\n",
      "[182/503] ✅ Loaded TRMB: 2450 rows\n",
      "[183/503] ✅ Loaded WEC: 2450 rows\n",
      "[184/503] ✅ Loaded KKR: 2450 rows\n",
      "[185/503] ✅ Loaded AIZ: 2450 rows\n",
      "[186/503] ✅ Loaded EL: 2450 rows\n",
      "[187/503] ✅ Loaded VRSK: 2450 rows\n",
      "[188/503] ✅ Loaded MPC: 2450 rows\n",
      "[189/503] ✅ Loaded NWSA: 2450 rows\n",
      "[190/503] ✅ Loaded GM: 2450 rows\n",
      "[191/503] ✅ Loaded EPAM: 2450 rows\n",
      "[192/503] ✅ Loaded TRGP: 2450 rows\n",
      "[193/503] ✅ Loaded KVUE: 352 rows\n",
      "[194/503] ✅ Loaded PWR: 2450 rows\n",
      "[195/503] ✅ Loaded PEG: 2450 rows\n",
      "[196/503] ✅ Loaded FE: 2450 rows\n",
      "[197/503] ✅ Loaded DECK: 2450 rows\n",
      "[198/503] ✅ Loaded REGN: 2450 rows\n",
      "[199/503] ✅ Loaded ALLE: 2450 rows\n",
      "[200/503] ✅ Loaded AIG: 2450 rows\n",
      "[201/503] ✅ Loaded CBOE: 2450 rows\n",
      "[202/503] ✅ Loaded PYPL: 2324 rows\n",
      "[203/503] ✅ Loaded DAY: 1616 rows\n",
      "[204/503] ✅ Loaded PTC: 2450 rows\n",
      "[205/503] ✅ Loaded DOW: 1391 rows\n",
      "[206/503] ✅ Loaded LKQ: 2450 rows\n",
      "[207/503] ✅ Loaded LVS: 2450 rows\n",
      "[208/503] ✅ Loaded CPT: 2450 rows\n",
      "[209/503] ✅ Loaded PRU: 2450 rows\n",
      "[210/503] ✅ Loaded CB: 2450 rows\n",
      "[211/503] ✅ Loaded CVX: 2450 rows\n",
      "[212/503] ✅ Loaded PAYX: 2450 rows\n",
      "[213/503] ✅ Loaded JBL: 2450 rows\n",
      "[214/503] ✅ Loaded ARE: 2450 rows\n",
      "[215/503] ✅ Loaded BXP: 2450 rows\n",
      "[216/503] ✅ Loaded VRSN: 2450 rows\n",
      "[217/503] ✅ Loaded UPS: 2450 rows\n",
      "[218/503] ✅ Loaded STT: 2450 rows\n",
      "[219/503] ✅ Loaded CCI: 2450 rows\n",
      "[220/503] ✅ Loaded FICO: 2450 rows\n",
      "[221/503] ✅ Loaded LULU: 2450 rows\n",
      "[222/503] ✅ Loaded UNP: 2450 rows\n",
      "[223/503] ✅ Loaded ODFL: 2450 rows\n",
      "[224/503] ✅ Loaded WYNN: 2450 rows\n",
      "[225/503] ✅ Loaded MA: 2450 rows\n",
      "[226/503] ✅ Loaded MKC: 2450 rows\n",
      "[227/503] ✅ Loaded ATO: 2450 rows\n",
      "[228/503] ✅ Loaded PANW: 2450 rows\n",
      "[229/503] ✅ Loaded GDDY: 2390 rows\n",
      "[230/503] ✅ Loaded NEM: 2450 rows\n",
      "[231/503] ✅ Loaded RL: 2450 rows\n",
      "[232/503] ✅ Loaded SMCI: 2450 rows\n",
      "[233/503] ✅ Loaded ENPH: 2450 rows\n",
      "[234/503] ✅ Loaded AMZN: 2450 rows\n",
      "[235/503] ✅ Loaded PKG: 2450 rows\n",
      "[236/503] ✅ Loaded GD: 2450 rows\n",
      "[237/503] ✅ Loaded EXPD: 2450 rows\n",
      "[238/503] ✅ Loaded CARR: 1139 rows\n",
      "[239/503] ✅ Loaded APO: 2450 rows\n",
      "[240/503] ✅ Loaded IBM: 2450 rows\n",
      "[241/503] ✅ Loaded NXPI: 2450 rows\n",
      "[242/503] ✅ Loaded CPRT: 2450 rows\n",
      "[243/503] ✅ Loaded BMY: 2450 rows\n",
      "[244/503] ✅ Loaded WDAY: 2450 rows\n",
      "[245/503] ✅ Loaded CTVA: 1345 rows\n",
      "[246/503] ✅ Loaded CHTR: 2450 rows\n",
      "[247/503] ✅ Loaded BAC: 2450 rows\n",
      "[248/503] ✅ Loaded GLW: 2450 rows\n",
      "[249/503] ✅ Loaded PPL: 2450 rows\n",
      "[250/503] ✅ Loaded LDOS: 2450 rows\n",
      "[251/503] ✅ Loaded CPB: 2450 rows\n",
      "[252/503] ✅ Loaded AEE: 2450 rows\n",
      "[253/503] ✅ Loaded NDSN: 2450 rows\n",
      "[254/503] ✅ Loaded PEP: 2450 rows\n",
      "[255/503] ✅ Loaded IR: 1856 rows\n",
      "[256/503] ✅ Loaded DPZ: 2450 rows\n",
      "[257/503] ✅ Loaded MNST: 2450 rows\n",
      "[258/503] ✅ Loaded NVDA: 2450 rows\n",
      "[259/503] ✅ Loaded AES: 2450 rows\n",
      "[260/503] ✅ Loaded DTE: 2450 rows\n",
      "[261/503] ✅ Loaded JCI: 2450 rows\n",
      "[262/503] ✅ Loaded HAL: 2450 rows\n",
      "[263/503] ✅ Loaded LMT: 2450 rows\n",
      "[264/503] ✅ Loaded VMC: 2450 rows\n",
      "[265/503] ✅ Loaded TMUS: 2450 rows\n",
      "[266/503] ✅ Loaded SWK: 2450 rows\n",
      "[267/503] ✅ Loaded KDP: 2450 rows\n",
      "[268/503] ✅ Loaded INVH: 1926 rows\n",
      "[269/503] ✅ Loaded BALL: 2450 rows\n",
      "[270/503] ✅ Loaded POOL: 2450 rows\n",
      "[271/503] ✅ Loaded EMN: 2450 rows\n",
      "[272/503] ✅ Loaded FCX: 2450 rows\n",
      "[273/503] ✅ Loaded CSX: 2450 rows\n",
      "[274/503] ✅ Loaded WTW: 2450 rows\n",
      "[275/503] ✅ Loaded IQV: 2450 rows\n",
      "[276/503] ✅ Loaded IT: 2450 rows\n",
      "[277/503] ✅ Loaded NFLX: 2450 rows\n",
      "[278/503] ✅ Loaded MET: 2450 rows\n",
      "[279/503] ✅ Loaded T: 2450 rows\n",
      "[280/503] ✅ Loaded LYB: 2450 rows\n",
      "[281/503] ✅ Loaded IVZ: 2450 rows\n",
      "[282/503] ✅ Loaded TTD: 2017 rows\n",
      "[283/503] ✅ Loaded ROP: 2450 rows\n",
      "[284/503] ✅ Loaded DIS: 2450 rows\n",
      "[285/503] ✅ Loaded HLT: 2450 rows\n",
      "[286/503] ✅ Loaded CVS: 2450 rows\n",
      "[287/503] ✅ Loaded BKNG: 2450 rows\n",
      "[288/503] ✅ Loaded TFC: 2450 rows\n",
      "[289/503] ✅ Loaded ADSK: 2450 rows\n",
      "[290/503] ✅ Loaded ACN: 2450 rows\n",
      "[291/503] ✅ Loaded LOW: 2450 rows\n",
      "[292/503] ✅ Loaded NSC: 2450 rows\n",
      "[293/503] ✅ Loaded CL: 2450 rows\n",
      "[294/503] ✅ Loaded WM: 2450 rows\n",
      "[295/503] ✅ Loaded EW: 2450 rows\n",
      "[296/503] ✅ Loaded ROL: 2450 rows\n",
      "[297/503] ✅ Loaded AOS: 2450 rows\n",
      "[298/503] ✅ Loaded FAST: 2450 rows\n",
      "[299/503] ✅ Loaded CZR: 2450 rows\n",
      "[300/503] ✅ Loaded EVRG: 2450 rows\n",
      "[301/503] ✅ Loaded PCG: 2450 rows\n",
      "[302/503] ✅ Loaded ADI: 2450 rows\n",
      "[303/503] ✅ Loaded PM: 2450 rows\n",
      "[304/503] ✅ Loaded FIS: 2450 rows\n",
      "[305/503] ✅ Loaded FOXA: 1397 rows\n",
      "[306/503] ✅ Loaded AXON: 2450 rows\n",
      "[307/503] ✅ Loaded HON: 2450 rows\n",
      "[308/503] ✅ Loaded NTRS: 2450 rows\n",
      "[309/503] ✅ Loaded BSX: 2450 rows\n",
      "[310/503] ✅ Loaded TTWO: 2450 rows\n",
      "[311/503] ✅ Loaded MDLZ: 2450 rows\n",
      "[312/503] ✅ Loaded J: 2450 rows\n",
      "[313/503] ✅ Loaded WMB: 2450 rows\n",
      "[314/503] ✅ Loaded SCHW: 2450 rows\n",
      "[315/503] ✅ Loaded CDNS: 2450 rows\n",
      "[316/503] ✅ Loaded PODD: 2450 rows\n",
      "[317/503] ✅ Loaded LHX: 2450 rows\n",
      "[318/503] ✅ Loaded HPE: 2250 rows\n",
      "[319/503] ✅ Loaded TPR: 2450 rows\n",
      "[320/503] ✅ Loaded SHW: 2450 rows\n",
      "[321/503] ✅ Loaded TSLA: 2450 rows\n",
      "[322/503] ✅ Loaded OXY: 2450 rows\n",
      "[323/503] ✅ Loaded NI: 2450 rows\n",
      "[324/503] ✅ Loaded ETR: 2450 rows\n",
      "[325/503] ✅ Loaded STE: 2450 rows\n",
      "[326/503] ✅ Loaded GOOGL: 2450 rows\n",
      "[327/503] ✅ Loaded LII: 2450 rows\n",
      "[328/503] ✅ Loaded BF-B: 2450 rows\n",
      "[329/503] ✅ Loaded TSN: 2450 rows\n",
      "[330/503] ✅ Loaded RMD: 2450 rows\n",
      "[331/503] ✅ Loaded DDOG: 1264 rows\n",
      "[332/503] ✅ Loaded C: 2450 rows\n",
      "[333/503] ✅ Loaded GOOG: 2450 rows\n",
      "[334/503] ✅ Loaded DXCM: 2450 rows\n",
      "[335/503] ✅ Loaded BA: 2450 rows\n",
      "[336/503] ✅ Loaded TGT: 2450 rows\n",
      "[337/503] ✅ Loaded VTR: 2450 rows\n",
      "[338/503] ✅ Loaded ADP: 2450 rows\n",
      "[339/503] ✅ Loaded CLX: 2450 rows\n",
      "[340/503] ✅ Loaded CEG: 676 rows\n",
      "[341/503] ✅ Loaded CPAY: 2450 rows\n",
      "[342/503] ✅ Loaded DHI: 2450 rows\n",
      "[343/503] ✅ Loaded AMT: 2450 rows\n",
      "[344/503] ✅ Loaded CTAS: 2450 rows\n",
      "[345/503] ✅ Loaded QCOM: 2450 rows\n",
      "[346/503] ✅ Loaded TMO: 2450 rows\n",
      "[347/503] ✅ Loaded KLAC: 2450 rows\n",
      "[348/503] ✅ Loaded SLB: 2450 rows\n",
      "[349/503] ✅ Loaded A: 2450 rows\n",
      "[350/503] ✅ Loaded ACGL: 2450 rows\n",
      "[351/503] ✅ Loaded MO: 2450 rows\n",
      "[352/503] ✅ Loaded BLDR: 2450 rows\n",
      "[353/503] ✅ Loaded JBHT: 2450 rows\n",
      "[354/503] ✅ Loaded ETN: 2450 rows\n",
      "[355/503] ✅ Loaded NDAQ: 2450 rows\n",
      "[356/503] ✅ Loaded COF: 2450 rows\n",
      "[357/503] ✅ Loaded NVR: 2450 rows\n",
      "[358/503] ✅ Loaded PSKY: 2450 rows\n",
      "[359/503] ✅ Loaded SBUX: 2450 rows\n",
      "[360/503] ✅ Loaded AVB: 2450 rows\n",
      "[361/503] ✅ Loaded KMX: 2450 rows\n",
      "[362/503] ✅ Loaded SYF: 2450 rows\n",
      "[363/503] ✅ Loaded CF: 2450 rows\n",
      "[364/503] ✅ Loaded PG: 2450 rows\n",
      "[365/503] ✅ Loaded HIG: 2450 rows\n",
      "[366/503] ✅ Loaded SOLV: 128 rows\n",
      "[367/503] ✅ Loaded DVN: 2450 rows\n",
      "[368/503] ✅ Loaded MDT: 2450 rows\n",
      "[369/503] ✅ Loaded AZO: 2450 rows\n",
      "[370/503] ✅ Loaded CMS: 2450 rows\n",
      "[371/503] ✅ Loaded GPN: 2450 rows\n",
      "[372/503] ✅ Loaded AMD: 2450 rows\n",
      "[373/503] ✅ Loaded ULTA: 2450 rows\n",
      "[374/503] ✅ Loaded LRCX: 2450 rows\n",
      "[375/503] ✅ Loaded CHRW: 2450 rows\n",
      "[376/503] ✅ Loaded AWK: 2450 rows\n",
      "[377/503] ✅ Loaded LUV: 2450 rows\n",
      "[378/503] ✅ Loaded WDC: 2450 rows\n",
      "[379/503] ✅ Loaded PSA: 2450 rows\n",
      "[380/503] ✅ Loaded ABNB: 954 rows\n",
      "[381/503] ✅ Loaded SJM: 2450 rows\n",
      "[382/503] ✅ Loaded REG: 2450 rows\n",
      "[383/503] ✅ Loaded IDXX: 2450 rows\n",
      "[384/503] ✅ Loaded DELL: 2041 rows\n",
      "[385/503] ✅ Loaded BBY: 2450 rows\n",
      "[386/503] ✅ Loaded UAL: 2450 rows\n",
      "[387/503] ✅ Loaded XYL: 2450 rows\n",
      "[388/503] ✅ Loaded KHC: 2324 rows\n",
      "[389/503] ✅ Loaded MMM: 2450 rows\n",
      "[390/503] ✅ Loaded ISRG: 2450 rows\n",
      "[391/503] ✅ Loaded PH: 2450 rows\n",
      "[392/503] ✅ Loaded XEL: 2450 rows\n",
      "[393/503] ✅ Loaded PFE: 2450 rows\n",
      "[394/503] ✅ Loaded BDX: 2450 rows\n",
      "[395/503] ✅ Loaded IPG: 2450 rows\n",
      "[396/503] ✅ Loaded FANG: 2450 rows\n",
      "[397/503] ✅ Loaded TAP: 2450 rows\n",
      "[398/503] ✅ Loaded RVTY: 2450 rows\n",
      "[399/503] ✅ Loaded DUK: 2450 rows\n",
      "[400/503] ✅ Loaded WELL: 2450 rows\n",
      "[401/503] ✅ Loaded NWS: 2450 rows\n",
      "[402/503] ✅ Loaded NOC: 2450 rows\n",
      "[403/503] ✅ Loaded FITB: 2450 rows\n",
      "[404/503] ✅ Loaded EQR: 2450 rows\n",
      "[405/503] ✅ Loaded ED: 2450 rows\n",
      "[406/503] ✅ Loaded TT: 2450 rows\n",
      "[407/503] ✅ Loaded GILD: 2450 rows\n",
      "[408/503] ✅ Loaded GWW: 2450 rows\n",
      "[409/503] ✅ Loaded ELV: 2450 rows\n",
      "[410/503] ✅ Loaded MTB: 2450 rows\n",
      "[411/503] ✅ Loaded ERIE: 2450 rows\n",
      "[412/503] ✅ Loaded XOM: 2450 rows\n",
      "[413/503] ✅ Loaded EIX: 2450 rows\n",
      "[414/503] ✅ Loaded KMI: 2450 rows\n",
      "[415/503] ✅ Loaded ON: 2450 rows\n",
      "[416/503] ✅ Loaded CI: 2450 rows\n",
      "[417/503] ✅ Loaded INTC: 2450 rows\n",
      "[418/503] ✅ Loaded CAG: 2450 rows\n",
      "[419/503] ✅ Loaded EXR: 2450 rows\n",
      "[420/503] ✅ Loaded EFX: 2450 rows\n",
      "[421/503] ✅ Loaded AXP: 2450 rows\n",
      "[422/503] ✅ Loaded SRE: 2450 rows\n",
      "[423/503] ✅ Loaded PFG: 2450 rows\n",
      "[424/503] ✅ Loaded CAH: 2450 rows\n",
      "[425/503] ✅ Loaded CME: 2450 rows\n",
      "[426/503] ✅ Loaded GS: 2450 rows\n",
      "[427/503] ✅ Loaded IRM: 2450 rows\n",
      "[428/503] ✅ Loaded GIS: 2450 rows\n",
      "[429/503] ✅ Loaded MHK: 2450 rows\n",
      "[430/503] ✅ Loaded AFL: 2450 rows\n",
      "[431/503] ✅ Loaded COO: 2450 rows\n",
      "[432/503] ✅ Loaded DASH: 955 rows\n",
      "[433/503] ✅ Loaded TJX: 2450 rows\n",
      "[434/503] ✅ Loaded HPQ: 2450 rows\n",
      "[435/503] ✅ Loaded ADM: 2450 rows\n",
      "[436/503] ✅ Loaded SO: 2450 rows\n",
      "[437/503] ✅ Loaded PGR: 2450 rows\n",
      "[438/503] ✅ Loaded JKHY: 2450 rows\n",
      "[439/503] ✅ Loaded CSGP: 2450 rows\n",
      "[440/503] ✅ Loaded KO: 2450 rows\n",
      "[441/503] ✅ Loaded META: 2450 rows\n",
      "[442/503] ✅ Loaded MSFT: 2450 rows\n",
      "[443/503] ✅ Loaded EQT: 2450 rows\n",
      "[444/503] ✅ Loaded BX: 2450 rows\n",
      "[445/503] ✅ Loaded GE: 2450 rows\n",
      "[446/503] ✅ Loaded CMI: 2450 rows\n",
      "[447/503] ✅ Loaded JNJ: 2450 rows\n",
      "[448/503] ✅ Loaded TSCO: 2450 rows\n",
      "[449/503] ✅ Loaded SBAC: 2450 rows\n",
      "[450/503] ✅ Loaded MSCI: 2450 rows\n",
      "[451/503] ✅ Loaded LEN: 2450 rows\n",
      "[452/503] ✅ Loaded RSG: 2450 rows\n",
      "[453/503] ✅ Loaded PCAR: 2450 rows\n",
      "[454/503] ✅ Loaded NUE: 2450 rows\n",
      "[455/503] ✅ Loaded WFC: 2450 rows\n",
      "[456/503] ✅ Loaded WMT: 2450 rows\n",
      "[457/503] ✅ Loaded VZ: 2450 rows\n",
      "[458/503] ✅ Loaded HSIC: 2450 rows\n",
      "[459/503] ✅ Loaded AMCR: 2198 rows\n",
      "[460/503] ✅ Loaded TER: 2450 rows\n",
      "[461/503] ✅ Loaded ECL: 2450 rows\n",
      "[462/503] ✅ Loaded GNRC: 2450 rows\n",
      "[463/503] ✅ Loaded FFIV: 2450 rows\n",
      "[464/503] ✅ Loaded O: 2450 rows\n",
      "[465/503] ✅ Loaded HOLX: 2450 rows\n",
      "[466/503] ✅ Loaded PPG: 2450 rows\n",
      "[467/503] ✅ Loaded D: 2450 rows\n",
      "[468/503] ✅ Loaded NEE: 2450 rows\n",
      "[469/503] ✅ Loaded AVY: 2450 rows\n",
      "[470/503] ✅ Loaded CFG: 2450 rows\n",
      "[471/503] ✅ Loaded TRV: 2450 rows\n",
      "[472/503] ✅ Loaded STZ: 2450 rows\n",
      "[473/503] ✅ Loaded CCL: 2450 rows\n",
      "[474/503] ✅ Loaded FOX: 1396 rows\n",
      "[475/503] ✅ Loaded PNR: 2450 rows\n",
      "[476/503] ✅ Loaded AMAT: 2450 rows\n",
      "[477/503] ✅ Loaded COP: 2450 rows\n",
      "[478/503] ✅ Loaded EA: 2450 rows\n",
      "[479/503] ✅ Loaded EXC: 2450 rows\n",
      "[480/503] ✅ Loaded ALB: 2450 rows\n",
      "[481/503] ✅ Loaded SYY: 2450 rows\n",
      "[482/503] ✅ Loaded GPC: 2450 rows\n",
      "[483/503] ✅ Loaded RCL: 2450 rows\n",
      "[484/503] ✅ Loaded OMC: 2450 rows\n",
      "[485/503] ✅ Loaded EMR: 2450 rows\n",
      "[486/503] ✅ Loaded TROW: 2450 rows\n",
      "[487/503] ✅ Loaded KEYS: 2450 rows\n",
      "[488/503] ✅ Loaded MLM: 2450 rows\n",
      "[489/503] ✅ Loaded FSLR: 2450 rows\n",
      "[490/503] ✅ Loaded PHM: 2450 rows\n",
      "[491/503] ✅ Loaded CTRA: 2450 rows\n",
      "[492/503] ✅ Loaded BEN: 2450 rows\n",
      "[493/503] ✅ Loaded SYK: 2450 rows\n",
      "[494/503] ✅ Loaded CDW: 2450 rows\n",
      "[495/503] ✅ Loaded MAA: 2450 rows\n",
      "[496/503] ✅ Loaded BIIB: 2450 rows\n",
      "[497/503] ✅ Loaded HBAN: 2450 rows\n",
      "[498/503] ✅ Loaded NKE: 2450 rows\n",
      "[499/503] ✅ Loaded DG: 2450 rows\n",
      "[500/503] ✅ Loaded MCO: 2450 rows\n",
      "[501/503] ✅ Loaded CINF: 2450 rows\n",
      "[502/503] ✅ Loaded BAX: 2450 rows\n",
      "[503/503] ✅ Loaded EG: 2450 rows\n",
      "\n",
      "✅ Final dataset saved to data/final_dataset_GBDT.csv with shape (1194430, 38)\n"
     ]
    },
    {
     "data": {
      "text/html": [
       "<div>\n",
       "<style scoped>\n",
       "    .dataframe tbody tr th:only-of-type {\n",
       "        vertical-align: middle;\n",
       "    }\n",
       "\n",
       "    .dataframe tbody tr th {\n",
       "        vertical-align: top;\n",
       "    }\n",
       "\n",
       "    .dataframe thead th {\n",
       "        text-align: right;\n",
       "    }\n",
       "</style>\n",
       "<table border=\"1\" class=\"dataframe\">\n",
       "  <thead>\n",
       "    <tr style=\"text-align: right;\">\n",
       "      <th></th>\n",
       "      <th>Date</th>\n",
       "      <th>Close</th>\n",
       "      <th>High</th>\n",
       "      <th>Low</th>\n",
       "      <th>Open</th>\n",
       "      <th>Volume</th>\n",
       "      <th>SMA_5</th>\n",
       "      <th>SMA_20</th>\n",
       "      <th>SMA_ratio</th>\n",
       "      <th>EMA_12</th>\n",
       "      <th>...</th>\n",
       "      <th>Momentum_60d</th>\n",
       "      <th>Rolling_mean_return_20d</th>\n",
       "      <th>Rolling_var_return_20d</th>\n",
       "      <th>Market_Cap</th>\n",
       "      <th>LogReturn</th>\n",
       "      <th>RollingVol</th>\n",
       "      <th>ForwardReturn</th>\n",
       "      <th>VolThreshold</th>\n",
       "      <th>Ticker</th>\n",
       "      <th>Label</th>\n",
       "    </tr>\n",
       "  </thead>\n",
       "  <tbody>\n",
       "    <tr>\n",
       "      <th>0</th>\n",
       "      <td>2015-03-31</td>\n",
       "      <td>22.334261</td>\n",
       "      <td>22.512238</td>\n",
       "      <td>22.061360</td>\n",
       "      <td>22.231428</td>\n",
       "      <td>35082600</td>\n",
       "      <td>22.204336</td>\n",
       "      <td>23.064602</td>\n",
       "      <td>0.962702</td>\n",
       "      <td>22.652507</td>\n",
       "      <td>...</td>\n",
       "      <td>-0.007028</td>\n",
       "      <td>-0.002774</td>\n",
       "      <td>0.000178</td>\n",
       "      <td>8.225177e+10</td>\n",
       "      <td>-0.002476</td>\n",
       "      <td>0.013360</td>\n",
       "      <td>0.047990</td>\n",
       "      <td>0.013360</td>\n",
       "      <td>CMCSA</td>\n",
       "      <td>up</td>\n",
       "    </tr>\n",
       "    <tr>\n",
       "      <th>1</th>\n",
       "      <td>2015-04-01</td>\n",
       "      <td>22.567612</td>\n",
       "      <td>22.575522</td>\n",
       "      <td>22.168149</td>\n",
       "      <td>22.460825</td>\n",
       "      <td>31569000</td>\n",
       "      <td>22.266245</td>\n",
       "      <td>23.003300</td>\n",
       "      <td>0.967959</td>\n",
       "      <td>22.639446</td>\n",
       "      <td>...</td>\n",
       "      <td>0.024234</td>\n",
       "      <td>-0.002645</td>\n",
       "      <td>0.000182</td>\n",
       "      <td>8.311115e+10</td>\n",
       "      <td>0.010394</td>\n",
       "      <td>0.013480</td>\n",
       "      <td>0.044339</td>\n",
       "      <td>0.013480</td>\n",
       "      <td>CMCSA</td>\n",
       "      <td>up</td>\n",
       "    </tr>\n",
       "    <tr>\n",
       "      <th>2</th>\n",
       "      <td>2015-04-02</td>\n",
       "      <td>22.915659</td>\n",
       "      <td>23.010581</td>\n",
       "      <td>22.385680</td>\n",
       "      <td>22.579479</td>\n",
       "      <td>41127600</td>\n",
       "      <td>22.446586</td>\n",
       "      <td>22.961368</td>\n",
       "      <td>0.977581</td>\n",
       "      <td>22.681940</td>\n",
       "      <td>...</td>\n",
       "      <td>0.053777</td>\n",
       "      <td>-0.001797</td>\n",
       "      <td>0.000198</td>\n",
       "      <td>8.439292e+10</td>\n",
       "      <td>0.015305</td>\n",
       "      <td>0.014066</td>\n",
       "      <td>0.032275</td>\n",
       "      <td>0.014066</td>\n",
       "      <td>CMCSA</td>\n",
       "      <td>up</td>\n",
       "    </tr>\n",
       "    <tr>\n",
       "      <th>3</th>\n",
       "      <td>2015-04-06</td>\n",
       "      <td>23.022449</td>\n",
       "      <td>23.192518</td>\n",
       "      <td>22.741640</td>\n",
       "      <td>22.797011</td>\n",
       "      <td>21333000</td>\n",
       "      <td>22.645923</td>\n",
       "      <td>22.923989</td>\n",
       "      <td>0.987870</td>\n",
       "      <td>22.734326</td>\n",
       "      <td>...</td>\n",
       "      <td>0.059647</td>\n",
       "      <td>-0.001598</td>\n",
       "      <td>0.000200</td>\n",
       "      <td>8.478621e+10</td>\n",
       "      <td>0.004649</td>\n",
       "      <td>0.014131</td>\n",
       "      <td>0.009792</td>\n",
       "      <td>0.014131</td>\n",
       "      <td>CMCSA</td>\n",
       "      <td>flat</td>\n",
       "    </tr>\n",
       "    <tr>\n",
       "      <th>4</th>\n",
       "      <td>2015-04-07</td>\n",
       "      <td>23.065947</td>\n",
       "      <td>23.208329</td>\n",
       "      <td>22.868193</td>\n",
       "      <td>23.006620</td>\n",
       "      <td>24779600</td>\n",
       "      <td>22.781186</td>\n",
       "      <td>22.884848</td>\n",
       "      <td>0.995470</td>\n",
       "      <td>22.785345</td>\n",
       "      <td>...</td>\n",
       "      <td>0.039053</td>\n",
       "      <td>-0.001669</td>\n",
       "      <td>0.000199</td>\n",
       "      <td>8.494639e+10</td>\n",
       "      <td>0.001888</td>\n",
       "      <td>0.014108</td>\n",
       "      <td>0.011317</td>\n",
       "      <td>0.014108</td>\n",
       "      <td>CMCSA</td>\n",
       "      <td>flat</td>\n",
       "    </tr>\n",
       "    <tr>\n",
       "      <th>...</th>\n",
       "      <td>...</td>\n",
       "      <td>...</td>\n",
       "      <td>...</td>\n",
       "      <td>...</td>\n",
       "      <td>...</td>\n",
       "      <td>...</td>\n",
       "      <td>...</td>\n",
       "      <td>...</td>\n",
       "      <td>...</td>\n",
       "      <td>...</td>\n",
       "      <td>...</td>\n",
       "      <td>...</td>\n",
       "      <td>...</td>\n",
       "      <td>...</td>\n",
       "      <td>...</td>\n",
       "      <td>...</td>\n",
       "      <td>...</td>\n",
       "      <td>...</td>\n",
       "      <td>...</td>\n",
       "      <td>...</td>\n",
       "      <td>...</td>\n",
       "    </tr>\n",
       "    <tr>\n",
       "      <th>1194425</th>\n",
       "      <td>2024-12-16</td>\n",
       "      <td>353.705048</td>\n",
       "      <td>360.951782</td>\n",
       "      <td>352.933911</td>\n",
       "      <td>360.951782</td>\n",
       "      <td>348600</td>\n",
       "      <td>357.491541</td>\n",
       "      <td>370.993719</td>\n",
       "      <td>0.963605</td>\n",
       "      <td>363.969970</td>\n",
       "      <td>...</td>\n",
       "      <td>-0.071933</td>\n",
       "      <td>-0.001601</td>\n",
       "      <td>0.000114</td>\n",
       "      <td>1.483555e+10</td>\n",
       "      <td>-0.013989</td>\n",
       "      <td>0.010672</td>\n",
       "      <td>0.004416</td>\n",
       "      <td>0.010672</td>\n",
       "      <td>EG</td>\n",
       "      <td>flat</td>\n",
       "    </tr>\n",
       "    <tr>\n",
       "      <th>1194426</th>\n",
       "      <td>2024-12-17</td>\n",
       "      <td>351.025848</td>\n",
       "      <td>352.083698</td>\n",
       "      <td>348.405963</td>\n",
       "      <td>350.590845</td>\n",
       "      <td>379800</td>\n",
       "      <td>356.030334</td>\n",
       "      <td>370.185846</td>\n",
       "      <td>0.961761</td>\n",
       "      <td>361.978567</td>\n",
       "      <td>...</td>\n",
       "      <td>-0.077057</td>\n",
       "      <td>-0.002250</td>\n",
       "      <td>0.000113</td>\n",
       "      <td>1.472318e+10</td>\n",
       "      <td>-0.007604</td>\n",
       "      <td>0.010620</td>\n",
       "      <td>0.020616</td>\n",
       "      <td>0.010620</td>\n",
       "      <td>EG</td>\n",
       "      <td>up</td>\n",
       "    </tr>\n",
       "    <tr>\n",
       "      <th>1194427</th>\n",
       "      <td>2024-12-18</td>\n",
       "      <td>344.372314</td>\n",
       "      <td>355.356100</td>\n",
       "      <td>344.164709</td>\n",
       "      <td>351.203808</td>\n",
       "      <td>505100</td>\n",
       "      <td>353.258191</td>\n",
       "      <td>369.187418</td>\n",
       "      <td>0.956853</td>\n",
       "      <td>359.269913</td>\n",
       "      <td>...</td>\n",
       "      <td>-0.086138</td>\n",
       "      <td>-0.002818</td>\n",
       "      <td>0.000126</td>\n",
       "      <td>1.444411e+10</td>\n",
       "      <td>-0.019136</td>\n",
       "      <td>0.011219</td>\n",
       "      <td>0.039618</td>\n",
       "      <td>0.011219</td>\n",
       "      <td>EG</td>\n",
       "      <td>up</td>\n",
       "    </tr>\n",
       "    <tr>\n",
       "      <th>1194428</th>\n",
       "      <td>2024-12-19</td>\n",
       "      <td>345.390594</td>\n",
       "      <td>347.980852</td>\n",
       "      <td>343.798902</td>\n",
       "      <td>343.927429</td>\n",
       "      <td>410700</td>\n",
       "      <td>350.636322</td>\n",
       "      <td>367.923697</td>\n",
       "      <td>0.953014</td>\n",
       "      <td>357.134633</td>\n",
       "      <td>...</td>\n",
       "      <td>-0.082741</td>\n",
       "      <td>-0.003531</td>\n",
       "      <td>0.000106</td>\n",
       "      <td>1.448682e+10</td>\n",
       "      <td>0.002953</td>\n",
       "      <td>0.010294</td>\n",
       "      <td>0.030313</td>\n",
       "      <td>0.010294</td>\n",
       "      <td>EG</td>\n",
       "      <td>up</td>\n",
       "    </tr>\n",
       "    <tr>\n",
       "      <th>1194429</th>\n",
       "      <td>2024-12-20</td>\n",
       "      <td>352.587921</td>\n",
       "      <td>355.603255</td>\n",
       "      <td>342.157771</td>\n",
       "      <td>342.543354</td>\n",
       "      <td>772200</td>\n",
       "      <td>349.416345</td>\n",
       "      <td>366.612657</td>\n",
       "      <td>0.953094</td>\n",
       "      <td>356.435139</td>\n",
       "      <td>...</td>\n",
       "      <td>-0.074959</td>\n",
       "      <td>-0.003587</td>\n",
       "      <td>0.000103</td>\n",
       "      <td>1.478870e+10</td>\n",
       "      <td>0.020624</td>\n",
       "      <td>0.010153</td>\n",
       "      <td>0.008524</td>\n",
       "      <td>0.010153</td>\n",
       "      <td>EG</td>\n",
       "      <td>flat</td>\n",
       "    </tr>\n",
       "  </tbody>\n",
       "</table>\n",
       "<p>1194430 rows × 38 columns</p>\n",
       "</div>"
      ],
      "text/plain": [
       "              Date       Close        High         Low        Open    Volume  \\\n",
       "0       2015-03-31   22.334261   22.512238   22.061360   22.231428  35082600   \n",
       "1       2015-04-01   22.567612   22.575522   22.168149   22.460825  31569000   \n",
       "2       2015-04-02   22.915659   23.010581   22.385680   22.579479  41127600   \n",
       "3       2015-04-06   23.022449   23.192518   22.741640   22.797011  21333000   \n",
       "4       2015-04-07   23.065947   23.208329   22.868193   23.006620  24779600   \n",
       "...            ...         ...         ...         ...         ...       ...   \n",
       "1194425 2024-12-16  353.705048  360.951782  352.933911  360.951782    348600   \n",
       "1194426 2024-12-17  351.025848  352.083698  348.405963  350.590845    379800   \n",
       "1194427 2024-12-18  344.372314  355.356100  344.164709  351.203808    505100   \n",
       "1194428 2024-12-19  345.390594  347.980852  343.798902  343.927429    410700   \n",
       "1194429 2024-12-20  352.587921  355.603255  342.157771  342.543354    772200   \n",
       "\n",
       "              SMA_5      SMA_20  SMA_ratio      EMA_12  ...  Momentum_60d  \\\n",
       "0         22.204336   23.064602   0.962702   22.652507  ...     -0.007028   \n",
       "1         22.266245   23.003300   0.967959   22.639446  ...      0.024234   \n",
       "2         22.446586   22.961368   0.977581   22.681940  ...      0.053777   \n",
       "3         22.645923   22.923989   0.987870   22.734326  ...      0.059647   \n",
       "4         22.781186   22.884848   0.995470   22.785345  ...      0.039053   \n",
       "...             ...         ...        ...         ...  ...           ...   \n",
       "1194425  357.491541  370.993719   0.963605  363.969970  ...     -0.071933   \n",
       "1194426  356.030334  370.185846   0.961761  361.978567  ...     -0.077057   \n",
       "1194427  353.258191  369.187418   0.956853  359.269913  ...     -0.086138   \n",
       "1194428  350.636322  367.923697   0.953014  357.134633  ...     -0.082741   \n",
       "1194429  349.416345  366.612657   0.953094  356.435139  ...     -0.074959   \n",
       "\n",
       "         Rolling_mean_return_20d  Rolling_var_return_20d    Market_Cap  \\\n",
       "0                      -0.002774                0.000178  8.225177e+10   \n",
       "1                      -0.002645                0.000182  8.311115e+10   \n",
       "2                      -0.001797                0.000198  8.439292e+10   \n",
       "3                      -0.001598                0.000200  8.478621e+10   \n",
       "4                      -0.001669                0.000199  8.494639e+10   \n",
       "...                          ...                     ...           ...   \n",
       "1194425                -0.001601                0.000114  1.483555e+10   \n",
       "1194426                -0.002250                0.000113  1.472318e+10   \n",
       "1194427                -0.002818                0.000126  1.444411e+10   \n",
       "1194428                -0.003531                0.000106  1.448682e+10   \n",
       "1194429                -0.003587                0.000103  1.478870e+10   \n",
       "\n",
       "         LogReturn  RollingVol  ForwardReturn  VolThreshold  Ticker  Label  \n",
       "0        -0.002476    0.013360       0.047990      0.013360   CMCSA     up  \n",
       "1         0.010394    0.013480       0.044339      0.013480   CMCSA     up  \n",
       "2         0.015305    0.014066       0.032275      0.014066   CMCSA     up  \n",
       "3         0.004649    0.014131       0.009792      0.014131   CMCSA   flat  \n",
       "4         0.001888    0.014108       0.011317      0.014108   CMCSA   flat  \n",
       "...            ...         ...            ...           ...     ...    ...  \n",
       "1194425  -0.013989    0.010672       0.004416      0.010672      EG   flat  \n",
       "1194426  -0.007604    0.010620       0.020616      0.010620      EG     up  \n",
       "1194427  -0.019136    0.011219       0.039618      0.011219      EG     up  \n",
       "1194428   0.002953    0.010294       0.030313      0.010294      EG     up  \n",
       "1194429   0.020624    0.010153       0.008524      0.010153      EG   flat  \n",
       "\n",
       "[1194430 rows x 38 columns]"
      ]
     },
     "execution_count": 17,
     "metadata": {},
     "output_type": "execute_result"
    }
   ],
   "source": [
    "build_final_dataset()"
   ]
  },
  {
   "cell_type": "code",
   "execution_count": 20,
   "id": "ef5706eb",
   "metadata": {},
   "outputs": [
    {
     "name": "stdout",
     "output_type": "stream",
     "text": [
      "✅ Train set saved to data/final_train_GBDT.csv with shape (946121, 38)\n",
      "✅ Test set saved to data/final_test_GBDT.csv with shape (248309, 38)\n"
     ]
    },
    {
     "data": {
      "text/plain": [
       "(             Date       Close        High         Low        Open    Volume  \\\n",
       " 0      2015-03-31   22.334261   22.512238   22.061360   22.231428  35082600   \n",
       " 1      2015-04-01   22.567612   22.575522   22.168149   22.460825  31569000   \n",
       " 2      2015-04-02   22.915659   23.010581   22.385680   22.579479  41127600   \n",
       " 3      2015-04-06   23.022449   23.192518   22.741640   22.797011  21333000   \n",
       " 4      2015-04-07   23.065947   23.208329   22.868193   23.006620  24779600   \n",
       " ...           ...         ...         ...         ...         ...       ...   \n",
       " 946116 2022-12-23  318.694794  319.817622  314.165383  316.458634    158300   \n",
       " 946117 2022-12-27  319.798492  321.977561  318.285524  319.084826    135200   \n",
       " 946118 2022-12-28  317.771790  322.272626  317.705174  320.769182    137000   \n",
       " 946119 2022-12-29  318.637665  320.407572  316.820220  320.407572    121700   \n",
       " 946120 2022-12-30  315.221619  318.247586  313.023529  316.439608    151900   \n",
       " \n",
       "              SMA_5      SMA_20  SMA_ratio      EMA_12  ...  Momentum_60d  \\\n",
       " 0        22.204336   23.064602   0.962702   22.652507  ...     -0.007028   \n",
       " 1        22.266245   23.003300   0.967959   22.639446  ...      0.024234   \n",
       " 2        22.446586   22.961368   0.977581   22.681940  ...      0.053777   \n",
       " 3        22.645923   22.923989   0.987870   22.734326  ...      0.059647   \n",
       " 4        22.781186   22.884848   0.995470   22.785345  ...      0.039053   \n",
       " ...            ...         ...        ...         ...  ...           ...   \n",
       " 946116  314.458447  314.846213   0.998768  314.063725  ...      0.258445   \n",
       " 946117  317.065698  315.176395   1.005994  314.945997  ...      0.287151   \n",
       " 946118  318.386456  315.231111   1.010010  315.380734  ...      0.262398   \n",
       " 946119  318.316040  315.084572   1.010256  315.881801  ...      0.215331   \n",
       " 946120  318.024872  315.128821   1.009190  315.780234  ...      0.216401   \n",
       " \n",
       "         Rolling_mean_return_20d  Rolling_var_return_20d    Market_Cap  \\\n",
       " 0                     -0.002774                0.000178  8.225177e+10   \n",
       " 1                     -0.002645                0.000182  8.311115e+10   \n",
       " 2                     -0.001797                0.000198  8.439292e+10   \n",
       " 3                     -0.001598                0.000200  8.478621e+10   \n",
       " 4                     -0.001669                0.000199  8.494639e+10   \n",
       " ...                         ...                     ...           ...   \n",
       " 946116                 0.000075                0.000165  1.336711e+10   \n",
       " 946117                 0.001043                0.000151  1.341340e+10   \n",
       " 946118                 0.000172                0.000147  1.332839e+10   \n",
       " 946119                -0.000458                0.000135  1.336471e+10   \n",
       " 946120                 0.000141                0.000114  1.322143e+10   \n",
       " \n",
       "         LogReturn  RollingVol  ForwardReturn  VolThreshold  Ticker  Label  \n",
       " 0       -0.002476    0.013360       0.047990      0.013360   CMCSA     up  \n",
       " 1        0.010394    0.013480       0.044339      0.013480   CMCSA     up  \n",
       " 2        0.015305    0.014066       0.032275      0.014066   CMCSA     up  \n",
       " 3        0.004649    0.014131       0.009792      0.014131   CMCSA   flat  \n",
       " 4        0.001888    0.014108       0.011317      0.014108   CMCSA   flat  \n",
       " ...           ...         ...            ...           ...     ...    ...  \n",
       " 946116   0.006350    0.012826      -0.004598      0.012826      EG   flat  \n",
       " 946117   0.003457    0.012275       0.014907      0.012275      EG     up  \n",
       " 946118  -0.006358    0.012144       0.024525      0.012144      EG     up  \n",
       " 946119   0.002721    0.011632       0.049394      0.011632      EG     up  \n",
       " 946120  -0.010779    0.010695       0.064660      0.010695      EG     up  \n",
       " \n",
       " [946121 rows x 38 columns],\n",
       "              Date       Close        High         Low        Open    Volume  \\\n",
       " 0      2023-01-03   32.922688   32.941199   32.154462   32.339575  23175300   \n",
       " 1      2023-01-04   33.866764   34.218483   33.348441   33.552069  24067700   \n",
       " 2      2023-01-05   34.227737   34.385087   33.515045   34.153693  26969600   \n",
       " 3      2023-01-06   35.070015   35.171829   34.403600   34.764577  18780000   \n",
       " 4      2023-01-09   34.755314   35.171823   34.634988   35.162569  22849900   \n",
       " ...           ...         ...         ...         ...         ...       ...   \n",
       " 248304 2024-12-16  353.705048  360.951782  352.933911  360.951782    348600   \n",
       " 248305 2024-12-17  351.025848  352.083698  348.405963  350.590845    379800   \n",
       " 248306 2024-12-18  344.372314  355.356100  344.164709  351.203808    505100   \n",
       " 248307 2024-12-19  345.390594  347.980852  343.798902  343.927429    410700   \n",
       " 248308 2024-12-20  352.587921  355.603255  342.157771  342.543354    772200   \n",
       " \n",
       "              SMA_5      SMA_20  SMA_ratio      EMA_12  ...  Momentum_60d  \\\n",
       " 0        32.234394   32.210500   1.000742   32.221962  ...      0.192904   \n",
       " 1        32.578751   32.289701   1.008952   32.475008  ...      0.259812   \n",
       " 2        33.065103   32.404401   1.020389   32.744659  ...      0.279360   \n",
       " 3        33.640926   32.568103   1.032941   33.102406  ...      0.331410   \n",
       " 4        34.168504   32.699997   1.044908   33.356700  ...      0.319002   \n",
       " ...            ...         ...        ...         ...  ...           ...   \n",
       " 248304  357.491541  370.993719   0.963605  363.969970  ...     -0.071933   \n",
       " 248305  356.030334  370.185846   0.961761  361.978567  ...     -0.077057   \n",
       " 248306  353.258191  369.187418   0.956853  359.269913  ...     -0.086138   \n",
       " 248307  350.636322  367.923697   0.953014  357.134633  ...     -0.082741   \n",
       " 248308  349.416345  366.612657   0.953094  356.435139  ...     -0.074959   \n",
       " \n",
       "         Rolling_mean_return_20d  Rolling_var_return_20d    Market_Cap  \\\n",
       " 0                     -0.000018                0.000293  1.212464e+11   \n",
       " 1                      0.002395                0.000308  1.247232e+11   \n",
       " 2                      0.003469                0.000301  1.260526e+11   \n",
       " 3                      0.004900                0.000318  1.291545e+11   \n",
       " 4                      0.003947                0.000326  1.279956e+11   \n",
       " ...                         ...                     ...           ...   \n",
       " 248304                -0.001601                0.000114  1.483555e+10   \n",
       " 248305                -0.002250                0.000113  1.472318e+10   \n",
       " 248306                -0.002818                0.000126  1.444411e+10   \n",
       " 248307                -0.003531                0.000106  1.448682e+10   \n",
       " 248308                -0.003587                0.000103  1.478870e+10   \n",
       " \n",
       "         LogReturn  RollingVol  ForwardReturn  VolThreshold  Ticker  Label  \n",
       " 0        0.024763    0.017109       0.064942      0.017109   CMCSA     up  \n",
       " 1        0.028272    0.017542       0.037169      0.017542   CMCSA     up  \n",
       " 2        0.010602    0.017343       0.046241      0.017343   CMCSA     up  \n",
       " 3        0.024310    0.017841       0.027448      0.017841   CMCSA     up  \n",
       " 4       -0.009014    0.018059       0.037017      0.018059   CMCSA     up  \n",
       " ...           ...         ...            ...           ...     ...    ...  \n",
       " 248304  -0.013989    0.010672       0.004416      0.010672      EG   flat  \n",
       " 248305  -0.007604    0.010620       0.020616      0.010620      EG     up  \n",
       " 248306  -0.019136    0.011219       0.039618      0.011219      EG     up  \n",
       " 248307   0.002953    0.010294       0.030313      0.010294      EG     up  \n",
       " 248308   0.020624    0.010153       0.008524      0.010153      EG   flat  \n",
       " \n",
       " [248309 rows x 38 columns])"
      ]
     },
     "execution_count": 20,
     "metadata": {},
     "output_type": "execute_result"
    }
   ],
   "source": [
    "def split_gbdt_dataset(input_file=\"data/final_dataset_GBDT.csv\",\n",
    "                       train_file=\"data/final_train_GBDT.csv\",\n",
    "                       test_file=\"data/final_test_GBDT.csv\",\n",
    "                       cutoff_date=\"2023-01-01\"):\n",
    "    \"\"\"\n",
    "    Split the preprocessed GBDT dataset by date.\n",
    "    Data on or after cutoff_date will be test; before cutoff_date will be train.\n",
    "    \"\"\"\n",
    "    df = pd.read_csv(input_file, parse_dates=['Date'])\n",
    "\n",
    "    train_df = df[df['Date'] < cutoff_date].reset_index(drop=True)\n",
    "    test_df = df[df['Date'] >= cutoff_date].reset_index(drop=True)\n",
    "\n",
    "    train_df.to_csv(train_file, index=False)\n",
    "    test_df.to_csv(test_file, index=False)\n",
    "\n",
    "    print(f\"✅ Train set saved to {train_file} with shape {train_df.shape}\")\n",
    "    print(f\"✅ Test set saved to {test_file} with shape {test_df.shape}\")\n",
    "    return train_df, test_df\n",
    "split_gbdt_dataset()"
   ]
  },
  {
   "cell_type": "code",
   "execution_count": null,
   "id": "671e12ed",
   "metadata": {},
   "outputs": [],
   "source": [
    "WINDOW_SIZE = 60      # how many days per sequence\n",
    "HORIZON = 5           # how far ahead the label is (already used in your labeling)\n",
    "FEATURE_COLS = [...]  # ~30–40 features, excluding non-numeric or sparse ones"
   ]
  },
  {
   "cell_type": "code",
   "execution_count": 1,
   "id": "1f510d6e",
   "metadata": {},
   "outputs": [],
   "source": [
    "import os\n",
    "import numpy as np\n",
    "import pandas as pd\n",
    "from sklearn.preprocessing import StandardScaler\n",
    "\n",
    "def generate_lstm_dataset(input_dir=\"data/labeled_features\",\n",
    "                          output_file=None,\n",
    "                          window_size=60):\n",
    "    \"\"\"\n",
    "    Generate LSTM-ready dataset from time series per-stock labeled CSVs,\n",
    "    excluding leakage-prone features.\n",
    "    \"\"\"\n",
    "\n",
    "    # Columns never used as features\n",
    "    always_ignore = {\n",
    "        'Date', 'Ticker', 'Label',\n",
    "        'EPS_TTM', 'PE_Ratio', 'Dividend_Yield',   # fundamentals\n",
    "        'Market_Cap', 'ForwardReturn', 'VolThreshold'  # leakage features\n",
    "    }\n",
    "\n",
    "    X_all, y_all = [], []\n",
    "    files = [f for f in os.listdir(input_dir) if f.endswith(\".csv\")]\n",
    "\n",
    "    print(f\"📂 Found {len(files)} labeled CSVs in {input_dir}\")\n",
    "    print(f\"🧹 Ignoring columns: {sorted(always_ignore)}\\n\")\n",
    "\n",
    "    for i, file in enumerate(files):\n",
    "        ticker = file.replace(\".csv\", \"\").replace(\"_train\", \"\").replace(\"_test\", \"\")\n",
    "        path = os.path.join(input_dir, file)\n",
    "\n",
    "        try:\n",
    "            df = pd.read_csv(path, parse_dates=['Date'])\n",
    "\n",
    "            # feature columns\n",
    "            feature_cols = [c for c in df.columns if c not in always_ignore]\n",
    "\n",
    "            # drop rows with NaNs in features or label\n",
    "            df = df.dropna(subset=feature_cols + ['Label']).reset_index(drop=True)\n",
    "\n",
    "            if len(df) < window_size + 1:\n",
    "                print(f\"[{i+1}/{len(files)}] ⚠️ Skipped {ticker} (not enough data, rows={len(df)})\")\n",
    "                continue\n",
    "\n",
    "            features = df[feature_cols].values\n",
    "            label_map = {'down': 0, 'flat': 1, 'up': 2}\n",
    "            labels = df['Label'].map(label_map).values\n",
    "\n",
    "            # scale features per stock\n",
    "            scaler = StandardScaler()\n",
    "            features = scaler.fit_transform(features)\n",
    "\n",
    "            # sliding windows\n",
    "            num_samples = len(features) - window_size\n",
    "            for t in range(num_samples):\n",
    "                X_all.append(features[t:t+window_size])\n",
    "                y_all.append(labels[t + window_size])\n",
    "\n",
    "            print(f\"[{i+1}/{len(files)}] ✅ Processed {ticker}: {num_samples} samples\")\n",
    "\n",
    "        except Exception as e:\n",
    "            print(f\"[{i+1}/{len(files)}] ❌ Failed {ticker}: {e}\")\n",
    "\n",
    "    # convert to arrays\n",
    "    X_array = np.array(X_all)\n",
    "    y_array = np.array(y_all)\n",
    "\n",
    "    if output_file:\n",
    "        os.makedirs(os.path.dirname(output_file), exist_ok=True)\n",
    "        np.savez_compressed(output_file, X=X_array, y=y_array)\n",
    "        print(f\"\\n✅ Saved LSTM dataset to {output_file} with shape X: {X_array.shape}, y: {y_array.shape}\")\n",
    "    else:\n",
    "        print(f\"\\n✅ Prepared in-memory dataset with shape X: {X_array.shape}, y: {y_array.shape}\")\n",
    "\n",
    "    return X_array, y_array"
   ]
  },
  {
   "cell_type": "code",
   "execution_count": 2,
   "id": "36e41028",
   "metadata": {},
   "outputs": [],
   "source": [
    "import os\n",
    "import pandas as pd\n",
    "\n",
    "def split_lstm_by_date(input_dir=\"data/labeled_features\",\n",
    "                       output_dir=\"data/labeled_split\",\n",
    "                       cutoff_date=\"2023-01-01\"):\n",
    "    \"\"\"\n",
    "    For each ticker labeled CSV, split by date BEFORE window slicing.\n",
    "    Saves train/test CSVs per ticker.\n",
    "    \"\"\"\n",
    "    os.makedirs(os.path.join(output_dir, \"train\"), exist_ok=True)\n",
    "    os.makedirs(os.path.join(output_dir, \"test\"), exist_ok=True)\n",
    "\n",
    "    files = [f for f in os.listdir(input_dir) if f.endswith(\"_labeled.csv\")]\n",
    "\n",
    "    for i, file in enumerate(files):\n",
    "        ticker = file.replace(\"_labeled.csv\", \"\")\n",
    "        path = os.path.join(input_dir, file)\n",
    "        try:\n",
    "            df = pd.read_csv(path, parse_dates=['Date'])\n",
    "\n",
    "            train_df = df[df['Date'] < cutoff_date].reset_index(drop=True)\n",
    "            test_df = df[df['Date'] >= cutoff_date].reset_index(drop=True)\n",
    "\n",
    "            train_path = os.path.join(output_dir, \"train\", f\"{ticker}_train.csv\")\n",
    "            test_path = os.path.join(output_dir, \"test\", f\"{ticker}_test.csv\")\n",
    "\n",
    "            train_df.to_csv(train_path, index=False)\n",
    "            test_df.to_csv(test_path, index=False)\n",
    "\n",
    "            print(f\"[{i+1}/{len(files)}] ✅ {ticker}: train {len(train_df)} rows, test {len(test_df)} rows\")\n",
    "\n",
    "        except Exception as e:\n",
    "            print(f\"[{i+1}/{len(files)}] ❌ Failed for {ticker}: {e}\")"
   ]
  },
  {
   "cell_type": "code",
   "execution_count": 4,
   "id": "62a77140",
   "metadata": {},
   "outputs": [
    {
     "name": "stdout",
     "output_type": "stream",
     "text": [
      "📂 Found 503 labeled CSVs in data/labeled_split/train\n",
      "🧹 Ignoring columns: ['Date', 'Dividend_Yield', 'EPS_TTM', 'ForwardReturn', 'Label', 'Market_Cap', 'PE_Ratio', 'Ticker', 'VolThreshold']\n",
      "\n",
      "[1/503] ✅ Processed BKR: 1894 samples\n",
      "[2/503] ✅ Processed ON: 1894 samples\n",
      "[3/503] ✅ Processed FRT: 1894 samples\n",
      "[4/503] ✅ Processed GOOG: 1894 samples\n",
      "[5/503] ✅ Processed WAT: 1894 samples\n",
      "[6/503] ✅ Processed NVR: 1894 samples\n",
      "[7/503] ✅ Processed UAL: 1894 samples\n",
      "[8/503] ✅ Processed VICI: 1139 samples\n",
      "[9/503] ✅ Processed SJM: 1894 samples\n",
      "[10/503] ✅ Processed UBER: 799 samples\n",
      "[11/503] ✅ Processed ABBV: 1894 samples\n",
      "[12/503] ✅ Processed ECL: 1894 samples\n",
      "[13/503] ✅ Processed CTAS: 1894 samples\n",
      "[14/503] ✅ Processed HD: 1894 samples\n",
      "[15/503] ✅ Processed POOL: 1894 samples\n",
      "[16/503] ✅ Processed EG: 1894 samples\n",
      "[17/503] ✅ Processed EIX: 1894 samples\n",
      "[18/503] ✅ Processed RCL: 1894 samples\n",
      "[19/503] ✅ Processed TTD: 1461 samples\n",
      "[20/503] ✅ Processed LII: 1894 samples\n",
      "[21/503] ✅ Processed WMB: 1894 samples\n",
      "[22/503] ✅ Processed XEL: 1894 samples\n",
      "[23/503] ✅ Processed IPG: 1894 samples\n",
      "[24/503] ✅ Processed BBY: 1894 samples\n",
      "[25/503] ✅ Processed DUK: 1894 samples\n",
      "[26/503] ✅ Processed DHR: 1894 samples\n",
      "[27/503] ✅ Processed GM: 1894 samples\n",
      "[28/503] ✅ Processed INTC: 1894 samples\n",
      "[29/503] ✅ Processed MMM: 1894 samples\n",
      "[30/503] ✅ Processed FICO: 1894 samples\n",
      "[31/503] ✅ Processed META: 1894 samples\n",
      "[32/503] ✅ Processed VRTX: 1894 samples\n",
      "[33/503] ✅ Processed JBHT: 1894 samples\n",
      "[34/503] ✅ Processed VRSK: 1894 samples\n",
      "[35/503] ✅ Processed IBM: 1894 samples\n",
      "[36/503] ✅ Processed GL: 1894 samples\n",
      "[37/503] ✅ Processed CLX: 1894 samples\n",
      "[38/503] ✅ Processed FANG: 1894 samples\n",
      "[39/503] ✅ Processed HII: 1894 samples\n",
      "[40/503] ✅ Processed ABNB: 398 samples\n",
      "[41/503] ✅ Processed PFG: 1894 samples\n",
      "[42/503] ✅ Processed LYB: 1894 samples\n",
      "[43/503] ✅ Processed HPE: 1694 samples\n",
      "[44/503] ✅ Processed DPZ: 1894 samples\n",
      "[45/503] ✅ Processed MGM: 1894 samples\n",
      "[46/503] ✅ Processed NXPI: 1894 samples\n",
      "[47/503] ✅ Processed EQIX: 1894 samples\n",
      "[48/503] ✅ Processed UNP: 1894 samples\n",
      "[49/503] ✅ Processed CNC: 1894 samples\n",
      "[50/503] ✅ Processed MCO: 1894 samples\n",
      "[51/503] ✅ Processed MKC: 1894 samples\n",
      "[52/503] ✅ Processed SWK: 1894 samples\n",
      "[53/503] ✅ Processed DIS: 1894 samples\n",
      "[54/503] ✅ Processed TSN: 1894 samples\n",
      "[55/503] ✅ Processed CL: 1894 samples\n",
      "[56/503] ✅ Processed INTU: 1894 samples\n",
      "[57/503] ✅ Processed LHX: 1894 samples\n",
      "[58/503] ✅ Processed WM: 1894 samples\n",
      "[59/503] ✅ Processed PRU: 1894 samples\n",
      "[60/503] ✅ Processed NVDA: 1894 samples\n",
      "[61/503] ✅ Processed DRI: 1894 samples\n",
      "[62/503] ✅ Processed RL: 1894 samples\n",
      "[63/503] ✅ Processed APTV: 1894 samples\n",
      "[64/503] ✅ Processed WAB: 1894 samples\n",
      "[65/503] ✅ Processed OXY: 1894 samples\n",
      "[66/503] ✅ Processed DLTR: 1894 samples\n",
      "[67/503] ✅ Processed MLM: 1894 samples\n",
      "[68/503] ✅ Processed HOLX: 1894 samples\n",
      "[69/503] ✅ Processed NWSA: 1894 samples\n",
      "[70/503] ✅ Processed AMP: 1894 samples\n",
      "[71/503] ✅ Processed ORCL: 1894 samples\n",
      "[72/503] ✅ Processed UHS: 1894 samples\n",
      "[73/503] ✅ Processed DGX: 1894 samples\n",
      "[74/503] ✅ Processed PAYC: 1894 samples\n",
      "[75/503] ✅ Processed ADP: 1894 samples\n",
      "[76/503] ✅ Processed GOOGL: 1894 samples\n",
      "[77/503] ✅ Processed AOS: 1894 samples\n",
      "[78/503] ✅ Processed ALB: 1894 samples\n",
      "[79/503] ✅ Processed CMI: 1894 samples\n",
      "[80/503] ✅ Processed EBAY: 1894 samples\n",
      "[81/503] ✅ Processed TXT: 1894 samples\n",
      "[82/503] ✅ Processed COO: 1894 samples\n",
      "[83/503] ✅ Processed GILD: 1894 samples\n",
      "[84/503] ✅ Processed TRGP: 1894 samples\n",
      "[85/503] ✅ Processed PSA: 1894 samples\n",
      "[86/503] ✅ Processed IP: 1894 samples\n",
      "[87/503] ✅ Processed CAT: 1894 samples\n",
      "[88/503] ✅ Processed ARE: 1894 samples\n",
      "[89/503] ✅ Processed CCL: 1894 samples\n",
      "[90/503] ✅ Processed WMT: 1894 samples\n",
      "[91/503] ✅ Processed OKE: 1894 samples\n",
      "[92/503] ✅ Processed MOH: 1894 samples\n",
      "[93/503] ✅ Processed ADM: 1894 samples\n",
      "[94/503] ✅ Processed DELL: 1485 samples\n",
      "[95/503] ✅ Processed TRMB: 1894 samples\n",
      "[96/503] ✅ Processed CRL: 1894 samples\n",
      "[97/503] ✅ Processed REG: 1894 samples\n",
      "[98/503] ✅ Processed AEE: 1894 samples\n",
      "[99/503] ✅ Processed MDT: 1894 samples\n",
      "[100/503] ✅ Processed L: 1894 samples\n",
      "[101/503] ✅ Processed PWR: 1894 samples\n",
      "[102/503] ✅ Processed DG: 1894 samples\n",
      "[103/503] ✅ Processed ESS: 1894 samples\n",
      "[104/503] ✅ Processed K: 1894 samples\n",
      "[105/503] ✅ Processed EA: 1894 samples\n",
      "[106/503] ✅ Processed TEL: 1894 samples\n",
      "[107/503] ✅ Processed GRMN: 1894 samples\n",
      "[108/503] ✅ Processed AVGO: 1894 samples\n",
      "[109/503] ✅ Processed SRE: 1894 samples\n",
      "[110/503] ✅ Processed MSFT: 1894 samples\n",
      "[111/503] ✅ Processed AZO: 1894 samples\n",
      "[112/503] ✅ Processed TROW: 1894 samples\n",
      "[113/503] ✅ Processed COF: 1894 samples\n",
      "[114/503] ✅ Processed BALL: 1894 samples\n",
      "[115/503] ✅ Processed HUBB: 1894 samples\n",
      "[116/503] ✅ Processed MSCI: 1894 samples\n",
      "[117/503] ✅ Processed AEP: 1894 samples\n",
      "[118/503] ✅ Processed INVH: 1370 samples\n",
      "[119/503] ✅ Processed OTIS: 583 samples\n",
      "[120/503] ✅ Processed ADSK: 1894 samples\n",
      "[121/503] ✅ Processed STLD: 1894 samples\n",
      "[122/503] ✅ Processed DECK: 1894 samples\n",
      "[123/503] ✅ Processed FI: 1894 samples\n",
      "[124/503] ✅ Processed MDLZ: 1894 samples\n",
      "[125/503] ✅ Processed WEC: 1894 samples\n",
      "[126/503] ✅ Processed TMUS: 1894 samples\n",
      "[127/503] ✅ Processed EQT: 1894 samples\n",
      "[128/503] ✅ Processed HAL: 1894 samples\n",
      "[129/503] ✅ Processed IVZ: 1894 samples\n",
      "[130/503] ✅ Processed KLAC: 1894 samples\n",
      "[131/503] ✅ Processed PODD: 1894 samples\n",
      "[132/503] ✅ Processed NSC: 1894 samples\n",
      "[133/503] ✅ Processed WYNN: 1894 samples\n",
      "[134/503] ✅ Processed VST: 1451 samples\n",
      "[135/503] ✅ Processed BR: 1894 samples\n",
      "[136/503] ✅ Processed NEE: 1894 samples\n",
      "[137/503] ✅ Processed LNT: 1894 samples\n",
      "[138/503] ✅ Processed TDY: 1894 samples\n",
      "[139/503] ✅ Processed ES: 1894 samples\n",
      "[140/503] ✅ Processed BRK-B: 1894 samples\n",
      "[141/503] ✅ Processed NOC: 1894 samples\n",
      "[142/503] ✅ Processed CVX: 1894 samples\n",
      "[143/503] ✅ Processed FTNT: 1894 samples\n",
      "[144/503] ✅ Processed OMC: 1894 samples\n",
      "[145/503] ✅ Processed PM: 1894 samples\n",
      "[146/503] ✅ Processed INCY: 1894 samples\n",
      "[147/503] ✅ Processed CZR: 1894 samples\n",
      "[148/503] ✅ Processed TSLA: 1894 samples\n",
      "[149/503] ✅ Processed APD: 1894 samples\n",
      "[150/503] ✅ Processed CFG: 1894 samples\n",
      "[151/503] ✅ Processed AIZ: 1894 samples\n",
      "[152/503] ✅ Processed ENPH: 1894 samples\n",
      "[153/503] ✅ Processed CSCO: 1894 samples\n",
      "[154/503] ✅ Processed PNW: 1894 samples\n",
      "[155/503] ✅ Processed CSX: 1894 samples\n",
      "[156/503] ✅ Processed EXE: 357 samples\n",
      "[157/503] ✅ Processed XYL: 1894 samples\n",
      "[158/503] ✅ Processed TJX: 1894 samples\n",
      "[159/503] ✅ Processed URI: 1894 samples\n",
      "[160/503] ✅ Processed PEP: 1894 samples\n",
      "[161/503] ✅ Processed AVB: 1894 samples\n",
      "[162/503] ✅ Processed TMO: 1894 samples\n",
      "[163/503] ✅ Processed GIS: 1894 samples\n",
      "[164/503] ✅ Processed ROST: 1894 samples\n",
      "[165/503] ✅ Processed PSKY: 1894 samples\n",
      "[166/503] ✅ Processed IQV: 1894 samples\n",
      "[167/503] ✅ Processed KHC: 1768 samples\n",
      "[168/503] ✅ Processed ZTS: 1894 samples\n",
      "[169/503] ✅ Processed HSY: 1894 samples\n",
      "[170/503] ✅ Processed CRWD: 777 samples\n",
      "[171/503] ✅ Processed LW: 1425 samples\n",
      "[172/503] ✅ Processed LDOS: 1894 samples\n",
      "[173/503] ✅ Processed KR: 1894 samples\n",
      "[174/503] ✅ Processed JBL: 1894 samples\n",
      "[175/503] ✅ Processed APO: 1894 samples\n",
      "[176/503] ✅ Processed IEX: 1894 samples\n",
      "[177/503] ✅ Processed APH: 1894 samples\n",
      "[178/503] ✅ Processed FOX: 840 samples\n",
      "[179/503] ✅ Processed ICE: 1894 samples\n",
      "[180/503] ✅ Processed ADI: 1894 samples\n",
      "[181/503] ✅ Processed VTR: 1894 samples\n",
      "[182/503] ✅ Processed CHD: 1894 samples\n",
      "[183/503] ✅ Processed KO: 1894 samples\n",
      "[184/503] ✅ Processed TER: 1894 samples\n",
      "[185/503] ✅ Processed DE: 1894 samples\n",
      "[186/503] ✅ Processed MAR: 1894 samples\n",
      "[187/503] ✅ Processed ELV: 1894 samples\n",
      "[188/503] ✅ Processed PPG: 1894 samples\n",
      "[189/503] ✅ Processed PLTR: 448 samples\n",
      "[190/503] ⚠️ Skipped KVUE (not enough data, rows=0)\n",
      "[191/503] ✅ Processed DDOG: 708 samples\n",
      "[192/503] ✅ Processed LIN: 1894 samples\n",
      "[193/503] ✅ Processed NUE: 1894 samples\n",
      "[194/503] ✅ Processed EMR: 1894 samples\n",
      "[195/503] ✅ Processed AIG: 1894 samples\n",
      "[196/503] ✅ Processed DXCM: 1894 samples\n",
      "[197/503] ✅ Processed O: 1894 samples\n",
      "[198/503] ✅ Processed CB: 1894 samples\n",
      "[199/503] ✅ Processed BSX: 1894 samples\n",
      "[200/503] ✅ Processed MHK: 1894 samples\n",
      "[201/503] ✅ Processed TPL: 1894 samples\n",
      "[202/503] ✅ Processed WFC: 1894 samples\n",
      "[203/503] ✅ Processed SPG: 1894 samples\n",
      "[204/503] ✅ Processed EFX: 1894 samples\n",
      "[205/503] ✅ Processed VTRS: 1894 samples\n",
      "[206/503] ✅ Processed NEM: 1894 samples\n",
      "[207/503] ✅ Processed AON: 1894 samples\n",
      "[208/503] ✅ Processed ALGN: 1894 samples\n",
      "[209/503] ✅ Processed KMB: 1894 samples\n",
      "[210/503] ✅ Processed COIN: 314 samples\n",
      "[211/503] ✅ Processed NFLX: 1894 samples\n",
      "[212/503] ✅ Processed MA: 1894 samples\n",
      "[213/503] ✅ Processed GPN: 1894 samples\n",
      "[214/503] ✅ Processed CTVA: 789 samples\n",
      "[215/503] ✅ Processed MTD: 1894 samples\n",
      "[216/503] ✅ Processed ALL: 1894 samples\n",
      "[217/503] ⚠️ Skipped VLTO (not enough data, rows=0)\n",
      "[218/503] ✅ Processed LLY: 1894 samples\n",
      "[219/503] ✅ Processed WTW: 1894 samples\n",
      "[220/503] ✅ Processed PG: 1894 samples\n",
      "[221/503] ✅ Processed KMI: 1894 samples\n",
      "[222/503] ✅ Processed GWW: 1894 samples\n",
      "[223/503] ✅ Processed SHW: 1894 samples\n",
      "[224/503] ✅ Processed AME: 1894 samples\n",
      "[225/503] ✅ Processed HLT: 1894 samples\n",
      "[226/503] ✅ Processed DVN: 1894 samples\n",
      "[227/503] ✅ Processed ISRG: 1894 samples\n",
      "[228/503] ✅ Processed MAA: 1894 samples\n",
      "[229/503] ✅ Processed WDAY: 1894 samples\n",
      "[230/503] ✅ Processed WBA: 1894 samples\n",
      "[231/503] ✅ Processed EQR: 1894 samples\n",
      "[232/503] ✅ Processed PLD: 1894 samples\n",
      "[233/503] ✅ Processed CDW: 1894 samples\n",
      "[234/503] ✅ Processed BG: 1894 samples\n",
      "[235/503] ✅ Processed AJG: 1894 samples\n",
      "[236/503] ✅ Processed NDAQ: 1894 samples\n",
      "[237/503] ✅ Processed MS: 1894 samples\n",
      "[238/503] ✅ Processed XYZ: 1671 samples\n",
      "[239/503] ✅ Processed TAP: 1894 samples\n",
      "[240/503] ✅ Processed DOC: 1894 samples\n",
      "[241/503] ✅ Processed ATO: 1894 samples\n",
      "[242/503] ✅ Processed GE: 1894 samples\n",
      "[243/503] ✅ Processed CF: 1894 samples\n",
      "[244/503] ✅ Processed PANW: 1894 samples\n",
      "[245/503] ✅ Processed CMS: 1894 samples\n",
      "[246/503] ✅ Processed TKO: 1894 samples\n",
      "[247/503] ✅ Processed DD: 1894 samples\n",
      "[248/503] ✅ Processed EXPD: 1894 samples\n",
      "[249/503] ✅ Processed WY: 1894 samples\n",
      "[250/503] ✅ Processed CPRT: 1894 samples\n",
      "[251/503] ✅ Processed AXON: 1894 samples\n",
      "[252/503] ✅ Processed IDXX: 1894 samples\n",
      "[253/503] ✅ Processed XOM: 1894 samples\n",
      "[254/503] ✅ Processed LRCX: 1894 samples\n",
      "[255/503] ✅ Processed FCX: 1894 samples\n",
      "[256/503] ✅ Processed EMN: 1894 samples\n",
      "[257/503] ✅ Processed NTAP: 1894 samples\n",
      "[258/503] ✅ Processed PCAR: 1894 samples\n",
      "[259/503] ✅ Processed VZ: 1894 samples\n",
      "[260/503] ✅ Processed SMCI: 1894 samples\n",
      "[261/503] ✅ Processed PCG: 1894 samples\n",
      "[262/503] ✅ Processed CPAY: 1894 samples\n",
      "[263/503] ✅ Processed TPR: 1894 samples\n",
      "[264/503] ✅ Processed BK: 1894 samples\n",
      "[265/503] ✅ Processed EXR: 1894 samples\n",
      "[266/503] ✅ Processed BAX: 1894 samples\n",
      "[267/503] ✅ Processed WBD: 1894 samples\n",
      "[268/503] ✅ Processed AMCR: 1642 samples\n",
      "[269/503] ✅ Processed ODFL: 1894 samples\n",
      "[270/503] ✅ Processed HCA: 1894 samples\n",
      "[271/503] ✅ Processed AVY: 1894 samples\n",
      "[272/503] ✅ Processed MSI: 1894 samples\n",
      "[273/503] ✅ Processed DAL: 1894 samples\n",
      "[274/503] ✅ Processed NWS: 1894 samples\n",
      "[275/503] ✅ Processed NOW: 1894 samples\n",
      "[276/503] ✅ Processed ORLY: 1894 samples\n",
      "[277/503] ✅ Processed DASH: 399 samples\n",
      "[278/503] ✅ Processed IRM: 1894 samples\n",
      "[279/503] ✅ Processed RSG: 1894 samples\n",
      "[280/503] ✅ Processed CINF: 1894 samples\n",
      "[281/503] ✅ Processed STE: 1894 samples\n",
      "[282/503] ✅ Processed MKTX: 1894 samples\n",
      "[283/503] ✅ Processed DOV: 1894 samples\n",
      "[284/503] ✅ Processed FOXA: 841 samples\n",
      "[285/503] ✅ Processed CVS: 1894 samples\n",
      "[286/503] ✅ Processed DTE: 1894 samples\n",
      "[287/503] ✅ Processed HUM: 1894 samples\n",
      "[288/503] ✅ Processed AMZN: 1894 samples\n",
      "[289/503] ✅ Processed MU: 1894 samples\n",
      "[290/503] ✅ Processed UNH: 1894 samples\n",
      "[291/503] ✅ Processed KKR: 1894 samples\n",
      "[292/503] ✅ Processed UPS: 1894 samples\n",
      "[293/503] ⚠️ Skipped GEV (not enough data, rows=0)\n",
      "[294/503] ✅ Processed ULTA: 1894 samples\n",
      "[295/503] ✅ Processed ERIE: 1894 samples\n",
      "[296/503] ✅ Processed YUM: 1894 samples\n",
      "[297/503] ✅ Processed DAY: 1060 samples\n",
      "[298/503] ✅ Processed ROP: 1894 samples\n",
      "[299/503] ✅ Processed SBAC: 1894 samples\n",
      "[300/503] ✅ Processed CBRE: 1894 samples\n",
      "[301/503] ✅ Processed BX: 1894 samples\n",
      "[302/503] ✅ Processed SNPS: 1894 samples\n",
      "[303/503] ✅ Processed NCLH: 1894 samples\n",
      "[304/503] ✅ Processed PNC: 1894 samples\n",
      "[305/503] ✅ Processed LULU: 1894 samples\n",
      "[306/503] ✅ Processed MTB: 1894 samples\n",
      "[307/503] ✅ Processed HAS: 1894 samples\n",
      "[308/503] ⚠️ Skipped SOLV (not enough data, rows=0)\n",
      "[309/503] ✅ Processed WRB: 1894 samples\n",
      "[310/503] ✅ Processed CTSH: 1894 samples\n",
      "[311/503] ✅ Processed ROL: 1894 samples\n",
      "[312/503] ✅ Processed AAPL: 1894 samples\n",
      "[313/503] ✅ Processed LVS: 1894 samples\n",
      "[314/503] ✅ Processed MTCH: 1894 samples\n",
      "[315/503] ✅ Processed COP: 1894 samples\n",
      "[316/503] ✅ Processed SBUX: 1894 samples\n",
      "[317/503] ✅ Processed AKAM: 1894 samples\n",
      "[318/503] ✅ Processed EVRG: 1894 samples\n",
      "[319/503] ✅ Processed TRV: 1894 samples\n",
      "[320/503] ✅ Processed AES: 1894 samples\n",
      "[321/503] ✅ Processed AMD: 1894 samples\n",
      "[322/503] ✅ Processed MCD: 1894 samples\n",
      "[323/503] ✅ Processed ZBH: 1894 samples\n",
      "[324/503] ✅ Processed FAST: 1894 samples\n",
      "[325/503] ✅ Processed TTWO: 1894 samples\n",
      "[326/503] ✅ Processed A: 1894 samples\n",
      "[327/503] ✅ Processed MCHP: 1894 samples\n",
      "[328/503] ✅ Processed SLB: 1894 samples\n",
      "[329/503] ✅ Processed BF-B: 1894 samples\n",
      "[330/503] ✅ Processed PKG: 1894 samples\n",
      "[331/503] ✅ Processed ADBE: 1894 samples\n",
      "[332/503] ✅ Processed SW: 1820 samples\n",
      "[333/503] ✅ Processed PH: 1894 samples\n",
      "[334/503] ✅ Processed EL: 1894 samples\n",
      "[335/503] ✅ Processed RF: 1894 samples\n",
      "[336/503] ✅ Processed CCI: 1894 samples\n",
      "[337/503] ✅ Processed CTRA: 1894 samples\n",
      "[338/503] ✅ Processed HRL: 1894 samples\n",
      "[339/503] ✅ Processed PEG: 1894 samples\n",
      "[340/503] ✅ Processed HIG: 1894 samples\n",
      "[341/503] ✅ Processed PPL: 1894 samples\n",
      "[342/503] ✅ Processed VRSN: 1894 samples\n",
      "[343/503] ✅ Processed BLK: 1894 samples\n",
      "[344/503] ✅ Processed WDC: 1894 samples\n",
      "[345/503] ✅ Processed CHRW: 1894 samples\n",
      "[346/503] ✅ Processed AFL: 1894 samples\n",
      "[347/503] ✅ Processed APA: 1894 samples\n",
      "[348/503] ✅ Processed NKE: 1894 samples\n",
      "[349/503] ✅ Processed CAH: 1894 samples\n",
      "[350/503] ✅ Processed CDNS: 1894 samples\n",
      "[351/503] ✅ Processed KEY: 1894 samples\n",
      "[352/503] ✅ Processed LMT: 1894 samples\n",
      "[353/503] ✅ Processed CAG: 1894 samples\n",
      "[354/503] ✅ Processed SYF: 1894 samples\n",
      "[355/503] ✅ Processed PAYX: 1894 samples\n",
      "[356/503] ✅ Processed KEYS: 1894 samples\n",
      "[357/503] ✅ Processed BIIB: 1894 samples\n",
      "[358/503] ✅ Processed CSGP: 1894 samples\n",
      "[359/503] ✅ Processed AMAT: 1894 samples\n",
      "[360/503] ✅ Processed MRNA: 904 samples\n",
      "[361/503] ✅ Processed JNJ: 1894 samples\n",
      "[362/503] ✅ Processed PFE: 1894 samples\n",
      "[363/503] ✅ Processed T: 1894 samples\n",
      "[364/503] ✅ Processed ED: 1894 samples\n",
      "[365/503] ✅ Processed MRK: 1894 samples\n",
      "[366/503] ✅ Processed MPC: 1894 samples\n",
      "[367/503] ✅ Processed UDR: 1894 samples\n",
      "[368/503] ✅ Processed MO: 1894 samples\n",
      "[369/503] ✅ Processed GD: 1894 samples\n",
      "[370/503] ✅ Processed NTRS: 1894 samples\n",
      "[371/503] ✅ Processed STZ: 1894 samples\n",
      "[372/503] ✅ Processed CPT: 1894 samples\n",
      "[373/503] ✅ Processed HPQ: 1894 samples\n",
      "[374/503] ✅ Processed AWK: 1894 samples\n",
      "[375/503] ✅ Processed MOS: 1894 samples\n",
      "[376/503] ✅ Processed BAC: 1894 samples\n",
      "[377/503] ✅ Processed FDX: 1894 samples\n",
      "[378/503] ✅ Processed HST: 1894 samples\n",
      "[379/503] ✅ Processed CME: 1894 samples\n",
      "[380/503] ✅ Processed KIM: 1894 samples\n",
      "[381/503] ✅ Processed TGT: 1894 samples\n",
      "[382/503] ✅ Processed ZBRA: 1894 samples\n",
      "[383/503] ✅ Processed GEN: 1894 samples\n",
      "[384/503] ✅ Processed FE: 1894 samples\n",
      "[385/503] ✅ Processed FFIV: 1894 samples\n",
      "[386/503] ✅ Processed DLR: 1894 samples\n",
      "[387/503] ✅ Processed AMGN: 1894 samples\n",
      "[388/503] ✅ Processed JPM: 1894 samples\n",
      "[389/503] ✅ Processed MCK: 1894 samples\n",
      "[390/503] ✅ Processed EPAM: 1894 samples\n",
      "[391/503] ✅ Processed GNRC: 1894 samples\n",
      "[392/503] ✅ Processed PSX: 1894 samples\n",
      "[393/503] ✅ Processed AXP: 1894 samples\n",
      "[394/503] ✅ Processed COST: 1894 samples\n",
      "[395/503] ✅ Processed LYV: 1894 samples\n",
      "[396/503] ✅ Processed ITW: 1894 samples\n",
      "[397/503] ✅ Processed LH: 1894 samples\n",
      "[398/503] ✅ Processed REGN: 1894 samples\n",
      "[399/503] ✅ Processed ABT: 1894 samples\n",
      "[400/503] ✅ Processed HBAN: 1894 samples\n",
      "[401/503] ✅ Processed FTV: 1516 samples\n",
      "[402/503] ✅ Processed CPB: 1894 samples\n",
      "[403/503] ✅ Processed F: 1894 samples\n",
      "[404/503] ✅ Processed KMX: 1894 samples\n",
      "[405/503] ✅ Processed BMY: 1894 samples\n",
      "[406/503] ✅ Processed CBOE: 1894 samples\n",
      "[407/503] ✅ Processed COR: 1894 samples\n",
      "[408/503] ✅ Processed VMC: 1894 samples\n",
      "[409/503] ✅ Processed ETR: 1894 samples\n",
      "[410/503] ✅ Processed SYK: 1894 samples\n",
      "[411/503] ✅ Processed WST: 1894 samples\n",
      "[412/503] ✅ Processed HON: 1894 samples\n",
      "[413/503] ✅ Processed LEN: 1894 samples\n",
      "[414/503] ✅ Processed CMCSA: 1894 samples\n",
      "[415/503] ✅ Processed TFC: 1894 samples\n",
      "[416/503] ✅ Processed FSLR: 1894 samples\n",
      "[417/503] ✅ Processed NRG: 1894 samples\n",
      "[418/503] ✅ Processed VLO: 1894 samples\n",
      "[419/503] ✅ Processed RTX: 1894 samples\n",
      "[420/503] ✅ Processed CARR: 583 samples\n",
      "[421/503] ✅ Processed NDSN: 1894 samples\n",
      "[422/503] ✅ Processed J: 1894 samples\n",
      "[423/503] ✅ Processed LKQ: 1894 samples\n",
      "[424/503] ✅ Processed HWM: 1432 samples\n",
      "[425/503] ✅ Processed ALLE: 1894 samples\n",
      "[426/503] ✅ Processed TYL: 1894 samples\n",
      "[427/503] ✅ Processed C: 1894 samples\n",
      "[428/503] ✅ Processed PHM: 1894 samples\n",
      "[429/503] ✅ Processed HSIC: 1894 samples\n",
      "[430/503] ✅ Processed QCOM: 1894 samples\n",
      "[431/503] ✅ Processed USB: 1894 samples\n",
      "[432/503] ✅ Processed FIS: 1894 samples\n",
      "[433/503] ✅ Processed ACN: 1894 samples\n",
      "[434/503] ✅ Processed GDDY: 1834 samples\n",
      "[435/503] ✅ Processed MMC: 1894 samples\n",
      "[436/503] ✅ Processed FITB: 1894 samples\n",
      "[437/503] ✅ Processed TXN: 1894 samples\n",
      "[438/503] ✅ Processed DOW: 835 samples\n",
      "[439/503] ✅ Processed EXPE: 1894 samples\n",
      "[440/503] ✅ Processed GPC: 1894 samples\n",
      "[441/503] ✅ Processed BEN: 1894 samples\n",
      "[442/503] ✅ Processed PGR: 1894 samples\n",
      "[443/503] ✅ Processed PNR: 1894 samples\n",
      "[444/503] ✅ Processed CMG: 1894 samples\n",
      "[445/503] ✅ Processed MET: 1894 samples\n",
      "[446/503] ✅ Processed BKNG: 1894 samples\n",
      "[447/503] ✅ Processed BDX: 1894 samples\n",
      "[448/503] ✅ Processed TSCO: 1894 samples\n",
      "[449/503] ✅ Processed IR: 1300 samples\n",
      "[450/503] ✅ Processed RJF: 1894 samples\n",
      "[451/503] ✅ Processed CI: 1894 samples\n",
      "[452/503] ✅ Processed WSM: 1894 samples\n",
      "[453/503] ✅ Processed JKHY: 1894 samples\n",
      "[454/503] ✅ Processed PTC: 1894 samples\n",
      "[455/503] ✅ Processed SCHW: 1894 samples\n",
      "[456/503] ✅ Processed RMD: 1894 samples\n",
      "[457/503] ✅ Processed CEG: 120 samples\n",
      "[458/503] ✅ Processed GLW: 1894 samples\n",
      "[459/503] ✅ Processed TT: 1894 samples\n",
      "[460/503] ✅ Processed BRO: 1894 samples\n",
      "[461/503] ✅ Processed BLDR: 1894 samples\n",
      "[462/503] ✅ Processed RVTY: 1894 samples\n",
      "[463/503] ✅ Processed V: 1894 samples\n",
      "[464/503] ✅ Processed ACGL: 1894 samples\n",
      "[465/503] ✅ Processed STX: 1894 samples\n",
      "[466/503] ✅ Processed TDG: 1894 samples\n",
      "[467/503] ✅ Processed CNP: 1894 samples\n",
      "[468/503] ✅ Processed ANET: 1894 samples\n",
      "[469/503] ✅ Processed NI: 1894 samples\n",
      "[470/503] ✅ Processed EOG: 1894 samples\n",
      "[471/503] ✅ Processed LOW: 1894 samples\n",
      "[472/503] ✅ Processed EXC: 1894 samples\n",
      "[473/503] ✅ Processed ROK: 1894 samples\n",
      "[474/503] ✅ Processed KDP: 1894 samples\n",
      "[475/503] ✅ Processed LUV: 1894 samples\n",
      "[476/503] ✅ Processed SYY: 1894 samples\n",
      "[477/503] ✅ Processed SWKS: 1894 samples\n",
      "[478/503] ⚠️ Skipped GEHC (not enough data, rows=0)\n",
      "[479/503] ✅ Processed MAS: 1894 samples\n",
      "[480/503] ✅ Processed PYPL: 1768 samples\n",
      "[481/503] ✅ Processed SPGI: 1894 samples\n",
      "[482/503] ✅ Processed FDS: 1894 samples\n",
      "[483/503] ✅ Processed IFF: 1894 samples\n",
      "[484/503] ✅ Processed IT: 1894 samples\n",
      "[485/503] ✅ Processed CRM: 1894 samples\n",
      "[486/503] ✅ Processed BA: 1894 samples\n",
      "[487/503] ✅ Processed D: 1894 samples\n",
      "[488/503] ✅ Processed GS: 1894 samples\n",
      "[489/503] ✅ Processed SNA: 1894 samples\n",
      "[490/503] ✅ Processed EW: 1894 samples\n",
      "[491/503] ✅ Processed CHTR: 1894 samples\n",
      "[492/503] ✅ Processed MNST: 1894 samples\n",
      "[493/503] ✅ Processed TECH: 1894 samples\n",
      "[494/503] ✅ Processed ETN: 1894 samples\n",
      "[495/503] ✅ Processed MPWR: 1894 samples\n",
      "[496/503] ✅ Processed JCI: 1894 samples\n",
      "[497/503] ✅ Processed WELL: 1894 samples\n",
      "[498/503] ✅ Processed SO: 1894 samples\n",
      "[499/503] ✅ Processed DVA: 1894 samples\n",
      "[500/503] ✅ Processed STT: 1894 samples\n",
      "[501/503] ✅ Processed BXP: 1894 samples\n",
      "[502/503] ✅ Processed AMT: 1894 samples\n",
      "[503/503] ✅ Processed DHI: 1894 samples\n",
      "\n",
      "✅ Saved LSTM dataset to data/lstm_train.npz with shape X: (916241, 60, 32), y: (916241,)\n",
      "📂 Found 503 labeled CSVs in data/labeled_split/test\n",
      "🧹 Ignoring columns: ['Date', 'Dividend_Yield', 'EPS_TTM', 'ForwardReturn', 'Label', 'Market_Cap', 'PE_Ratio', 'Ticker', 'VolThreshold']\n",
      "\n",
      "[1/503] ✅ Processed HOLX: 436 samples\n",
      "[2/503] ✅ Processed RCL: 436 samples\n",
      "[3/503] ✅ Processed PLD: 436 samples\n",
      "[4/503] ✅ Processed NWSA: 436 samples\n",
      "[5/503] ✅ Processed MTCH: 436 samples\n",
      "[6/503] ✅ Processed SPGI: 436 samples\n",
      "[7/503] ✅ Processed AMP: 436 samples\n",
      "[8/503] ✅ Processed SPG: 436 samples\n",
      "[9/503] ✅ Processed FANG: 436 samples\n",
      "[10/503] ✅ Processed MDLZ: 436 samples\n",
      "[11/503] ✅ Processed INTU: 436 samples\n",
      "[12/503] ✅ Processed AJG: 436 samples\n",
      "[13/503] ✅ Processed NEE: 436 samples\n",
      "[14/503] ✅ Processed BDX: 436 samples\n",
      "[15/503] ✅ Processed NKE: 436 samples\n",
      "[16/503] ✅ Processed GL: 436 samples\n",
      "[17/503] ✅ Processed DAL: 436 samples\n",
      "[18/503] ✅ Processed APA: 436 samples\n",
      "[19/503] ✅ Processed MMM: 436 samples\n",
      "[20/503] ✅ Processed LYB: 436 samples\n",
      "[21/503] ✅ Processed ADP: 436 samples\n",
      "[22/503] ✅ Processed CSGP: 436 samples\n",
      "[23/503] ✅ Processed FDS: 436 samples\n",
      "[24/503] ✅ Processed AEE: 436 samples\n",
      "[25/503] ✅ Processed AMZN: 436 samples\n",
      "[26/503] ✅ Processed CHD: 436 samples\n",
      "[27/503] ✅ Processed JCI: 436 samples\n",
      "[28/503] ✅ Processed PYPL: 436 samples\n",
      "[29/503] ✅ Processed TMO: 436 samples\n",
      "[30/503] ✅ Processed TJX: 436 samples\n",
      "[31/503] ✅ Processed WMT: 436 samples\n",
      "[32/503] ✅ Processed ADSK: 436 samples\n",
      "[33/503] ✅ Processed SWKS: 436 samples\n",
      "[34/503] ✅ Processed XEL: 436 samples\n",
      "[35/503] ✅ Processed IPG: 436 samples\n",
      "[36/503] ✅ Processed PPG: 436 samples\n",
      "[37/503] ✅ Processed AME: 436 samples\n",
      "[38/503] ✅ Processed ECL: 436 samples\n",
      "[39/503] ✅ Processed TKO: 436 samples\n",
      "[40/503] ✅ Processed WAT: 436 samples\n",
      "[41/503] ✅ Processed CME: 436 samples\n",
      "[42/503] ✅ Processed XOM: 436 samples\n",
      "[43/503] ✅ Processed DVA: 436 samples\n",
      "[44/503] ✅ Processed AFL: 436 samples\n",
      "[45/503] ✅ Processed PSA: 436 samples\n",
      "[46/503] ✅ Processed CL: 436 samples\n",
      "[47/503] ✅ Processed PODD: 436 samples\n",
      "[48/503] ✅ Processed VMC: 436 samples\n",
      "[49/503] ✅ Processed ALGN: 436 samples\n",
      "[50/503] ✅ Processed CHTR: 436 samples\n",
      "[51/503] ✅ Processed BAC: 436 samples\n",
      "[52/503] ✅ Processed CI: 436 samples\n",
      "[53/503] ✅ Processed LMT: 436 samples\n",
      "[54/503] ✅ Processed DG: 436 samples\n",
      "[55/503] ✅ Processed CPAY: 436 samples\n",
      "[56/503] ✅ Processed GDDY: 436 samples\n",
      "[57/503] ✅ Processed D: 436 samples\n",
      "[58/503] ✅ Processed STT: 436 samples\n",
      "[59/503] ✅ Processed CCI: 436 samples\n",
      "[60/503] ✅ Processed LVS: 436 samples\n",
      "[61/503] ✅ Processed MLM: 436 samples\n",
      "[62/503] ✅ Processed ITW: 436 samples\n",
      "[63/503] ✅ Processed MS: 436 samples\n",
      "[64/503] ✅ Processed AXON: 436 samples\n",
      "[65/503] ✅ Processed IRM: 436 samples\n",
      "[66/503] ✅ Processed XYL: 436 samples\n",
      "[67/503] ✅ Processed EXPE: 436 samples\n",
      "[68/503] ✅ Processed BR: 436 samples\n",
      "[69/503] ✅ Processed CRWD: 436 samples\n",
      "[70/503] ✅ Processed TGT: 436 samples\n",
      "[71/503] ✅ Processed LULU: 436 samples\n",
      "[72/503] ✅ Processed DECK: 436 samples\n",
      "[73/503] ✅ Processed PM: 436 samples\n",
      "[74/503] ✅ Processed VRSK: 436 samples\n",
      "[75/503] ✅ Processed WTW: 436 samples\n",
      "[76/503] ✅ Processed TMUS: 436 samples\n",
      "[77/503] ✅ Processed F: 436 samples\n",
      "[78/503] ✅ Processed AMT: 436 samples\n",
      "[79/503] ✅ Processed NI: 436 samples\n",
      "[80/503] ✅ Processed WFC: 436 samples\n",
      "[81/503] ✅ Processed REGN: 436 samples\n",
      "[82/503] ✅ Processed ROST: 436 samples\n",
      "[83/503] ✅ Processed GS: 436 samples\n",
      "[84/503] ✅ Processed LOW: 436 samples\n",
      "[85/503] ✅ Processed AKAM: 436 samples\n",
      "[86/503] ✅ Processed EPAM: 436 samples\n",
      "[87/503] ✅ Processed GIS: 436 samples\n",
      "[88/503] ✅ Processed BX: 436 samples\n",
      "[89/503] ✅ Processed GEV: 67 samples\n",
      "[90/503] ✅ Processed VICI: 436 samples\n",
      "[91/503] ✅ Processed HRL: 436 samples\n",
      "[92/503] ✅ Processed EMN: 436 samples\n",
      "[93/503] ✅ Processed ETR: 436 samples\n",
      "[94/503] ✅ Processed NCLH: 436 samples\n",
      "[95/503] ✅ Processed WMB: 436 samples\n",
      "[96/503] ✅ Processed FIS: 436 samples\n",
      "[97/503] ✅ Processed EQIX: 436 samples\n",
      "[98/503] ✅ Processed CVS: 436 samples\n",
      "[99/503] ✅ Processed MKTX: 436 samples\n",
      "[100/503] ✅ Processed BLDR: 436 samples\n",
      "[101/503] ✅ Processed FOX: 436 samples\n",
      "[102/503] ✅ Processed PGR: 436 samples\n",
      "[103/503] ✅ Processed K: 436 samples\n",
      "[104/503] ✅ Processed GPN: 436 samples\n",
      "[105/503] ✅ Processed UNH: 436 samples\n",
      "[106/503] ✅ Processed PG: 436 samples\n",
      "[107/503] ✅ Processed FICO: 436 samples\n",
      "[108/503] ✅ Processed TDG: 436 samples\n",
      "[109/503] ✅ Processed LHX: 436 samples\n",
      "[110/503] ✅ Processed RVTY: 436 samples\n",
      "[111/503] ✅ Processed RTX: 436 samples\n",
      "[112/503] ✅ Processed MU: 436 samples\n",
      "[113/503] ✅ Processed AMD: 436 samples\n",
      "[114/503] ✅ Processed BAX: 436 samples\n",
      "[115/503] ✅ Processed CPB: 436 samples\n",
      "[116/503] ✅ Processed LW: 436 samples\n",
      "[117/503] ✅ Processed CSCO: 436 samples\n",
      "[118/503] ✅ Processed FE: 436 samples\n",
      "[119/503] ✅ Processed CMCSA: 436 samples\n",
      "[120/503] ✅ Processed PLTR: 436 samples\n",
      "[121/503] ✅ Processed BF-B: 436 samples\n",
      "[122/503] ✅ Processed PTC: 436 samples\n",
      "[123/503] ✅ Processed PRU: 436 samples\n",
      "[124/503] ✅ Processed PEP: 436 samples\n",
      "[125/503] ✅ Processed INTC: 436 samples\n",
      "[126/503] ✅ Processed WAB: 436 samples\n",
      "[127/503] ✅ Processed LUV: 436 samples\n",
      "[128/503] ✅ Processed WELL: 436 samples\n",
      "[129/503] ✅ Processed AMAT: 436 samples\n",
      "[130/503] ✅ Processed EMR: 436 samples\n",
      "[131/503] ✅ Processed ORCL: 436 samples\n",
      "[132/503] ✅ Processed HIG: 436 samples\n",
      "[133/503] ✅ Processed GE: 436 samples\n",
      "[134/503] ✅ Processed TYL: 436 samples\n",
      "[135/503] ✅ Processed HBAN: 436 samples\n",
      "[136/503] ✅ Processed ED: 436 samples\n",
      "[137/503] ✅ Processed AWK: 436 samples\n",
      "[138/503] ✅ Processed CAG: 436 samples\n",
      "[139/503] ✅ Processed TXN: 436 samples\n",
      "[140/503] ✅ Processed A: 436 samples\n",
      "[141/503] ✅ Processed PNC: 436 samples\n",
      "[142/503] ✅ Processed WST: 436 samples\n",
      "[143/503] ✅ Processed IR: 436 samples\n",
      "[144/503] ✅ Processed CTAS: 436 samples\n",
      "[145/503] ✅ Processed STZ: 436 samples\n",
      "[146/503] ✅ Processed CBRE: 436 samples\n",
      "[147/503] ✅ Processed MCO: 436 samples\n",
      "[148/503] ✅ Processed SNPS: 436 samples\n",
      "[149/503] ✅ Processed ATO: 436 samples\n",
      "[150/503] ✅ Processed JKHY: 436 samples\n",
      "[151/503] ✅ Processed GEHC: 387 samples\n",
      "[152/503] ✅ Processed FTV: 436 samples\n",
      "[153/503] ✅ Processed HST: 436 samples\n",
      "[154/503] ✅ Processed GRMN: 436 samples\n",
      "[155/503] ✅ Processed RSG: 436 samples\n",
      "[156/503] ✅ Processed PSX: 436 samples\n",
      "[157/503] ✅ Processed ADM: 436 samples\n",
      "[158/503] ✅ Processed FSLR: 436 samples\n",
      "[159/503] ✅ Processed ELV: 436 samples\n",
      "[160/503] ✅ Processed KO: 436 samples\n",
      "[161/503] ✅ Processed ROP: 436 samples\n",
      "[162/503] ✅ Processed DGX: 436 samples\n",
      "[163/503] ✅ Processed GOOG: 436 samples\n",
      "[164/503] ✅ Processed LDOS: 436 samples\n",
      "[165/503] ✅ Processed EOG: 436 samples\n",
      "[166/503] ✅ Processed UNP: 436 samples\n",
      "[167/503] ✅ Processed EBAY: 436 samples\n",
      "[168/503] ✅ Processed LNT: 436 samples\n",
      "[169/503] ✅ Processed ALB: 436 samples\n",
      "[170/503] ✅ Processed DAY: 436 samples\n",
      "[171/503] ✅ Processed PCAR: 436 samples\n",
      "[172/503] ✅ Processed TSN: 436 samples\n",
      "[173/503] ✅ Processed TDY: 436 samples\n",
      "[174/503] ✅ Processed KVUE: 292 samples\n",
      "[175/503] ✅ Processed PCG: 436 samples\n",
      "[176/503] ✅ Processed QCOM: 436 samples\n",
      "[177/503] ✅ Processed MAA: 436 samples\n",
      "[178/503] ✅ Processed DOC: 436 samples\n",
      "[179/503] ✅ Processed LYV: 436 samples\n",
      "[180/503] ✅ Processed TECH: 436 samples\n",
      "[181/503] ✅ Processed UPS: 436 samples\n",
      "[182/503] ✅ Processed HSIC: 436 samples\n",
      "[183/503] ✅ Processed BXP: 436 samples\n",
      "[184/503] ✅ Processed PAYC: 436 samples\n",
      "[185/503] ✅ Processed SRE: 436 samples\n",
      "[186/503] ✅ Processed NDAQ: 436 samples\n",
      "[187/503] ✅ Processed IBM: 436 samples\n",
      "[188/503] ✅ Processed AVY: 436 samples\n",
      "[189/503] ✅ Processed CNC: 436 samples\n",
      "[190/503] ✅ Processed LEN: 436 samples\n",
      "[191/503] ✅ Processed ZBH: 436 samples\n",
      "[192/503] ✅ Processed ZBRA: 436 samples\n",
      "[193/503] ✅ Processed NEM: 436 samples\n",
      "[194/503] ✅ Processed CTSH: 436 samples\n",
      "[195/503] ✅ Processed ODFL: 436 samples\n",
      "[196/503] ✅ Processed NDSN: 436 samples\n",
      "[197/503] ✅ Processed NOW: 436 samples\n",
      "[198/503] ✅ Processed TRGP: 436 samples\n",
      "[199/503] ✅ Processed AVB: 436 samples\n",
      "[200/503] ✅ Processed PANW: 436 samples\n",
      "[201/503] ✅ Processed HAL: 436 samples\n",
      "[202/503] ✅ Processed APD: 436 samples\n",
      "[203/503] ✅ Processed KEYS: 436 samples\n",
      "[204/503] ✅ Processed PFE: 436 samples\n",
      "[205/503] ✅ Processed CPT: 436 samples\n",
      "[206/503] ✅ Processed ULTA: 436 samples\n",
      "[207/503] ✅ Processed NXPI: 436 samples\n",
      "[208/503] ✅ Processed RJF: 436 samples\n",
      "[209/503] ✅ Processed GEN: 436 samples\n",
      "[210/503] ✅ Processed JPM: 436 samples\n",
      "[211/503] ✅ Processed VTR: 436 samples\n",
      "[212/503] ✅ Processed DOV: 436 samples\n",
      "[213/503] ✅ Processed POOL: 436 samples\n",
      "[214/503] ✅ Processed COST: 436 samples\n",
      "[215/503] ✅ Processed KLAC: 436 samples\n",
      "[216/503] ✅ Processed C: 436 samples\n",
      "[217/503] ✅ Processed META: 436 samples\n",
      "[218/503] ✅ Processed CAT: 436 samples\n",
      "[219/503] ✅ Processed HCA: 436 samples\n",
      "[220/503] ✅ Processed ERIE: 436 samples\n",
      "[221/503] ✅ Processed BA: 436 samples\n",
      "[222/503] ✅ Processed DTE: 436 samples\n",
      "[223/503] ✅ Processed MCHP: 436 samples\n",
      "[224/503] ✅ Processed KR: 436 samples\n",
      "[225/503] ✅ Processed MPWR: 436 samples\n",
      "[226/503] ✅ Processed FI: 436 samples\n",
      "[227/503] ✅ Processed COO: 436 samples\n",
      "[228/503] ✅ Processed ABNB: 436 samples\n",
      "[229/503] ✅ Processed CMI: 436 samples\n",
      "[230/503] ✅ Processed KMX: 436 samples\n",
      "[231/503] ✅ Processed MCK: 436 samples\n",
      "[232/503] ✅ Processed DVN: 436 samples\n",
      "[233/503] ✅ Processed HII: 436 samples\n",
      "[234/503] ✅ Processed COR: 436 samples\n",
      "[235/503] ✅ Processed LLY: 436 samples\n",
      "[236/503] ✅ Processed MET: 436 samples\n",
      "[237/503] ✅ Processed MRNA: 436 samples\n",
      "[238/503] ✅ Processed VRSN: 436 samples\n",
      "[239/503] ✅ Processed J: 436 samples\n",
      "[240/503] ✅ Processed MSCI: 436 samples\n",
      "[241/503] ✅ Processed EXR: 436 samples\n",
      "[242/503] ✅ Processed HSY: 436 samples\n",
      "[243/503] ✅ Processed CSX: 436 samples\n",
      "[244/503] ✅ Processed MO: 436 samples\n",
      "[245/503] ✅ Processed BEN: 436 samples\n",
      "[246/503] ✅ Processed WSM: 436 samples\n",
      "[247/503] ✅ Processed DIS: 436 samples\n",
      "[248/503] ✅ Processed HUM: 436 samples\n",
      "[249/503] ✅ Processed EG: 436 samples\n",
      "[250/503] ✅ Processed CMS: 436 samples\n",
      "[251/503] ✅ Processed SYK: 436 samples\n",
      "[252/503] ✅ Processed GD: 436 samples\n",
      "[253/503] ✅ Processed AXP: 436 samples\n",
      "[254/503] ✅ Processed PKG: 436 samples\n",
      "[255/503] ✅ Processed TT: 436 samples\n",
      "[256/503] ✅ Processed ENPH: 436 samples\n",
      "[257/503] ✅ Processed LII: 436 samples\n",
      "[258/503] ✅ Processed CFG: 436 samples\n",
      "[259/503] ✅ Processed MOS: 436 samples\n",
      "[260/503] ✅ Processed CNP: 436 samples\n",
      "[261/503] ✅ Processed UDR: 436 samples\n",
      "[262/503] ✅ Processed DHI: 436 samples\n",
      "[263/503] ✅ Processed WBA: 436 samples\n",
      "[264/503] ✅ Processed COF: 436 samples\n",
      "[265/503] ✅ Processed MTD: 436 samples\n",
      "[266/503] ✅ Processed OTIS: 436 samples\n",
      "[267/503] ✅ Processed KKR: 436 samples\n",
      "[268/503] ✅ Processed WBD: 436 samples\n",
      "[269/503] ✅ Processed BSX: 436 samples\n",
      "[270/503] ✅ Processed NFLX: 436 samples\n",
      "[271/503] ✅ Processed KEY: 436 samples\n",
      "[272/503] ✅ Processed INVH: 436 samples\n",
      "[273/503] ✅ Processed VZ: 436 samples\n",
      "[274/503] ✅ Processed ADI: 436 samples\n",
      "[275/503] ✅ Processed REG: 436 samples\n",
      "[276/503] ✅ Processed RF: 436 samples\n",
      "[277/503] ✅ Processed DDOG: 436 samples\n",
      "[278/503] ✅ Processed CINF: 436 samples\n",
      "[279/503] ✅ Processed VRTX: 436 samples\n",
      "[280/503] ✅ Processed SLB: 436 samples\n",
      "[281/503] ✅ Processed ACN: 436 samples\n",
      "[282/503] ✅ Processed JBL: 436 samples\n",
      "[283/503] ✅ Processed WY: 436 samples\n",
      "[284/503] ✅ Processed SYY: 436 samples\n",
      "[285/503] ✅ Processed MDT: 436 samples\n",
      "[286/503] ✅ Processed HD: 436 samples\n",
      "[287/503] ✅ Processed HAS: 436 samples\n",
      "[288/503] ✅ Processed FAST: 436 samples\n",
      "[289/503] ✅ Processed MSFT: 436 samples\n",
      "[290/503] ✅ Processed GNRC: 436 samples\n",
      "[291/503] ✅ Processed MCD: 436 samples\n",
      "[292/503] ✅ Processed RMD: 436 samples\n",
      "[293/503] ✅ Processed DXCM: 436 samples\n",
      "[294/503] ✅ Processed KDP: 436 samples\n",
      "[295/503] ✅ Processed PPL: 436 samples\n",
      "[296/503] ✅ Processed CCL: 436 samples\n",
      "[297/503] ✅ Processed CARR: 436 samples\n",
      "[298/503] ✅ Processed CZR: 436 samples\n",
      "[299/503] ✅ Processed KHC: 436 samples\n",
      "[300/503] ✅ Processed CB: 436 samples\n",
      "[301/503] ✅ Processed ALL: 436 samples\n",
      "[302/503] ✅ Processed SOLV: 68 samples\n",
      "[303/503] ✅ Processed BALL: 436 samples\n",
      "[304/503] ✅ Processed SCHW: 436 samples\n",
      "[305/503] ✅ Processed L: 436 samples\n",
      "[306/503] ✅ Processed BRK-B: 436 samples\n",
      "[307/503] ✅ Processed TSCO: 436 samples\n",
      "[308/503] ✅ Processed GOOGL: 436 samples\n",
      "[309/503] ✅ Processed VLTO: 187 samples\n",
      "[310/503] ✅ Processed TER: 436 samples\n",
      "[311/503] ✅ Processed EW: 436 samples\n",
      "[312/503] ✅ Processed MOH: 436 samples\n",
      "[313/503] ✅ Processed XYZ: 436 samples\n",
      "[314/503] ✅ Processed TRV: 436 samples\n",
      "[315/503] ✅ Processed MRK: 436 samples\n",
      "[316/503] ✅ Processed SNA: 436 samples\n",
      "[317/503] ✅ Processed FFIV: 436 samples\n",
      "[318/503] ✅ Processed CAH: 436 samples\n",
      "[319/503] ✅ Processed WM: 436 samples\n",
      "[320/503] ✅ Processed EVRG: 436 samples\n",
      "[321/503] ✅ Processed EQR: 436 samples\n",
      "[322/503] ✅ Processed ETN: 436 samples\n",
      "[323/503] ✅ Processed NRG: 436 samples\n",
      "[324/503] ✅ Processed DASH: 436 samples\n",
      "[325/503] ✅ Processed ABT: 436 samples\n",
      "[326/503] ✅ Processed WDAY: 436 samples\n",
      "[327/503] ✅ Processed PFG: 436 samples\n",
      "[328/503] ✅ Processed HPE: 436 samples\n",
      "[329/503] ✅ Processed MKC: 436 samples\n",
      "[330/503] ✅ Processed DD: 436 samples\n",
      "[331/503] ✅ Processed TTD: 436 samples\n",
      "[332/503] ✅ Processed MTB: 436 samples\n",
      "[333/503] ✅ Processed ROK: 436 samples\n",
      "[334/503] ✅ Processed ORLY: 436 samples\n",
      "[335/503] ✅ Processed LIN: 436 samples\n",
      "[336/503] ✅ Processed CRM: 436 samples\n",
      "[337/503] ✅ Processed IEX: 436 samples\n",
      "[338/503] ✅ Processed COIN: 436 samples\n",
      "[339/503] ✅ Processed OKE: 436 samples\n",
      "[340/503] ✅ Processed UBER: 436 samples\n",
      "[341/503] ✅ Processed USB: 436 samples\n",
      "[342/503] ✅ Processed CDNS: 436 samples\n",
      "[343/503] ✅ Processed TXT: 436 samples\n",
      "[344/503] ✅ Processed FTNT: 436 samples\n",
      "[345/503] ✅ Processed ALLE: 436 samples\n",
      "[346/503] ✅ Processed TRMB: 436 samples\n",
      "[347/503] ✅ Processed WDC: 436 samples\n",
      "[348/503] ✅ Processed GM: 436 samples\n",
      "[349/503] ✅ Processed FOXA: 436 samples\n",
      "[350/503] ✅ Processed EIX: 436 samples\n",
      "[351/503] ✅ Processed EL: 436 samples\n",
      "[352/503] ✅ Processed VLO: 436 samples\n",
      "[353/503] ✅ Processed PWR: 436 samples\n",
      "[354/503] ✅ Processed DRI: 436 samples\n",
      "[355/503] ✅ Processed HON: 436 samples\n",
      "[356/503] ✅ Processed CPRT: 436 samples\n",
      "[357/503] ✅ Processed BKR: 436 samples\n",
      "[358/503] ✅ Processed TPL: 436 samples\n",
      "[359/503] ✅ Processed TAP: 436 samples\n",
      "[360/503] ✅ Processed NSC: 436 samples\n",
      "[361/503] ✅ Processed PAYX: 436 samples\n",
      "[362/503] ✅ Processed EXC: 436 samples\n",
      "[363/503] ✅ Processed IP: 436 samples\n",
      "[364/503] ✅ Processed AOS: 436 samples\n",
      "[365/503] ✅ Processed SYF: 436 samples\n",
      "[366/503] ✅ Processed GPC: 436 samples\n",
      "[367/503] ✅ Processed GILD: 436 samples\n",
      "[368/503] ✅ Processed PNW: 436 samples\n",
      "[369/503] ✅ Processed MAS: 436 samples\n",
      "[370/503] ✅ Processed WYNN: 436 samples\n",
      "[371/503] ✅ Processed V: 436 samples\n",
      "[372/503] ✅ Processed AIZ: 436 samples\n",
      "[373/503] ✅ Processed LRCX: 436 samples\n",
      "[374/503] ✅ Processed DE: 436 samples\n",
      "[375/503] ✅ Processed HUBB: 436 samples\n",
      "[376/503] ✅ Processed GWW: 436 samples\n",
      "[377/503] ✅ Processed STLD: 436 samples\n",
      "[378/503] ✅ Processed BG: 436 samples\n",
      "[379/503] ✅ Processed TTWO: 436 samples\n",
      "[380/503] ✅ Processed NVDA: 436 samples\n",
      "[381/503] ✅ Processed EA: 436 samples\n",
      "[382/503] ✅ Processed LH: 436 samples\n",
      "[383/503] ✅ Processed AES: 436 samples\n",
      "[384/503] ✅ Processed BIIB: 436 samples\n",
      "[385/503] ✅ Processed EXPD: 436 samples\n",
      "[386/503] ✅ Processed PEG: 436 samples\n",
      "[387/503] ✅ Processed TPR: 436 samples\n",
      "[388/503] ✅ Processed AON: 436 samples\n",
      "[389/503] ✅ Processed CEG: 436 samples\n",
      "[390/503] ✅ Processed MGM: 436 samples\n",
      "[391/503] ✅ Processed ON: 436 samples\n",
      "[392/503] ✅ Processed DLR: 436 samples\n",
      "[393/503] ✅ Processed SO: 436 samples\n",
      "[394/503] ✅ Processed WEC: 436 samples\n",
      "[395/503] ✅ Processed ICE: 436 samples\n",
      "[396/503] ✅ Processed AMGN: 436 samples\n",
      "[397/503] ✅ Processed HLT: 436 samples\n",
      "[398/503] ✅ Processed SHW: 436 samples\n",
      "[399/503] ✅ Processed OXY: 436 samples\n",
      "[400/503] ✅ Processed STX: 436 samples\n",
      "[401/503] ✅ Processed AAPL: 436 samples\n",
      "[402/503] ✅ Processed SBUX: 436 samples\n",
      "[403/503] ✅ Processed JBHT: 436 samples\n",
      "[404/503] ✅ Processed AEP: 436 samples\n",
      "[405/503] ✅ Processed AIG: 436 samples\n",
      "[406/503] ✅ Processed O: 436 samples\n",
      "[407/503] ✅ Processed CBOE: 436 samples\n",
      "[408/503] ✅ Processed ABBV: 436 samples\n",
      "[409/503] ✅ Processed MPC: 436 samples\n",
      "[410/503] ✅ Processed SJM: 436 samples\n",
      "[411/503] ✅ Processed DELL: 436 samples\n",
      "[412/503] ✅ Processed DLTR: 436 samples\n",
      "[413/503] ✅ Processed NWS: 436 samples\n",
      "[414/503] ✅ Processed GLW: 436 samples\n",
      "[415/503] ✅ Processed PSKY: 436 samples\n",
      "[416/503] ✅ Processed RL: 436 samples\n",
      "[417/503] ✅ Processed BKNG: 436 samples\n",
      "[418/503] ✅ Processed APO: 436 samples\n",
      "[419/503] ✅ Processed MSI: 436 samples\n",
      "[420/503] ✅ Processed AVGO: 436 samples\n",
      "[421/503] ✅ Processed IDXX: 436 samples\n",
      "[422/503] ✅ Processed HPQ: 436 samples\n",
      "[423/503] ✅ Processed INCY: 436 samples\n",
      "[424/503] ✅ Processed KIM: 436 samples\n",
      "[425/503] ✅ Processed BRO: 436 samples\n",
      "[426/503] ✅ Processed FCX: 436 samples\n",
      "[427/503] ✅ Processed NVR: 436 samples\n",
      "[428/503] ✅ Processed KMB: 436 samples\n",
      "[429/503] ✅ Processed MNST: 436 samples\n",
      "[430/503] ✅ Processed NTAP: 436 samples\n",
      "[431/503] ✅ Processed CDW: 436 samples\n",
      "[432/503] ✅ Processed BBY: 436 samples\n",
      "[433/503] ✅ Processed TEL: 436 samples\n",
      "[434/503] ✅ Processed DOW: 436 samples\n",
      "[435/503] ✅ Processed IFF: 436 samples\n",
      "[436/503] ✅ Processed JNJ: 436 samples\n",
      "[437/503] ✅ Processed WRB: 436 samples\n",
      "[438/503] ✅ Processed EFX: 436 samples\n",
      "[439/503] ✅ Processed ZTS: 436 samples\n",
      "[440/503] ✅ Processed T: 436 samples\n",
      "[441/503] ✅ Processed CRL: 436 samples\n",
      "[442/503] ✅ Processed TSLA: 436 samples\n",
      "[443/503] ✅ Processed BLK: 436 samples\n",
      "[444/503] ✅ Processed OMC: 436 samples\n",
      "[445/503] ✅ Processed TFC: 436 samples\n",
      "[446/503] ✅ Processed APH: 436 samples\n",
      "[447/503] ✅ Processed ESS: 436 samples\n",
      "[448/503] ✅ Processed LKQ: 436 samples\n",
      "[449/503] ✅ Processed FDX: 436 samples\n",
      "[450/503] ✅ Processed CTRA: 436 samples\n",
      "[451/503] ✅ Processed UHS: 436 samples\n",
      "[452/503] ✅ Processed KMI: 436 samples\n",
      "[453/503] ✅ Processed IT: 436 samples\n",
      "[454/503] ✅ Processed CVX: 436 samples\n",
      "[455/503] ✅ Processed URI: 436 samples\n",
      "[456/503] ✅ Processed STE: 436 samples\n",
      "[457/503] ✅ Processed CHRW: 436 samples\n",
      "[458/503] ✅ Processed MMC: 436 samples\n",
      "[459/503] ✅ Processed DUK: 436 samples\n",
      "[460/503] ✅ Processed CTVA: 436 samples\n",
      "[461/503] ✅ Processed BK: 436 samples\n",
      "[462/503] ✅ Processed MHK: 436 samples\n",
      "[463/503] ✅ Processed DPZ: 436 samples\n",
      "[464/503] ✅ Processed DHR: 436 samples\n",
      "[465/503] ✅ Processed ARE: 436 samples\n",
      "[466/503] ✅ Processed NUE: 436 samples\n",
      "[467/503] ✅ Processed ACGL: 436 samples\n",
      "[468/503] ✅ Processed APTV: 436 samples\n",
      "[469/503] ✅ Processed TROW: 436 samples\n",
      "[470/503] ✅ Processed EQT: 436 samples\n",
      "[471/503] ✅ Processed CF: 436 samples\n",
      "[472/503] ✅ Processed SBAC: 436 samples\n",
      "[473/503] ✅ Processed SWK: 436 samples\n",
      "[474/503] ✅ Processed COP: 436 samples\n",
      "[475/503] ✅ Processed ISRG: 436 samples\n",
      "[476/503] ✅ Processed NTRS: 436 samples\n",
      "[477/503] ✅ Processed ADBE: 436 samples\n",
      "[478/503] ✅ Processed CMG: 436 samples\n",
      "[479/503] ✅ Processed UAL: 436 samples\n",
      "[480/503] ✅ Processed FITB: 436 samples\n",
      "[481/503] ✅ Processed PNR: 436 samples\n",
      "[482/503] ✅ Processed EXE: 436 samples\n",
      "[483/503] ✅ Processed SW: 436 samples\n",
      "[484/503] ✅ Processed MA: 436 samples\n",
      "[485/503] ✅ Processed ES: 436 samples\n",
      "[486/503] ✅ Processed FRT: 436 samples\n",
      "[487/503] ✅ Processed BMY: 436 samples\n",
      "[488/503] ✅ Processed VTRS: 436 samples\n",
      "[489/503] ✅ Processed AZO: 436 samples\n",
      "[490/503] ✅ Processed SMCI: 436 samples\n",
      "[491/503] ✅ Processed IVZ: 436 samples\n",
      "[492/503] ✅ Processed ANET: 436 samples\n",
      "[493/503] ✅ Processed PH: 436 samples\n",
      "[494/503] ✅ Processed HWM: 436 samples\n",
      "[495/503] ✅ Processed AMCR: 436 samples\n",
      "[496/503] ✅ Processed ROL: 436 samples\n",
      "[497/503] ✅ Processed MAR: 436 samples\n",
      "[498/503] ✅ Processed VST: 436 samples\n",
      "[499/503] ✅ Processed IQV: 436 samples\n",
      "[500/503] ✅ Processed CLX: 436 samples\n",
      "[501/503] ✅ Processed PHM: 436 samples\n",
      "[502/503] ✅ Processed NOC: 436 samples\n",
      "[503/503] ✅ Processed YUM: 436 samples\n",
      "\n",
      "✅ Saved LSTM dataset to data/lstm_test.npz with shape X: (218129, 60, 32), y: (218129,)\n"
     ]
    },
    {
     "data": {
      "text/plain": [
       "(array([[[-0.30556495, -0.40393635, -0.38980209, ...,  0.05933824,\n",
       "           0.84323122,  0.19011563],\n",
       "         [ 0.2946394 ,  0.16286324, -0.1428917 , ...,  0.61588376,\n",
       "           2.96742643,  0.75005505],\n",
       "         [ 0.16026394,  0.14947483,  0.04229022, ...,  0.54604235,\n",
       "          -0.646406  ,  0.6835341 ],\n",
       "         ...,\n",
       "         [ 0.6036992 ,  0.61362422,  0.72357962, ..., -0.23665216,\n",
       "           0.44584793, -0.14141344],\n",
       "         [ 0.42901315,  0.45742034,  0.58183438, ..., -0.21377544,\n",
       "          -0.82869712, -0.11475733],\n",
       "         [ 0.51187608,  0.40832721,  0.49267258, ..., -0.23207582,\n",
       "           0.40501547, -0.136066  ]],\n",
       " \n",
       "        [[ 0.2946394 ,  0.16286324, -0.1428917 , ...,  0.61588376,\n",
       "           2.96742643,  0.75005505],\n",
       "         [ 0.16026394,  0.14947483,  0.04229022, ...,  0.54604235,\n",
       "          -0.646406  ,  0.6835341 ],\n",
       "         [ 0.20505633,  0.28559437,  0.23661717, ...,  0.50032307,\n",
       "           0.22588291,  0.63946178],\n",
       "         ...,\n",
       "         [ 0.42901315,  0.45742034,  0.58183438, ..., -0.21377544,\n",
       "          -0.82869712, -0.11475733],\n",
       "         [ 0.51187608,  0.40832721,  0.49267258, ..., -0.23207582,\n",
       "           0.40501547, -0.136066  ],\n",
       "         [ 0.80302063,  0.66494932,  0.75329964, ..., -0.16316892,\n",
       "           1.38989581, -0.05644522]],\n",
       " \n",
       "        [[ 0.16026394,  0.14947483,  0.04229022, ...,  0.54604235,\n",
       "          -0.646406  ,  0.6835341 ],\n",
       "         [ 0.20505633,  0.28559437,  0.23661717, ...,  0.50032307,\n",
       "           0.22588291,  0.63946178],\n",
       "         [ 0.64401149,  0.98405298,  0.53153762, ...,  0.75665769,\n",
       "           2.11934648,  0.88133047],\n",
       "         ...,\n",
       "         [ 0.51187608,  0.40832721,  0.49267258, ..., -0.23207582,\n",
       "           0.40501547, -0.136066  ],\n",
       "         [ 0.80302063,  0.66494932,  0.75329964, ..., -0.16316892,\n",
       "           1.38989581, -0.05644522],\n",
       "         [ 0.84781131,  0.74528323,  0.84703307, ..., -0.1722487 ,\n",
       "           0.21809474, -0.0668424 ]],\n",
       " \n",
       "        ...,\n",
       " \n",
       "        [[ 0.5791078 ,  0.49127873,  0.17679193, ..., -0.24624788,\n",
       "           2.54034124, -0.15722275],\n",
       "         [ 0.45462272,  0.45808243,  0.44354433, ..., -0.21769782,\n",
       "          -0.53746091, -0.1275412 ],\n",
       "         [ 1.32778564,  1.21642142,  0.8445491 , ...,  1.5283984 ,\n",
       "           3.59926445,  1.44404797],\n",
       "         ...,\n",
       "         [ 1.2565765 ,  1.47761042,  1.34469749, ..., -0.35121278,\n",
       "          -1.18460665, -0.26785079],\n",
       "         [ 0.9130145 ,  1.24232963,  1.07665219, ..., -0.83044058,\n",
       "          -1.42425767, -0.80737148],\n",
       "         [ 0.85663469,  1.16858659,  0.91156538, ..., -0.82642864,\n",
       "          -0.24747478, -0.80258646]],\n",
       " \n",
       "        [[ 0.45462272,  0.45808243,  0.44354433, ..., -0.21769782,\n",
       "          -0.53746091, -0.1275412 ],\n",
       "         [ 1.32778564,  1.21642142,  0.8445491 , ...,  1.5283984 ,\n",
       "           3.59926445,  1.44404797],\n",
       "         [ 1.65215706,  1.4942543 ,  1.32329124, ...,  1.70268501,\n",
       "           1.29510663,  1.58125836],\n",
       "         ...,\n",
       "         [ 0.9130145 ,  1.24232963,  1.07665219, ..., -0.83044058,\n",
       "          -1.42425767, -0.80737148],\n",
       "         [ 0.85663469,  1.16858659,  0.91156538, ..., -0.82642864,\n",
       "          -0.24747478, -0.80258646],\n",
       "         [ 0.28051654,  0.6611612 ,  0.42518692, ..., -0.25941047,\n",
       "          -2.43091027, -0.17096478]],\n",
       " \n",
       "        [[ 1.32778564,  1.21642142,  0.8445491 , ...,  1.5283984 ,\n",
       "           3.59926445,  1.44404797],\n",
       "         [ 1.65215706,  1.4942543 ,  1.32329124, ...,  1.70268501,\n",
       "           1.29510663,  1.58125836],\n",
       "         [ 1.61533603,  1.74936154,  1.60593624, ...,  1.69310741,\n",
       "          -0.16186662,  1.57378928],\n",
       "         ...,\n",
       "         [ 0.85663469,  1.16858659,  0.91156538, ..., -0.82642864,\n",
       "          -0.24747478, -0.80258646],\n",
       "         [ 0.28051654,  0.6611612 ,  0.42518692, ..., -0.25941047,\n",
       "          -2.43091027, -0.17096478],\n",
       "         [ 0.08670975,  0.32053162,  0.25832224, ..., -0.21918718,\n",
       "          -0.8406662 , -0.12908537]]]),\n",
       " array([2, 2, 2, ..., 2, 2, 1]))"
      ]
     },
     "execution_count": 4,
     "metadata": {},
     "output_type": "execute_result"
    }
   ],
   "source": [
    "# Step 1: Run this first (splits the full labeled_features folder)\n",
    "split_lstm_by_date(\n",
    "    input_dir=\"data/features_with_fundamentals\",\n",
    "    output_dir=\"data/labeled_split\",  # this creates train/ and test/\n",
    "    cutoff_date=\"2023-01-01\"\n",
    ")\n",
    "\n",
    "# Step 2: Use the generated splits to build LSTM datasets\n",
    "generate_lstm_dataset(\n",
    "    input_dir=\"data/labeled_split/train\",\n",
    "    output_file=\"data/lstm_train.npz\",\n",
    "    window_size=60,\n",
    ")\n",
    "\n",
    "generate_lstm_dataset(\n",
    "    input_dir=\"data/labeled_split/test\",\n",
    "    output_file=\"data/lstm_test.npz\",\n",
    "    window_size=60,\n",
    ")"
   ]
  },
  {
   "cell_type": "code",
   "execution_count": 5,
   "id": "f4b45c84",
   "metadata": {},
   "outputs": [
    {
     "name": "stdout",
     "output_type": "stream",
     "text": [
      "2014\n",
      "1954\n",
      "1894\n"
     ]
    }
   ],
   "source": [
    "import pandas as pd\n",
    "\n",
    "df = pd.read_csv(\"data/labeled_split/train/YUM_train.csv\", parse_dates=[\"Date\"])\n",
    "print(len(df))  # total rows after split\n",
    "\n",
    "# How many rows have any NaNs in important cols?\n",
    "required_cols = [col for col in df.columns if col not in ['Date', 'Label', 'Ticker', 'EPS_TTM', 'PE_Ratio', 'Dividend_Yield']]\n",
    "valid_rows = df[required_cols + ['Label']].dropna()\n",
    "print(len(valid_rows))\n",
    "\n",
    "# How many LSTM windows can we generate from that?\n",
    "window_size = 60\n",
    "print(len(valid_rows) - window_size)"
   ]
  },
  {
   "cell_type": "code",
   "execution_count": 6,
   "id": "67deeb84",
   "metadata": {},
   "outputs": [
    {
     "name": "stdout",
     "output_type": "stream",
     "text": [
      "Train set:\n",
      " - Total: 916241\n",
      " - 1s: 342474 (37.38%)\n",
      " - 0s: 248897 (27.17%)\n",
      "\n",
      "Test set:\n",
      " - Total: 218129\n",
      " - 1s: 79866 (36.61%)\n",
      " - 0s: 61590 (28.24%)\n",
      "\n"
     ]
    }
   ],
   "source": [
    "import numpy as np\n",
    "import matplotlib.pyplot as plt\n",
    "\n",
    "# Load train and test data\n",
    "train_data = np.load(\"data/lstm_train.npz\")\n",
    "test_data = np.load(\"data/lstm_test.npz\")\n",
    "\n",
    "y_train = train_data[\"y\"]\n",
    "y_test = test_data[\"y\"]\n",
    "\n",
    "# Count distribution\n",
    "def print_label_distribution(y, name=\"\"):\n",
    "    total = len(y)\n",
    "    ones = np.sum(y == 1)\n",
    "    zeros = np.sum(y == 0)\n",
    "    print(f\"{name} set:\")\n",
    "    print(f\" - Total: {total}\")\n",
    "    print(f\" - 1s: {ones} ({ones/total:.2%})\")\n",
    "    print(f\" - 0s: {zeros} ({zeros/total:.2%})\\n\")\n",
    "\n",
    "print_label_distribution(y_train, \"Train\")\n",
    "print_label_distribution(y_test, \"Test\")"
   ]
  },
  {
   "cell_type": "code",
   "execution_count": 7,
   "id": "4477ec6b",
   "metadata": {},
   "outputs": [
    {
     "name": "stdout",
     "output_type": "stream",
     "text": [
      "Index(['Date', 'Close', 'High', 'Low', 'Open', 'Volume', 'SMA_5', 'SMA_20',\n",
      "       'SMA_ratio', 'EMA_12', 'EMA_26', 'RSI_14', 'MACD_line', 'MACD_signal',\n",
      "       'MACD_hist', 'Streak_length', 'Realized_vol_20d', 'Realized_vol_60d',\n",
      "       'Bollinger_bandwidth', 'Rolling_High_Low_20d', 'OBV',\n",
      "       'Volume_zscore_20d', 'Return_1d', 'Return_2d', 'Return_3d', 'Return_4d',\n",
      "       'Return_5d', 'Momentum_20d', 'Momentum_60d', 'Rolling_mean_return_20d',\n",
      "       'Rolling_var_return_20d', 'EPS_TTM', 'Market_Cap', 'PE_Ratio',\n",
      "       'Dividend_Yield', 'LogReturn', 'RollingVol', 'ForwardReturn',\n",
      "       'VolThreshold', 'Label'],\n",
      "      dtype='object')\n",
      "         Date Label\n",
      "0  2015-01-02   NaN\n",
      "1  2015-01-05   NaN\n",
      "2  2015-01-06   NaN\n",
      "3  2015-01-07   NaN\n",
      "4  2015-01-08   NaN\n",
      "flat    761\n",
      "up      729\n",
      "down    504\n",
      "NaN      20\n",
      "Name: Label, dtype: int64\n"
     ]
    }
   ],
   "source": [
    "import pandas as pd\n",
    "df = pd.read_csv(\"data/labeled_split/train/YUM_train.csv\")\n",
    "print(df.columns)\n",
    "print(df[['Date','Label']].head())\n",
    "print(df['Label'].value_counts(dropna=False))"
   ]
  },
  {
   "cell_type": "code",
   "execution_count": 4,
   "id": "d78de670",
   "metadata": {},
   "outputs": [
    {
     "name": "stdout",
     "output_type": "stream",
     "text": [
      "    Label counts: {'flat': 761, 'up': 729, 'down': 504}\n"
     ]
    }
   ],
   "source": [
    "print(f\"    Label counts: {df['Label'].value_counts().to_dict()}\")"
   ]
  },
  {
   "cell_type": "code",
   "execution_count": 8,
   "id": "8f3af4ce",
   "metadata": {},
   "outputs": [
    {
     "name": "stdout",
     "output_type": "stream",
     "text": [
      "X shape: (916241, 60, 32)\n",
      "y shape: (916241,)\n"
     ]
    }
   ],
   "source": [
    "import numpy as np\n",
    "\n",
    "data = np.load(\"data/lstm_train.npz\")\n",
    "X, y = data[\"X\"], data[\"y\"]\n",
    "\n",
    "print(f\"X shape: {X.shape}\")  # Expected: (num_samples, window_size, num_features)\n",
    "print(f\"y shape: {y.shape}\")  # Expected: (num_samples,)"
   ]
  },
  {
   "cell_type": "code",
   "execution_count": 9,
   "id": "05ab783a",
   "metadata": {},
   "outputs": [
    {
     "name": "stdout",
     "output_type": "stream",
     "text": [
      "Label distribution: Counter({1: 342474, 2: 324870, 0: 248897})\n"
     ]
    }
   ],
   "source": [
    "import collections\n",
    "\n",
    "print(\"Label distribution:\", collections.Counter(y))"
   ]
  },
  {
   "cell_type": "code",
   "execution_count": 10,
   "id": "2e5ad789",
   "metadata": {},
   "outputs": [
    {
     "name": "stdout",
     "output_type": "stream",
     "text": [
      "Any NaNs in X? False\n",
      "Any Infs in X? False\n"
     ]
    }
   ],
   "source": [
    "print(\"Any NaNs in X?\", np.isnan(X).any())\n",
    "print(\"Any Infs in X?\", np.isinf(X).any())"
   ]
  },
  {
   "cell_type": "code",
   "execution_count": 1,
   "id": "a9ba0f22",
   "metadata": {},
   "outputs": [
    {
     "data": {
      "text/plain": [
       "True"
      ]
     },
     "execution_count": 1,
     "metadata": {},
     "output_type": "execute_result"
    }
   ],
   "source": [
    "import torch\n",
    "torch.cuda.is_available()"
   ]
  },
  {
   "cell_type": "code",
   "execution_count": 12,
   "id": "ceddc5d1",
   "metadata": {},
   "outputs": [
    {
     "name": "stdout",
     "output_type": "stream",
     "text": [
      "Epoch 1/200 | Train Loss: 1.0573 | Train Acc: 0.4304 | Val Acc: 0.4517\n",
      "Epoch 2/200 | Train Loss: 1.0236 | Train Acc: 0.4620 | Val Acc: 0.4767\n",
      "Epoch 3/200 | Train Loss: 0.9981 | Train Acc: 0.4826 | Val Acc: 0.4916\n",
      "Epoch 4/200 | Train Loss: 0.9783 | Train Acc: 0.4990 | Val Acc: 0.5038\n",
      "Epoch 5/200 | Train Loss: 0.9608 | Train Acc: 0.5118 | Val Acc: 0.5116\n",
      "Epoch 6/200 | Train Loss: 0.9440 | Train Acc: 0.5242 | Val Acc: 0.5220\n",
      "Epoch 7/200 | Train Loss: 0.9276 | Train Acc: 0.5363 | Val Acc: 0.5285\n",
      "Epoch 8/200 | Train Loss: 0.9112 | Train Acc: 0.5478 | Val Acc: 0.5372\n",
      "Epoch 9/200 | Train Loss: 0.8960 | Train Acc: 0.5577 | Val Acc: 0.5450\n",
      "Epoch 10/200 | Train Loss: 0.8812 | Train Acc: 0.5679 | Val Acc: 0.5498\n",
      "Epoch 11/200 | Train Loss: 0.8679 | Train Acc: 0.5764 | Val Acc: 0.5537\n",
      "Epoch 12/200 | Train Loss: 0.8543 | Train Acc: 0.5851 | Val Acc: 0.5617\n",
      "Epoch 13/200 | Train Loss: 0.8424 | Train Acc: 0.5931 | Val Acc: 0.5655\n",
      "Epoch 14/200 | Train Loss: 0.8306 | Train Acc: 0.6005 | Val Acc: 0.5679\n",
      "Epoch 15/200 | Train Loss: 0.8201 | Train Acc: 0.6073 | Val Acc: 0.5742\n",
      "Epoch 16/200 | Train Loss: 0.8099 | Train Acc: 0.6137 | Val Acc: 0.5765\n",
      "Epoch 17/200 | Train Loss: 0.8008 | Train Acc: 0.6185 | Val Acc: 0.5802\n",
      "Epoch 18/200 | Train Loss: 0.7927 | Train Acc: 0.6237 | Val Acc: 0.5865\n",
      "Epoch 19/200 | Train Loss: 0.7840 | Train Acc: 0.6291 | Val Acc: 0.5876\n",
      "Epoch 20/200 | Train Loss: 0.7775 | Train Acc: 0.6324 | Val Acc: 0.5886\n",
      "Epoch 21/200 | Train Loss: 0.7704 | Train Acc: 0.6376 | Val Acc: 0.5927\n",
      "Epoch 22/200 | Train Loss: 0.7638 | Train Acc: 0.6412 | Val Acc: 0.5934\n",
      "Epoch 23/200 | Train Loss: 0.7574 | Train Acc: 0.6452 | Val Acc: 0.5971\n",
      "Epoch 24/200 | Train Loss: 0.7517 | Train Acc: 0.6479 | Val Acc: 0.5992\n",
      "Epoch 25/200 | Train Loss: 0.7465 | Train Acc: 0.6513 | Val Acc: 0.6017\n",
      "Epoch 26/200 | Train Loss: 0.7417 | Train Acc: 0.6541 | Val Acc: 0.6037\n",
      "Epoch 27/200 | Train Loss: 0.7373 | Train Acc: 0.6572 | Val Acc: 0.6033\n",
      "Epoch 28/200 | Train Loss: 0.7331 | Train Acc: 0.6592 | Val Acc: 0.6038\n",
      "Epoch 29/200 | Train Loss: 0.7284 | Train Acc: 0.6615 | Val Acc: 0.6042\n",
      "Epoch 30/200 | Train Loss: 0.7248 | Train Acc: 0.6643 | Val Acc: 0.6086\n",
      "Epoch 31/200 | Train Loss: 0.7210 | Train Acc: 0.6664 | Val Acc: 0.6087\n",
      "Epoch 32/200 | Train Loss: 0.7167 | Train Acc: 0.6682 | Val Acc: 0.6089\n",
      "Epoch 33/200 | Train Loss: 0.7133 | Train Acc: 0.6710 | Val Acc: 0.6099\n",
      "Epoch 34/200 | Train Loss: 0.7117 | Train Acc: 0.6707 | Val Acc: 0.6089\n",
      "Epoch 35/200 | Train Loss: 0.7076 | Train Acc: 0.6738 | Val Acc: 0.6109\n",
      "Epoch 36/200 | Train Loss: 0.7050 | Train Acc: 0.6752 | Val Acc: 0.6130\n",
      "Epoch 37/200 | Train Loss: 0.7018 | Train Acc: 0.6773 | Val Acc: 0.6125\n",
      "Epoch 38/200 | Train Loss: 0.6996 | Train Acc: 0.6780 | Val Acc: 0.6168\n",
      "Epoch 39/200 | Train Loss: 0.6970 | Train Acc: 0.6791 | Val Acc: 0.6141\n",
      "Epoch 40/200 | Train Loss: 0.6946 | Train Acc: 0.6812 | Val Acc: 0.6154\n",
      "Epoch 41/200 | Train Loss: 0.6930 | Train Acc: 0.6822 | Val Acc: 0.6174\n",
      "Epoch 42/200 | Train Loss: 0.6899 | Train Acc: 0.6839 | Val Acc: 0.6181\n",
      "Epoch 43/200 | Train Loss: 0.6888 | Train Acc: 0.6842 | Val Acc: 0.6180\n",
      "Epoch 44/200 | Train Loss: 0.6862 | Train Acc: 0.6856 | Val Acc: 0.6209\n",
      "Epoch 45/200 | Train Loss: 0.6841 | Train Acc: 0.6867 | Val Acc: 0.6193\n",
      "Epoch 46/200 | Train Loss: 0.6822 | Train Acc: 0.6877 | Val Acc: 0.6197\n",
      "Epoch 47/200 | Train Loss: 0.6799 | Train Acc: 0.6895 | Val Acc: 0.6222\n",
      "Epoch 48/200 | Train Loss: 0.6781 | Train Acc: 0.6901 | Val Acc: 0.6193\n",
      "Epoch 49/200 | Train Loss: 0.6764 | Train Acc: 0.6909 | Val Acc: 0.6198\n",
      "Epoch 50/200 | Train Loss: 0.6750 | Train Acc: 0.6918 | Val Acc: 0.6192\n",
      "Epoch 51/200 | Train Loss: 0.6741 | Train Acc: 0.6922 | Val Acc: 0.6228\n",
      "Epoch 52/200 | Train Loss: 0.6719 | Train Acc: 0.6938 | Val Acc: 0.6223\n",
      "Epoch 53/200 | Train Loss: 0.6701 | Train Acc: 0.6948 | Val Acc: 0.6217\n",
      "Epoch 54/200 | Train Loss: 0.6686 | Train Acc: 0.6957 | Val Acc: 0.6256\n",
      "Epoch 55/200 | Train Loss: 0.6671 | Train Acc: 0.6967 | Val Acc: 0.6225\n",
      "Epoch 56/200 | Train Loss: 0.6665 | Train Acc: 0.6970 | Val Acc: 0.6233\n",
      "Epoch 57/200 | Train Loss: 0.6654 | Train Acc: 0.6972 | Val Acc: 0.6248\n",
      "Epoch 58/200 | Train Loss: 0.6634 | Train Acc: 0.6987 | Val Acc: 0.6239\n",
      "Epoch 59/200 | Train Loss: 0.6618 | Train Acc: 0.6995 | Val Acc: 0.6243\n",
      "⏹️ Early stopping at epoch 59. Best Val Acc: 0.6256\n"
     ]
    }
   ],
   "source": [
    "import torch\n",
    "import torch.nn as nn\n",
    "import torch.optim as optim\n",
    "from torch.utils.data import DataLoader, TensorDataset, random_split\n",
    "import numpy as np\n",
    "from sklearn.model_selection import train_test_split\n",
    "\n",
    "@torch.no_grad()\n",
    "def evaluate(model, dataloader, device):\n",
    "    model.eval()\n",
    "    correct, total = 0, 0\n",
    "    for xb, yb in dataloader:\n",
    "        xb, yb = xb.to(device), yb.to(device)\n",
    "        outputs = model(xb)\n",
    "        preds = torch.argmax(outputs, dim=1)\n",
    "        correct += (preds == yb).sum().item()\n",
    "        total += xb.size(0)\n",
    "    return correct / total\n",
    "\n",
    "# Load data\n",
    "data = np.load(\"data/lstm_train.npz\")\n",
    "X, y = data[\"X\"], data[\"y\"]\n",
    "\n",
    "# Convert to torch tensors\n",
    "X_tensor = torch.tensor(X, dtype=torch.float32)\n",
    "y_tensor = torch.tensor(y, dtype=torch.long)\n",
    "\n",
    "# Create TensorDataset\n",
    "dataset = TensorDataset(X_tensor, y_tensor)\n",
    "\n",
    "# Train/val split\n",
    "train_size = int(0.9 * len(dataset))\n",
    "val_size = len(dataset) - train_size\n",
    "train_ds, val_ds = random_split(dataset, [train_size, val_size])\n",
    "\n",
    "train_loader = DataLoader(train_ds, batch_size=512, shuffle=True)\n",
    "val_loader = DataLoader(val_ds, batch_size=512)\n",
    "\n",
    "class LSTMClassifier(nn.Module):\n",
    "    def __init__(self, input_dim, hidden_dim, output_dim, num_layers=1, dropout=0.25):\n",
    "        super(LSTMClassifier, self).__init__()\n",
    "        self.lstm = nn.LSTM(input_dim, hidden_dim, num_layers, batch_first=True)\n",
    "        self.dropout = nn.Dropout(dropout)\n",
    "        self.fc1 = nn.Linear(hidden_dim, 32)\n",
    "        self.relu = nn.ReLU()\n",
    "        self.fc2 = nn.Linear(32, output_dim)\n",
    "\n",
    "    def forward(self, x):\n",
    "        _, (h_n, _) = self.lstm(x)  # take last hidden state\n",
    "        x = h_n[-1]\n",
    "        x = self.dropout(x)\n",
    "        x = self.fc1(x)\n",
    "        x = self.relu(x)\n",
    "        x = self.dropout(x)\n",
    "        x = self.fc2(x)\n",
    "        return x\n",
    "\n",
    "device = torch.device(\"cuda\" if torch.cuda.is_available() else \"cpu\")\n",
    "\n",
    "lstm_model = LSTMClassifier(input_dim=32, hidden_dim=128, output_dim=3, num_layers = 2).to(device)\n",
    "criterion = nn.CrossEntropyLoss()\n",
    "optimizer = optim.Adam(lstm_model.parameters(), lr=1e-3)\n",
    "\n",
    "num_epochs = 200\n",
    "patience = 5  # stop if no improvement for 5 epochs\n",
    "best_val_acc = 0.0\n",
    "patience_counter = 0\n",
    "best_model_state = None\n",
    "\n",
    "for epoch in range(num_epochs):\n",
    "    lstm_model.train()\n",
    "    total_loss, correct, total = 0, 0, 0\n",
    "\n",
    "    for xb, yb in train_loader:\n",
    "        xb, yb = xb.to(device), yb.to(device)\n",
    "\n",
    "        optimizer.zero_grad()\n",
    "        outputs = lstm_model(xb)\n",
    "        loss = criterion(outputs, yb)\n",
    "        loss.backward()\n",
    "        optimizer.step()\n",
    "\n",
    "        total_loss += loss.item() * xb.size(0)\n",
    "        preds = torch.argmax(outputs, dim=1)\n",
    "        correct += (preds == yb).sum().item()\n",
    "        total += xb.size(0)\n",
    "\n",
    "    train_acc = correct / total\n",
    "    val_acc = evaluate(lstm_model, val_loader, device)\n",
    "\n",
    "    print(f\"Epoch {epoch+1}/{num_epochs} | \"\n",
    "          f\"Train Loss: {total_loss/total:.4f} | Train Acc: {train_acc:.4f} | Val Acc: {val_acc:.4f}\")\n",
    "\n",
    "    # ---- early stopping logic ----\n",
    "    if val_acc > best_val_acc:\n",
    "        best_val_acc = val_acc\n",
    "        best_model_state = lstm_model.state_dict()\n",
    "        patience_counter = 0  # reset\n",
    "    else:\n",
    "        patience_counter += 1\n",
    "        if patience_counter >= patience:\n",
    "            print(f\"⏹️ Early stopping at epoch {epoch+1}. Best Val Acc: {best_val_acc:.4f}\")\n",
    "            break\n",
    "\n",
    "# Restore best model weights\n",
    "if best_model_state is not None:\n",
    "    lstm_model.load_state_dict(best_model_state)\n",
    "\n",
    "# Save best model\n",
    "torch.save(lstm_model.state_dict(), 'lstm_model_long.pth')\n",
    "\n",
    "# load the model\n",
    "#lstm_model = LSTMClassifier(input_dim=35, hidden_dim=128, output_dim=3, num_layers = 2).to(device)\n",
    "#lstm_model.load_state_dict(torch.load('lstm_model.pth'))\n"
   ]
  },
  {
   "cell_type": "code",
   "execution_count": 3,
   "id": "93f853d2",
   "metadata": {},
   "outputs": [
    {
     "name": "stdout",
     "output_type": "stream",
     "text": [
      "[LightGBM] [Info] Auto-choosing col-wise multi-threading, the overhead of testing was 2.486899 seconds.\n",
      "You can set `force_col_wise=true` to remove the overhead.\n",
      "[LightGBM] [Info] Total Bins 489600\n",
      "[LightGBM] [Info] Number of data points in the train set: 732992, number of used features: 1920\n",
      "[LightGBM] [Info] Start training from score -1.303348\n",
      "[LightGBM] [Info] Start training from score -0.984562\n",
      "[LightGBM] [Info] Start training from score -1.036269\n",
      "Training until validation scores don't improve for 50 rounds\n",
      "[25]\tvalid_0's multi_logloss: 1.05494\n",
      "[50]\tvalid_0's multi_logloss: 1.04236\n",
      "[75]\tvalid_0's multi_logloss: 1.03365\n",
      "[100]\tvalid_0's multi_logloss: 1.02652\n",
      "Did not meet early stopping. Best iteration is:\n",
      "[100]\tvalid_0's multi_logloss: 1.02652\n",
      "              precision    recall  f1-score   support\n",
      "\n",
      "           0       0.56      0.18      0.28     49801\n",
      "           1       0.47      0.56      0.51     68626\n",
      "           2       0.45      0.59      0.51     64822\n",
      "\n",
      "    accuracy                           0.47    183249\n",
      "   macro avg       0.50      0.45      0.43    183249\n",
      "weighted avg       0.49      0.47      0.45    183249\n",
      "\n"
     ]
    },
    {
     "data": {
      "text/plain": [
       "<lightgbm.basic.Booster at 0x73d21be340a0>"
      ]
     },
     "execution_count": 3,
     "metadata": {},
     "output_type": "execute_result"
    }
   ],
   "source": [
    "import numpy as np\n",
    "# Load data\n",
    "data = np.load(\"data/lstm_train.npz\")\n",
    "X, y = data[\"X\"], data[\"y\"]\n",
    "\n",
    "# X shape: (num_samples, window_size, num_features)\n",
    "X_2d = X.reshape(X.shape[0], -1)  # shape: (num_samples, window_size * num_features)\n",
    "from sklearn.preprocessing import LabelEncoder\n",
    "\n",
    "import lightgbm as lgb\n",
    "from sklearn.model_selection import train_test_split\n",
    "from sklearn.metrics import classification_report\n",
    "\n",
    "# Split (can use original train/test split instead)\n",
    "X_train, X_val, y_train, y_val = train_test_split(X_2d, y, test_size=0.2, random_state=42)\n",
    "\n",
    "from lightgbm import LGBMClassifier\n",
    "from lightgbm import early_stopping, log_evaluation\n",
    "from sklearn.metrics import classification_report\n",
    "\n",
    "lgbm_model = LGBMClassifier(\n",
    "    min_child_samples=5,       # default 20\n",
    "    min_split_gain=0.0,        # allow weaker splits\n",
    "    learning_rate=0.05,\n",
    "    num_leaves=64,\n",
    "    max_depth=-1\n",
    ")\n",
    "\n",
    "lgbm_model.fit(\n",
    "    X_train, y_train,\n",
    "    eval_set=[(X_val, y_val)],\n",
    "    eval_metric=\"multi_logloss\", \n",
    "    callbacks=[early_stopping(stopping_rounds=50), log_evaluation(25)]\n",
    ")\n",
    "\n",
    "y_pred = lgbm_model.predict(X_val)\n",
    "print(classification_report(y_val, y_pred))\n",
    "\n",
    "# save the model\n",
    "lgbm_model.booster_.save_model(\"lgbm_model.txt\")\n",
    "\n",
    "# load the model\n",
    "# lgbm_model = lgb.Booster(model_file='lgbm_model.txt')\n",
    "\n"
   ]
  },
  {
   "cell_type": "code",
   "execution_count": 11,
   "id": "8e5bd533",
   "metadata": {},
   "outputs": [
    {
     "data": {
      "text/plain": [
       "<lightgbm.basic.Booster at 0x77c886ed39a0>"
      ]
     },
     "execution_count": 11,
     "metadata": {},
     "output_type": "execute_result"
    }
   ],
   "source": [
    "lgbm_model.booster_.save_model(\"lgbm_model.txt\")"
   ]
  },
  {
   "cell_type": "code",
   "execution_count": 1,
   "id": "b19ddf12",
   "metadata": {},
   "outputs": [],
   "source": [
    "import torch\n",
    "import torch.nn as nn\n",
    "\n",
    "class TimeSeriesTransformer(nn.Module):\n",
    "    def __init__(self, input_dim, model_dim=64, num_heads=4, num_layers=2, num_classes=3, dropout=0.1):\n",
    "        super().__init__()\n",
    "        self.model_dim = model_dim\n",
    "        self.input_proj = nn.Linear(input_dim, model_dim)\n",
    "        self.pos_encoder = PositionalEncoding(model_dim, dropout)\n",
    "\n",
    "        encoder_layers = nn.TransformerEncoderLayer(d_model=model_dim, nhead=num_heads, dropout=dropout, batch_first=True)\n",
    "        self.transformer_encoder = nn.TransformerEncoder(encoder_layers, num_layers=num_layers)\n",
    "\n",
    "        self.classifier = nn.Sequential(\n",
    "            nn.Linear(model_dim, model_dim),\n",
    "            nn.ReLU(),\n",
    "            nn.Dropout(dropout),\n",
    "            nn.Linear(model_dim, num_classes)\n",
    "        )\n",
    "\n",
    "    def forward(self, x):\n",
    "        # x: (batch_size, seq_len, input_dim)\n",
    "        x = self.input_proj(x)  # -> (batch_size, seq_len, model_dim)\n",
    "        x = self.pos_encoder(x)\n",
    "        x = self.transformer_encoder(x)  # -> (batch_size, seq_len, model_dim)\n",
    "        x = x.mean(dim=1)  # global average pooling over time\n",
    "        out = self.classifier(x)\n",
    "        return out\n",
    "\n",
    "class PositionalEncoding(nn.Module):\n",
    "    def __init__(self, d_model, dropout=0.1, max_len=500):\n",
    "        super().__init__()\n",
    "        self.dropout = nn.Dropout(p=dropout)\n",
    "        position = torch.arange(max_len).unsqueeze(1)\n",
    "        div_term = torch.exp(torch.arange(0, d_model, 2) * (-torch.log(torch.tensor(10000.0)) / d_model))\n",
    "        pe = torch.zeros(1, max_len, d_model)\n",
    "        pe[0, :, 0::2] = torch.sin(position * div_term)\n",
    "        pe[0, :, 1::2] = torch.cos(position * div_term)\n",
    "        self.register_buffer('pe', pe)\n",
    "\n",
    "    def forward(self, x):\n",
    "        x = x + self.pe[:, :x.size(1)]\n",
    "        return self.dropout(x)"
   ]
  },
  {
   "cell_type": "code",
   "execution_count": 2,
   "id": "c6e1fef3",
   "metadata": {},
   "outputs": [],
   "source": [
    "import numpy as np\n",
    "from torch.utils.data import TensorDataset, DataLoader\n",
    "\n",
    "# Load .npz\n",
    "data = np.load(\"data/lstm_train.npz\")\n",
    "X, y = data['X'], data['y']\n",
    "\n",
    "# Train/Val split\n",
    "from sklearn.model_selection import train_test_split\n",
    "X_train, X_val, y_train, y_val = train_test_split(X, y, test_size=0.2, random_state=42)\n",
    "\n",
    "# Convert to torch\n",
    "X_train_t = torch.tensor(X_train, dtype=torch.float32)\n",
    "y_train_t = torch.tensor(y_train, dtype=torch.long)\n",
    "X_val_t = torch.tensor(X_val, dtype=torch.float32)\n",
    "y_val_t = torch.tensor(y_val, dtype=torch.long)\n",
    "\n",
    "train_loader = DataLoader(TensorDataset(X_train_t, y_train_t), batch_size=128, shuffle=True)\n",
    "val_loader = DataLoader(TensorDataset(X_val_t, y_val_t), batch_size=128)"
   ]
  },
  {
   "cell_type": "code",
   "execution_count": 3,
   "id": "0a41dccf",
   "metadata": {},
   "outputs": [
    {
     "name": "stdout",
     "output_type": "stream",
     "text": [
      "Epoch 1 | Valid Acc: 0.4274\n",
      "Epoch 1 | Train Loss: 1.0715\n",
      "Epoch 2 | Valid Acc: 0.4347\n",
      "Epoch 2 | Train Loss: 1.0580\n",
      "Epoch 3 | Valid Acc: 0.4444\n",
      "Epoch 3 | Train Loss: 1.0480\n",
      "Epoch 4 | Valid Acc: 0.4518\n",
      "Epoch 4 | Train Loss: 1.0397\n",
      "Epoch 5 | Valid Acc: 0.4589\n",
      "Epoch 5 | Train Loss: 1.0322\n",
      "Epoch 6 | Valid Acc: 0.4688\n",
      "Epoch 6 | Train Loss: 1.0255\n",
      "Epoch 7 | Valid Acc: 0.4716\n",
      "Epoch 7 | Train Loss: 1.0189\n",
      "Epoch 8 | Valid Acc: 0.4783\n",
      "Epoch 8 | Train Loss: 1.0123\n",
      "Epoch 9 | Valid Acc: 0.4830\n",
      "Epoch 9 | Train Loss: 1.0061\n",
      "Epoch 10 | Valid Acc: 0.4848\n",
      "Epoch 10 | Train Loss: 0.9994\n",
      "Epoch 11 | Valid Acc: 0.4927\n",
      "Epoch 11 | Train Loss: 0.9930\n",
      "Epoch 12 | Valid Acc: 0.4974\n",
      "Epoch 12 | Train Loss: 0.9868\n",
      "Epoch 13 | Valid Acc: 0.5006\n",
      "Epoch 13 | Train Loss: 0.9812\n",
      "Epoch 14 | Valid Acc: 0.5057\n",
      "Epoch 14 | Train Loss: 0.9745\n",
      "Epoch 15 | Valid Acc: 0.5088\n",
      "Epoch 15 | Train Loss: 0.9682\n",
      "Epoch 16 | Valid Acc: 0.5151\n",
      "Epoch 16 | Train Loss: 0.9622\n",
      "Epoch 17 | Valid Acc: 0.5104\n",
      "Epoch 17 | Train Loss: 0.9561\n",
      "Epoch 18 | Valid Acc: 0.5166\n",
      "Epoch 18 | Train Loss: 0.9500\n",
      "Epoch 19 | Valid Acc: 0.5231\n",
      "Epoch 19 | Train Loss: 0.9430\n",
      "Epoch 20 | Valid Acc: 0.5240\n",
      "Epoch 20 | Train Loss: 0.9370\n",
      "Epoch 21 | Valid Acc: 0.5297\n",
      "Epoch 21 | Train Loss: 0.9311\n",
      "Epoch 22 | Valid Acc: 0.5291\n",
      "Epoch 22 | Train Loss: 0.9241\n",
      "Epoch 23 | Valid Acc: 0.5306\n",
      "Epoch 23 | Train Loss: 0.9188\n",
      "Epoch 24 | Valid Acc: 0.5384\n",
      "Epoch 24 | Train Loss: 0.9134\n",
      "Epoch 25 | Valid Acc: 0.5379\n",
      "Epoch 25 | Train Loss: 0.9071\n",
      "Epoch 26 | Valid Acc: 0.5406\n",
      "Epoch 26 | Train Loss: 0.9020\n",
      "Epoch 27 | Valid Acc: 0.5458\n",
      "Epoch 27 | Train Loss: 0.8961\n",
      "Epoch 28 | Valid Acc: 0.5434\n",
      "Epoch 28 | Train Loss: 0.8910\n",
      "Epoch 29 | Valid Acc: 0.5477\n",
      "Epoch 29 | Train Loss: 0.8858\n",
      "Epoch 30 | Valid Acc: 0.5485\n",
      "Epoch 30 | Train Loss: 0.8811\n",
      "Epoch 31 | Valid Acc: 0.5474\n",
      "Epoch 31 | Train Loss: 0.8766\n",
      "Epoch 32 | Valid Acc: 0.5480\n",
      "Epoch 32 | Train Loss: 0.8712\n",
      "Epoch 33 | Valid Acc: 0.5527\n",
      "Epoch 33 | Train Loss: 0.8662\n",
      "Epoch 34 | Valid Acc: 0.5545\n",
      "Epoch 34 | Train Loss: 0.8621\n",
      "Epoch 35 | Valid Acc: 0.5552\n",
      "Epoch 35 | Train Loss: 0.8570\n",
      "Epoch 36 | Valid Acc: 0.5558\n",
      "Epoch 36 | Train Loss: 0.8524\n",
      "Epoch 37 | Valid Acc: 0.5607\n",
      "Epoch 37 | Train Loss: 0.8480\n",
      "Epoch 38 | Valid Acc: 0.5610\n",
      "Epoch 38 | Train Loss: 0.8432\n",
      "Epoch 39 | Valid Acc: 0.5614\n",
      "Epoch 39 | Train Loss: 0.8398\n",
      "Epoch 40 | Valid Acc: 0.5638\n",
      "Epoch 40 | Train Loss: 0.8354\n",
      "Epoch 41 | Valid Acc: 0.5639\n",
      "Epoch 41 | Train Loss: 0.8311\n",
      "Epoch 42 | Valid Acc: 0.5662\n",
      "Epoch 42 | Train Loss: 0.8264\n",
      "Epoch 43 | Valid Acc: 0.5643\n",
      "Epoch 43 | Train Loss: 0.8226\n",
      "Epoch 44 | Valid Acc: 0.5681\n",
      "Epoch 44 | Train Loss: 0.8188\n",
      "Epoch 45 | Valid Acc: 0.5706\n",
      "Epoch 45 | Train Loss: 0.8158\n",
      "Epoch 46 | Valid Acc: 0.5675\n",
      "Epoch 46 | Train Loss: 0.8109\n",
      "Epoch 47 | Valid Acc: 0.5735\n",
      "Epoch 47 | Train Loss: 0.8078\n",
      "Epoch 48 | Valid Acc: 0.5738\n",
      "Epoch 48 | Train Loss: 0.8044\n",
      "Epoch 49 | Valid Acc: 0.5725\n",
      "Epoch 49 | Train Loss: 0.8016\n",
      "Epoch 50 | Valid Acc: 0.5768\n",
      "Epoch 50 | Train Loss: 0.7982\n",
      "Epoch 51 | Valid Acc: 0.5734\n",
      "Epoch 51 | Train Loss: 0.7937\n",
      "Epoch 52 | Valid Acc: 0.5770\n",
      "Epoch 52 | Train Loss: 0.7909\n",
      "Epoch 53 | Valid Acc: 0.5774\n",
      "Epoch 53 | Train Loss: 0.7876\n",
      "Epoch 54 | Valid Acc: 0.5785\n",
      "Epoch 54 | Train Loss: 0.7852\n",
      "Epoch 55 | Valid Acc: 0.5792\n",
      "Epoch 55 | Train Loss: 0.7814\n",
      "Epoch 56 | Valid Acc: 0.5788\n",
      "Epoch 56 | Train Loss: 0.7786\n",
      "Epoch 57 | Valid Acc: 0.5812\n",
      "Epoch 57 | Train Loss: 0.7759\n",
      "Epoch 58 | Valid Acc: 0.5831\n",
      "Epoch 58 | Train Loss: 0.7727\n",
      "Epoch 59 | Valid Acc: 0.5821\n",
      "Epoch 59 | Train Loss: 0.7707\n",
      "Epoch 60 | Valid Acc: 0.5883\n",
      "Epoch 60 | Train Loss: 0.7669\n",
      "Epoch 61 | Valid Acc: 0.5853\n",
      "Epoch 61 | Train Loss: 0.7651\n",
      "Epoch 62 | Valid Acc: 0.5833\n",
      "Epoch 62 | Train Loss: 0.7621\n",
      "Epoch 63 | Valid Acc: 0.5867\n",
      "Epoch 63 | Train Loss: 0.7604\n",
      "Epoch 64 | Valid Acc: 0.5854\n",
      "Epoch 64 | Train Loss: 0.7571\n",
      "Epoch 65 | Valid Acc: 0.5853\n",
      "Epoch 65 | Train Loss: 0.7554\n",
      "Epoch 66 | Valid Acc: 0.5864\n",
      "Epoch 66 | Train Loss: 0.7519\n",
      "Epoch 67 | Valid Acc: 0.5881\n",
      "Epoch 67 | Train Loss: 0.7501\n",
      "Epoch 68 | Valid Acc: 0.5882\n",
      "Epoch 68 | Train Loss: 0.7487\n",
      "Epoch 69 | Valid Acc: 0.5904\n",
      "Epoch 69 | Train Loss: 0.7464\n",
      "Epoch 70 | Valid Acc: 0.5885\n",
      "Epoch 70 | Train Loss: 0.7437\n",
      "Epoch 71 | Valid Acc: 0.5888\n",
      "Epoch 71 | Train Loss: 0.7419\n",
      "Epoch 72 | Valid Acc: 0.5913\n",
      "Epoch 72 | Train Loss: 0.7402\n",
      "Epoch 73 | Valid Acc: 0.5936\n",
      "Epoch 73 | Train Loss: 0.7381\n",
      "Epoch 74 | Valid Acc: 0.5938\n",
      "Epoch 74 | Train Loss: 0.7363\n",
      "Epoch 75 | Valid Acc: 0.5923\n",
      "Epoch 75 | Train Loss: 0.7334\n",
      "Epoch 76 | Valid Acc: 0.5934\n",
      "Epoch 76 | Train Loss: 0.7320\n",
      "Epoch 77 | Valid Acc: 0.5928\n",
      "Epoch 77 | Train Loss: 0.7301\n",
      "Epoch 78 | Valid Acc: 0.5951\n",
      "Epoch 78 | Train Loss: 0.7281\n",
      "Epoch 79 | Valid Acc: 0.5948\n",
      "Epoch 79 | Train Loss: 0.7264\n",
      "Epoch 80 | Valid Acc: 0.5965\n",
      "Epoch 80 | Train Loss: 0.7250\n",
      "Epoch 81 | Valid Acc: 0.5988\n",
      "Epoch 81 | Train Loss: 0.7223\n",
      "Epoch 82 | Valid Acc: 0.5942\n",
      "Epoch 82 | Train Loss: 0.7211\n",
      "Epoch 83 | Valid Acc: 0.5991\n",
      "Epoch 83 | Train Loss: 0.7195\n",
      "Epoch 84 | Valid Acc: 0.5922\n",
      "Epoch 84 | Train Loss: 0.7177\n",
      "Epoch 85 | Valid Acc: 0.5964\n",
      "Epoch 85 | Train Loss: 0.7164\n",
      "Epoch 86 | Valid Acc: 0.5948\n",
      "Epoch 86 | Train Loss: 0.7147\n",
      "Epoch 87 | Valid Acc: 0.5980\n",
      "Epoch 87 | Train Loss: 0.7141\n",
      "Epoch 88 | Valid Acc: 0.6007\n",
      "Epoch 88 | Train Loss: 0.7117\n",
      "Epoch 89 | Valid Acc: 0.6008\n",
      "Epoch 89 | Train Loss: 0.7100\n",
      "Epoch 90 | Valid Acc: 0.6004\n",
      "Epoch 90 | Train Loss: 0.7085\n",
      "Epoch 91 | Valid Acc: 0.5996\n",
      "Epoch 91 | Train Loss: 0.7071\n",
      "Epoch 92 | Valid Acc: 0.6007\n",
      "Epoch 92 | Train Loss: 0.7064\n",
      "Epoch 93 | Valid Acc: 0.6019\n",
      "Epoch 93 | Train Loss: 0.7049\n",
      "Epoch 94 | Valid Acc: 0.5988\n",
      "Epoch 94 | Train Loss: 0.7031\n",
      "Epoch 95 | Valid Acc: 0.5991\n",
      "Epoch 95 | Train Loss: 0.7017\n",
      "Epoch 96 | Valid Acc: 0.6015\n",
      "Epoch 96 | Train Loss: 0.7008\n",
      "Epoch 97 | Valid Acc: 0.6052\n",
      "Epoch 97 | Train Loss: 0.6999\n",
      "Epoch 98 | Valid Acc: 0.6029\n",
      "Epoch 98 | Train Loss: 0.6984\n",
      "Epoch 99 | Valid Acc: 0.6037\n",
      "Epoch 99 | Train Loss: 0.6970\n",
      "Epoch 100 | Valid Acc: 0.6038\n",
      "Epoch 100 | Train Loss: 0.6953\n",
      "Epoch 101 | Valid Acc: 0.6006\n",
      "Epoch 101 | Train Loss: 0.6938\n",
      "Epoch 102 | Valid Acc: 0.6053\n",
      "Epoch 102 | Train Loss: 0.6924\n",
      "Epoch 103 | Valid Acc: 0.5994\n",
      "Epoch 103 | Train Loss: 0.6912\n",
      "Epoch 104 | Valid Acc: 0.6044\n",
      "Epoch 104 | Train Loss: 0.6899\n",
      "Epoch 105 | Valid Acc: 0.6034\n",
      "Epoch 105 | Train Loss: 0.6895\n",
      "Epoch 106 | Valid Acc: 0.6048\n",
      "Epoch 106 | Train Loss: 0.6885\n",
      "Epoch 107 | Valid Acc: 0.6033\n",
      "Epoch 107 | Train Loss: 0.6869\n",
      "Epoch 108 | Valid Acc: 0.6042\n",
      "Epoch 108 | Train Loss: 0.6857\n",
      "Epoch 109 | Valid Acc: 0.6053\n",
      "Epoch 109 | Train Loss: 0.6843\n",
      "Epoch 110 | Valid Acc: 0.6067\n",
      "Epoch 110 | Train Loss: 0.6827\n",
      "Epoch 111 | Valid Acc: 0.6065\n",
      "Epoch 111 | Train Loss: 0.6821\n",
      "Epoch 112 | Valid Acc: 0.6062\n",
      "Epoch 112 | Train Loss: 0.6811\n",
      "Epoch 113 | Valid Acc: 0.6050\n",
      "Epoch 113 | Train Loss: 0.6801\n",
      "Epoch 114 | Valid Acc: 0.6042\n",
      "Epoch 114 | Train Loss: 0.6782\n",
      "Epoch 115 | Valid Acc: 0.6054\n",
      "Epoch 115 | Train Loss: 0.6772\n",
      "Epoch 116 | Valid Acc: 0.6047\n",
      "Epoch 116 | Train Loss: 0.6758\n",
      "Epoch 117 | Valid Acc: 0.6089\n",
      "Epoch 117 | Train Loss: 0.6752\n",
      "Epoch 118 | Valid Acc: 0.6063\n",
      "Epoch 118 | Train Loss: 0.6738\n",
      "Epoch 119 | Valid Acc: 0.6060\n",
      "Epoch 119 | Train Loss: 0.6736\n",
      "Epoch 120 | Valid Acc: 0.6092\n",
      "Epoch 120 | Train Loss: 0.6718\n",
      "Epoch 121 | Valid Acc: 0.6070\n",
      "Epoch 121 | Train Loss: 0.6707\n",
      "Epoch 122 | Valid Acc: 0.6094\n",
      "Epoch 122 | Train Loss: 0.6688\n",
      "Epoch 123 | Valid Acc: 0.6057\n",
      "Epoch 123 | Train Loss: 0.6688\n",
      "Epoch 124 | Valid Acc: 0.6101\n",
      "Epoch 124 | Train Loss: 0.6663\n",
      "Epoch 125 | Valid Acc: 0.6098\n",
      "Epoch 125 | Train Loss: 0.6657\n",
      "Epoch 126 | Valid Acc: 0.6094\n",
      "Epoch 126 | Train Loss: 0.6652\n",
      "Epoch 127 | Valid Acc: 0.6067\n",
      "Epoch 127 | Train Loss: 0.6639\n",
      "Epoch 128 | Valid Acc: 0.6046\n",
      "Epoch 128 | Train Loss: 0.6630\n",
      "Epoch 129 | Valid Acc: 0.6131\n",
      "Epoch 129 | Train Loss: 0.6624\n",
      "Epoch 130 | Valid Acc: 0.6125\n",
      "Epoch 130 | Train Loss: 0.6604\n",
      "Epoch 131 | Valid Acc: 0.6082\n",
      "Epoch 131 | Train Loss: 0.6604\n",
      "Epoch 132 | Valid Acc: 0.6143\n",
      "Epoch 132 | Train Loss: 0.6594\n",
      "Epoch 133 | Valid Acc: 0.6111\n",
      "Epoch 133 | Train Loss: 0.6575\n",
      "Epoch 134 | Valid Acc: 0.6129\n",
      "Epoch 134 | Train Loss: 0.6568\n",
      "Epoch 135 | Valid Acc: 0.6131\n",
      "Epoch 135 | Train Loss: 0.6569\n",
      "Epoch 136 | Valid Acc: 0.6105\n",
      "Epoch 136 | Train Loss: 0.6548\n",
      "Epoch 137 | Valid Acc: 0.6126\n",
      "Epoch 137 | Train Loss: 0.6541\n",
      "Epoch 138 | Valid Acc: 0.6094\n",
      "Epoch 138 | Train Loss: 0.6534\n",
      "Epoch 139 | Valid Acc: 0.6122\n",
      "Epoch 139 | Train Loss: 0.6524\n",
      "Epoch 140 | Valid Acc: 0.6118\n",
      "Epoch 140 | Train Loss: 0.6502\n",
      "Epoch 141 | Valid Acc: 0.6151\n",
      "Epoch 141 | Train Loss: 0.6505\n",
      "Epoch 142 | Valid Acc: 0.6146\n",
      "Epoch 142 | Train Loss: 0.6489\n",
      "Epoch 143 | Valid Acc: 0.6114\n",
      "Epoch 143 | Train Loss: 0.6482\n",
      "Epoch 144 | Valid Acc: 0.6151\n",
      "Epoch 144 | Train Loss: 0.6473\n",
      "Epoch 145 | Valid Acc: 0.6080\n",
      "Epoch 145 | Train Loss: 0.6454\n",
      "Epoch 146 | Valid Acc: 0.6164\n",
      "Epoch 146 | Train Loss: 0.6454\n",
      "Epoch 147 | Valid Acc: 0.6167\n",
      "Epoch 147 | Train Loss: 0.6437\n",
      "Epoch 148 | Valid Acc: 0.6106\n",
      "Epoch 148 | Train Loss: 0.6433\n",
      "Epoch 149 | Valid Acc: 0.6143\n",
      "Epoch 149 | Train Loss: 0.6419\n",
      "Epoch 150 | Valid Acc: 0.6175\n",
      "Epoch 150 | Train Loss: 0.6403\n",
      "Epoch 151 | Valid Acc: 0.6148\n",
      "Epoch 151 | Train Loss: 0.6396\n",
      "Epoch 152 | Valid Acc: 0.6147\n",
      "Epoch 152 | Train Loss: 0.6405\n",
      "Epoch 153 | Valid Acc: 0.6139\n",
      "Epoch 153 | Train Loss: 0.6382\n",
      "Epoch 154 | Valid Acc: 0.6134\n",
      "Epoch 154 | Train Loss: 0.6376\n",
      "Epoch 155 | Valid Acc: 0.6130\n",
      "Epoch 155 | Train Loss: 0.6373\n",
      "Epoch 156 | Valid Acc: 0.6156\n",
      "Epoch 156 | Train Loss: 0.6360\n",
      "Epoch 157 | Valid Acc: 0.6141\n",
      "Epoch 157 | Train Loss: 0.6342\n",
      "Epoch 158 | Valid Acc: 0.6156\n",
      "Epoch 158 | Train Loss: 0.6342\n",
      "Epoch 159 | Valid Acc: 0.6156\n",
      "Epoch 159 | Train Loss: 0.6324\n",
      "Epoch 160 | Valid Acc: 0.6138\n",
      "Epoch 160 | Train Loss: 0.6312\n",
      "Early stopping at epoch 160. Best val acc: 0.6175\n"
     ]
    }
   ],
   "source": [
    "device = torch.device(\"cuda\" if torch.cuda.is_available() else \"cpu\")\n",
    "model = TimeSeriesTransformer(input_dim=X.shape[2], num_classes=3).to(device)\n",
    "\n",
    "criterion = nn.CrossEntropyLoss()\n",
    "optimizer = torch.optim.Adam(model.parameters(), lr=1e-3)\n",
    "\n",
    "EPOCHS = 200\n",
    "early_stop_patience = 10\n",
    "best_val_acc = 0.0\n",
    "epochs_no_improve = 0\n",
    "best_model_state = None\n",
    "\n",
    "for epoch in range(EPOCHS):\n",
    "    model.train()\n",
    "    total_loss = 0\n",
    "    for xb, yb in train_loader:\n",
    "        xb, yb = xb.to(device), yb.to(device)\n",
    "        optimizer.zero_grad()\n",
    "        pred = model(xb)\n",
    "        loss = criterion(pred, yb)\n",
    "        loss.backward()\n",
    "        optimizer.step()\n",
    "        total_loss += loss.item()\n",
    "    # Calculate validation accuracy at the end of each epoch\n",
    "    model.eval()\n",
    "    correct = 0\n",
    "    total = 0\n",
    "    with torch.no_grad():\n",
    "        for xb, yb in val_loader:\n",
    "            xb, yb = xb.to(device), yb.to(device)\n",
    "            outputs = model(xb)\n",
    "            _, predicted = torch.max(outputs, 1)\n",
    "            correct += (predicted == yb).sum().item()\n",
    "            total += yb.size(0)\n",
    "    val_acc = correct / total\n",
    "    print(f\"Epoch {epoch+1} | Valid Acc: {val_acc:.4f}\")\n",
    "\n",
    "    print(f\"Epoch {epoch+1} | Train Loss: {total_loss / len(train_loader):.4f}\")\n",
    "\n",
    "    # Early stopping logic\n",
    "    if val_acc > best_val_acc:\n",
    "        best_val_acc = val_acc\n",
    "        epochs_no_improve = 0\n",
    "        best_model_state = model.state_dict()\n",
    "    else:\n",
    "        epochs_no_improve += 1\n",
    "        if epochs_no_improve >= early_stop_patience:\n",
    "            print(f\"Early stopping at epoch {epoch+1}. Best val acc: {best_val_acc:.4f}\")\n",
    "            if best_model_state is not None:\n",
    "                model.load_state_dict(best_model_state)\n",
    "            break"
   ]
  },
  {
   "cell_type": "code",
   "execution_count": 4,
   "id": "ea949fde",
   "metadata": {},
   "outputs": [
    {
     "name": "stdout",
     "output_type": "stream",
     "text": [
      "              precision    recall  f1-score   support\n",
      "\n",
      "           0       0.60      0.73      0.66     49801\n",
      "           1       0.57      0.42      0.49     68626\n",
      "           2       0.65      0.73      0.69     64822\n",
      "\n",
      "    accuracy                           0.61    183249\n",
      "   macro avg       0.61      0.63      0.61    183249\n",
      "weighted avg       0.61      0.61      0.60    183249\n",
      "\n"
     ]
    }
   ],
   "source": [
    "from sklearn.metrics import classification_report\n",
    "\n",
    "model.eval()\n",
    "all_preds, all_labels = [], []\n",
    "with torch.no_grad():\n",
    "    for xb, yb in val_loader:\n",
    "        xb = xb.to(device)\n",
    "        preds = model(xb).argmax(dim=1).cpu().numpy()\n",
    "        all_preds.extend(preds)\n",
    "        all_labels.extend(yb.numpy())\n",
    "\n",
    "print(classification_report(all_labels, all_preds))"
   ]
  },
  {
   "cell_type": "code",
   "execution_count": 5,
   "id": "34661aac",
   "metadata": {},
   "outputs": [],
   "source": [
    "torch.save(model.state_dict(), \"transformer_model_long.pth\")"
   ]
  },
  {
   "cell_type": "code",
   "execution_count": null,
   "id": "f255943a",
   "metadata": {},
   "outputs": [],
   "source": [
    "# model = TimeSeriesTransformer(input_dim=X.shape[2], num_classes=3)\n",
    "# model.load_state_dict(torch.load(\"transformer_model.pth\"))\n",
    "# model.to(device)\n",
    "# model.eval()"
   ]
  }
 ],
 "metadata": {
  "kernelspec": {
   "display_name": "homepage2",
   "language": "python",
   "name": "python3"
  },
  "language_info": {
   "codemirror_mode": {
    "name": "ipython",
    "version": 3
   },
   "file_extension": ".py",
   "mimetype": "text/x-python",
   "name": "python",
   "nbconvert_exporter": "python",
   "pygments_lexer": "ipython3",
   "version": "3.10.11"
  }
 },
 "nbformat": 4,
 "nbformat_minor": 5
}
